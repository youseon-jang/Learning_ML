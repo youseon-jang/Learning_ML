{
 "cells": [
  {
   "cell_type": "code",
   "execution_count": 3,
   "id": "ebc2b26d-0a03-428c-b032-ccf323c741c8",
   "metadata": {},
   "outputs": [
    {
     "data": {
      "text/plain": [
       "0.46875"
      ]
     },
     "execution_count": 3,
     "metadata": {},
     "output_type": "execute_result"
    }
   ],
   "source": [
    "### 지니 지수\n",
    "\n",
    "1 - (10/16)**2 - (6/16)**2"
   ]
  },
  {
   "cell_type": "code",
   "execution_count": 17,
   "id": "f8054dcc-4e9a-46ca-84d0-178afdf9ddb8",
   "metadata": {},
   "outputs": [
    {
     "data": {
      "text/html": [
       "<style>#sk-container-id-3 {color: black;background-color: white;}#sk-container-id-3 pre{padding: 0;}#sk-container-id-3 div.sk-toggleable {background-color: white;}#sk-container-id-3 label.sk-toggleable__label {cursor: pointer;display: block;width: 100%;margin-bottom: 0;padding: 0.3em;box-sizing: border-box;text-align: center;}#sk-container-id-3 label.sk-toggleable__label-arrow:before {content: \"▸\";float: left;margin-right: 0.25em;color: #696969;}#sk-container-id-3 label.sk-toggleable__label-arrow:hover:before {color: black;}#sk-container-id-3 div.sk-estimator:hover label.sk-toggleable__label-arrow:before {color: black;}#sk-container-id-3 div.sk-toggleable__content {max-height: 0;max-width: 0;overflow: hidden;text-align: left;background-color: #f0f8ff;}#sk-container-id-3 div.sk-toggleable__content pre {margin: 0.2em;color: black;border-radius: 0.25em;background-color: #f0f8ff;}#sk-container-id-3 input.sk-toggleable__control:checked~div.sk-toggleable__content {max-height: 200px;max-width: 100%;overflow: auto;}#sk-container-id-3 input.sk-toggleable__control:checked~label.sk-toggleable__label-arrow:before {content: \"▾\";}#sk-container-id-3 div.sk-estimator input.sk-toggleable__control:checked~label.sk-toggleable__label {background-color: #d4ebff;}#sk-container-id-3 div.sk-label input.sk-toggleable__control:checked~label.sk-toggleable__label {background-color: #d4ebff;}#sk-container-id-3 input.sk-hidden--visually {border: 0;clip: rect(1px 1px 1px 1px);clip: rect(1px, 1px, 1px, 1px);height: 1px;margin: -1px;overflow: hidden;padding: 0;position: absolute;width: 1px;}#sk-container-id-3 div.sk-estimator {font-family: monospace;background-color: #f0f8ff;border: 1px dotted black;border-radius: 0.25em;box-sizing: border-box;margin-bottom: 0.5em;}#sk-container-id-3 div.sk-estimator:hover {background-color: #d4ebff;}#sk-container-id-3 div.sk-parallel-item::after {content: \"\";width: 100%;border-bottom: 1px solid gray;flex-grow: 1;}#sk-container-id-3 div.sk-label:hover label.sk-toggleable__label {background-color: #d4ebff;}#sk-container-id-3 div.sk-serial::before {content: \"\";position: absolute;border-left: 1px solid gray;box-sizing: border-box;top: 0;bottom: 0;left: 50%;z-index: 0;}#sk-container-id-3 div.sk-serial {display: flex;flex-direction: column;align-items: center;background-color: white;padding-right: 0.2em;padding-left: 0.2em;position: relative;}#sk-container-id-3 div.sk-item {position: relative;z-index: 1;}#sk-container-id-3 div.sk-parallel {display: flex;align-items: stretch;justify-content: center;background-color: white;position: relative;}#sk-container-id-3 div.sk-item::before, #sk-container-id-3 div.sk-parallel-item::before {content: \"\";position: absolute;border-left: 1px solid gray;box-sizing: border-box;top: 0;bottom: 0;left: 50%;z-index: -1;}#sk-container-id-3 div.sk-parallel-item {display: flex;flex-direction: column;z-index: 1;position: relative;background-color: white;}#sk-container-id-3 div.sk-parallel-item:first-child::after {align-self: flex-end;width: 50%;}#sk-container-id-3 div.sk-parallel-item:last-child::after {align-self: flex-start;width: 50%;}#sk-container-id-3 div.sk-parallel-item:only-child::after {width: 0;}#sk-container-id-3 div.sk-dashed-wrapped {border: 1px dashed gray;margin: 0 0.4em 0.5em 0.4em;box-sizing: border-box;padding-bottom: 0.4em;background-color: white;}#sk-container-id-3 div.sk-label label {font-family: monospace;font-weight: bold;display: inline-block;line-height: 1.2em;}#sk-container-id-3 div.sk-label-container {text-align: center;}#sk-container-id-3 div.sk-container {/* jupyter's `normalize.less` sets `[hidden] { display: none; }` but bootstrap.min.css set `[hidden] { display: none !important; }` so we also need the `!important` here to be able to override the default hidden behavior on the sphinx rendered scikit-learn.org. See: https://github.com/scikit-learn/scikit-learn/issues/21755 */display: inline-block !important;position: relative;}#sk-container-id-3 div.sk-text-repr-fallback {display: none;}</style><div id=\"sk-container-id-3\" class=\"sk-top-container\"><div class=\"sk-text-repr-fallback\"><pre>DecisionTreeClassifier()</pre><b>In a Jupyter environment, please rerun this cell to show the HTML representation or trust the notebook. <br />On GitHub, the HTML representation is unable to render, please try loading this page with nbviewer.org.</b></div><div class=\"sk-container\" hidden><div class=\"sk-item\"><div class=\"sk-estimator sk-toggleable\"><input class=\"sk-toggleable__control sk-hidden--visually\" id=\"sk-estimator-id-3\" type=\"checkbox\" checked><label for=\"sk-estimator-id-3\" class=\"sk-toggleable__label sk-toggleable__label-arrow\">DecisionTreeClassifier</label><div class=\"sk-toggleable__content\"><pre>DecisionTreeClassifier()</pre></div></div></div></div></div>"
      ],
      "text/plain": [
       "DecisionTreeClassifier()"
      ]
     },
     "execution_count": 17,
     "metadata": {},
     "output_type": "execute_result"
    }
   ],
   "source": [
    "import sklearn\n",
    "\n",
    "from sklearn.datasets import load_wine\n",
    "from sklearn.tree import DecisionTreeClassifier\n",
    "from sklearn.model_selection import train_test_split \n",
    "\n",
    "dt_clf = DecisionTreeClassifier()\n",
    "\n",
    "wine = load_wine()\n",
    "X_train, X_test, y_train, y_test = train_test_split(\n",
    "wine.data\n",
    ", \n",
    "wine.target\n",
    ")\n",
    "dt_clf.fit(X_train, y_train) "
   ]
  },
  {
   "cell_type": "code",
   "execution_count": 82,
   "id": "65272bde-d6e0-4a8b-9c78-06b2d565988f",
   "metadata": {},
   "outputs": [
    {
     "data": {
      "text/html": [
       "<div>\n",
       "<style scoped>\n",
       "    .dataframe tbody tr th:only-of-type {\n",
       "        vertical-align: middle;\n",
       "    }\n",
       "\n",
       "    .dataframe tbody tr th {\n",
       "        vertical-align: top;\n",
       "    }\n",
       "\n",
       "    .dataframe thead th {\n",
       "        text-align: right;\n",
       "    }\n",
       "</style>\n",
       "<table border=\"1\" class=\"dataframe\">\n",
       "  <thead>\n",
       "    <tr style=\"text-align: right;\">\n",
       "      <th></th>\n",
       "      <th>name</th>\n",
       "      <th>value</th>\n",
       "    </tr>\n",
       "  </thead>\n",
       "  <tbody>\n",
       "    <tr>\n",
       "      <th>0</th>\n",
       "      <td>alcohol</td>\n",
       "      <td>0.022196</td>\n",
       "    </tr>\n",
       "    <tr>\n",
       "      <th>1</th>\n",
       "      <td>malic_acid</td>\n",
       "      <td>0.000000</td>\n",
       "    </tr>\n",
       "    <tr>\n",
       "      <th>2</th>\n",
       "      <td>ash</td>\n",
       "      <td>0.000000</td>\n",
       "    </tr>\n",
       "    <tr>\n",
       "      <th>3</th>\n",
       "      <td>alcalinity_of_ash</td>\n",
       "      <td>0.059839</td>\n",
       "    </tr>\n",
       "    <tr>\n",
       "      <th>4</th>\n",
       "      <td>magnesium</td>\n",
       "      <td>0.000000</td>\n",
       "    </tr>\n",
       "    <tr>\n",
       "      <th>5</th>\n",
       "      <td>total_phenols</td>\n",
       "      <td>0.000000</td>\n",
       "    </tr>\n",
       "    <tr>\n",
       "      <th>6</th>\n",
       "      <td>flavanoids</td>\n",
       "      <td>0.043827</td>\n",
       "    </tr>\n",
       "    <tr>\n",
       "      <th>7</th>\n",
       "      <td>nonflavanoid_phenols</td>\n",
       "      <td>0.000000</td>\n",
       "    </tr>\n",
       "    <tr>\n",
       "      <th>8</th>\n",
       "      <td>proanthocyanins</td>\n",
       "      <td>0.000000</td>\n",
       "    </tr>\n",
       "    <tr>\n",
       "      <th>9</th>\n",
       "      <td>color_intensity</td>\n",
       "      <td>0.062213</td>\n",
       "    </tr>\n",
       "    <tr>\n",
       "      <th>10</th>\n",
       "      <td>hue</td>\n",
       "      <td>0.022172</td>\n",
       "    </tr>\n",
       "    <tr>\n",
       "      <th>11</th>\n",
       "      <td>od280/od315_of_diluted_wines</td>\n",
       "      <td>0.374982</td>\n",
       "    </tr>\n",
       "    <tr>\n",
       "      <th>12</th>\n",
       "      <td>proline</td>\n",
       "      <td>0.414771</td>\n",
       "    </tr>\n",
       "  </tbody>\n",
       "</table>\n",
       "</div>"
      ],
      "text/plain": [
       "                            name     value\n",
       "0                        alcohol  0.022196\n",
       "1                     malic_acid  0.000000\n",
       "2                            ash  0.000000\n",
       "3              alcalinity_of_ash  0.059839\n",
       "4                      magnesium  0.000000\n",
       "5                  total_phenols  0.000000\n",
       "6                     flavanoids  0.043827\n",
       "7           nonflavanoid_phenols  0.000000\n",
       "8                proanthocyanins  0.000000\n",
       "9                color_intensity  0.062213\n",
       "10                           hue  0.022172\n",
       "11  od280/od315_of_diluted_wines  0.374982\n",
       "12                       proline  0.414771"
      ]
     },
     "execution_count": 82,
     "metadata": {},
     "output_type": "execute_result"
    }
   ],
   "source": [
    "## 197p\n",
    "n = []\n",
    "v = []\n",
    "\n",
    "for name, value in zip(wine.feature_names, dt_clf.feature_importances_):\n",
    "    n.append(name)\n",
    "    v.append(value)\n",
    "\n",
    "name_df = pd.DataFrame(n, columns = ['name']) \n",
    "value_df = pd.DataFrame(v, columns = ['value'])\n",
    "\n",
    "df = pd.concat([name_df, value_df], axis = 1)\n"
   ]
  },
  {
   "cell_type": "code",
   "execution_count": 45,
   "id": "1a0cf8ce-c375-4d8d-bd47-7b41d7e4494f",
   "metadata": {},
   "outputs": [
    {
     "data": {
      "text/html": [
       "<div>\n",
       "<style scoped>\n",
       "    .dataframe tbody tr th:only-of-type {\n",
       "        vertical-align: middle;\n",
       "    }\n",
       "\n",
       "    .dataframe tbody tr th {\n",
       "        vertical-align: top;\n",
       "    }\n",
       "\n",
       "    .dataframe thead th {\n",
       "        text-align: right;\n",
       "    }\n",
       "</style>\n",
       "<table border=\"1\" class=\"dataframe\">\n",
       "  <thead>\n",
       "    <tr style=\"text-align: right;\">\n",
       "      <th></th>\n",
       "      <th>0</th>\n",
       "    </tr>\n",
       "  </thead>\n",
       "  <tbody>\n",
       "    <tr>\n",
       "      <th>proline</th>\n",
       "      <td>0.414771</td>\n",
       "    </tr>\n",
       "    <tr>\n",
       "      <th>od280/od315_of_diluted_wines</th>\n",
       "      <td>0.374982</td>\n",
       "    </tr>\n",
       "    <tr>\n",
       "      <th>color_intensity</th>\n",
       "      <td>0.062213</td>\n",
       "    </tr>\n",
       "    <tr>\n",
       "      <th>alcalinity_of_ash</th>\n",
       "      <td>0.059839</td>\n",
       "    </tr>\n",
       "    <tr>\n",
       "      <th>flavanoids</th>\n",
       "      <td>0.043827</td>\n",
       "    </tr>\n",
       "    <tr>\n",
       "      <th>alcohol</th>\n",
       "      <td>0.022196</td>\n",
       "    </tr>\n",
       "    <tr>\n",
       "      <th>hue</th>\n",
       "      <td>0.022172</td>\n",
       "    </tr>\n",
       "    <tr>\n",
       "      <th>malic_acid</th>\n",
       "      <td>0.000000</td>\n",
       "    </tr>\n",
       "    <tr>\n",
       "      <th>ash</th>\n",
       "      <td>0.000000</td>\n",
       "    </tr>\n",
       "    <tr>\n",
       "      <th>magnesium</th>\n",
       "      <td>0.000000</td>\n",
       "    </tr>\n",
       "    <tr>\n",
       "      <th>total_phenols</th>\n",
       "      <td>0.000000</td>\n",
       "    </tr>\n",
       "    <tr>\n",
       "      <th>nonflavanoid_phenols</th>\n",
       "      <td>0.000000</td>\n",
       "    </tr>\n",
       "    <tr>\n",
       "      <th>proanthocyanins</th>\n",
       "      <td>0.000000</td>\n",
       "    </tr>\n",
       "  </tbody>\n",
       "</table>\n",
       "</div>"
      ],
      "text/plain": [
       "                                     0\n",
       "proline                       0.414771\n",
       "od280/od315_of_diluted_wines  0.374982\n",
       "color_intensity               0.062213\n",
       "alcalinity_of_ash             0.059839\n",
       "flavanoids                    0.043827\n",
       "alcohol                       0.022196\n",
       "hue                           0.022172\n",
       "malic_acid                    0.000000\n",
       "ash                           0.000000\n",
       "magnesium                     0.000000\n",
       "total_phenols                 0.000000\n",
       "nonflavanoid_phenols          0.000000\n",
       "proanthocyanins               0.000000"
      ]
     },
     "execution_count": 45,
     "metadata": {},
     "output_type": "execute_result"
    }
   ],
   "source": [
    "pd.DataFrame(dt_clf.feature_importances_, index = wine.feature_names).sort_values(by=0,ascending=False) "
   ]
  },
  {
   "cell_type": "code",
   "execution_count": 18,
   "id": "00944691-2b79-4b1e-a74d-99289f8d8ed7",
   "metadata": {},
   "outputs": [
    {
     "data": {
      "text/plain": [
       "array([0.02219567, 0.        , 0.        , 0.05983915, 0.        ,\n",
       "       0.        , 0.04382687, 0.        , 0.        , 0.06221302,\n",
       "       0.02217221, 0.37498242, 0.41477066])"
      ]
     },
     "execution_count": 18,
     "metadata": {},
     "output_type": "execute_result"
    }
   ],
   "source": [
    "dt_clf.feature_importances_"
   ]
  },
  {
   "cell_type": "markdown",
   "id": "d50a82ce-a036-492e-a23a-9df84ad16dae",
   "metadata": {},
   "source": [
    "# 수업"
   ]
  },
  {
   "cell_type": "markdown",
   "id": "f6690ea9-1689-4408-b8cd-049f7553ac1c",
   "metadata": {},
   "source": [
    "## 앙상블(Ensemble Learning)"
   ]
  },
  {
   "cell_type": "markdown",
   "id": "431d6642-1eda-4c12-be25-b81ea82ddf32",
   "metadata": {},
   "source": [
    "- 앙상블 학습을 통한 분류는 여러 개의 분류기를 생성하고 그 예측을 결합함으로써 보다 정확한 최종 예측을 도출하는 기법임"
   ]
  },
  {
   "cell_type": "markdown",
   "id": "840838a1-e91c-496d-8e8d-94a0082cf1f8",
   "metadata": {},
   "source": [
    "- 대부분의 정형 데이터 분류 시 앙상블이 뛰어난 성능을 나타내고 있음\n",
    "- 앙상블 알고리즘의 대표적인 랜덤 포레스트와 그래디언트 부스팅이 많이 사용됨\n",
    "- XGBoodt, LightGBM, Stacking"
   ]
  },
  {
   "cell_type": "markdown",
   "id": "ae2e6ae0-6937-403c-b121-cde293ba2dac",
   "metadata": {},
   "source": [
    "- 앙상블 학습의 유형은 보팅(Voting), 배깅(Bagging), 부스팅(Boosting)으로 나눌 수 있음\n",
    "- 이 외에도 다양한 앙상블 방법이 있음"
   ]
  },
  {
   "cell_type": "markdown",
   "id": "b95e09bd-d848-48ee-a464-2b3ff6a8cdc2",
   "metadata": {},
   "source": [
    "- 보팅 : 일반적으로 서로 다른 알고리즘을 가진 분류기를 결합하는 것\n",
    "- 배깅 : 각각의 분류기가 모두 같은 유형의 알고리즘 기반이지만, 데이터 샘플링을 다르게 가져가면서 학습을 수행\n",
    "- 대표적인 배깅 방식이 랜덤 포레스트임"
   ]
  },
  {
   "cell_type": "markdown",
   "id": "16d055aa-f849-4346-9b01-177383b1ecec",
   "metadata": {},
   "source": [
    "### 보팅 유형 - 하드 보팅(Hard Voting)과 소프트 보팅(Soft Voting)"
   ]
  },
  {
   "cell_type": "markdown",
   "id": "4378aa03-090c-4745-8c80-c4498f453198",
   "metadata": {},
   "source": [
    "- 하드 보팅을 이용한 분류는 다수결 원칙과 비슷함\n",
    "- 예측한 결괏값들 중 다수의 분류기가 결정한 예측값을 최종 보팅 결괏값으로 설정하는 것"
   ]
  },
  {
   "cell_type": "markdown",
   "id": "e9b09eea-a09b-43d1-b1ad-30f928b040a0",
   "metadata": {},
   "source": [
    "- 소프트 보팅은 분류기들의 레이블 값 결정 확률을 모두 더하고 이를 평균해서 이들 중 확률이 가장 높은 렝블 값을 최종 보팅 결괏값으로 선정\n",
    "- 일반적으로 소프트 보팅 방법으로 적용됨"
   ]
  },
  {
   "cell_type": "markdown",
   "id": "e2229d09-62f8-4fb6-973d-fd52ef7ee52e",
   "metadata": {},
   "source": [
    "- 일반적으로 하드 보팅보다는 소프트 보팅이 예측 성능이 더 좋아서 많이 사용됨"
   ]
  },
  {
   "cell_type": "markdown",
   "id": "62e8cfbf-4384-4550-9097-195b266c1058",
   "metadata": {},
   "source": [
    "### 보팅 분류기(Voting Classifier)"
   ]
  },
  {
   "cell_type": "code",
   "execution_count": 83,
   "id": "78e40b67-e3d1-4f26-8161-6f2b97796c2e",
   "metadata": {},
   "outputs": [
    {
     "data": {
      "text/html": [
       "<div>\n",
       "<style scoped>\n",
       "    .dataframe tbody tr th:only-of-type {\n",
       "        vertical-align: middle;\n",
       "    }\n",
       "\n",
       "    .dataframe tbody tr th {\n",
       "        vertical-align: top;\n",
       "    }\n",
       "\n",
       "    .dataframe thead th {\n",
       "        text-align: right;\n",
       "    }\n",
       "</style>\n",
       "<table border=\"1\" class=\"dataframe\">\n",
       "  <thead>\n",
       "    <tr style=\"text-align: right;\">\n",
       "      <th></th>\n",
       "      <th>mean radius</th>\n",
       "      <th>mean texture</th>\n",
       "      <th>mean perimeter</th>\n",
       "      <th>mean area</th>\n",
       "      <th>mean smoothness</th>\n",
       "      <th>mean compactness</th>\n",
       "      <th>mean concavity</th>\n",
       "      <th>mean concave points</th>\n",
       "      <th>mean symmetry</th>\n",
       "      <th>mean fractal dimension</th>\n",
       "      <th>...</th>\n",
       "      <th>worst radius</th>\n",
       "      <th>worst texture</th>\n",
       "      <th>worst perimeter</th>\n",
       "      <th>worst area</th>\n",
       "      <th>worst smoothness</th>\n",
       "      <th>worst compactness</th>\n",
       "      <th>worst concavity</th>\n",
       "      <th>worst concave points</th>\n",
       "      <th>worst symmetry</th>\n",
       "      <th>worst fractal dimension</th>\n",
       "    </tr>\n",
       "  </thead>\n",
       "  <tbody>\n",
       "    <tr>\n",
       "      <th>0</th>\n",
       "      <td>17.99</td>\n",
       "      <td>10.38</td>\n",
       "      <td>122.8</td>\n",
       "      <td>1001.0</td>\n",
       "      <td>0.11840</td>\n",
       "      <td>0.27760</td>\n",
       "      <td>0.3001</td>\n",
       "      <td>0.14710</td>\n",
       "      <td>0.2419</td>\n",
       "      <td>0.07871</td>\n",
       "      <td>...</td>\n",
       "      <td>25.38</td>\n",
       "      <td>17.33</td>\n",
       "      <td>184.6</td>\n",
       "      <td>2019.0</td>\n",
       "      <td>0.1622</td>\n",
       "      <td>0.6656</td>\n",
       "      <td>0.7119</td>\n",
       "      <td>0.2654</td>\n",
       "      <td>0.4601</td>\n",
       "      <td>0.11890</td>\n",
       "    </tr>\n",
       "    <tr>\n",
       "      <th>1</th>\n",
       "      <td>20.57</td>\n",
       "      <td>17.77</td>\n",
       "      <td>132.9</td>\n",
       "      <td>1326.0</td>\n",
       "      <td>0.08474</td>\n",
       "      <td>0.07864</td>\n",
       "      <td>0.0869</td>\n",
       "      <td>0.07017</td>\n",
       "      <td>0.1812</td>\n",
       "      <td>0.05667</td>\n",
       "      <td>...</td>\n",
       "      <td>24.99</td>\n",
       "      <td>23.41</td>\n",
       "      <td>158.8</td>\n",
       "      <td>1956.0</td>\n",
       "      <td>0.1238</td>\n",
       "      <td>0.1866</td>\n",
       "      <td>0.2416</td>\n",
       "      <td>0.1860</td>\n",
       "      <td>0.2750</td>\n",
       "      <td>0.08902</td>\n",
       "    </tr>\n",
       "    <tr>\n",
       "      <th>2</th>\n",
       "      <td>19.69</td>\n",
       "      <td>21.25</td>\n",
       "      <td>130.0</td>\n",
       "      <td>1203.0</td>\n",
       "      <td>0.10960</td>\n",
       "      <td>0.15990</td>\n",
       "      <td>0.1974</td>\n",
       "      <td>0.12790</td>\n",
       "      <td>0.2069</td>\n",
       "      <td>0.05999</td>\n",
       "      <td>...</td>\n",
       "      <td>23.57</td>\n",
       "      <td>25.53</td>\n",
       "      <td>152.5</td>\n",
       "      <td>1709.0</td>\n",
       "      <td>0.1444</td>\n",
       "      <td>0.4245</td>\n",
       "      <td>0.4504</td>\n",
       "      <td>0.2430</td>\n",
       "      <td>0.3613</td>\n",
       "      <td>0.08758</td>\n",
       "    </tr>\n",
       "  </tbody>\n",
       "</table>\n",
       "<p>3 rows × 30 columns</p>\n",
       "</div>"
      ],
      "text/plain": [
       "   mean radius  mean texture  mean perimeter  mean area  mean smoothness  \\\n",
       "0        17.99         10.38           122.8     1001.0          0.11840   \n",
       "1        20.57         17.77           132.9     1326.0          0.08474   \n",
       "2        19.69         21.25           130.0     1203.0          0.10960   \n",
       "\n",
       "   mean compactness  mean concavity  mean concave points  mean symmetry  \\\n",
       "0           0.27760          0.3001              0.14710         0.2419   \n",
       "1           0.07864          0.0869              0.07017         0.1812   \n",
       "2           0.15990          0.1974              0.12790         0.2069   \n",
       "\n",
       "   mean fractal dimension  ...  worst radius  worst texture  worst perimeter  \\\n",
       "0                 0.07871  ...         25.38          17.33            184.6   \n",
       "1                 0.05667  ...         24.99          23.41            158.8   \n",
       "2                 0.05999  ...         23.57          25.53            152.5   \n",
       "\n",
       "   worst area  worst smoothness  worst compactness  worst concavity  \\\n",
       "0      2019.0            0.1622             0.6656           0.7119   \n",
       "1      1956.0            0.1238             0.1866           0.2416   \n",
       "2      1709.0            0.1444             0.4245           0.4504   \n",
       "\n",
       "   worst concave points  worst symmetry  worst fractal dimension  \n",
       "0                0.2654          0.4601                  0.11890  \n",
       "1                0.1860          0.2750                  0.08902  \n",
       "2                0.2430          0.3613                  0.08758  \n",
       "\n",
       "[3 rows x 30 columns]"
      ]
     },
     "execution_count": 83,
     "metadata": {},
     "output_type": "execute_result"
    }
   ],
   "source": [
    "import pandas as pd\n",
    "\n",
    "from sklearn.ensemble import VotingClassifier\n",
    "from sklearn.linear_model import LogisticRegression\n",
    "from sklearn.neighbors import KNeighborsClassifier\n",
    "from sklearn.datasets import load_breast_cancer\n",
    "from sklearn.model_selection import train_test_split\n",
    "from sklearn.metrics import accuracy_score\n",
    "\n",
    "cancer = load_breast_cancer()\n",
    "\n",
    "data_df = pd.DataFrame(cancer.data, columns = cancer.feature_names)\n",
    "data_df.head(3)"
   ]
  },
  {
   "cell_type": "code",
   "execution_count": 85,
   "id": "00565861-f5ff-417c-998d-169f772a6896",
   "metadata": {},
   "outputs": [
    {
     "name": "stdout",
     "output_type": "stream",
     "text": [
      "[Voting] ....................... (1 of 2) Processing LR, total=   0.0s\n",
      "[Voting] ...................... (2 of 2) Processing KNN, total=   0.0s\n",
      "Voting 분류기 정확도 : 0.956140350877193\n",
      "LogisticRegression 정확도 : 0.9473684210526315\n",
      "KNeighborsClassifier 정확도 : 0.9385964912280702\n"
     ]
    }
   ],
   "source": [
    "# 개별 모델은 로지스틱 회귀와 KNN임\n",
    "lr_clf = LogisticRegression(solver = 'liblinear')\n",
    "knn_clf = KNeighborsClassifier(n_neighbors = 8)\n",
    "\n",
    "# 개별 모델을 소프트 보팅 기반의 앙상블 모델로 구현한 분류기\n",
    "vo_clf = VotingClassifier(estimators=[('LR', lr_clf), ('KNN', knn_clf)], voting = 'soft', verbose = 3)\n",
    "\n",
    "X_train, X_test, y_train, y_test = train_test_split(cancer.data, cancer.target,\n",
    "                                                   test_size = .2, random_state = 156)\n",
    "\n",
    "# VotingClassifier 학습/예측/평가\n",
    "vo_clf.fit(X_train, y_train)\n",
    "\n",
    "pred = vo_clf.predict(X_test)\n",
    "print(f'Voting 분류기 정확도 : {accuracy_score(y_test, pred)}')\n",
    "\n",
    "# 개별 모델의 학습/예측/평가\n",
    "classifiers = [lr_clf, knn_clf]\n",
    "for classifier in classifiers:\n",
    "    classifier.fit(X_train, y_train)\n",
    "    pred = classifier.predict(X_test)\n",
    "    class_name = classifier.__class__.__name__\n",
    "    print(f'{class_name} 정확도 : {accuracy_score(y_test, pred)}')"
   ]
  },
  {
   "cell_type": "markdown",
   "id": "9043d4fb-d953-4dd0-9473-27bc739583b7",
   "metadata": {},
   "source": [
    "- 보팅 분류기가 정확도가 조금 높게 나옴\n",
    "- 보팅으로 여러 개의 기반 분류기를 결합한다고 해서 무조건 기반 분류기보다 예측 성능이 향상되지는 않음\n",
    "- 데이터의 특성과 분포 등 다양한 요건에 따라 오히려 기반 분류기 중 가장 좋은 분류기의 성능이 보팅했을 때보다 나을 수도 있음"
   ]
  },
  {
   "cell_type": "markdown",
   "id": "2bca9fa2-5672-4ad9-857e-89fa7c9ff26f",
   "metadata": {},
   "source": [
    "- 보팅, 배깅, 부스팅 등의 앙상블 방법은 전반적으로 다른 단일 ML 알고리즘보다 뛰어난 예측 성능을 가지는 경우가 많음\n",
    "- 고정된 데이터 세트에서 단일 ML 알고리즘이 뛰어난 성능을 발휘하더라고 현실 세계는 다양한 변수와 예측이 어려운 규칙으로 구성돼있음\n",
    "- 다양한 관점을 가진 알고리즘이 서로 결합해 더 나은 성능을 실제 환경에서 끌어낼 수 있음"
   ]
  },
  {
   "cell_type": "markdown",
   "id": "83798ebd-9ae7-465b-a65c-3ce903f8d003",
   "metadata": {},
   "source": [
    "- ML 모델의 성능은 이렇게 다양한 테스트 데이터에 의해 검증되므로 어떻게 높은 유연성을 가지고 현실에 대처할 수 있는가가 중요한 ML 모델의 평가요소가 됨\n",
    "- 이런 관점에서 편향-분산 트레이드오프는 ML 모델이 극복해야 할 중요 과제임\n",
    "- 보팅과 스태킹 등은 서로 다른 알고리즘을 기반으로 하고 있지만, \n",
    "- 배깅과 부스팅은 대부분 결정 트리 알고리즘을 기반으로 함\n",
    "- 결정 트리 알고리즘은 쉽고 직관적인 분류 기준을 가지고 있지만 정확한 예측을 위해 학습 데이터의 예외 상황에 집착한 나머지 오히려 과적합이 발생해 실제 테스트 데이터에서 예측 성능이 떨어지는 현상 발생하기 쉬움\n"
   ]
  },
  {
   "cell_type": "markdown",
   "id": "13052216-d71b-4277-9d40-ce20709db508",
   "metadata": {},
   "source": [
    "- 하지만 앙상블 학습에서는 이 같은 결정 트리 알고리즘의 단점을 수십~수천 개의 매우 많은 분류기를 결합해 다양한 상황을 학습하게 함으로써 극봅하고 있음\n",
    "- 결정 트리 알고리즘의 장점은 그대로 취하고 단점은 보완하면서 편향-분산 트레이드오프의 효과를 극대화할 수 있음"
   ]
  },
  {
   "cell_type": "markdown",
   "id": "11a9e639-7ee3-42b5-a6c9-35ab35222718",
   "metadata": {},
   "source": [
    "## 랜덤 포레스트"
   ]
  },
  {
   "cell_type": "markdown",
   "id": "6ffa7e02-4ca4-4ac3-b20c-9fe9f6889855",
   "metadata": {},
   "source": [
    "### 배깅\n",
    "- 같은 알고리즘으로 여러 개의 분류기를 만들어서 보팅으로 최종 결정하는 알고리즘\n",
    "- 대표적인 알고리즘 : 랜덤 포레스트\n",
    "- 랜덤 포레스트는 앙상블 알고리즘 중 비교적 빠른 수행 속도를 가지고 있으며, 다양한 영역에서 높은 예측 성능을 보이고 있음"
   ]
  },
  {
   "cell_type": "markdown",
   "id": "c7620cc9-8c27-4152-b051-8c4a05769ee9",
   "metadata": {},
   "source": [
    "- 랜덤 포레스트는 여러 개의 결정 트리 분류기가 전체 데이터에서 배깅 방식으로 각자의 데이터를 샘플링해 개별적으로 학습을 수행한 뒤 최종적으로 모든 분류기가 보팅을 통해 예측 결정함"
   ]
  },
  {
   "cell_type": "markdown",
   "id": "80b7499e-71c1-4de4-91fd-1c16d2b4fc13",
   "metadata": {},
   "source": [
    "- 랜덤 포레스트는 개별적인 분류기의 기반 알고리즘은 결정 트리임\n",
    "- 개별 트리가 학습하는 데이터 세트는 전체 데이터에서 일부가 중첩되게 샘플링 된 데이터 세트임\n",
    "- 이렇게 여러 개의 데이터 세트를 중첩되게 분리하는 것을 '부트스트래핑(bootstrapping)' 분할 방식이라고 함"
   ]
  },
  {
   "cell_type": "markdown",
   "id": "eea2d70b-7eaa-449d-9f60-6ea9d9a5fdd7",
   "metadata": {},
   "source": [
    "- 랜덤 포레스트의 서브세트(Subset) 데이터는 이러한 부트스트래핑으로 데이터가 임의로 만들어짐\n",
    "- 서브세트의 데이터 건수는 전체 데이터 건수와 동일하지만, 개별 데이터가 중헙되어 만들어짐"
   ]
  },
  {
   "cell_type": "code",
   "execution_count": 88,
   "id": "6397c802-d5af-4cb8-a20e-0ef9f660e8fe",
   "metadata": {
    "jupyter": {
     "source_hidden": true
    },
    "tags": []
   },
   "outputs": [],
   "source": [
    "## 원본 피터명에 _1 또는 _2 추가로 부여해 새로운 피처명을 가지고는 DataFrame 반환\n",
    "\n",
    "def get_new_feature_name_df(old_feature_name_df):\n",
    "    feature_dup_df = pd.DataFrame(data=old_feature_name_df.groupby('column_name').cumcount(),\n",
    "                                  columns=['dup_cnt'])\n",
    "    feature_dup_df = feature_dup_df.reset_index()\n",
    "    new_feature_name_df = pd.merge(old_feature_name_df.reset_index(), feature_dup_df, how='outer')\n",
    "    new_feature_name_df['column_name'] = new_feature_name_df[['column_name', 'dup_cnt']].apply(lambda x : x[0]+'_'+str(x[1]) \n",
    "                                                                                         if x[1] >0 else x[0],  axis=1)\n",
    "    new_feature_name_df = new_feature_name_df.drop(['index'], axis=1)\n",
    "    return new_feature_name_df "
   ]
  },
  {
   "cell_type": "code",
   "execution_count": 89,
   "id": "1c43cae8-fa9f-4d24-8d61-58527c349ab7",
   "metadata": {
    "jupyter": {
     "source_hidden": true
    },
    "tags": []
   },
   "outputs": [],
   "source": [
    "import pandas as pd\n",
    "\n",
    "def get_human_dataset( ):\n",
    "    \n",
    "    # 각 데이터 파일들은 공백으로 분리되어 있으므로 read_csv에서 공백 문자를 sep으로 할당.\n",
    "    feature_name_df = pd.read_csv('./data/human_activity/features.txt',sep='\\s+',\n",
    "                        header=None,names=['column_index','column_name'])\n",
    "    \n",
    "    # 중복된 피처명을 수정하는 get_new_feature_name_df()를 이용, 신규 피처명 DataFrame생성. \n",
    "    new_feature_name_df = get_new_feature_name_df(feature_name_df)\n",
    "    \n",
    "    # DataFrame에 피처명을 컬럼으로 부여하기 위해 리스트 객체로 다시 변환\n",
    "    feature_name = new_feature_name_df.iloc[:, 1].values.tolist()\n",
    "    \n",
    "    # 학습 피처 데이터 셋과 테스트 피처 데이터을 DataFrame으로 로딩. 컬럼명은 feature_name 적용\n",
    "    X_train = pd.read_csv('./data/human_activity/train/X_train.txt',sep='\\s+', names=feature_name )\n",
    "    X_test = pd.read_csv('./data/human_activity/test/X_test.txt',sep='\\s+', names=feature_name)\n",
    "    \n",
    "    # 학습 레이블과 테스트 레이블 데이터을 DataFrame으로 로딩하고 컬럼명은 action으로 부여\n",
    "    y_train = pd.read_csv('./data/human_activity/train/y_train.txt',sep='\\s+',header=None,names=['action'])\n",
    "    y_test = pd.read_csv('./data/human_activity/test/y_test.txt',sep='\\s+',header=None,names=['action'])\n",
    "    \n",
    "    # 로드된 학습/테스트용 DataFrame을 모두 반환 \n",
    "    return X_train, X_test, y_train, y_test\n",
    "\n",
    "\n",
    "X_train, X_test, y_train, y_test = get_human_dataset() "
   ]
  },
  {
   "cell_type": "code",
   "execution_count": 90,
   "id": "3efcba6a-7c06-4751-ae2a-cc553653aa50",
   "metadata": {},
   "outputs": [
    {
     "name": "stdout",
     "output_type": "stream",
     "text": [
      "랜덤 포레스트 정확도 : 0.9195792331184255\n"
     ]
    }
   ],
   "source": [
    "from sklearn.ensemble import RandomForestClassifier\n",
    "from sklearn.metrics import accuracy_score\n",
    "import pandas as pd\n",
    "import warnings\n",
    "warnings.filterwarnings('ignore')\n",
    "\n",
    "# 결정 트리에서 사용한 dataset 이용해 학습/테스트용 DataFrame 전환\n",
    "X_train, X_test, y_train, y_test = get_human_dataset()\n",
    "\n",
    "# 랜덤 포레스트 학습 및 별도의 테스트 세트로 예측 성능 평가\n",
    "rf_clf = RandomForestClassifier(random_state = 0, max_depth = 8)\n",
    "rf_clf.fit(X_train, y_train)\n",
    "\n",
    "pred = rf_clf.predict(X_test)\n",
    "\n",
    "accuracy = accuracy_score(y_test, pred)\n",
    "print(f'랜덤 포레스트 정확도 : {accuracy}')"
   ]
  },
  {
   "cell_type": "markdown",
   "id": "7ec19eb2-c69f-42f0-90ca-e30ffe5f7b13",
   "metadata": {},
   "source": [
    "### 랜덤 포레스트 하이퍼 파라미터 및 튜닝"
   ]
  },
  {
   "cell_type": "markdown",
   "id": "d200db4b-f09d-4774-a563-ecf72737cd9f",
   "metadata": {},
   "source": [
    "- 트리 기반의 앙상블 알고리즘의 단점 : 하이퍼 파라미터가 너무 많고 그로 인해서 튜닝을 위한 시간 소모가 많음\n",
    "\n",
    "- 많은 시간을 소모했음에도 튜닝 후 예측 성능이 크게 향상되는 경우가 많지 않음"
   ]
  },
  {
   "cell_type": "markdown",
   "id": "cd1a4436-4a63-4034-bd6a-cb3ed33ebd09",
   "metadata": {},
   "source": [
    "#### 랜덤 포레스트 파라미터"
   ]
  },
  {
   "cell_type": "markdown",
   "id": "4b040ce9-538b-47bf-902c-8cf6566c0ac5",
   "metadata": {},
   "source": [
    "- n_estimators : 랜덤 포레스트에서 결정 트리의 개수를 지정(default = 10), 많이 설정할 수록 좋은 성능 기대할 수 있으나 계속 증가시킨다고 성능이 무조건 향상되는 것은 아님 / 늘릴수록 수행 시간 오래 걸림\n",
    "\n",
    "- max_features : 결정 트리에 사용된 max_features 파라미터와 같음 / 랜덤 포레스트의 트리를 분할하는 피처를 참조할 때 전페 피처가 아니라 sqrt 만큼 참조함\n",
    "\n",
    "- max_depth나 min_samples_leaf, min_samples_split와 같이 결정 트리에서 과적합을 개선하기 위해 사용되는 파라미터가 랜덤 포레스트에도 똑같이 적용될 수 있음"
   ]
  },
  {
   "cell_type": "code",
   "execution_count": 95,
   "id": "2a48e799-983c-40fc-8257-566db85d4eec",
   "metadata": {},
   "outputs": [
    {
     "name": "stdout",
     "output_type": "stream",
     "text": [
      "랜덤 포레스트 정확도 : 0.9267051238547676\n"
     ]
    }
   ],
   "source": [
    "rf_clf = RandomForestClassifier(n_estimators = 200, random_state = 0, n_jobs = -1,\n",
    "                               min_samples_split = 3)\n",
    "rf_clf.fit(X_train, y_train)\n",
    "\n",
    "pred = rf_clf.predict(X_test)\n",
    "\n",
    "accuracy = accuracy_score(y_test, pred)\n",
    "print(f'랜덤 포레스트 정확도 : {accuracy}')"
   ]
  },
  {
   "cell_type": "code",
   "execution_count": 99,
   "id": "dd7ca824-11c8-43d3-ac2b-f1c91afd5580",
   "metadata": {},
   "outputs": [
    {
     "name": "stdout",
     "output_type": "stream",
     "text": [
      "최적 하이퍼 파라미터 : \n",
      " {'max_depth': 16, 'min_samples_leaf': 6, 'min_samples_split': 2}\n",
      "최고 예측 정확도 : 0.9164853101196953\n"
     ]
    }
   ],
   "source": [
    "from sklearn.model_selection import GridSearchCV\n",
    "\n",
    "params = {\n",
    "    'max_depth' : [8, 16, 24],\n",
    "    'min_samples_leaf' : [1, 6, 12],\n",
    "    'min_samples_split' : [2, 8, 6]\n",
    "}\n",
    "\n",
    "# RandomForesClassifier 객체 생성 후 GridSearchCV 수행\n",
    "rf_clf = RandomForestClassifier(n_estimators = 100, random_state = 0, n_jobs = -1)\n",
    "\n",
    "grid_cv = GridSearchCV(rf_clf, param_grid = params, cv = 2, n_jobs = -1)\n",
    "grid_cv.fit(X_train, y_train)\n",
    "\n",
    "print('최적 하이퍼 파라미터 : \\n', grid_cv.best_params_)\n",
    "print(f'최고 예측 정확도 : {grid_cv.best_score_}')"
   ]
  },
  {
   "cell_type": "code",
   "execution_count": 101,
   "id": "352beb84-d9fa-40cf-a16b-a1ebe63b5478",
   "metadata": {},
   "outputs": [
    {
     "data": {
      "text/plain": [
       "0.9260264675941635"
      ]
     },
     "execution_count": 101,
     "metadata": {},
     "output_type": "execute_result"
    }
   ],
   "source": [
    "rf_clf1 = RandomForestClassifier(n_estimators = 100, random_state = 0, min_samples_split = 2,\n",
    "                                 min_samples_leaf = 6, max_depth = 16, n_jobs = -1)\n",
    "rf_clf1.fit(X_train, y_train)\n",
    "pred = rf_clf1.predict(X_test)\n",
    "accuracy_score(y_test, pred)"
   ]
  },
  {
   "cell_type": "code",
   "execution_count": 102,
   "id": "ac12b5d6-5057-4977-9d5e-979d1a3307b2",
   "metadata": {},
   "outputs": [
    {
     "data": {
      "text/plain": [
       "()"
      ]
     },
     "execution_count": 102,
     "metadata": {},
     "output_type": "execute_result"
    },
    {
     "data": {
      "image/png": "[encoded data removed]",
      "text/plain": [
       "<Figure size 800x600 with 1 Axes>"
      ]
     },
     "metadata": {},
     "output_type": "display_data"
    }
   ],
   "source": [
    "import matplotlib.pyplot as plt\n",
    "import seaborn as sns\n",
    "%matplotlib inline\n",
    "\n",
    "ftr_importances_values = rf_clf1.feature_importances_\n",
    "ftr_importances = pd.Series(ftr_importances_values,index=X_train.columns  )\n",
    "ftr_top20 = ftr_importances.sort_values(ascending=False)[:20]\n",
    "\n",
    "plt.figure(figsize=(8,6))\n",
    "plt.title('Feature importances Top 20')\n",
    "sns.barplot(x=ftr_top20 , y = ftr_top20.index)\n",
    "plt.show\n",
    "() "
   ]
  },
  {
   "cell_type": "markdown",
   "id": "ccf840ea-56f8-4147-b774-56a1f2da02b6",
   "metadata": {},
   "source": [
    "### GBM(Gradient Boosting Machine)"
   ]
  },
  {
   "cell_type": "markdown",
   "id": "2bd8775b-b244-4ca4-8f58-2d38b5bc4ae8",
   "metadata": {},
   "source": [
    "- 부스팅 알고리즘은 여러 개의 약한 학습기를 순차적으로 학습-예측하면서 잘못 예측한 데이터에 가중치 부여를 통해 오류를 개선해 나가면서 학습하는 방식임\n",
    "- 부스팅의 대표적인 구현은 AdaBoost(Adaptive Boosting)와 그래디언트 부스트가 있음"
   ]
  },
  {
   "cell_type": "markdown",
   "id": "4baa9bee-fb78-4bef-be25-78ef7c17a7da",
   "metadata": {},
   "source": [
    "- 에이다 부스트 : 오류 데이터에 가중치를 부여하면서 부스팅을 수행하는 대표적인 알고리즘\n",
    "\n",
    "    1. 분류\n",
    "    2. 잘못 분류된 오류 데이터에 대해서 가중치 값을 부여(다음 약한 학습기가 더 잘 분류할 수 있게 크기가 커짐)\n",
    "    3. 분류 후 또 다시 오류 데이터에 가중치를 부여\n",
    "    4. 약한 학습기가 순차적으로 오류 값에 대해 가중치를 부여한 예측 결정 기준을 모두 결합해 예측을 수행함"
   ]
  },
  {
   "cell_type": "markdown",
   "id": "43f5c895-c89c-419c-b536-37a6f2403ef6",
   "metadata": {},
   "source": [
    "- GBM도 에이다부스트와 유사하나, 가중치 업데이트를 경사 하강법(Gradient Descent)을 이용하는 것이 큰 차이임\n",
    "- 오류 값은 실제 - 예측값임\n",
    "\n",
    "- 분류의 실제 값을 y\n",
    "- 피처를 x1, x2, x3, ... xn\n",
    "- 피처에 기반한 예측 함수 F(x) 함수라고 하면\n",
    "\n",
    "- 오류식은 h(x) = y - F(x)임\n",
    "- 이 오류식을 최소화하는 방향성을 가지고 반복적으로 가중치 값을 업데이트 하는 것이 경사 하강법임"
   ]
  },
  {
   "cell_type": "markdown",
   "id": "ae3ec2f9-1521-407e-9bb5-2ff90fa81a96",
   "metadata": {},
   "source": [
    "- 경사 하강법 : 반복 수행을 통해 오류를 최소화할 수 있도록 가중치의 업데잍 값을 도출하는 기법"
   ]
  },
  {
   "cell_type": "code",
   "execution_count": 103,
   "id": "bc0a6287-c72e-4097-b6d8-20c49804297e",
   "metadata": {},
   "outputs": [
    {
     "name": "stdout",
     "output_type": "stream",
     "text": [
      "GBM 정확도 :  0.9389209365456397\n",
      "GBM 수행 시간 : 677.7183587551117 초\n"
     ]
    }
   ],
   "source": [
    "## GBM\n",
    "from sklearn.ensemble import GradientBoostingClassifier\n",
    "import time\n",
    "import warnings\n",
    "warnings.filterwarnings('ignore')\n",
    "\n",
    "X_train, X_test, y_train, y_test = get_human_dataset()\n",
    "\n",
    "# GBM 수행 시간 측정 위함. 시작 시간 설정\n",
    "start_time = time.time()\n",
    "\n",
    "gb_clf = GradientBoostingClassifier(random_state = 0)\n",
    "gb_clf.fit(X_train, y_train)\n",
    "\n",
    "gb_pred = gb_clf.predict(X_test)\n",
    "\n",
    "gb_accuracy = accuracy_score(y_test, gb_pred)\n",
    "\n",
    "print('GBM 정확도 : ', gb_accuracy)\n",
    "print(f'GBM 수행 시간 : {time.time() - start_time} 초')"
   ]
  },
  {
   "cell_type": "markdown",
   "id": "774667d6-1173-4155-aac3-bfc3dd132cba",
   "metadata": {},
   "source": [
    "### GBM 하이퍼 파라미터 소개"
   ]
  },
  {
   "cell_type": "markdown",
   "id": "fef5c9b3-0bec-474a-912e-0c279dfd1db4",
   "metadata": {},
   "source": [
    "- loss : 경사 하강법에서 사용할 비용 함수를 지정함. 특별한 이유 없으면 기본값인 'deviance'를 그대로 적용함\n",
    "\n",
    "- learning_rate : GBM이 학습을 진행할 때마다 적용하는 학습률임. Weak learner가 순차적으로 오류 값을 보정해나가는 데 적용하는 계수 (0 ~ 1 사이) - 너무 작은 값 적용 시 최소 오류 값을 찾아 예측 성능이 높아질 가능성 있음\n",
    "\n",
    "- n_estimators : weak learner의 개수(기본값 100) - learning_rate와 상호 보완적으로 조합해 사용\n",
    "\n",
    "- subsample : weak learner가 학습에 사용하는 데이터의 샘플링 비율 (기본값 1, 이는 전체 학습 데이터를 기반으로 학습한다는 의미임) - 과적합 염려 시, subsample을 1보다 작은 값으로 설정"
   ]
  },
  {
   "cell_type": "markdown",
   "id": "8a385363-23c9-450d-90ce-383b90556495",
   "metadata": {},
   "source": [
    "## XGBoost"
   ]
  },
  {
   "cell_type": "markdown",
   "id": "029358ff-6f7a-48e7-9102-7925697db145",
   "metadata": {},
   "source": [
    "- 분류에 있어서 일반적으로 다른 머신러닝보다 뛰어난 예측 성능을 나타냄\n",
    "- GBM 기반이나 GBM의 단점이 느린 수행 시간 및 과저합 규제 부재 등의 문제를 해결해서 각광 받고있음"
   ]
  },
  {
   "cell_type": "markdown",
   "id": "eb750c5c-8c8c-4bde-b782-f9d061dde107",
   "metadata": {},
   "source": [
    "#### 장점\n",
    "- 뛰어난 예측 성능\n",
    "- GBM 대비 빠른 수행 시간\n",
    "- 과적합 규제 - 자체 과적합 규제 기능이 있어 강한 내구성 가질 수 있음\n",
    "- Tree Pruning(가지치기)\n",
    "- 자체 내장된 교차 검증  - 반복 수행 시마다 내부적으로 학습 데이터 세트와 평가 데이터 세트에 대한 교차 검증을 수행해 최적화 된 반복 수행 횟수를 가질 수 있음\n",
    "- 결손값 자체 처리"
   ]
  },
  {
   "cell_type": "code",
   "execution_count": 105,
   "id": "a497b325-2e74-459b-a617-026f2679d7e7",
   "metadata": {},
   "outputs": [
    {
     "name": "stdout",
     "output_type": "stream",
     "text": [
      "Collecting xgboost\n",
      "  Downloading xgboost-1.6.2-py3-none-win_amd64.whl (125.4 MB)\n",
      "     -------------------------------------- 125.4/125.4 MB 2.2 MB/s eta 0:00:00\n",
      "Requirement already satisfied: scipy in c:\\users\\admin\\appdata\\local\\programs\\python\\python310\\lib\\site-packages (from xgboost) (1.9.1)\n",
      "Requirement already satisfied: numpy in c:\\users\\admin\\appdata\\local\\programs\\python\\python310\\lib\\site-packages (from xgboost) (1.23.2)\n",
      "Installing collected packages: xgboost\n",
      "Successfully installed xgboost-1.6.2\n"
     ]
    }
   ],
   "source": [
    "## XG Boost\n",
    "!pip install xgboost"
   ]
  },
  {
   "cell_type": "code",
   "execution_count": 106,
   "id": "847b7e1d-f656-4000-b76a-ccf58138f4f0",
   "metadata": {},
   "outputs": [],
   "source": [
    "import xgboost as xgb\n",
    "from xgboost import XGBClassifier"
   ]
  },
  {
   "cell_type": "code",
   "execution_count": 108,
   "id": "2fa6fe06-1aa2-4e5a-a29c-cff84b789c20",
   "metadata": {},
   "outputs": [
    {
     "data": {
      "text/plain": [
       "'1.6.2'"
      ]
     },
     "execution_count": 108,
     "metadata": {},
     "output_type": "execute_result"
    }
   ],
   "source": [
    "xgb.__version__"
   ]
  },
  {
   "cell_type": "code",
   "execution_count": 114,
   "id": "5ad67dbd-62db-4d78-b42c-674bf84992ca",
   "metadata": {},
   "outputs": [],
   "source": [
    "cancer = load_breast_cancer()\n",
    "\n",
    "X = cancer.data\n",
    "y = cancer.target\n",
    "\n",
    "X_train, X_test, y_train, y_test = train_test_split(X, y, test_size = .2, random_state = 156)\n",
    "\n",
    "X_tr, X_val, y_tr, y_val = train_test_split(X_train, y_train, test_size = .1, random_state = 156)"
   ]
  },
  {
   "cell_type": "code",
   "execution_count": 112,
   "id": "80d87642-61ab-427e-b98a-837e6c470f3f",
   "metadata": {},
   "outputs": [],
   "source": [
    "# 사이킷런 래퍼 XGBoost 클래스인 XGBClassifier 임포트\n",
    "from xgboost import XGBClassifier\n",
    "\n",
    "# Warning 메시지를 없애기 위해 eval_metric 값을 XGBClassifier 생성 인자로 입력\n",
    "xgb_wrapper = XGBClassifier(n_estimators = 400, learning_rate = 0.05, \n",
    "                            max_depth = 3, eval_metric = 'logloss')\n",
    "\n",
    "xgb_wrapper.fit(X_train, y_train, verbose = True)\n",
    "\n",
    "w_preds = xgb_wrapper.predict(X_test)\n",
    "w_pred_proba = xgb_wrapper.predict_proba(X_test)[:, 1]"
   ]
  },
  {
   "cell_type": "code",
   "execution_count": 121,
   "id": "4bea91e5-4d9f-471e-805b-5583a2b4b19c",
   "metadata": {
    "jupyter": {
     "source_hidden": true
    },
    "tags": []
   },
   "outputs": [],
   "source": [
    "from sklearn.metrics import roc_auc_score, confusion_matrix, accuracy_score, precision_score, recall_score, f1_score\n",
    "\n",
    "def get_clf_eval(y_test, pred=None, pred_proba=None):\n",
    "    confusion = confusion_matrix( y_test, pred)\n",
    "    accuracy = accuracy_score(y_test , pred)\n",
    "    precision = precision_score(y_test , pred)\n",
    "    recall = recall_score(y_test , pred)\n",
    "    f1 = f1_score(y_test,pred)\n",
    "    # ROC-AUC 추가 \n",
    "    roc_auc = roc_auc_score(y_test, pred_proba)\n",
    "    print('오차 행렬')\n",
    "    print(confusion)\n",
    "    # ROC-AUC print 추가\n",
    "    print('정확도: {0:.4f}, 정밀도: {1:.4f}, 재현율: {2:.4f},\\\n",
    "    F1: {3:.4f}, AUC:{4:.4f}'.format(accuracy, precision, recall, f1, roc_auc)) "
   ]
  },
  {
   "cell_type": "code",
   "execution_count": 122,
   "id": "ec670ef8-64f2-44a7-a6b1-989f29fc3695",
   "metadata": {},
   "outputs": [
    {
     "name": "stdout",
     "output_type": "stream",
     "text": [
      "오차 행렬\n",
      "[[34  3]\n",
      " [ 1 76]]\n",
      "정확도: 0.9649, 정밀도: 0.9620, 재현율: 0.9870,    F1: 0.9744, AUC:0.9954\n"
     ]
    }
   ],
   "source": [
    "get_clf_eval(y_test, w_preds, w_pred_proba)"
   ]
  },
  {
   "cell_type": "code",
   "execution_count": 119,
   "id": "ab7f36d5-4390-4bb0-a387-a3e6fbd5a039",
   "metadata": {
    "collapsed": true,
    "jupyter": {
     "outputs_hidden": true
    },
    "tags": []
   },
   "outputs": [
    {
     "name": "stdout",
     "output_type": "stream",
     "text": [
      "[0]\tvalidation_0-logloss:0.65016\tvalidation_1-logloss:0.66183\n",
      "[1]\tvalidation_0-logloss:0.61131\tvalidation_1-logloss:0.63609\n",
      "[2]\tvalidation_0-logloss:0.57563\tvalidation_1-logloss:0.61144\n",
      "[3]\tvalidation_0-logloss:0.54310\tvalidation_1-logloss:0.59204\n",
      "[4]\tvalidation_0-logloss:0.51323\tvalidation_1-logloss:0.57329\n",
      "[5]\tvalidation_0-logloss:0.48447\tvalidation_1-logloss:0.55037\n",
      "[6]\tvalidation_0-logloss:0.45796\tvalidation_1-logloss:0.52930\n",
      "[7]\tvalidation_0-logloss:0.43436\tvalidation_1-logloss:0.51534\n",
      "[8]\tvalidation_0-logloss:0.41150\tvalidation_1-logloss:0.49718\n",
      "[9]\tvalidation_0-logloss:0.39027\tvalidation_1-logloss:0.48154\n",
      "[10]\tvalidation_0-logloss:0.37128\tvalidation_1-logloss:0.46990\n",
      "[11]\tvalidation_0-logloss:0.35254\tvalidation_1-logloss:0.45474\n",
      "[12]\tvalidation_0-logloss:0.33528\tvalidation_1-logloss:0.44229\n",
      "[13]\tvalidation_0-logloss:0.31892\tvalidation_1-logloss:0.42961\n",
      "[14]\tvalidation_0-logloss:0.30439\tvalidation_1-logloss:0.42065\n",
      "[15]\tvalidation_0-logloss:0.29000\tvalidation_1-logloss:0.40958\n",
      "[16]\tvalidation_0-logloss:0.27651\tvalidation_1-logloss:0.39887\n",
      "[17]\tvalidation_0-logloss:0.26389\tvalidation_1-logloss:0.39050\n",
      "[18]\tvalidation_0-logloss:0.25210\tvalidation_1-logloss:0.38254\n",
      "[19]\tvalidation_0-logloss:0.24123\tvalidation_1-logloss:0.37393\n",
      "[20]\tvalidation_0-logloss:0.23076\tvalidation_1-logloss:0.36789\n",
      "[21]\tvalidation_0-logloss:0.22091\tvalidation_1-logloss:0.36017\n",
      "[22]\tvalidation_0-logloss:0.21155\tvalidation_1-logloss:0.35421\n",
      "[23]\tvalidation_0-logloss:0.20263\tvalidation_1-logloss:0.34683\n",
      "[24]\tvalidation_0-logloss:0.19434\tvalidation_1-logloss:0.34111\n",
      "[25]\tvalidation_0-logloss:0.18637\tvalidation_1-logloss:0.33634\n",
      "[26]\tvalidation_0-logloss:0.17875\tvalidation_1-logloss:0.33082\n",
      "[27]\tvalidation_0-logloss:0.17167\tvalidation_1-logloss:0.32675\n",
      "[28]\tvalidation_0-logloss:0.16481\tvalidation_1-logloss:0.32099\n",
      "[29]\tvalidation_0-logloss:0.15835\tvalidation_1-logloss:0.31671\n",
      "[30]\tvalidation_0-logloss:0.15225\tvalidation_1-logloss:0.31277\n",
      "[31]\tvalidation_0-logloss:0.14650\tvalidation_1-logloss:0.30882\n",
      "[32]\tvalidation_0-logloss:0.14102\tvalidation_1-logloss:0.30437\n",
      "[33]\tvalidation_0-logloss:0.13590\tvalidation_1-logloss:0.30103\n",
      "[34]\tvalidation_0-logloss:0.13109\tvalidation_1-logloss:0.29794\n",
      "[35]\tvalidation_0-logloss:0.12647\tvalidation_1-logloss:0.29499\n",
      "[36]\tvalidation_0-logloss:0.12197\tvalidation_1-logloss:0.29295\n",
      "[37]\tvalidation_0-logloss:0.11784\tvalidation_1-logloss:0.29043\n",
      "[38]\tvalidation_0-logloss:0.11379\tvalidation_1-logloss:0.28927\n",
      "[39]\tvalidation_0-logloss:0.10994\tvalidation_1-logloss:0.28578\n",
      "[40]\tvalidation_0-logloss:0.10638\tvalidation_1-logloss:0.28364\n",
      "[41]\tvalidation_0-logloss:0.10302\tvalidation_1-logloss:0.28183\n",
      "[42]\tvalidation_0-logloss:0.09963\tvalidation_1-logloss:0.28005\n",
      "[43]\tvalidation_0-logloss:0.09649\tvalidation_1-logloss:0.27972\n",
      "[44]\tvalidation_0-logloss:0.09359\tvalidation_1-logloss:0.27744\n",
      "[45]\tvalidation_0-logloss:0.09080\tvalidation_1-logloss:0.27542\n",
      "[46]\tvalidation_0-logloss:0.08807\tvalidation_1-logloss:0.27504\n",
      "[47]\tvalidation_0-logloss:0.08541\tvalidation_1-logloss:0.27458\n",
      "[48]\tvalidation_0-logloss:0.08299\tvalidation_1-logloss:0.27348\n",
      "[49]\tvalidation_0-logloss:0.08035\tvalidation_1-logloss:0.27247\n",
      "[50]\tvalidation_0-logloss:0.07786\tvalidation_1-logloss:0.27163\n",
      "[51]\tvalidation_0-logloss:0.07550\tvalidation_1-logloss:0.27094\n",
      "[52]\tvalidation_0-logloss:0.07344\tvalidation_1-logloss:0.26967\n",
      "[53]\tvalidation_0-logloss:0.07147\tvalidation_1-logloss:0.27008\n",
      "[54]\tvalidation_0-logloss:0.06964\tvalidation_1-logloss:0.26890\n",
      "[55]\tvalidation_0-logloss:0.06766\tvalidation_1-logloss:0.26854\n",
      "[56]\tvalidation_0-logloss:0.06591\tvalidation_1-logloss:0.26900\n",
      "[57]\tvalidation_0-logloss:0.06433\tvalidation_1-logloss:0.26790\n",
      "[58]\tvalidation_0-logloss:0.06259\tvalidation_1-logloss:0.26663\n",
      "[59]\tvalidation_0-logloss:0.06107\tvalidation_1-logloss:0.26743\n",
      "[60]\tvalidation_0-logloss:0.05957\tvalidation_1-logloss:0.26610\n",
      "[61]\tvalidation_0-logloss:0.05817\tvalidation_1-logloss:0.26644\n",
      "[62]\tvalidation_0-logloss:0.05691\tvalidation_1-logloss:0.26673\n",
      "[63]\tvalidation_0-logloss:0.05550\tvalidation_1-logloss:0.26550\n",
      "[64]\tvalidation_0-logloss:0.05422\tvalidation_1-logloss:0.26443\n",
      "[65]\tvalidation_0-logloss:0.05311\tvalidation_1-logloss:0.26500\n",
      "[66]\tvalidation_0-logloss:0.05207\tvalidation_1-logloss:0.26591\n",
      "[67]\tvalidation_0-logloss:0.05093\tvalidation_1-logloss:0.26501\n",
      "[68]\tvalidation_0-logloss:0.04976\tvalidation_1-logloss:0.26435\n",
      "[69]\tvalidation_0-logloss:0.04872\tvalidation_1-logloss:0.26360\n",
      "[70]\tvalidation_0-logloss:0.04776\tvalidation_1-logloss:0.26319\n",
      "[71]\tvalidation_0-logloss:0.04680\tvalidation_1-logloss:0.26255\n",
      "[72]\tvalidation_0-logloss:0.04580\tvalidation_1-logloss:0.26204\n",
      "[73]\tvalidation_0-logloss:0.04484\tvalidation_1-logloss:0.26254\n",
      "[74]\tvalidation_0-logloss:0.04388\tvalidation_1-logloss:0.26289\n",
      "[75]\tvalidation_0-logloss:0.04309\tvalidation_1-logloss:0.26249\n",
      "[76]\tvalidation_0-logloss:0.04224\tvalidation_1-logloss:0.26217\n",
      "[77]\tvalidation_0-logloss:0.04133\tvalidation_1-logloss:0.26166\n",
      "[78]\tvalidation_0-logloss:0.04050\tvalidation_1-logloss:0.26179\n",
      "[79]\tvalidation_0-logloss:0.03967\tvalidation_1-logloss:0.26103\n",
      "[80]\tvalidation_0-logloss:0.03876\tvalidation_1-logloss:0.26094\n",
      "[81]\tvalidation_0-logloss:0.03806\tvalidation_1-logloss:0.26148\n",
      "[82]\tvalidation_0-logloss:0.03740\tvalidation_1-logloss:0.26054\n",
      "[83]\tvalidation_0-logloss:0.03676\tvalidation_1-logloss:0.25967\n",
      "[84]\tvalidation_0-logloss:0.03605\tvalidation_1-logloss:0.25905\n",
      "[85]\tvalidation_0-logloss:0.03545\tvalidation_1-logloss:0.26007\n",
      "[86]\tvalidation_0-logloss:0.03489\tvalidation_1-logloss:0.25984\n",
      "[87]\tvalidation_0-logloss:0.03425\tvalidation_1-logloss:0.25933\n",
      "[88]\tvalidation_0-logloss:0.03361\tvalidation_1-logloss:0.25932\n",
      "[89]\tvalidation_0-logloss:0.03311\tvalidation_1-logloss:0.26002\n",
      "[90]\tvalidation_0-logloss:0.03260\tvalidation_1-logloss:0.25936\n",
      "[91]\tvalidation_0-logloss:0.03202\tvalidation_1-logloss:0.25886\n",
      "[92]\tvalidation_0-logloss:0.03152\tvalidation_1-logloss:0.25918\n",
      "[93]\tvalidation_0-logloss:0.03107\tvalidation_1-logloss:0.25864\n",
      "[94]\tvalidation_0-logloss:0.03049\tvalidation_1-logloss:0.25951\n",
      "[95]\tvalidation_0-logloss:0.03007\tvalidation_1-logloss:0.26091\n",
      "[96]\tvalidation_0-logloss:0.02963\tvalidation_1-logloss:0.26014\n",
      "[97]\tvalidation_0-logloss:0.02913\tvalidation_1-logloss:0.25974\n",
      "[98]\tvalidation_0-logloss:0.02866\tvalidation_1-logloss:0.25937\n",
      "[99]\tvalidation_0-logloss:0.02829\tvalidation_1-logloss:0.25893\n",
      "[100]\tvalidation_0-logloss:0.02789\tvalidation_1-logloss:0.25928\n",
      "[101]\tvalidation_0-logloss:0.02751\tvalidation_1-logloss:0.25955\n",
      "[102]\tvalidation_0-logloss:0.02714\tvalidation_1-logloss:0.25901\n",
      "[103]\tvalidation_0-logloss:0.02668\tvalidation_1-logloss:0.25991\n",
      "[104]\tvalidation_0-logloss:0.02634\tvalidation_1-logloss:0.25950\n",
      "[105]\tvalidation_0-logloss:0.02594\tvalidation_1-logloss:0.25924\n",
      "[106]\tvalidation_0-logloss:0.02556\tvalidation_1-logloss:0.25901\n",
      "[107]\tvalidation_0-logloss:0.02522\tvalidation_1-logloss:0.25738\n",
      "[108]\tvalidation_0-logloss:0.02492\tvalidation_1-logloss:0.25702\n",
      "[109]\tvalidation_0-logloss:0.02453\tvalidation_1-logloss:0.25789\n",
      "[110]\tvalidation_0-logloss:0.02418\tvalidation_1-logloss:0.25770\n",
      "[111]\tvalidation_0-logloss:0.02384\tvalidation_1-logloss:0.25842\n",
      "[112]\tvalidation_0-logloss:0.02356\tvalidation_1-logloss:0.25810\n",
      "[113]\tvalidation_0-logloss:0.02322\tvalidation_1-logloss:0.25848\n",
      "[114]\tvalidation_0-logloss:0.02290\tvalidation_1-logloss:0.25833\n",
      "[115]\tvalidation_0-logloss:0.02260\tvalidation_1-logloss:0.25820\n",
      "[116]\tvalidation_0-logloss:0.02229\tvalidation_1-logloss:0.25905\n",
      "[117]\tvalidation_0-logloss:0.02204\tvalidation_1-logloss:0.25878\n",
      "[118]\tvalidation_0-logloss:0.02176\tvalidation_1-logloss:0.25728\n",
      "[119]\tvalidation_0-logloss:0.02149\tvalidation_1-logloss:0.25722\n",
      "[120]\tvalidation_0-logloss:0.02119\tvalidation_1-logloss:0.25764\n",
      "[121]\tvalidation_0-logloss:0.02095\tvalidation_1-logloss:0.25761\n",
      "[122]\tvalidation_0-logloss:0.02067\tvalidation_1-logloss:0.25832\n",
      "[123]\tvalidation_0-logloss:0.02045\tvalidation_1-logloss:0.25808\n",
      "[124]\tvalidation_0-logloss:0.02023\tvalidation_1-logloss:0.25855\n",
      "[125]\tvalidation_0-logloss:0.01998\tvalidation_1-logloss:0.25714\n",
      "[126]\tvalidation_0-logloss:0.01973\tvalidation_1-logloss:0.25587\n",
      "[127]\tvalidation_0-logloss:0.01946\tvalidation_1-logloss:0.25640\n",
      "[128]\tvalidation_0-logloss:0.01927\tvalidation_1-logloss:0.25685\n",
      "[129]\tvalidation_0-logloss:0.01908\tvalidation_1-logloss:0.25665\n",
      "[130]\tvalidation_0-logloss:0.01886\tvalidation_1-logloss:0.25712\n",
      "[131]\tvalidation_0-logloss:0.01863\tvalidation_1-logloss:0.25609\n",
      "[132]\tvalidation_0-logloss:0.01839\tvalidation_1-logloss:0.25649\n",
      "[133]\tvalidation_0-logloss:0.01816\tvalidation_1-logloss:0.25789\n",
      "[134]\tvalidation_0-logloss:0.01802\tvalidation_1-logloss:0.25811\n",
      "[135]\tvalidation_0-logloss:0.01785\tvalidation_1-logloss:0.25794\n",
      "[136]\tvalidation_0-logloss:0.01763\tvalidation_1-logloss:0.25876\n",
      "[137]\tvalidation_0-logloss:0.01748\tvalidation_1-logloss:0.25884\n",
      "[138]\tvalidation_0-logloss:0.01732\tvalidation_1-logloss:0.25867\n",
      "[139]\tvalidation_0-logloss:0.01719\tvalidation_1-logloss:0.25876\n",
      "[140]\tvalidation_0-logloss:0.01696\tvalidation_1-logloss:0.25987\n",
      "[141]\tvalidation_0-logloss:0.01681\tvalidation_1-logloss:0.25960\n",
      "[142]\tvalidation_0-logloss:0.01669\tvalidation_1-logloss:0.25982\n",
      "[143]\tvalidation_0-logloss:0.01656\tvalidation_1-logloss:0.25992\n",
      "[144]\tvalidation_0-logloss:0.01638\tvalidation_1-logloss:0.26035\n",
      "[145]\tvalidation_0-logloss:0.01623\tvalidation_1-logloss:0.26055\n",
      "[146]\tvalidation_0-logloss:0.01606\tvalidation_1-logloss:0.26092\n",
      "[147]\tvalidation_0-logloss:0.01589\tvalidation_1-logloss:0.26137\n",
      "[148]\tvalidation_0-logloss:0.01572\tvalidation_1-logloss:0.25999\n",
      "[149]\tvalidation_0-logloss:0.01556\tvalidation_1-logloss:0.26028\n",
      "[150]\tvalidation_0-logloss:0.01546\tvalidation_1-logloss:0.26048\n",
      "[151]\tvalidation_0-logloss:0.01531\tvalidation_1-logloss:0.26142\n",
      "[152]\tvalidation_0-logloss:0.01515\tvalidation_1-logloss:0.26188\n",
      "[153]\tvalidation_0-logloss:0.01501\tvalidation_1-logloss:0.26227\n",
      "[154]\tvalidation_0-logloss:0.01486\tvalidation_1-logloss:0.26287\n",
      "[155]\tvalidation_0-logloss:0.01476\tvalidation_1-logloss:0.26299\n",
      "[156]\tvalidation_0-logloss:0.01462\tvalidation_1-logloss:0.26346\n",
      "[157]\tvalidation_0-logloss:0.01448\tvalidation_1-logloss:0.26379\n",
      "[158]\tvalidation_0-logloss:0.01434\tvalidation_1-logloss:0.26306\n",
      "[159]\tvalidation_0-logloss:0.01424\tvalidation_1-logloss:0.26237\n",
      "[160]\tvalidation_0-logloss:0.01410\tvalidation_1-logloss:0.26251\n",
      "[161]\tvalidation_0-logloss:0.01401\tvalidation_1-logloss:0.26265\n",
      "[162]\tvalidation_0-logloss:0.01392\tvalidation_1-logloss:0.26264\n",
      "[163]\tvalidation_0-logloss:0.01380\tvalidation_1-logloss:0.26250\n",
      "[164]\tvalidation_0-logloss:0.01372\tvalidation_1-logloss:0.26264\n",
      "[165]\tvalidation_0-logloss:0.01359\tvalidation_1-logloss:0.26255\n",
      "[166]\tvalidation_0-logloss:0.01350\tvalidation_1-logloss:0.26188\n",
      "[167]\tvalidation_0-logloss:0.01342\tvalidation_1-logloss:0.26203\n",
      "[168]\tvalidation_0-logloss:0.01331\tvalidation_1-logloss:0.26190\n",
      "[169]\tvalidation_0-logloss:0.01319\tvalidation_1-logloss:0.26184\n",
      "[170]\tvalidation_0-logloss:0.01312\tvalidation_1-logloss:0.26133\n",
      "[171]\tvalidation_0-logloss:0.01304\tvalidation_1-logloss:0.26148\n",
      "[172]\tvalidation_0-logloss:0.01297\tvalidation_1-logloss:0.26157\n",
      "[173]\tvalidation_0-logloss:0.01285\tvalidation_1-logloss:0.26253\n",
      "[174]\tvalidation_0-logloss:0.01278\tvalidation_1-logloss:0.26229\n",
      "[175]\tvalidation_0-logloss:0.01267\tvalidation_1-logloss:0.26086\n"
     ]
    }
   ],
   "source": [
    "xgb_wrapper = XGBClassifier(n_estimators = 400, learning_rate = 0.05, max_depth = 3)\n",
    "evals = [(X_tr, y_tr), (X_val, y_val)]\n",
    "xgb_wrapper.fit(X_tr, y_tr, early_stopping_rounds = 50, eval_metric = 'logloss',\n",
    "               eval_set = evals, verbose = True)\n",
    "\n",
    "ws50_preds = xgb_wrapper.predict(X_test)\n",
    "ws50_pred_proba = xgb_wrapper.predict_proba(X_test)[:, 1]"
   ]
  },
  {
   "cell_type": "markdown",
   "id": "aab555be-baab-42a0-b111-2597977ed18a",
   "metadata": {},
   "source": [
    "조기 중단 관련 파라미터\n",
    "- 평가 지표가 향상될 수 있는 반복 횟수를 정의하는 early_stopping_rounds\n",
    "- 조기 중단을 위한 평가 지표인 eval_metric\n",
    "- 서능 평가를 수행할 데이터 세트인 eval_set"
   ]
  },
  {
   "cell_type": "code",
   "execution_count": 123,
   "id": "174b9229-79cf-416f-acc3-a1aa943811f8",
   "metadata": {},
   "outputs": [
    {
     "name": "stdout",
     "output_type": "stream",
     "text": [
      "오차 행렬\n",
      "[[34  3]\n",
      " [ 2 75]]\n",
      "정확도: 0.9561, 정밀도: 0.9615, 재현율: 0.9740,    F1: 0.9677, AUC:0.9933\n"
     ]
    }
   ],
   "source": [
    "get_clf_eval(y_test, ws50_preds, ws50_pred_proba)"
   ]
  },
  {
   "cell_type": "markdown",
   "id": "4890b4be-2f7b-4096-b494-78319c006771",
   "metadata": {},
   "source": [
    "- 조기 중단값을 너무 급격하게 줄이면 예측 성능이 저하될 수 있음\n",
    "- 만약 early_stopping_rounds를 10으로 하면 아직 성능이 향상될 여지가 있음에도 불구하고 10번 반복하는 동안 성능 평가지표가 향상되지 않으면 반복이 멈춰 버려서 충분한 학습이 되지 않아 예측 성능이 나빠질 수 있음"
   ]
  },
  {
   "cell_type": "code",
   "execution_count": 127,
   "id": "11841574-eb1e-4808-afdb-b845731f504e",
   "metadata": {
    "collapsed": true,
    "jupyter": {
     "outputs_hidden": true
    },
    "tags": []
   },
   "outputs": [
    {
     "name": "stdout",
     "output_type": "stream",
     "text": [
      "[0]\tvalidation_0-logloss:0.65016\tvalidation_1-logloss:0.66183\n",
      "[1]\tvalidation_0-logloss:0.61131\tvalidation_1-logloss:0.63609\n",
      "[2]\tvalidation_0-logloss:0.57563\tvalidation_1-logloss:0.61144\n",
      "[3]\tvalidation_0-logloss:0.54310\tvalidation_1-logloss:0.59204\n",
      "[4]\tvalidation_0-logloss:0.51323\tvalidation_1-logloss:0.57329\n",
      "[5]\tvalidation_0-logloss:0.48447\tvalidation_1-logloss:0.55037\n",
      "[6]\tvalidation_0-logloss:0.45796\tvalidation_1-logloss:0.52930\n",
      "[7]\tvalidation_0-logloss:0.43436\tvalidation_1-logloss:0.51534\n",
      "[8]\tvalidation_0-logloss:0.41150\tvalidation_1-logloss:0.49718\n",
      "[9]\tvalidation_0-logloss:0.39027\tvalidation_1-logloss:0.48154\n",
      "[10]\tvalidation_0-logloss:0.37128\tvalidation_1-logloss:0.46990\n",
      "[11]\tvalidation_0-logloss:0.35254\tvalidation_1-logloss:0.45474\n",
      "[12]\tvalidation_0-logloss:0.33528\tvalidation_1-logloss:0.44229\n",
      "[13]\tvalidation_0-logloss:0.31892\tvalidation_1-logloss:0.42961\n",
      "[14]\tvalidation_0-logloss:0.30439\tvalidation_1-logloss:0.42065\n",
      "[15]\tvalidation_0-logloss:0.29000\tvalidation_1-logloss:0.40958\n",
      "[16]\tvalidation_0-logloss:0.27651\tvalidation_1-logloss:0.39887\n",
      "[17]\tvalidation_0-logloss:0.26389\tvalidation_1-logloss:0.39050\n",
      "[18]\tvalidation_0-logloss:0.25210\tvalidation_1-logloss:0.38254\n",
      "[19]\tvalidation_0-logloss:0.24123\tvalidation_1-logloss:0.37393\n",
      "[20]\tvalidation_0-logloss:0.23076\tvalidation_1-logloss:0.36789\n",
      "[21]\tvalidation_0-logloss:0.22091\tvalidation_1-logloss:0.36017\n",
      "[22]\tvalidation_0-logloss:0.21155\tvalidation_1-logloss:0.35421\n",
      "[23]\tvalidation_0-logloss:0.20263\tvalidation_1-logloss:0.34683\n",
      "[24]\tvalidation_0-logloss:0.19434\tvalidation_1-logloss:0.34111\n",
      "[25]\tvalidation_0-logloss:0.18637\tvalidation_1-logloss:0.33634\n",
      "[26]\tvalidation_0-logloss:0.17875\tvalidation_1-logloss:0.33082\n",
      "[27]\tvalidation_0-logloss:0.17167\tvalidation_1-logloss:0.32675\n",
      "[28]\tvalidation_0-logloss:0.16481\tvalidation_1-logloss:0.32099\n",
      "[29]\tvalidation_0-logloss:0.15835\tvalidation_1-logloss:0.31671\n",
      "[30]\tvalidation_0-logloss:0.15225\tvalidation_1-logloss:0.31277\n",
      "[31]\tvalidation_0-logloss:0.14650\tvalidation_1-logloss:0.30882\n",
      "[32]\tvalidation_0-logloss:0.14102\tvalidation_1-logloss:0.30437\n",
      "[33]\tvalidation_0-logloss:0.13590\tvalidation_1-logloss:0.30103\n",
      "[34]\tvalidation_0-logloss:0.13109\tvalidation_1-logloss:0.29794\n",
      "[35]\tvalidation_0-logloss:0.12647\tvalidation_1-logloss:0.29499\n",
      "[36]\tvalidation_0-logloss:0.12197\tvalidation_1-logloss:0.29295\n",
      "[37]\tvalidation_0-logloss:0.11784\tvalidation_1-logloss:0.29043\n",
      "[38]\tvalidation_0-logloss:0.11379\tvalidation_1-logloss:0.28927\n",
      "[39]\tvalidation_0-logloss:0.10994\tvalidation_1-logloss:0.28578\n",
      "[40]\tvalidation_0-logloss:0.10638\tvalidation_1-logloss:0.28364\n",
      "[41]\tvalidation_0-logloss:0.10302\tvalidation_1-logloss:0.28183\n",
      "[42]\tvalidation_0-logloss:0.09963\tvalidation_1-logloss:0.28005\n",
      "[43]\tvalidation_0-logloss:0.09649\tvalidation_1-logloss:0.27972\n",
      "[44]\tvalidation_0-logloss:0.09359\tvalidation_1-logloss:0.27744\n",
      "[45]\tvalidation_0-logloss:0.09080\tvalidation_1-logloss:0.27542\n",
      "[46]\tvalidation_0-logloss:0.08807\tvalidation_1-logloss:0.27504\n",
      "[47]\tvalidation_0-logloss:0.08541\tvalidation_1-logloss:0.27458\n",
      "[48]\tvalidation_0-logloss:0.08299\tvalidation_1-logloss:0.27348\n",
      "[49]\tvalidation_0-logloss:0.08035\tvalidation_1-logloss:0.27247\n",
      "[50]\tvalidation_0-logloss:0.07786\tvalidation_1-logloss:0.27163\n",
      "[51]\tvalidation_0-logloss:0.07550\tvalidation_1-logloss:0.27094\n",
      "[52]\tvalidation_0-logloss:0.07344\tvalidation_1-logloss:0.26967\n",
      "[53]\tvalidation_0-logloss:0.07147\tvalidation_1-logloss:0.27008\n",
      "[54]\tvalidation_0-logloss:0.06964\tvalidation_1-logloss:0.26890\n",
      "[55]\tvalidation_0-logloss:0.06766\tvalidation_1-logloss:0.26854\n",
      "[56]\tvalidation_0-logloss:0.06591\tvalidation_1-logloss:0.26900\n",
      "[57]\tvalidation_0-logloss:0.06433\tvalidation_1-logloss:0.26790\n",
      "[58]\tvalidation_0-logloss:0.06259\tvalidation_1-logloss:0.26663\n",
      "[59]\tvalidation_0-logloss:0.06107\tvalidation_1-logloss:0.26743\n",
      "[60]\tvalidation_0-logloss:0.05957\tvalidation_1-logloss:0.26610\n",
      "[61]\tvalidation_0-logloss:0.05817\tvalidation_1-logloss:0.26644\n",
      "[62]\tvalidation_0-logloss:0.05691\tvalidation_1-logloss:0.26673\n",
      "[63]\tvalidation_0-logloss:0.05550\tvalidation_1-logloss:0.26550\n",
      "[64]\tvalidation_0-logloss:0.05422\tvalidation_1-logloss:0.26443\n",
      "[65]\tvalidation_0-logloss:0.05311\tvalidation_1-logloss:0.26500\n",
      "[66]\tvalidation_0-logloss:0.05207\tvalidation_1-logloss:0.26591\n",
      "[67]\tvalidation_0-logloss:0.05093\tvalidation_1-logloss:0.26501\n",
      "[68]\tvalidation_0-logloss:0.04976\tvalidation_1-logloss:0.26435\n",
      "[69]\tvalidation_0-logloss:0.04872\tvalidation_1-logloss:0.26360\n",
      "[70]\tvalidation_0-logloss:0.04776\tvalidation_1-logloss:0.26319\n",
      "[71]\tvalidation_0-logloss:0.04680\tvalidation_1-logloss:0.26255\n",
      "[72]\tvalidation_0-logloss:0.04580\tvalidation_1-logloss:0.26204\n",
      "[73]\tvalidation_0-logloss:0.04484\tvalidation_1-logloss:0.26254\n",
      "[74]\tvalidation_0-logloss:0.04388\tvalidation_1-logloss:0.26289\n",
      "[75]\tvalidation_0-logloss:0.04309\tvalidation_1-logloss:0.26249\n",
      "[76]\tvalidation_0-logloss:0.04224\tvalidation_1-logloss:0.26217\n",
      "[77]\tvalidation_0-logloss:0.04133\tvalidation_1-logloss:0.26166\n",
      "[78]\tvalidation_0-logloss:0.04050\tvalidation_1-logloss:0.26179\n",
      "[79]\tvalidation_0-logloss:0.03967\tvalidation_1-logloss:0.26103\n",
      "[80]\tvalidation_0-logloss:0.03876\tvalidation_1-logloss:0.26094\n",
      "[81]\tvalidation_0-logloss:0.03806\tvalidation_1-logloss:0.26148\n",
      "[82]\tvalidation_0-logloss:0.03740\tvalidation_1-logloss:0.26054\n",
      "[83]\tvalidation_0-logloss:0.03676\tvalidation_1-logloss:0.25967\n",
      "[84]\tvalidation_0-logloss:0.03605\tvalidation_1-logloss:0.25905\n",
      "[85]\tvalidation_0-logloss:0.03545\tvalidation_1-logloss:0.26007\n",
      "[86]\tvalidation_0-logloss:0.03489\tvalidation_1-logloss:0.25984\n",
      "[87]\tvalidation_0-logloss:0.03425\tvalidation_1-logloss:0.25933\n",
      "[88]\tvalidation_0-logloss:0.03361\tvalidation_1-logloss:0.25932\n",
      "[89]\tvalidation_0-logloss:0.03311\tvalidation_1-logloss:0.26002\n",
      "[90]\tvalidation_0-logloss:0.03260\tvalidation_1-logloss:0.25936\n",
      "[91]\tvalidation_0-logloss:0.03202\tvalidation_1-logloss:0.25886\n",
      "[92]\tvalidation_0-logloss:0.03152\tvalidation_1-logloss:0.25918\n",
      "[93]\tvalidation_0-logloss:0.03107\tvalidation_1-logloss:0.25864\n",
      "[94]\tvalidation_0-logloss:0.03049\tvalidation_1-logloss:0.25951\n",
      "[95]\tvalidation_0-logloss:0.03007\tvalidation_1-logloss:0.26091\n",
      "[96]\tvalidation_0-logloss:0.02963\tvalidation_1-logloss:0.26014\n",
      "[97]\tvalidation_0-logloss:0.02913\tvalidation_1-logloss:0.25974\n",
      "[98]\tvalidation_0-logloss:0.02866\tvalidation_1-logloss:0.25937\n",
      "[99]\tvalidation_0-logloss:0.02829\tvalidation_1-logloss:0.25893\n",
      "[100]\tvalidation_0-logloss:0.02789\tvalidation_1-logloss:0.25928\n",
      "[101]\tvalidation_0-logloss:0.02751\tvalidation_1-logloss:0.25955\n",
      "[102]\tvalidation_0-logloss:0.02714\tvalidation_1-logloss:0.25901\n",
      "[103]\tvalidation_0-logloss:0.02668\tvalidation_1-logloss:0.25991\n"
     ]
    }
   ],
   "source": [
    "xgb_wrapper = XGBClassifier(n_estimators = 400, learning_rate = 0.05, max_depth = 3)\n",
    "evals = [(X_tr, y_tr), (X_val, y_val)]\n",
    "xgb_wrapper.fit(X_tr, y_tr, early_stopping_rounds = 10, eval_metric = 'logloss',\n",
    "               eval_set = evals, verbose = True)\n",
    "\n",
    "ws50_preds = xgb_wrapper.predict(X_test)\n",
    "ws50_pred_proba = xgb_wrapper.predict_proba(X_test)[:, 1]\n"
   ]
  },
  {
   "cell_type": "code",
   "execution_count": 126,
   "id": "31b45f6c-757e-4ebe-b45e-bcddefdfd765",
   "metadata": {},
   "outputs": [
    {
     "name": "stdout",
     "output_type": "stream",
     "text": [
      "오차 행렬\n",
      "[[34  3]\n",
      " [ 3 74]]\n",
      "정확도: 0.9474, 정밀도: 0.9610, 재현율: 0.9610,    F1: 0.9610, AUC:0.9933\n"
     ]
    }
   ],
   "source": [
    "get_clf_eval(y_test, ws50_preds, ws50_pred_proba)"
   ]
  }
 ],
 "metadata": {
  "kernelspec": {
   "display_name": "Python 3 (ipykernel)",
   "language": "python",
   "name": "python3"
  },
  "language_info": {
   "codemirror_mode": {
    "name": "ipython",
    "version": 3
   },
   "file_extension": ".py",
   "mimetype": "text/x-python",
   "name": "python",
   "nbconvert_exporter": "python",
   "pygments_lexer": "ipython3",
   "version": "3.10.6"
  }
 },
 "nbformat": 4,
 "nbformat_minor": 5
}
