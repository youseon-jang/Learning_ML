{
 "cells": [
  {
   "cell_type": "markdown",
   "id": "efb17625-4f58-42dd-83de-3fd7399c6487",
   "metadata": {},
   "source": [
    "# 복습 문제"
   ]
  },
  {
   "cell_type": "markdown",
   "id": "97e6893d-6070-4113-b779-cec48fec7212",
   "metadata": {},
   "source": [
    "<1> 다음 빈칸에 알맞은 라이브러리명을 적으세요\n",
    "\n",
    "(___) 는 HTTP 요청을 보낼 수 있도록 기능을 제공하는 라이브러리\n",
    "- requests, urllib.request"
   ]
  },
  {
   "cell_type": "markdown",
   "id": "21f7b58c-89ef-456f-80d9-ee6f30165f0c",
   "metadata": {},
   "source": [
    "<2> (____)은 웹 페이지의 정보를 쉽게 스크랩할 수 있도록 기능을 제공하는 라이브러리\n",
    "- BeautifulSoup"
   ]
  },
  {
   "cell_type": "markdown",
   "id": "aa89386a-c45e-4327-9ada-a121f930c997",
   "metadata": {},
   "source": [
    "<3> URL 처리 시 한글이 포함되어 있는 경우 한글을 잘 인식하도록 해주는 함수는 무엇인가요?\n",
    "- quote_plus"
   ]
  },
  {
   "cell_type": "markdown",
   "id": "c96548bc-52d8-4601-bd69-32506a0e8cc3",
   "metadata": {},
   "source": [
    "<4> (___)은/는 동적으로 변하는 웹 페이지의 데이터들까지 설정하여 크로링할 수 있다.\n",
    "- from urllib.parse import quote_plus"
   ]
  },
  {
   "cell_type": "markdown",
   "id": "d6c2723c-057b-482c-84ad-bddc21cdb4d3",
   "metadata": {},
   "source": [
    "<5> 로봇으로 요청을 했을 경우, 정보를 주지 않는 곳도 있다. 웹 브라우저 정보를 header에 담아보낸다.\n",
    "- header = 개인 User-Agent"
   ]
  },
  {
   "cell_type": "markdown",
   "id": "de1dab29-d59d-4e53-974a-1d7e31eb2549",
   "metadata": {},
   "source": [
    "<6> \n",
    "\n",
    "requests.urlopen(url).read()\n",
    "\n",
    "requests.get(url).text\n",
    "\n",
    "- html : hypertext markup language"
   ]
  },
  {
   "cell_type": "markdown",
   "id": "91fe443e-e9a7-4817-8474-7a9fca971de0",
   "metadata": {},
   "source": [
    "<7> HTML에서 페이지 이동 시 url, uri에 데이터를 포함하여 전달해서 쓰는 방식을 (__) 방식\n",
    "- get, post"
   ]
  },
  {
   "cell_type": "markdown",
   "id": "f630f569-efa7-431c-93e9-a4a979c5d5b9",
   "metadata": {},
   "source": [
    "<8> 수정하기 images=soup.find_all(class=\"_image _listImage\") \n",
    "- class -> class_"
   ]
  },
  {
   "cell_type": "markdown",
   "id": "9659fdef-066f-4bdb-a87e-43e2d655de71",
   "metadata": {},
   "source": [
    "<9> soup.find_all(class_ = 'tit_main fn_tit_u') 다른 함수 사용해서 만들기\n",
    "- soup.select('.tit_main.fn_tit_u')"
   ]
  },
  {
   "cell_type": "code",
   "execution_count": 64,
   "id": "e034b56a-ac6b-41f1-bab5-f3f3950ab430",
   "metadata": {},
   "outputs": [
    {
     "data": {
      "text/plain": [
       "['이승만',\n",
       " '윤보선',\n",
       " '박정희',\n",
       " '최규하',\n",
       " '전두환',\n",
       " '노태우',\n",
       " '김영삼',\n",
       " '김대중',\n",
       " '노무현',\n",
       " '이명박',\n",
       " '박근혜',\n",
       " '문재인',\n",
       " '윤석열']"
      ]
     },
     "execution_count": 64,
     "metadata": {},
     "output_type": "execute_result"
    }
   ],
   "source": [
    "### 주소에서 역대 대통령 이름 추출하기\n",
    "url = 'https://ko.wikipedia.org/wiki/%EB%8C%80%ED%95%9C%EB%AF%BC%EA%B5%AD%EC%9D%98_%EB%8C%80%ED%86%B5%EB%A0%B9_%EB%AA%A9%EB%A1%9D'\n",
    "\n",
    "import requests\n",
    "from bs4 import BeautifulSoup\n",
    "import re\n",
    "\n",
    "html = requests.get(url).text\n",
    "soup = BeautifulSoup(html, 'html.parser')\n",
    "names = soup.select('td:nth-child(3) > b > a')   ### nth-child(3)는 지우는 것이 좋음!\n",
    "pre_names = [name.attrs['title'] for name in names]\n",
    "pre_names"
   ]
  },
  {
   "cell_type": "code",
   "execution_count": 62,
   "id": "b9947d1a-9c29-4f9c-b92d-31cbabe3cf94",
   "metadata": {},
   "outputs": [
    {
     "data": {
      "text/plain": [
       "['이승만',\n",
       " '윤보선',\n",
       " '박정희',\n",
       " '최규하',\n",
       " '전두환',\n",
       " '노태우',\n",
       " '김영삼',\n",
       " '김대중',\n",
       " '노무현',\n",
       " '이명박',\n",
       " '박근혜',\n",
       " '문재인',\n",
       " '윤석열']"
      ]
     },
     "execution_count": 62,
     "metadata": {},
     "output_type": "execute_result"
    }
   ],
   "source": [
    "url = 'https://ko.wikipedia.org/wiki/%EB%8C%80%ED%95%9C%EB%AF%BC%EA%B5%AD%EC%9D%98_%EB%8C%80%ED%86%B5%EB%A0%B9_%EB%AA%A9%EB%A1%9D'\n",
    "\n",
    "import requests\n",
    "from bs4 import BeautifulSoup\n",
    "import re\n",
    "\n",
    "html = requests.get(url).text\n",
    "soup = BeautifulSoup(html, 'html.parser')\n",
    "table = soup.find_all('b')\n",
    "name = [i.find('a') for i in table]\n",
    "name = list(filter(None, name))\n",
    "[i.text for i in name] "
   ]
  },
  {
   "cell_type": "code",
   "execution_count": 24,
   "id": "646bab3a-54f0-49d8-8831-8ca8b1fd988d",
   "metadata": {},
   "outputs": [
    {
     "data": {
      "text/plain": [
       "[]"
      ]
     },
     "execution_count": 24,
     "metadata": {},
     "output_type": "execute_result"
    }
   ],
   "source": [
    "### 주소에서 역대 대통령 이름 추출하기\n",
    "url = 'https://ko.wikipedia.org/wiki/%EB%8C%80%ED%95%9C%EB%AF%BC%EA%B5%AD%EC%9D%98_%EB%8C%80%ED%86%B5%EB%A0%B9_%EB%AA%A9%EB%A1%9D'\n",
    "\n",
    "import requests\n",
    "from bs4 import BeautifulSoup\n",
    "import re\n",
    "\n",
    "html = requests.get(url).text\n",
    "soup = BeautifulSoup(html, 'html.parser')\n",
    "names = soup.find_all(class_ = 'b')\n",
    "pre_names = [name.attrs['title'] for name in names]\n",
    "pre_names"
   ]
  },
  {
   "cell_type": "code",
   "execution_count": null,
   "id": "a1bc157a-2177-4d87-8ca6-b2881f6300e5",
   "metadata": {},
   "outputs": [],
   "source": [
    "<a href=\"/wiki/%EC%9D%B4%EC%8A%B9%EB%A7%8C\" title=\"이승만\">이승만</a>"
   ]
  },
  {
   "cell_type": "code",
   "execution_count": 40,
   "id": "0edb5d5b-ac72-40df-b71e-37c7c41ed09e",
   "metadata": {
    "tags": []
   },
   "outputs": [],
   "source": [
    "### 이미지 가져오기\n",
    "from urllib.request import urlopen, urlretrieve ### urlretrieve는 이미지 가져오는 데에 특화된 함수\n",
    "from urllib.parse import quote_plus  ### 한국어 사용했을 때 에러 뜨는 것 방지위해 한국어 코드로 변환\n",
    "\n",
    "html = requests.get(url).text\n",
    "soup = BeautifulSoup(html, 'html.parser')\n",
    "images = soup.select('td:nth-child(2) > a > img')\n",
    "image_links = []\n",
    "img_links = []\n",
    "\n",
    "for image in images:\n",
    "    image_links.append(image.attrs['src'])\n",
    "\n",
    "for links in image_links:\n",
    "    link = 'https:' + links\n",
    "    img_links.append(link)"
   ]
  },
  {
   "cell_type": "code",
   "execution_count": 46,
   "id": "400a407a-24cc-41f6-a601-f8b5bfd0ad19",
   "metadata": {},
   "outputs": [],
   "source": [
    "count = 0\n",
    "for image in img_links:\n",
    "    urlretrieve(image, f\"./#images/{count}.jpg\")\n",
    "    count += 1"
   ]
  },
  {
   "cell_type": "markdown",
   "id": "57a6c6a3-b014-4a3d-86b0-56fcbe5abc98",
   "metadata": {},
   "source": [
    "# 수업"
   ]
  },
  {
   "cell_type": "markdown",
   "id": "8dad0b1b-a532-4774-b016-67e567e712ff",
   "metadata": {},
   "source": [
    "**<find_element 정리>**\n",
    "- driver.find_element(By.XPATH, '//button[text()=\"Some text\"]')\n",
    "- driver.find_element(By.XPATH, '//button')\n",
    "- driver.find_element(By.ID, 'loginForm')\n",
    "- driver.find_element(By.LINK_TEXT, 'Continue')\n",
    "- driver.find_element(By.PARTIAL_LINK_TEXT, 'Conti')\n",
    "- driver.find_element(By.NAME, 'username')\n",
    "- driver.find_element(By.TAG_NAME, 'h1')\n",
    "- driver.find_element(By.CLASS_NAME, 'content')\n",
    "- driver.find_element(By.CSS_SELECTOR, 'p.content')\n",
    "- driver.find_elements(By.ID, 'loginForm')\n",
    "- driver.find_elements(By.CLASS_NAME, 'content')"
   ]
  },
  {
   "cell_type": "markdown",
   "id": "831adc11-8bc4-4763-8f6d-465f177f1221",
   "metadata": {},
   "source": [
    "## 네이버 로그인하기"
   ]
  },
  {
   "cell_type": "code",
   "execution_count": 66,
   "id": "491831bc-b26c-46ec-ac10-5e80ce8dc5de",
   "metadata": {},
   "outputs": [],
   "source": [
    "import requests\n",
    "from bs4 import BeautifulSoup\n",
    "from selenium import webdriver\n",
    "from urllib.request import urlopen\n",
    "from urllib.parse import quote_plus"
   ]
  },
  {
   "cell_type": "code",
   "execution_count": 133,
   "id": "b1a6c376-2182-4f1e-a839-957fefd11adf",
   "metadata": {},
   "outputs": [
    {
     "name": "stderr",
     "output_type": "stream",
     "text": [
      "C:\\Users\\admin\\AppData\\Local\\Temp\\ipykernel_8280\\1090309423.py:2: DeprecationWarning: executable_path has been deprecated, please pass in a Service object\n",
      "  driver = webdriver.Chrome('./chromedriver_win32/chromedriver.exe')\n"
     ]
    }
   ],
   "source": [
    "##### 창 띄우기\n",
    "driver = webdriver.Chrome('./chromedriver_win32/chromedriver.exe')"
   ]
  },
  {
   "cell_type": "code",
   "execution_count": 134,
   "id": "8b68e9aa-c09e-495a-aec2-c781b7501b8f",
   "metadata": {
    "tags": []
   },
   "outputs": [],
   "source": [
    "#### url 타고 이동하기\n",
    "\n",
    "## 네이버\n",
    "url1 = 'https://nid.naver.com/nidlogin.login?mode=form&url=https%3A%2F%2Fwww.naver.com'  \n",
    "\n",
    "## 다음\n",
    "# url2 = 'https://accounts.kakao.com/login/?continue=https%3A%2F%2Flogins.daum.net%2Faccounts%2Fksso.do%3Frescue%3Dtrue%26url%3Dhttps%253A%252F%252Fwww.daum.net'\n",
    "\n",
    "driver.get(url1)"
   ]
  },
  {
   "cell_type": "code",
   "execution_count": 111,
   "id": "ad60babe-cf8c-427f-bee1-2f09cfe23830",
   "metadata": {},
   "outputs": [],
   "source": [
    "#### ID 입력하는 속성 선택 후 아이디 입력하기\n",
    "\n",
    "# 클래스 : 같은 속성의 요소들이 반복돼서 지칭할 때 사용함(여러 번 사용 가능함)\n",
    "# ID : 클래스와 다르게 딱 한 번만 사용할 수 있음(로그인 시 ID와 PW도 ID로 구성돼있음)\n",
    "# ID로 검색하려면 By.ID, 클래스로 검색하려면 By.CLASS_NAME\n",
    "\n",
    "from selenium.webdriver.common.by import By\n",
    "\n",
    "e = driver.find_element(By.ID, 'id')              ## (Class가 아니라 ID로 찾을 것임, 찾을 ID)\n",
    "e.clear()                                         ## ID 입력창 깨끗하게 지우기\n",
    "e.send_keys('deu05077')                           ## 입력할 내용 \n",
    "\n",
    "e = driver.find_element(By.ID, 'pw')\n",
    "e.clear()\n",
    "e.send_keys('qlalfqjsgh18')"
   ]
  },
  {
   "cell_type": "code",
   "execution_count": 138,
   "id": "cc378455-d05a-4293-9bdd-f08e0617b515",
   "metadata": {},
   "outputs": [],
   "source": [
    "## 위의 내용 Class로 찾고싶을 때\n",
    "## find_elements는 list 형태를 반환함\n",
    "## list는 send_keys(Keys.ENTER) 기능이 없음\n",
    "## 엔터 치려면 새로운 find_element 만들어야 함\n",
    "\n",
    "name = driver.find_elements(By.CLASS_NAME, \"input_text\")\n",
    "name[0].clear()\n",
    "name[0].send_keys(\"deu05077\")\n",
    "\n",
    "name[1].clear()\n",
    "name[1].send_keys('qlalfqjsgh18')\n",
    "\n",
    "h = driver.find_element(By.ID, 'id')\n",
    "h.send_keys(Keys.ENTER)"
   ]
  },
  {
   "cell_type": "code",
   "execution_count": 112,
   "id": "f577f243-0923-4aab-8f8b-970853238481",
   "metadata": {},
   "outputs": [],
   "source": [
    "#### id와 pw 입력 후 Enter키 사용\n",
    "#### naver는 기계가 로그인하는 것을 막아둬서 바로 로그인은 안됨\n",
    "\n",
    "from selenium.webdriver.common.keys import Keys\n",
    "\n",
    "e.send_keys(Keys.ENTER)"
   ]
  },
  {
   "cell_type": "code",
   "execution_count": 115,
   "id": "793cb557-6995-418f-bc25-9011aeff45b0",
   "metadata": {},
   "outputs": [],
   "source": [
    "#### 검색창에 입력 후 엔터\n",
    "e = driver.find_element(By.ID, 'query')\n",
    "e.clear()\n",
    "e.send_keys('우크라이나')\n",
    "e.send_keys(Keys.ENTER)"
   ]
  },
  {
   "cell_type": "markdown",
   "id": "33db543d-788e-40cc-85db-1c3f8a2e9cee",
   "metadata": {},
   "source": [
    "### 다른 사이트 로그인 연습"
   ]
  },
  {
   "cell_type": "markdown",
   "id": "bd52199b-c801-4672-9b8a-3335a8ce270c",
   "metadata": {},
   "source": [
    "#### daum\n",
    "- selenium에서 보는 로그인 화면과 직접 들어가서 보는 화면이 다름"
   ]
  },
  {
   "cell_type": "code",
   "execution_count": 116,
   "id": "9352ed6a-9e2e-4b6c-9276-36361d93af38",
   "metadata": {},
   "outputs": [
    {
     "name": "stderr",
     "output_type": "stream",
     "text": [
      "C:\\Users\\admin\\AppData\\Local\\Temp\\ipykernel_8280\\2112905483.py:1: DeprecationWarning: executable_path has been deprecated, please pass in a Service object\n",
      "  driver = webdriver.Chrome('./chromedriver_win32/chromedriver.exe')\n"
     ]
    }
   ],
   "source": [
    "driver = webdriver.Chrome('./chromedriver_win32/chromedriver.exe')\n",
    "\n",
    "url2 = 'https://accounts.kakao.com/login/?continue=https%3A%2F%2Flogins.daum.net%2Faccounts%2Fksso.do%3Frescue%3Dtrue%26url%3Dhttps%253A%252F%252Fwww.daum.net'\n",
    "driver.get(url2)"
   ]
  },
  {
   "cell_type": "code",
   "execution_count": 123,
   "id": "8df0c20f-5ba6-4237-b7a9-0af72e95e71c",
   "metadata": {
    "tags": []
   },
   "outputs": [],
   "source": [
    "f = driver.find_element(By.ID, 'id_email_2')\n",
    "f.clear()\n",
    "f.send_keys('deu05077@naver.com')\n",
    "\n",
    "f = driver.find_element(By.ID, 'id_password_3')\n",
    "f.clear()\n",
    "f.send_keys('jang@05027')\n",
    "\n",
    "f.send_keys(Keys.ENTER)"
   ]
  },
  {
   "cell_type": "markdown",
   "id": "b331250f-7dfb-4d70-b723-1356c9703cc6",
   "metadata": {},
   "source": [
    "#### google"
   ]
  },
  {
   "cell_type": "code",
   "execution_count": 131,
   "id": "7dc5638d-e32e-4f42-937b-014fd0305f48",
   "metadata": {},
   "outputs": [
    {
     "name": "stderr",
     "output_type": "stream",
     "text": [
      "C:\\Users\\admin\\AppData\\Local\\Temp\\ipykernel_8280\\125575313.py:1: DeprecationWarning: executable_path has been deprecated, please pass in a Service object\n",
      "  driver = webdriver.Chrome('./chromedriver_win32/chromedriver.exe')\n"
     ]
    }
   ],
   "source": [
    "driver = webdriver.Chrome('./chromedriver_win32/chromedriver.exe')\n",
    "\n",
    "google_url = 'https://accounts.google.com/v3/signin/identifier?dsh=S-586607343%3A1666925398444813&ec=hpp_signin_001&flowName=GlifWebSignIn&flowEntry=ServiceLogin&ifkv=AQDHYWrdgxB3Wvv8ebannMjJbzPx05HfGjmlCgWbKfbJdNoH0c6O-6sRXBlVCLaaKFKOg1p-jtfQog'\n",
    "\n",
    "driver.get(google_url)"
   ]
  },
  {
   "cell_type": "code",
   "execution_count": 132,
   "id": "cadc35b5-e817-4031-958e-15c2738db24c",
   "metadata": {},
   "outputs": [],
   "source": [
    "g = driver.find_element(By.ID, 'identifierId')\n",
    "g.clear()\n",
    "g.send_keys('yuseonjjang98@gmail.com')\n",
    "g.send_keys(Keys.ENTER)"
   ]
  },
  {
   "cell_type": "markdown",
   "id": "b55fce0b-2348-423f-9769-4f14a073b310",
   "metadata": {},
   "source": [
    "### 네이버 쇼핑에서 내가 산 목록 살펴보기"
   ]
  },
  {
   "cell_type": "code",
   "execution_count": 145,
   "id": "5f9b2f46-deb2-4df2-b15d-4c52d97b3743",
   "metadata": {},
   "outputs": [
    {
     "name": "stderr",
     "output_type": "stream",
     "text": [
      "C:\\Users\\admin\\AppData\\Local\\Temp\\ipykernel_8280\\4259605551.py:1: DeprecationWarning: executable_path has been deprecated, please pass in a Service object\n",
      "  driver = webdriver.Chrome('./chromedriver_win32/chromedriver.exe')\n"
     ]
    }
   ],
   "source": [
    "driver = webdriver.Chrome('./chromedriver_win32/chromedriver.exe')\n",
    "\n",
    "url = 'https://order.pay.naver.com/home?tabMenu=SHOPPING'\n",
    "\n",
    "driver.get(url)"
   ]
  },
  {
   "cell_type": "code",
   "execution_count": 146,
   "id": "7eadf3bf-178b-4a66-9989-bd7e2a0baa5d",
   "metadata": {},
   "outputs": [
    {
     "data": {
      "text/plain": [
       "[<selenium.webdriver.remote.webelement.WebElement (session=\"93ec8e54561902f12722f4d70488341c\", element=\"9a98b42a-5d2b-4582-8fb5-4af9a9ab8eae\")>,\n",
       " <selenium.webdriver.remote.webelement.WebElement (session=\"93ec8e54561902f12722f4d70488341c\", element=\"41ee1736-2759-4991-8ae5-a7629ed295be\")>,\n",
       " <selenium.webdriver.remote.webelement.WebElement (session=\"93ec8e54561902f12722f4d70488341c\", element=\"904abde4-b9ce-4c5e-8827-b8a0c41eba68\")>,\n",
       " <selenium.webdriver.remote.webelement.WebElement (session=\"93ec8e54561902f12722f4d70488341c\", element=\"73cbe709-aad9-4c21-b35e-50c60f4b535b\")>,\n",
       " <selenium.webdriver.remote.webelement.WebElement (session=\"93ec8e54561902f12722f4d70488341c\", element=\"7eea84b2-0035-443e-89c2-241069388ffb\")>,\n",
       " <selenium.webdriver.remote.webelement.WebElement (session=\"93ec8e54561902f12722f4d70488341c\", element=\"7d25be35-fde5-4db0-b2f9-da64d31eef45\")>,\n",
       " <selenium.webdriver.remote.webelement.WebElement (session=\"93ec8e54561902f12722f4d70488341c\", element=\"59bf17ba-3384-403e-99d3-c183f078fb27\")>,\n",
       " <selenium.webdriver.remote.webelement.WebElement (session=\"93ec8e54561902f12722f4d70488341c\", element=\"382f02ca-3918-4101-8883-a16b1dd0ebb4\")>,\n",
       " <selenium.webdriver.remote.webelement.WebElement (session=\"93ec8e54561902f12722f4d70488341c\", element=\"adfb8fc0-21e9-484d-ac5d-1e9a723f80b8\")>,\n",
       " <selenium.webdriver.remote.webelement.WebElement (session=\"93ec8e54561902f12722f4d70488341c\", element=\"b33f9ede-8c30-41fc-9029-414b0ac0ab63\")>,\n",
       " <selenium.webdriver.remote.webelement.WebElement (session=\"93ec8e54561902f12722f4d70488341c\", element=\"dff773d5-0a5a-4d31-86a5-065026515915\")>,\n",
       " <selenium.webdriver.remote.webelement.WebElement (session=\"93ec8e54561902f12722f4d70488341c\", element=\"ed419764-debf-4951-968f-0bc6267bf808\")>,\n",
       " <selenium.webdriver.remote.webelement.WebElement (session=\"93ec8e54561902f12722f4d70488341c\", element=\"0e0ea729-ff7d-4f11-bfee-3070114c8f03\")>,\n",
       " <selenium.webdriver.remote.webelement.WebElement (session=\"93ec8e54561902f12722f4d70488341c\", element=\"a2885799-fa32-4c5f-a4ff-3944ca9d705b\")>,\n",
       " <selenium.webdriver.remote.webelement.WebElement (session=\"93ec8e54561902f12722f4d70488341c\", element=\"de21bbca-d2e0-40dc-9953-cd5bfcdc3259\")>,\n",
       " <selenium.webdriver.remote.webelement.WebElement (session=\"93ec8e54561902f12722f4d70488341c\", element=\"40a95a20-0da0-4654-9a82-da39c92ab88c\")>,\n",
       " <selenium.webdriver.remote.webelement.WebElement (session=\"93ec8e54561902f12722f4d70488341c\", element=\"796091d8-373a-4007-8f05-59bb6f5ffcec\")>,\n",
       " <selenium.webdriver.remote.webelement.WebElement (session=\"93ec8e54561902f12722f4d70488341c\", element=\"c6518736-0f5c-41cc-a52f-a8109d728e57\")>,\n",
       " <selenium.webdriver.remote.webelement.WebElement (session=\"93ec8e54561902f12722f4d70488341c\", element=\"685d2059-fd92-42a7-b1cf-162d085d0ae4\")>,\n",
       " <selenium.webdriver.remote.webelement.WebElement (session=\"93ec8e54561902f12722f4d70488341c\", element=\"7ffc10c8-45af-4436-a153-95603443cfb0\")>,\n",
       " <selenium.webdriver.remote.webelement.WebElement (session=\"93ec8e54561902f12722f4d70488341c\", element=\"0034453d-ae62-4495-a0e3-dbe244c5dbfd\")>,\n",
       " <selenium.webdriver.remote.webelement.WebElement (session=\"93ec8e54561902f12722f4d70488341c\", element=\"a34636ac-7522-4463-bf6f-d8ed39a0202e\")>,\n",
       " <selenium.webdriver.remote.webelement.WebElement (session=\"93ec8e54561902f12722f4d70488341c\", element=\"ff4a1cc1-8969-4f3c-a092-902560284c47\")>,\n",
       " <selenium.webdriver.remote.webelement.WebElement (session=\"93ec8e54561902f12722f4d70488341c\", element=\"ab193ce4-337c-485b-a19d-2fba6dc3ac66\")>,\n",
       " <selenium.webdriver.remote.webelement.WebElement (session=\"93ec8e54561902f12722f4d70488341c\", element=\"af622e43-9a8c-456e-b401-dc0fe98bd817\")>,\n",
       " <selenium.webdriver.remote.webelement.WebElement (session=\"93ec8e54561902f12722f4d70488341c\", element=\"c8cae374-733d-495a-9f62-c91be33c23c6\")>,\n",
       " <selenium.webdriver.remote.webelement.WebElement (session=\"93ec8e54561902f12722f4d70488341c\", element=\"c6432f20-aba8-480d-b81b-68097663d07e\")>,\n",
       " <selenium.webdriver.remote.webelement.WebElement (session=\"93ec8e54561902f12722f4d70488341c\", element=\"730499d2-e116-4c49-ad1b-71dee8a8d7b1\")>,\n",
       " <selenium.webdriver.remote.webelement.WebElement (session=\"93ec8e54561902f12722f4d70488341c\", element=\"e51cd427-21a5-49c4-872d-5244e852eac5\")>,\n",
       " <selenium.webdriver.remote.webelement.WebElement (session=\"93ec8e54561902f12722f4d70488341c\", element=\"c08a43bf-5994-4626-83cc-e2bde4efea96\")>,\n",
       " <selenium.webdriver.remote.webelement.WebElement (session=\"93ec8e54561902f12722f4d70488341c\", element=\"f7bd76b1-2987-4686-b03a-9cc38918f8eb\")>,\n",
       " <selenium.webdriver.remote.webelement.WebElement (session=\"93ec8e54561902f12722f4d70488341c\", element=\"0ca0f370-ca46-410b-b58a-b26e9700b5b9\")>,\n",
       " <selenium.webdriver.remote.webelement.WebElement (session=\"93ec8e54561902f12722f4d70488341c\", element=\"242bb1cc-a863-4c3f-b9b0-5bdb1ac940b2\")>,\n",
       " <selenium.webdriver.remote.webelement.WebElement (session=\"93ec8e54561902f12722f4d70488341c\", element=\"17a8474c-7f3a-4c2b-836c-c5333e541950\")>,\n",
       " <selenium.webdriver.remote.webelement.WebElement (session=\"93ec8e54561902f12722f4d70488341c\", element=\"22f2c14c-64b9-4738-ac1a-6c9bc30a3637\")>,\n",
       " <selenium.webdriver.remote.webelement.WebElement (session=\"93ec8e54561902f12722f4d70488341c\", element=\"03384a88-9274-4871-adda-aed58a318ebc\")>,\n",
       " <selenium.webdriver.remote.webelement.WebElement (session=\"93ec8e54561902f12722f4d70488341c\", element=\"209a34d6-cd7e-4af0-b3fd-306bb3f571d1\")>,\n",
       " <selenium.webdriver.remote.webelement.WebElement (session=\"93ec8e54561902f12722f4d70488341c\", element=\"49755c76-2c3d-4a6f-9579-43aa6643d274\")>]"
      ]
     },
     "execution_count": 146,
     "metadata": {},
     "output_type": "execute_result"
    }
   ],
   "source": [
    "e = driver.find_elements(By.CLASS_NAME, 'name')\n",
    "e"
   ]
  },
  {
   "cell_type": "code",
   "execution_count": 148,
   "id": "cc953452-e690-448b-85ca-fd74fca968ab",
   "metadata": {},
   "outputs": [
    {
     "name": "stdout",
     "output_type": "stream",
     "text": [
      "ToujoursB님\n",
      "그리놀라스 두유 그릭요거트 비건그릭 250g 500g\n",
      "말레피센트 코스프레 할로윈 코스튬 의상\n",
      "블랙\n",
      "식물단백 대용량 1통 (0~1개월)\n",
      "애플워치 스트랩 se 7 호환 스포츠 루프 밴드 줄 줄질 시계줄\n",
      "우먼스9999 애플워치 케이스 se 40 mm 호환 풀커버 강화 유리 필름 케이스\n",
      "어버이날 용돈박스 돈케이크 부모님 용돈 이벤트 돈뽑는 현금 환갑 생신\n",
      "어버이날 용돈박스 돈케이크 부모님 용돈 이벤트 돈뽑는 현금 환갑 생신\n",
      "어버이날 용돈박스 돈케이크 부모님 용돈 이벤트 돈뽑는 현금 환갑 생신\n",
      "어버이날 용돈박스 돈케이크 부모님 용돈 이벤트 돈뽑는 현금 환갑 생신\n",
      "볼비 두유 그릭요거트 500g 비건 요거트\n",
      "전용 오덕 1 세트\n",
      "방염포 중형 1.2 m\n",
      "우주캠핑 우드스토브 28 대형 불멍 이중연소 화로대 로켓 이지 스토브 25 26\n",
      "패티코트 / 한복속치마 / 페티코트 / 패치코트 / 패치\n",
      "패티코트 / 한복속치마 / 페티코트 / 패치코트 / 패치\n",
      "에어쿠션지/네오플렌] 말랑카우 15종(160851)\n",
      "에어쿠션지/네오플렌] 말랑카우 15종(160851)\n",
      "[ 비회원_OP16368998817 ] 1636980965\n",
      "[ 비회원_OP16368998817 ] 1636983921\n",
      "[ 비회원_OP16368998817 ] 1636986398\n",
      "[ 비회원_OP16368998817 ] 1636986932\n",
      "패브릭포터리 라떼잔 포터리수입 찻잔\n",
      "패브릭포터리 라떼잔 포터리수입 찻잔\n",
      "리베르 디퓨저 100ml\n",
      "3mm, 5mm 공단테이프(비접착 라인테이프)\n",
      "3mm, 5mm 공단테이프(비접착 라인테이프)\n",
      "접착 라인테이프 1mm 1.5mm 2mm 2.5mm 3mm\n",
      "초크 페이퍼(양면 먹지)\n",
      "일제 실크핀\n",
      "①나무원발판 나무색\n",
      "의상디자인 돼지표 논노 바디 가봉용 마네킹 봉제 드래스폼\n",
      "1460 파스칼\n",
      "폴로 랄프로렌 시그니처 메리노울 비니 6종\n",
      "트라운 블루라이트 차단 안경 여자 남자 시력보호 가벼운\n",
      "스넨 노르딕 니트베스트\n",
      "엘리트 슬리미 데미지 스키니데님\n"
     ]
    }
   ],
   "source": [
    "for i in range(len(e)):\n",
    "    print(e[i].text)"
   ]
  },
  {
   "cell_type": "code",
   "execution_count": 158,
   "id": "14235ab7-169a-4a89-ac56-50dbc402826a",
   "metadata": {},
   "outputs": [
    {
     "data": {
      "text/plain": [
       "['지금 가입하고 최대 4% 더 받으세요!',\n",
       " '지금 구매하고,\\n다음에 결제하세요!\\n네이버페이 후불결제',\n",
       " '그리놀라스 두유 그릭요거트 비건그릭 250g 500g',\n",
       " '말레피센트 코스프레 할로윈 코스튬 의상',\n",
       " '블랙',\n",
       " '식물단백 대용량 1통 (0~1개월)',\n",
       " '애플워치 스트랩 se 7 호환 스포츠 루프 밴드 줄 줄질 시계줄',\n",
       " '우먼스9999 애플워치 케이스 se 40 mm 호환 풀커버 강화 유리 필름 케이스',\n",
       " '어버이날 용돈박스 돈케이크 부모님 용돈 이벤트 돈뽑는 현금 환갑 생신',\n",
       " '어버이날 용돈박스 돈케이크 부모님 용돈 이벤트 돈뽑는 현금 환갑 생신',\n",
       " '어버이날 용돈박스 돈케이크 부모님 용돈 이벤트 돈뽑는 현금 환갑 생신',\n",
       " '어버이날 용돈박스 돈케이크 부모님 용돈 이벤트 돈뽑는 현금 환갑 생신',\n",
       " '볼비 두유 그릭요거트 500g 비건 요거트',\n",
       " '전용 오덕 1 세트',\n",
       " '방염포 중형 1.2 m',\n",
       " '우주캠핑 우드스토브 28 대형 불멍 이중연소 화로대 로켓 이지 스토브 25 26',\n",
       " '패티코트 / 한복속치마 / 페티코트 / 패치코트 / 패치',\n",
       " '패티코트 / 한복속치마 / 페티코트 / 패치코트 / 패치',\n",
       " '에어쿠션지/네오플렌] 말랑카우 15종(160851)',\n",
       " '에어쿠션지/네오플렌] 말랑카우 15종(160851)',\n",
       " '[ 비회원_OP16368998817 ] 1636980965',\n",
       " '[ 비회원_OP16368998817 ] 1636983921',\n",
       " '[ 비회원_OP16368998817 ] 1636986398',\n",
       " '[ 비회원_OP16368998817 ] 1636986932',\n",
       " '패브릭포터리 라떼잔 포터리수입 찻잔',\n",
       " '패브릭포터리 라떼잔 포터리수입 찻잔',\n",
       " '리베르 디퓨저 100ml',\n",
       " '3mm, 5mm 공단테이프(비접착 라인테이프)',\n",
       " '3mm, 5mm 공단테이프(비접착 라인테이프)',\n",
       " '접착 라인테이프 1mm 1.5mm 2mm 2.5mm 3mm',\n",
       " '초크 페이퍼(양면 먹지)',\n",
       " '일제 실크핀',\n",
       " '①나무원발판 나무색',\n",
       " '의상디자인 돼지표 논노 바디 가봉용 마네킹 봉제 드래스폼',\n",
       " '1460 파스칼',\n",
       " '폴로 랄프로렌 시그니처 메리노울 비니 6종',\n",
       " '트라운 블루라이트 차단 안경 여자 남자 시력보호 가벼운',\n",
       " '스넨 노르딕 니트베스트',\n",
       " '엘리트 슬리미 데미지 스키니데님']"
      ]
     },
     "execution_count": 158,
     "metadata": {},
     "output_type": "execute_result"
    }
   ],
   "source": [
    "e = driver.find_elements(By.CSS_SELECTOR, 'div > a > p')\n",
    "[item.text for item in e]"
   ]
  },
  {
   "cell_type": "markdown",
   "id": "d9fcb013-54db-4970-b203-7885791128d1",
   "metadata": {},
   "source": [
    "#### **Crawling할 때 사용하는 라이브러리들**\n",
    "- urllib.request\n",
    "- requests\n",
    "\n",
    "- BeautifulSoup\n",
    "\n",
    "- selenium"
   ]
  },
  {
   "cell_type": "markdown",
   "id": "23e1d8fc-19a5-4502-bcbf-c6cf6765e41e",
   "metadata": {},
   "source": [
    "### 한빛출판 웹사이트에서 마일리지 금액과 이코인 금액 가져오기"
   ]
  },
  {
   "cell_type": "code",
   "execution_count": 160,
   "id": "f39d6b2c-c24b-4c9b-8251-9fd680f21428",
   "metadata": {},
   "outputs": [],
   "source": [
    "import requests\n",
    "from bs4 import BeautifulSoup"
   ]
  },
  {
   "cell_type": "code",
   "execution_count": 161,
   "id": "97514331-7f66-4fc2-8ea4-548f06044afd",
   "metadata": {},
   "outputs": [],
   "source": [
    "session = requests.session()"
   ]
  },
  {
   "cell_type": "code",
   "execution_count": 211,
   "id": "4b82ce7f-e51e-4a0f-908f-41dd475c3c63",
   "metadata": {},
   "outputs": [
    {
     "data": {
      "text/plain": [
       "<Response [200]>"
      ]
     },
     "execution_count": 211,
     "metadata": {},
     "output_type": "execute_result"
    }
   ],
   "source": [
    "## 아이디와 패스워드를 입력하는 사이트에서 직접 비교를 하고 로그인이 되는 것이 아니라\n",
    "## 아이디와 패스워드를 입력하면 다른 url로 가서 기존 회원 정보와 비교한 뒤 로그인이 됨\n",
    "## 비교하는 url로 가도록 해야 함\n",
    "## Soup로는 enter를 할 수 있는 방법이 없음\n",
    "## session 정보는 서버 쪽에 저장되어 있음\n",
    "## 내 컴퓨터에 저장되어 있는 정보는 cookie임\n",
    "\n",
    "url = 'https://www.hanbit.co.kr/member/login_proc.php'\n",
    "session.post(url, {'m_id' : 'deu05077', 'm_passwd' : 'jang@05027'})"
   ]
  },
  {
   "cell_type": "code",
   "execution_count": 166,
   "id": "1464d13b-568c-435f-b449-30c71464adf6",
   "metadata": {},
   "outputs": [
    {
     "data": {
      "text/plain": [
       "<bound method Response.raise_for_status of <Response [200]>>"
      ]
     },
     "execution_count": 166,
     "metadata": {},
     "output_type": "execute_result"
    }
   ],
   "source": [
    "resp = session.get('https://www.hanbit.co.kr/myhanbit/myhanbit.html')\n",
    "resp.raise_for_status"
   ]
  },
  {
   "cell_type": "markdown",
   "id": "6dc2fad6-e597-4ee1-a4ea-3526a28a4686",
   "metadata": {},
   "source": [
    "- raise_for_status()는 요청/응답 코드가 200이 아니면 예외를 발생시킵니다.\n",
    "- 만약 Response에서 에러가 있을 경우 프로그램을 중단하도록 할 때는 Response 객체의 raise_for_status() 메서드를 호출할 수 있다."
   ]
  },
  {
   "cell_type": "code",
   "execution_count": 171,
   "id": "9b6e6aba-dad1-47eb-a136-a5837b4d7664",
   "metadata": {
    "collapsed": true,
    "jupyter": {
     "outputs_hidden": true
    },
    "tags": []
   },
   "outputs": [
    {
     "data": {
      "text/plain": [
       "'<!DOCTYPE html>\\r\\n<html lang=\"ko\">\\r\\n<head>\\r\\n<!--[if lte IE 8]>\\r\\n<script>\\r\\n  location.replace(\\'/support/explorer_upgrade.html\\');\\r\\n</script>\\r\\n<![endif]-->\\r\\n<meta charset=\"utf-8\"/>\\r\\n<title>한빛출판네트워크</title>\\r\\n<link rel=\"shortcut icon\" href=\"https://www.hanbit.co.kr/images/common/hanbit.ico\"> \\r\\n<meta http-equiv=\"X-UA-Compatible\" content=\"IE=Edge\" />\\r\\n<meta property=\"og:type\" content=\"website\"/>\\r\\n<meta property=\"og:title\" content=\"한빛출판네트워크\"/>\\r\\n<meta property=\"og:description\" content=\"더 넓은 세상, 더 나은 미래를 위한 아시아 출판 네트워크 :: 한빛미디어, 한빛아카데미, 한빛비즈, 한빛라이프, 한빛에듀\"/>\\r\\n<meta property=\"og:image\" content=\"https://www.hanbit.co.kr/images/hanbitpubnet_logo.jpg\" />\\r\\n<meta property=\"og:url\" content=\"https://www.hanbit.co.kr/myhanbit/myhanbit.html\"/>\\r\\n<link rel=\"canonical\" href=\"https://www.hanbit.co.kr/myhanbit/myhanbit.html\" />\\r\\n<meta name=\"keywords\" content=\"한빛미디어,한빛아카데미,한빛비즈,한빛라이프,한빛에듀,리얼타임,대관서비스,책,출판사,IT전문서,IT활용서,대학교재,경제경영,어린이/유아,실용/여행,전자책,자격증,교육,세미나,강의,ebook,정보교과서\" />\\r\\n<meta name=\"description\" content=\"더 넓은 세상, 더 나은 미래를 위한 아시아 출판 네트워크 :: 한빛미디어, 한빛아카데미, 한빛비즈, 한빛라이프, 한빛에듀\" />\\r\\n<meta name=\"viewport\" content=\"width=device-width,initial-scale=1.0,minimum-scale=1.0,maximum-scale=1.0\">\\r\\n<meta name=\"viewport\" content=\"width=1260\">\\r\\n<meta name=\"apple-mobile-web-app-capable\" content=\"yes\" />\\r\\n<meta name=\"naver-site-verification\" content=\"01c29ed1852aecca7a48ac0c3e0869627bc512d8\"/>\\r\\n<link rel=\"stylesheet\" href=\"/css/common.css?20210603093421\" />\\r\\n<link href=\"/css/hover.css\" rel=\"stylesheet\" media=\"all\">\\r\\n<link rel=\"stylesheet\" href=\"/js/jquery.raty.css\" />\\r\\n<script type=\"text/javascript\" src=\"/js/jquery-latest.js\"></script>\\r\\n<script type=\"text/javascript\" src=\"/js/jquery-ui.js\"></script>\\r\\n<script type=\"text/javascript\" src=\"/js/jquery.event.drag-1.5.min.js\"></script>\\r\\n<script type=\"text/javascript\" src=\"/js/jquery.touchSlider.js\"></script>\\r\\n<script type=\"text/javascript\" src=\"/js/jquery.raty.js\"></script>\\r\\n<script type=\"text/javascript\" src=\"/js/main.js\"></script>\\r\\n<script type=\"text/javascript\" src=\"/lib/cheditor/cheditor.js\"></script>\\r\\n<script type=\"text/javascript\" src=\"/js/jquery.ui.datepicker-ko.js\"></script>\\r\\n<script type=\"text/javascript\" src=\"/js/engine.js\"></script>\\r\\n<script type=\"text/javascript\" src=\"/js/vue.js\"></script>\\r\\n\\r\\n<!-- Google Analytics -->\\r\\n<script>\\r\\n(function(i,s,o,g,r,a,m){i[\\'GoogleAnalyticsObject\\']=r;i[r]=i[r]||function(){\\r\\n(i[r].q=i[r].q||[]).push(arguments)},i[r].l=1*new Date();a=s.createElement(o),\\r\\nm=s.getElementsByTagName(o)[0];a.async=1;a.src=g;m.parentNode.insertBefore(a,m)\\r\\n})(window,document,\\'script\\',\\'//www.google-analytics.com/analytics.js\\',\\'ga\\');\\r\\nga(\\'create\\', \\'UA-47080738-1\\', \\'hanbit.co.kr\\');\\r\\nga(\\'require\\', \\'linkid\\', \\'linkid.js\\');\\r\\nga(\\'send\\', \\'pageview\\');\\r\\n</script>\\r\\n<!-- Google Analytics -->\\r\\n\\r\\n<!-- Facebook Pixel Code -->\\r\\n<script>\\r\\n  !function(f,b,e,v,n,t,s)\\r\\n  {if(f.fbq)return;n=f.fbq=function(){n.callMethod?\\r\\n  n.callMethod.apply(n,arguments):n.queue.push(arguments)};\\r\\n  if(!f._fbq)f._fbq=n;n.push=n;n.loaded=!0;n.version=\\'2.0\\';\\r\\n  n.queue=[];t=b.createElement(e);t.async=!0;\\r\\n  t.src=v;s=b.getElementsByTagName(e)[0];\\r\\n  s.parentNode.insertBefore(t,s)}(window, document,\\'script\\',\\r\\n  \\'https://connect.facebook.net/en_US/fbevents.js\\');\\r\\n  fbq(\\'init\\', \\'406459623338891\\');\\r\\n  fbq(\\'track\\', \\'PageView\\');\\r\\n</script>\\r\\n<noscript><img height=\"1\" width=\"1\" style=\"display:none\"\\r\\n  src=\"https://www.facebook.com/tr?id=406459623338891&ev=PageView&noscript=1\"\\r\\n/></noscript>\\r\\n<!-- End Facebook Pixel Code -->\\r\\n\\r\\n<!-- Google Tag Manager -->\\r\\n<script>(function(w,d,s,l,i){w[l]=w[l]||[];w[l].push({\\'gtm.start\\':\\r\\nnew Date().getTime(),event:\\'gtm.js\\'});var f=d.getElementsByTagName(s)[0],\\r\\nj=d.createElement(s),dl=l!=\\'dataLayer\\'?\\'&l=\\'+l:\\'\\';j.async=true;j.src=\\r\\n\\'https://www.googletagmanager.com/gtm.js?id=\\'+i+dl;f.parentNode.insertBefore(j,f);\\r\\n})(window,document,\\'script\\',\\'dataLayer\\',\\'GTM-W9D5PM3\\');</script>\\r\\n<!-- End Google Tag Manager -->\\r\\n\\r\\n<!-- Kakao Pixel Code -->\\r\\n<script type=\"text/javascript\" charset=\"UTF-8\" src=\"//t1.daumcdn.net/adfit/static/kp.js\"></script>\\r\\n<script type=\"text/javascript\">\\r\\n  kakaoPixel(\\'3011392806152551233\\').pageView();\\r\\n</script>\\r\\n<!-- //Kakao Pixel Code -->\\r\\n</head>\\r\\n<body>\\r\\n<!-- Google Tag Manager (noscript) -->\\r\\n<noscript><iframe src=\"https://www.googletagmanager.com/ns.html?id=GTM-W9D5PM3\"\\r\\nheight=\"0\" width=\"0\" style=\"display:none;visibility:hidden\"></iframe></noscript>\\r\\n<!-- End Google Tag Manager (noscript) -->\\r\\n<link rel=\"stylesheet\" href=\"/css/layout-hanbit.css?202206030909\" />\\r\\n<link rel=\"stylesheet\" href=\"/css/layout-member.css\" />\\r\\n<link rel=\"stylesheet\" href=\"/css/layout-network.css\" />\\r\\n<link rel=\"stylesheet\" href=\"/css/layout-store.css\" />\\r\\n<link rel=\"stylesheet\" href=\"/css/layout-myhanbit.css\" />\\r\\n<link rel=\"stylesheet\" href=\"/css/layout-event.css\" />\\r\\n<!-- 메뉴 바로가기 -->\\r\\n<div id=\"quick_skip_menu\">\\r\\n  <a href=\"#gnb\" onclick=\"document.getElementById(\\'gnb\\').tabIndex = -1;document.getElementById(\\'gnb\\').focus();return false;\"><span>메뉴 바로가기</span></a>\\r\\n  <a href=\"#top_search\" onclick=\"view_hover(\\'main_search_area\\',\\'\\',\\'show\\'), document.getElementById(\\'top_search\\').tabIndex = -1;document.getElementById(\\'top_search\\').focus();return false;\"><span>검색 및 카테고리 바로가기</span></a>\\r\\n    <a href=\"#container\" onclick=\"document.getElementById(\\'container\\').tabIndex = -1;document.getElementById(\\'container\\').focus();return false;\"><span>본문 바로가기</span></a>\\r\\n  </div>\\r\\n<!-- //메뉴 바로가기 -->\\r\\n\\r\\n<!-- header -->\\r\\n<header>\\r\\n  <!-- top menu -->\\r\\n    <nav>\\r\\n    <div id=\"wrap_nav\">\\r\\n      <ul class=\"top_brand\">\\r\\n        <li><a href=\"https://www.hanbit.co.kr/index.html\" name=\"hanbit_network\"><span>HOME</span></a></li>\\r\\n        <li><a href=\"https://www.hanbit.co.kr/media/\">한빛미디어</a></li>\\r\\n        <li><a href=\"https://www.hanbit.co.kr/academy/\">한빛아카데미</a></li>\\r\\n        <li><a href=\"https://www.hanbit.co.kr/biz/\">한빛비즈</a></li>\\r\\n        <li><a href=\"https://www.hanbit.co.kr/life/\">한빛라이프</a></li>\\r\\n        <li><a href=\"https://www.hanbit.co.kr/edu/\">한빛에듀</a></li>\\r\\n        <li><a href=\"https://www.hanbit.co.kr/realtime/\">리얼타임</a></li>\\r\\n        <li><a href=\"https://www.hanbit.co.kr/textbook/\" target=\"_blank\">한빛정보교과서</a></li>\\r\\n        <li><a href=\"https://www.hanbit.co.kr/rent/\" target=\"_blank\">한빛대관서비스</a></li>\\r\\n      </ul>\\r\\n      \\r\\n      <ul class=\"top_menu\">\\r\\n                      <li><a href=\"https://www.hanbit.co.kr/member/logout.html\" class=\"logout\">로그아웃</a></li>\\r\\n                <li><a href=\"https://www.hanbit.co.kr/member/member_register.html\" class=\"edit\">개인정보수정</a></li>\\r\\n        <li><a href=\"https://www.hanbit.co.kr/myhanbit/myhanbit.html\" class=\"myhanbit\">마이한빛</a></li>\\r\\n        <li><a href=\"https://www.hanbit.co.kr/myhanbit/cart.html\" class=\"cart\">장바구니</a></li>\\r\\n                <li class=\"top_menu_store\"><a href=\"https://www.hanbit.co.kr/publisher/foreignrights.html?lang=e\" target=\"_blank\">ENGLISH</a></li>\\r\\n      </ul>\\r\\n    </div>\\r\\n  </nav>\\r\\n  <!-- //top menu -->\\r\\n\\r\\n  <div id=\"wrap_gnb\">\\r\\n    <!-- logo -->\\r\\n    <h1><a href=\"https://www.hanbit.co.kr/index.html\">한빛출판네트워크</a></h1>\\r\\n    <!-- //logo -->\\r\\n\\r\\n    <!-- Menu -->\\r\\n    <div id=\"gnb\" name=\"gnb\">\\r\\n      <ul>\\r\\n        <li><a href=\"https://www.hanbit.co.kr/brand/brand_submain.html\" class=\"\">BRAND</a></li>\\r\\n        <li><a href=\"https://www.hanbit.co.kr/channel/channel_submain.html\" class=\"\">Channel.H</a></li>\\r\\n        <li><a href=\"https://www.hanbit.co.kr/store/store_submain.html\" class=\"\">STORE</a></li>\\r\\n        <li><a href=\"https://www.hanbit.co.kr/support/help_info.html\" class=\"\">SUPPORT</a></li>\\r\\n        <li><a href=\"https://www.hanbit.co.kr/event/current/current_event_list.html\" class=\"\">EVENT</a></li>\\r\\n        \\r\\n        <li><a href=\"https://www.hanbit.co.kr/publisher/foreignrights.html?lang=e\" class=\"\" target=\"_blank\">RIGHTS</a></li>\\r\\n        \\r\\n        <li id=\"top_search\" class=\"search\"><a href=\"javascript:;\" onClick=\"view_hover(\\'main_search_area\\',\\'\\',\\'show\\'); $(\\'#keyword_str\\').focus();\"><span>SEARCH</span></a></li>\\r\\n      </ul>\\r\\n    </div>\\r\\n    <!-- //Menu -->\\r\\n    \\r\\n    <!-- lnb -->\\r\\n    <div class=\"lnb\" style=\"top:92px;\">\\r\\n      <div class=\"lnb_area\">\\r\\n      <!-- BRAND -->\\r\\n             <!--2015-10-07 비회원 장바구니 기능 추가되면서 회원 로그인시에만 보여짐 by 이용희-->\\r\\n      <ul class=\"lnb_depth1_my1\">\\r\\n        <li><a href=\"https://www.hanbit.co.kr/myhanbit/membership.html\" class=\"\">한빛멤버십</a></li><span>l</span>\\r\\n        <li><a href=\"https://www.hanbit.co.kr/myhanbit/mileage_ecoin.html\" class=\"\">마일리지 / 한빛이코인</a></li>\\r\\n      </ul>\\r\\n      <ul class=\"lnb_depth1_my2\">\\r\\n        <li><a href=\"https://www.hanbit.co.kr/myhanbit/wishlist.html\" class=\"\">위시리스트</a></li><span>l</span>\\r\\n        <li><a href=\"https://www.hanbit.co.kr/myhanbit/cart.html\" class=\"\">장바구니</a></li><span>l</span>\\r\\n        <li><a href=\"https://www.hanbit.co.kr/myhanbit/order_history_list.html\" class=\"\">주문목록</a></li><span>l</span>\\r\\n        <li><a href=\"https://www.hanbit.co.kr/myhanbit/coupon.html\" class=\"\">My 쿠폰</a></li>\\r\\n      </ul>\\r\\n      <ul class=\"lnb_depth1_my3\">\\r\\n        <li><a href=\"https://www.hanbit.co.kr/myhanbit/purchase_books.html\" class=\"\">My Book</a></li>\\r\\n        <span>l</span>\\r\\n        <li><a href=\"https://www.hanbit.co.kr/myhanbit/my_ebook_list.html\" class=\"\">My eBook</a></li>\\r\\n        <span>l</span>\\r\\n        <li><a href=\"https://www.hanbit.co.kr/myhanbit/my_class_list.html\" class=\"\">My 강의</a></li>\\r\\n        \\r\\n                \\r\\n      </ul>\\r\\n                  </div>\\r\\n    </div>\\r\\n    <!--// lnb -->\\r\\n  </div>\\r\\n</header>\\r\\n<!-- //header -->\\r\\n\\r\\n<!-- 메인 검색 및 카테고리 영역 -->\\r\\n<div id=\"main_search_area\" class=\"fixed\" style=\"display:none;\">\\n  <div class=\"msa_wrap\">\\n\\n    <!-- 검색 -->\\n    <div class=\"msa_srch_wrap\">\\n      <form onsubmit=\"return false;\">\\n      <fieldset class=\"msa_srch_field\">\\n        <legend>한빛출판네트워크 검색</legend>\\n        <input title=\"검색어\" autocomplete=\"off\" class=\"srch_keyword\" accesskey=\"s\" type=\"text\" name=\"keyword_str\" id=\"keyword_str\" v-model=\"keyword\" @input=\"typeKeyword\">\\n        <input type=\"submit\" class=\"srch_btn\" style=\"cursor:pointer;\" @click=\"clickSearch\">\\n      </fieldset>\\n      </form>\\n    </div>\\n    <!-- //검색 -->\\n\\n    <!-- ① 인기검색어 -->\\n    <div class=\"msa_srch_polular\" v-if=\"showPopularKeyword === true\">\\n      <h2 class=\"tit\">인기 검색어 <span>(최근 1개월간)</span></h2>\\n        <div class=\"popula_box\">\\n          <ul class=\"left\">\\n            <li v-for=\"keyword in leftPopularKeywordList\">\\n              <a :class=\"keyword.bold\" @click=\"clickPopularKeyword(keyword)\">\\n                  {{ keyword.number }} {{ keyword.bookName }}\\n              </a>\\n            </li>\\n          </ul>\\n          <ul class=\"right\">\\n            <li v-for=\"keyword in rightPopularKeywordList\">\\n              <a :class=\"keyword.bold\" @click=\"clickPopularKeyword(keyword)\">\\n                  {{ keyword.number }} {{ keyword.bookName }}\\n              </a>\\n            </li>\\n          </ul>\\n        </div>\\n    </div>\\n    <!-- ① 인기검색어 -->\\n\\n    <!-- ② 검색결과/검색서제스쳔 -->\\n    <div class=\"msa_srch_suggestion\" v-if=\"showPopularKeyword === false\">\\n      <div class=\"sugg_left\" v-if=\"bookList.length !== 0\">\\n        <h3 class=\"tit\">BOOK</h3>\\n        <ul class=\"books_list\">\\n          <li v-for=\"book in bookList\" @mouseover=\"mouseOverBook(book.id)\"><a @click=\"clickBookKeyword(book)\"><p v-html=\"book.name\"></p></a></li>\\n        </ul>\\n      </div>\\n\\n      <div class=\"sugg_right\">\\n        <div class=\"sugg_book\" v-if=\"bookList.length !== 0\">\\n          <table class=\"sugg_book_detail\">\\n            <tr>\\n              <td class=\"cover\">\\n                <a @click=\"clickBookKeyword(bookSummary)\">\\n                  <img :src=\"bookSummary.imgUrl\" class=\"b_cover\">\\n                </a>\\n              </td>\\n              <td class=\"draft\">\\n                <a @click=\"clickBookKeyword(bookSummary)\" class=\"b_title\"><strong v-html=\"bookSummary.originName\"></strong></a>\\n                <p class=\"b_int\">\\n                {{ bookSummary.author }} 지음<br />\\n                {{ bookSummary.publishingCompany }} | {{ bookSummary.date }}\\n                </p>\\n                <p class=\"b_type\">\\n                <span>{{ bookSummary.bookType }}</span>\\n                </p>\\n              </td>\\n            </tr>\\n          </table>\\n        </div>\\n\\n        <!--\\n        <div class=\"sugg_edu\" v-if=\"educationList.length !== 0\">\\n          <h3 class=\"tit\">EDUCATION</h3>\\n          <ul class=\"edu_list\">\\n            <li v-for=\"education in educationList\">&#149; <a @click=\"clickEducationKeyword(education)\"><span v-html=\"education.title\"></span></a></li>\\n          </ul>\\n        </div>\\n        -->\\n        \\n        <div class=\"sugg_cont\" v-if=\"contentList.length !== 0\">\\n          <h3 class=\"tit\">CONTENTS</h3>\\n          <ul class=\"cont_list\">\\n            <li v-for=\"content in contentList\">&#149; <a @click=\"clickContentKeyword(content)\"><span v-html=\"content.title\"></span></a></li>\\n          </ul>\\n        </div>\\n      </div>\\n    </div>\\n    <!-- //② 검색결과/검색서제스쳔 -->\\n\\n  <!-- 닫기 -->\\n  <div class=\"msa_wrap_close\">\\n    <a href=\"javascript:;\" onclick=\"view_hover(\\'main_search_area\\',\\'\\',\\'hide\\')\">닫기</a>\\n  </div>\\n  <!-- //닫기 -->\\n\\n  </div>\\n</div>\\n\\n<script type=\"text/javascript\">\\n    \"use strict\";\\n\\n    var common_top_search_vue = new Vue({\\n        el: \\'#main_search_area\\',\\n        data: {\\n            //검색엔진 URL\\n            searchProxyURL: \"https://search.hanbit.co.kr\",\\n            //인기 검색어 show 여부\\n            showPopularKeyword: true,\\n            //사용자 검색 키워드\\n            keyword: \\'\\',\\n            //인기 검색어 리스트\\n            popularKeywordList: [],\\n            // 인기 검색어 리스트 (왼쪽)\\n            leftPopularKeywordList: [],\\n            // 인기 검색어 리스트 (오른쪽)\\n            rightPopularKeywordList: [],\\n            // 자동완성에서의 책 리스트\\n            bookList: [],\\n            // 자동완성에서의 책 정보\\n            bookSummary: {\\n                \\'imgUrl\\': \\'\\',\\n                \\'link\\': \\'\\',\\n                \\'name\\': \\'\\',\\n                \\'author\\': \\'\\',\\n                \\'publishingCompany\\': \\'\\',\\n                \\'date\\': \\'\\',\\n                \\'bookType\\': \\'\\'\\n            },\\n            //에듀케이션 리스트\\n            educationList: [],\\n            //컨텐츠 리스트\\n            contentList: []\\n        },\\n        created: function created() {\\n            // 인기 검색어 조회\\n            this.getPopularKeyword();\\n        },\\n        methods: {\\n            /**\\n             * 사용자가 검색 키워드를 입력할때 발생하는 이벤트\\n             */\\n            typeKeyword: function typeKeyword() {\\n                var self = this;\\n                var keyword = $(\"#keyword_str\").val();\\n\\n                if (keyword.length !== 0) {\\n                    //자동완성어\\n                    this.findAutocompleteResult(keyword);\\n                } else {\\n                    //인기검색어\\n                    self.showPopularKeyword = true;\\n                }\\n            },\\n\\n            /**\\n             * 인기검색어 조회\\n             */\\n            getPopularKeyword: function getPopularKeyword() {\\n                var self = this;\\n                this.popularKeywordList = [];\\n                $.get(this.searchProxyURL + \"/querylog/popularKeyword\").done(function (data) {\\n                    if (data != null) {\\n                        self.drawPopularKeyword(data);\\n                    }\\n                });\\n            },\\n\\n            /**\\n             * 인기 검색어 그리기\\n             */\\n            drawPopularKeyword: function drawPopularKeyword(popularBooks) {\\n                var self = this;\\n                popularBooks.forEach(function (item) {\\n                    var popularBook = {\\n                        bookName: item.keyword\\n                    };\\n                    self.popularKeywordList.push(popularBook);\\n                });\\n                var number = 0;\\n\\n                for (var _iterator = this.popularKeywordList, _isArray = Array.isArray(_iterator), _i = 0, _iterator = _isArray ? _iterator : _iterator[Symbol.iterator]();;) {\\n                    var _ref;\\n\\n                    if (_isArray) {\\n                        if (_i >= _iterator.length) break;\\n                        _ref = _iterator[_i++];\\n                    } else {\\n                        _i = _iterator.next();\\n                        if (_i.done) break;\\n                        _ref = _i.value;\\n                    }\\n\\n                    var keyword = _ref;\\n                    number = number + 1;\\n                    keyword.number = number.toString().length < 2 ? \"0\" + number : number;\\n\\n                    if (number > 5) {\\n                        keyword.direction = \"right\";\\n                        self.rightPopularKeywordList.push(keyword);\\n                    } else {\\n                        keyword.direction = \"left\";\\n\\n                        if (number < 4) {\\n                            keyword.bold = \\'active\\';\\n                        }\\n\\n                        self.leftPopularKeywordList.push(keyword);\\n                    }\\n                }\\n            },\\n\\n            /**\\n             * 자동완성 검색 결과\\n             */\\n            findAutocompleteResult: function findAutocompleteResult(keyword) {\\n                var self = this;\\n                var param = {\\n                    q: keyword,\\n                    types: \"education,book,contents\",\\n                    fq: keyword\\n                };\\n                $.post(this.searchProxyURL + \"/autocomplete/search\", param).done(function (data) {\\n                    if (data != null) {\\n                        var bookResult = data.booksResults;\\n                        self.changeBookList(keyword, bookResult);\\n                        var contentResult = data.contentsResults;\\n                        self.changeContentList(keyword, contentResult);\\n                        var educationResult = data.educationResults;\\n                        self.changeEducationList(keyword, educationResult);\\n                    }\\n                });\\n                this.showPopularKeyword = false;\\n            },\\n\\n            /**\\n             * 자동완성어에서 BOOK 부분에서 마우스를 올렸을 시에 발생하는 이벤트\\n             * @param bookId\\n             */\\n            mouseOverBook: function mouseOverBook(bookId) {\\n                var currentBook = this.bookList.filter(function (book) {\\n                    return book.id === bookId;\\n                });\\n                this.changeBookSummary(currentBook[0]);\\n            },\\n\\n            /**\\n             * 책 소개 변경\\n             * @param book\\n             */\\n            changeBookSummary: function changeBookSummary(book) {\\n                if (book !== {}) {\\n                    this.bookSummary.name = book.name;\\n                    this.bookSummary.originName = book.originName;\\n                    this.bookSummary.author = book.author;\\n                    this.bookSummary.bookType = book.bookType;\\n                    this.bookSummary.imgUrl = book.imgUrl;\\n                    this.bookSummary.link = book.link;\\n                    this.bookSummary.publishingCompany = book.publishingCompany;\\n                    this.bookSummary.date = book.date;\\n                    this.bookSummary.bookType = book.bookType;\\n                }\\n            },\\n\\n            /**\\n             * BOOK 리스트 변경\\n             */\\n            changeBookList: function changeBookList(keyword, bookResultList) {\\n                var self = this;\\n                self.bookList = [];\\n                var index = 0;\\n\\n                if (bookResultList != null) {\\n                    for (var _iterator2 = bookResultList, _isArray2 = Array.isArray(_iterator2), _i2 = 0, _iterator2 = _isArray2 ? _iterator2 : _iterator2[Symbol.iterator]();;) {\\n                        var _ref2;\\n\\n                        if (_isArray2) {\\n                            if (_i2 >= _iterator2.length) break;\\n                            _ref2 = _iterator2[_i2++];\\n                        } else {\\n                            _i2 = _iterator2.next();\\n                            if (_i2.done) break;\\n                            _ref2 = _i2.value;\\n                        }\\n\\n                        var result = _ref2;\\n\\n                        if (index < 10) {\\n                            var book = {};\\n                            book.id = result.code;\\n                            book.originName = result.title;\\n                            book.name = JSON.parse(JSON.stringify(self.replaceHighlightWord(result.title, keyword)));\\n                            book.link = result.code;\\n                            book.imgUrl = self.getBookImageURL(result.code);\\n                            book.author = result.author;\\n                            book.publishingCompany = result.brand;\\n                            book.date = result.pubDate;\\n                            book.bookType = result.bookType;\\n                            self.bookList.push(book); //책 미리보기 변경\\n\\n                            self.changeBookSummary(self.bookList[0]);\\n                        }\\n                    }\\n                } else {\\n                    self.initBookSummary();\\n                }\\n            },\\n\\n            /**\\n             * 책 이미지 주소 가져오기\\n             */\\n            getBookImageURL: function getBookImageURL(bookCode) {\\n                var imgURL;\\n\\n                if (bookCode.substr(0, 1) === \"E\") {\\n                    imgURL = \\'/data/ebook/\\' + bookCode + \\'_m.jpg\\';\\n                } else {\\n                    imgURL = \\'/data/books/\\' + bookCode + \"_m.jpg\";\\n                }\\n\\n                return imgURL;\\n            },\\n\\n            /**\\n             * 검색 결과가 없을 경우 책 미리보기 초기화\\n             */\\n            initBookSummary: function initBookSummary() {\\n                this.bookSummary = {\\n                    \\'imgUrl\\': \\'\\',\\n                    \\'link\\': \\'\\',\\n                    \\'name\\': \\'\\',\\n                    \\'author\\': \\'\\',\\n                    \\'publishingCompany\\': \\'\\',\\n                    \\'date\\': \\'\\',\\n                    \\'bookType\\': \\'\\'\\n                };\\n            },\\n\\n            /**\\n             * education 리스트 변경\\n             */\\n            changeEducationList: function changeEducationList(keyword, educationResultList) {\\n                var self = this;\\n                self.educationList = [];\\n                var index = 0;\\n\\n                if (educationResultList != null) {\\n                    for (var _iterator3 = educationResultList, _isArray3 = Array.isArray(_iterator3), _i3 = 0, _iterator3 = _isArray3 ? _iterator3 : _iterator3[Symbol.iterator]();;) {\\n                        var _ref3;\\n\\n                        if (_isArray3) {\\n                            if (_i3 >= _iterator3.length) break;\\n                            _ref3 = _iterator3[_i3++];\\n                        } else {\\n                            _i3 = _iterator3.next();\\n                            if (_i3.done) break;\\n                            _ref3 = _i3.value;\\n                        }\\n\\n                        var result = _ref3;\\n\\n                        if (index < 3) {\\n                            var content = {};\\n                            content.title = JSON.parse(JSON.stringify(self.replaceHighlightWord(result.title, keyword)));\\n                            content.link = result.code;\\n                            self.educationList.push(content);\\n                            index = index + 1;\\n                        }\\n                    }\\n                }\\n            },\\n\\n            /**\\n             * contents 리스트 변경\\n             */\\n            changeContentList: function changeContentList(keyword, contentResult) {\\n                var self = this;\\n                self.contentList = [];\\n                var index = 0;\\n\\n                if (contentResult != null) {\\n                    for (var _iterator4 = contentResult, _isArray4 = Array.isArray(_iterator4), _i4 = 0, _iterator4 = _isArray4 ? _iterator4 : _iterator4[Symbol.iterator]();;) {\\n                        var _ref4;\\n\\n                        if (_isArray4) {\\n                            if (_i4 >= _iterator4.length) break;\\n                            _ref4 = _iterator4[_i4++];\\n                        } else {\\n                            _i4 = _iterator4.next();\\n                            if (_i4.done) break;\\n                            _ref4 = _i4.value;\\n                        }\\n\\n                        var result = _ref4;\\n\\n                        if (index < 7) {\\n                            var content = {};\\n                            content.title = JSON.parse(JSON.stringify(self.replaceHighlightWord(result.title, keyword)));\\n                            content.link = result.code;\\n                            self.contentList.push(content);\\n                            index = index + 1;\\n                        }\\n                    }\\n                }\\n            },\\n\\n            /**\\n             * 하이라이트 표시\\n             */\\n            replaceHighlightWord: function replaceHighlightWord(str, highlightKeyword) {\\n                var replaceHighlightKeyword = highlightKeyword.replace(/[^a-z0-9가-힣_ ]/gi, \\'\\');\\n                var regEx = new RegExp(replaceHighlightKeyword, \"gi\");\\n                str = str.replace(regEx, function (a) {\\n                    return \\'<span class=\"keysel\">\\' + a + \\'</span>\\';\\n                });\\n                return str;\\n            },\\n\\n            /**\\n             * 검색 버튼 클릭 시\\n             * @param e\\n             */\\n            clickSearch: function clickSearch(e) {\\n                if (!this.keyword || this.keyword.length === 0) {\\n                    alert(\"검색어를 입력하세요\");\\n                    $(\"#keyword_str\").focus();\\n                    e.preventDefault();\\n                } else {\\n                    location.href = \"/search/search_list.html?keyword=\" + this.keyword;\\n                }\\n            },\\n\\n            /**\\n             * 인기 검색어 클릭시\\n             * @param book\\n             */\\n            clickPopularKeyword: function clickPopularKeyword(book) {\\n                var searchKeyword = book.bookName;\\n                location.href = \"/search/search_list.html?keyword=\" + searchKeyword;\\n            },\\n\\n            /**\\n             * 책 검색어 클릭시 책 상세로 이동\\n             * @param book\\n             */\\n            clickBookKeyword: function clickBookKeyword(book) {\\n                location.href = \"/store/books/look.php?p_code=\" + book.link;\\n            },\\n\\n            /**\\n             * 교육 클릭시 교육 상세로 이동\\n             * @param education\\n             */\\n            clickEducationKeyword: function clickEducationKeyword(education) {\\n                location.href = \"/store/education/edu_view.html?p_code=\" + education.link;\\n            },\\n\\n            /**\\n             * 컨텐츠 클릭시 컨텐츠 상세로 이동\\n             * @param contents\\n             */\\n            clickContentKeyword: function clickContentKeyword(content) {\\n                location.href = \"/channel/category/category_view.html?cms_code=\" + content.link;\\n            }\\n        }\\n    });\\n</script>\\n<!-- //메인 검색 및 카테고리 영역 -->\\r\\n\\r\\n\\r\\n<!-- Contents -->\\r\\n<div id=\"container\">\\r\\n\\r\\n\\t<div class=\"myhanbit_wrap\">\\r\\n\\t\\t<!-- 회원등급 -->\\r\\n\\t\\t<div class=\"sm_myinfo\">\\r\\n\\t\\t\\t<div class=\"my_rating\">\\r\\n\\t\\t\\t\\t<div class=\"icon\">\\r\\n\\t\\t\\t\\t\\t\\t\\t\\t\\t\\t\\r\\n\\t\\t\\t\\t\\t<img src=\"https://www.hanbit.co.kr/images/myhanbit/rating_icon1.png\" alt=\"\" />\\t\\r\\n\\t\\t\\t\\t</div>\\r\\n\\t\\t\\t\\t<p>(장유선)님의<br />회원 등급은 <span>일반</span> 입니다.</p>\\t\\t\\t\\t\\r\\n\\t\\t\\t</div>\\r\\n\\t\\t</div>\\r\\n\\t\\t<!-- //회원등급 -->\\r\\n\\t\\t\\r\\n\\t\\t<!-- 마일리지/이코인 -->\\r\\n\\t\\t<div class=\"sm_mymileage\">\\r\\n\\t\\t\\t<dl class=\"mileage_section1\">\\r\\n\\t\\t\\t\\t<dt>마일리지</dt>\\r\\n\\t\\t\\t\\t<dd><span>2,000</span> 점</dd>\\r\\n\\t\\t\\t</dl>\\r\\n\\t\\t\\t<dl class=\"mileage_section2\">\\r\\n\\t\\t\\t\\t<dt>한빛이코인</dt>\\r\\n\\t\\t\\t\\t<dd><span>0</span> 원</dd>\\r\\n\\t\\t\\t</dl>\\r\\n\\t\\t</div>\\r\\n\\t\\t<!-- //마일리지/이코인 -->\\r\\n\\t\\t\\r\\n\\t\\t<!-- 최근 구매이력 -->\\r\\n\\t\\t<div class=\"sm_myorder\">\\r\\n\\t\\t\\t<p class=\"tit\">최근 구매이력</p>\\r\\n\\t\\t\\t<table class=\"tbl_type_list\" border=\"0\" cellspacing=\"0\" summary=\"최근 3개월 활동 내역 테이블\">\\r\\n\\t\\t\\t\\t<caption>최근 3개월 활동 내역</caption>\\r\\n\\t\\t\\t\\t<colgroup>\\r\\n\\t\\t\\t\\t<col width=\"110px\">\\r\\n\\t\\t\\t\\t<col width=\"\">\\r\\n\\t\\t\\t\\t<col width=\"120px\">\\r\\n\\t\\t\\t\\t</colgroup>\\r\\n\\t\\t\\t\\t<thead>\\r\\n\\t\\t\\t\\t\\t<tr>\\r\\n\\t\\t\\t\\t\\t\\t<th scope=\"col\">주문일자</th>\\r\\n\\t\\t\\t\\t\\t\\t<th scope=\"col\">상품명</th>\\r\\n\\t\\t\\t\\t\\t\\t<th class=\"last\" scope=\"col\">주문금액</th>\\r\\n\\t\\t\\t\\t\\t</tr>\\r\\n\\t\\t\\t\\t</thead>\\r\\n\\t\\t\\t\\t<tbody>\\r\\n\\t\\t\\t\\t\\t\\t\\t\\t\\t\\t\\t\\t\\t\\t\\t\\r\\n\\t\\t\\t\\t</tbody>\\r\\n\\t\\t\\t</table>\\r\\n\\t\\t</div>\\r\\n\\t\\t<!-- //최근 구매이력 -->\\r\\n\\t\\t\\r\\n\\t\\t<!-- My Book -->\\r\\n\\t\\t<div class=\"submain_mypagae_foot smf_l\">\\r\\n\\t\\t\\t<p class=\"sm_tit\">My Book</p>\\t\\t\\t\\t\\t\\t\\r\\n\\t\\t\\t\\t\\t\\t\\r\\n\\t\\t\\t\\t<div class=\"smf_nodata\">리스트가 없습니다.</div>\\r\\n\\t\\t\\t\\t\\r\\n\\t\\t</div>\\r\\n\\t\\t<!-- //My Book -->\\r\\n\\t\\t\\r\\n\\t\\t<!-- My eBook -->\\r\\n\\t\\t<div class=\"submain_mypagae_foot smf_c\">\\r\\n\\t\\t\\t<p class=\"sm_tit\">My eBook</p>\\t\\t\\t\\r\\n\\t\\t\\t\\t\\t\\t\\r\\n\\t\\t\\t\\t<div class=\"smf_nodata\">리스트가 없습니다.</div>\\r\\n\\t\\t\\t\\t\\t</div>\\r\\n\\t\\t<!-- //My eBook -->\\r\\n\\t\\t\\r\\n\\t\\t<!-- My 강의 -->\\r\\n\\t\\t<div class=\"submain_mypagae_foot smf_r\">\\r\\n\\t\\t\\t<p class=\"sm_tit\">My 강의</p>\\r\\n\\t\\t\\t\\t\\t\\t\\r\\n\\t\\t\\t\\t<div class=\"smf_nodata\">리스트가 없습니다.</div>\\r\\n\\t\\t\\t\\t\\t\\t\\t\\r\\n\\t\\t</div>\\t\\t\\r\\n\\t\\t<!-- //My 강의 -->\\r\\n\\t</div>\\r\\n\\t\\r\\n</div>\\r\\n<!-- //Contents -->\\r\\n\\r\\n\\r\\n<!-- Footer -->\\r\\n<footer>\\r\\n  <!-- 공지사항 -->\\r\\n  <div class=\"foot_notice\" style=\"height:6px;\"></div>  <!-- //공지사항 -->\\r\\n  \\r\\n  <div class=\"foot_contents\">\\r\\n    <!-- 하단 메뉴 -->\\r\\n    <div class=\"foot_menu\">\\r\\n      <!-- added by coffin -->\\r\\n            <ul>\\r\\n        <li><a href=\"https://www.hanbit.co.kr/publisher/index.html\" target=\"_blank\">회사소개</a>(<a href=\"https://www.hanbit.co.kr/publisher/index.html\" target=\"_blank\">KOR</a> | <a href=\"https://www.hanbit.co.kr/publisher/index.html?lang=e\" target=\"_blank\">ENG</a>) &#149; <a href=\"https://www.hanbit.co.kr/publisher/contact.html?lang=k\" target=\"_blank\">약도</a></li>\\r\\n        <li><a href=\"https://www.hanbit.co.kr/publisher/write.html\" target=\"_blank\">기획 및 원고 모집</a></li>\\r\\n        <li><a href=\"https://www.hanbit.co.kr/publisher/career.html\" target=\"_blank\">채용</a> &#149; 입사지원 <a href=\"mailto:jobs@hanbit.co.kr\">jobs@hanbit.co.kr</a></li>\\r\\n        <li><a href=\"https://www.hanbit.co.kr/publisher/foreignrights.html\" target=\"_blank\">FOREIGN RIGHTS</a></li>\\r\\n        <li><a href=\"https://www.hanbit.co.kr/member/use_agreement.html\">이용약관</a> &#149; <a href=\"https://www.hanbit.co.kr/member/privacy_policy.html\"><strong>개인정보처리방침</strong></a></li>\\r\\n        <li><a href=\"https://www.hanbit.co.kr/sitemap/sitemap.html\">사이트맵</a></li>\\r\\n      </ul>\\r\\n          </div>\\r\\n    <!-- //하단 메뉴 -->\\r\\n\\r\\n    <!-- SNS -->\\r\\n    <div class=\"foot_sns\">\\r\\n          \\t<!-- 데브레터 구독하기 -->\\r\\n    \\t<div class=\"devletter_contet\">\\r\\n    \\t\\t<div class=\"devletter_sub\">\\r\\n    \\t\\t\\t<span class=\"dev_header_img\">데브레터 구독하기</span><a class=\"dev_sit_a\" href=\"/devletter/\" target=\"_blank\"><span class=\"dev_site_img\">데브레터 보러가기</span></a>\\r\\n    \\t\\t</div>\\r\\n    \\r\\n    \\t\\t <form class=\"subscribe_form\" action=\"/devletter/dev_process.php\" method=\"post\">\\r\\n    \\t\\t\\t<fieldset class=\"subscribe_fiel\">\\r\\n    \\t\\t\\t\\t<legend>구독서비스</legend>\\r\\n    \\t\\t\\t\\t<input type=\"text\" placeholder=\"Your Email Address\" name=\"user_email\"></input>\\r\\n    \\t\\t\\t\\t<button type=\"submit\" class=\"sub_btn\"><span>구독</span></button>\\r\\n    \\t\\t\\t</fieldset>\\r\\n    \\t\\t </form>\\r\\n    \\r\\n    \\t\\t  <div class=\"main_foot_sns\">\\r\\n    \\t\\t\\t  <ul>\\r\\n    \\t\\t\\t\\t<li class=\"main_foot_facebook\"><a href=\"https://www.facebook.com/hanbitmedia\" target=\"_blank\"><span>페이스북</span></a></li>\\r\\n    \\t\\t\\t\\t<li class=\"main_foot_youtube\"><a href=\"https://www.youtube.com/한빛TV\" target=\"_blank\"><span>유튜브</span></a></li>\\r\\n    \\t\\t\\t\\t<li class=\"main_foot_bolg\"><a href=\"http://blog.hanbit.co.kr/\" target=\"_blank\"><span>블로그</span></a></li>\\r\\n    \\t\\t\\t\\t<li class=\"main_foot_naverpost\"><a href=\"https://m.post.naver.com/hanbitstory\" target=\"_blank\"><span>네이버포스트</span></a></li>\\r\\n    \\t\\t\\t  </ul>\\r\\n    \\t\\t  </div>\\r\\n    \\t</div>  \\r\\n    \\t<!-- 데브레터 구독하기 //-->\\r\\n          \\r\\n         </div>\\r\\n    <!-- //SNS -->\\r\\n    \\r\\n    <!-- 한빛 정보 -->\\r\\n    <div class=\"foot_about\">\\r\\n      <div class=\"foot_about_area\">\\r\\n        \\r\\n\\r\\n        <p><strong>한빛미디어㈜ &#149; 한빛아카데미㈜ &#149; 한빛비즈㈜</strong></p>\\r\\n        <p>(03785) 서울 서대문구 연희로2길 62</p>\\r\\n        <p>EMAIL : support@hanbit.co.kr</p>\\r\\n        <p>대표이사 : 김태헌</p>\\r\\n        <p>사업자등록번호 : 220-81-05665 <a href=\"http://www.ftc.go.kr/bizCommPop.do?wrkr_no=2208105665\" target=\"_blank\">[확인]</a></p>\\r\\n        <p>통신판매업신고 : 2017-서울서대문-0671호</p>\\r\\n        <p>호스팅제공자 : (주)누리호스팅</p>        \\r\\n\\r\\n      </div>\\r\\n    </div>\\r\\n    <!-- //한빛 정보 -->\\r\\n  </div>\\r\\n  \\r\\n  <div class=\"copyright\">&copy;1993-2022 Hanbit Publishing Network, Inc. All rights reserved.</div>\\r\\n</footer>\\r\\n<!-- //푸터 -->\\r\\n<div class=\"foot_download_btn\"><a href=\"https://www.hanbit.co.kr/support/supplement_list.html\">자료실</a></div>\\r\\n\\r\\n<!-- 공통 JS 호출 -->\\r\\n<script type=\"text/javascript\" src=\"/js/common.js\"></script>\\r\\n<!-- //공통 JS 호출 -->\\r\\n\\r\\n</body>\\r\\n</html>\\r\\n'"
      ]
     },
     "execution_count": 171,
     "metadata": {},
     "output_type": "execute_result"
    }
   ],
   "source": [
    "html = resp.text\n",
    "html"
   ]
  },
  {
   "cell_type": "code",
   "execution_count": 170,
   "id": "05e89bf2-fbb5-4e93-b54a-3c6ca6d83264",
   "metadata": {
    "collapsed": true,
    "jupyter": {
     "outputs_hidden": true
    },
    "tags": []
   },
   "outputs": [
    {
     "data": {
      "text/plain": [
       "<!DOCTYPE html>\n",
       "<html lang=\"ko\">\n",
       "<head>\n",
       "<!--[if lte IE 8]>\n",
       "<script>\n",
       "  location.replace('/support/explorer_upgrade.html');\n",
       "</script>\n",
       "<![endif]-->\n",
       "<meta charset=\"utf-8\"/>\n",
       "<title>한빛출판네트워크</title>\n",
       "<link href=\"https://www.hanbit.co.kr/images/common/hanbit.ico\" rel=\"shortcut icon\"/>\n",
       "<meta content=\"IE=Edge\" http-equiv=\"X-UA-Compatible\"/>\n",
       "<meta content=\"website\" property=\"og:type\"/>\n",
       "<meta content=\"한빛출판네트워크\" property=\"og:title\"/>\n",
       "<meta content=\"더 넓은 세상, 더 나은 미래를 위한 아시아 출판 네트워크 :: 한빛미디어, 한빛아카데미, 한빛비즈, 한빛라이프, 한빛에듀\" property=\"og:description\"/>\n",
       "<meta content=\"https://www.hanbit.co.kr/images/hanbitpubnet_logo.jpg\" property=\"og:image\"/>\n",
       "<meta content=\"https://www.hanbit.co.kr/myhanbit/myhanbit.html\" property=\"og:url\"/>\n",
       "<link href=\"https://www.hanbit.co.kr/myhanbit/myhanbit.html\" rel=\"canonical\"/>\n",
       "<meta content=\"한빛미디어,한빛아카데미,한빛비즈,한빛라이프,한빛에듀,리얼타임,대관서비스,책,출판사,IT전문서,IT활용서,대학교재,경제경영,어린이/유아,실용/여행,전자책,자격증,교육,세미나,강의,ebook,정보교과서\" name=\"keywords\"/>\n",
       "<meta content=\"더 넓은 세상, 더 나은 미래를 위한 아시아 출판 네트워크 :: 한빛미디어, 한빛아카데미, 한빛비즈, 한빛라이프, 한빛에듀\" name=\"description\"/>\n",
       "<meta content=\"width=device-width,initial-scale=1.0,minimum-scale=1.0,maximum-scale=1.0\" name=\"viewport\"/>\n",
       "<meta content=\"width=1260\" name=\"viewport\"/>\n",
       "<meta content=\"yes\" name=\"apple-mobile-web-app-capable\"/>\n",
       "<meta content=\"01c29ed1852aecca7a48ac0c3e0869627bc512d8\" name=\"naver-site-verification\"/>\n",
       "<link href=\"/css/common.css?20210603093421\" rel=\"stylesheet\"/>\n",
       "<link href=\"/css/hover.css\" media=\"all\" rel=\"stylesheet\"/>\n",
       "<link href=\"/js/jquery.raty.css\" rel=\"stylesheet\"/>\n",
       "<script src=\"/js/jquery-latest.js\" type=\"text/javascript\"></script>\n",
       "<script src=\"/js/jquery-ui.js\" type=\"text/javascript\"></script>\n",
       "<script src=\"/js/jquery.event.drag-1.5.min.js\" type=\"text/javascript\"></script>\n",
       "<script src=\"/js/jquery.touchSlider.js\" type=\"text/javascript\"></script>\n",
       "<script src=\"/js/jquery.raty.js\" type=\"text/javascript\"></script>\n",
       "<script src=\"/js/main.js\" type=\"text/javascript\"></script>\n",
       "<script src=\"/lib/cheditor/cheditor.js\" type=\"text/javascript\"></script>\n",
       "<script src=\"/js/jquery.ui.datepicker-ko.js\" type=\"text/javascript\"></script>\n",
       "<script src=\"/js/engine.js\" type=\"text/javascript\"></script>\n",
       "<script src=\"/js/vue.js\" type=\"text/javascript\"></script>\n",
       "<!-- Google Analytics -->\n",
       "<script>\n",
       "(function(i,s,o,g,r,a,m){i['GoogleAnalyticsObject']=r;i[r]=i[r]||function(){\n",
       "(i[r].q=i[r].q||[]).push(arguments)},i[r].l=1*new Date();a=s.createElement(o),\n",
       "m=s.getElementsByTagName(o)[0];a.async=1;a.src=g;m.parentNode.insertBefore(a,m)\n",
       "})(window,document,'script','//www.google-analytics.com/analytics.js','ga');\n",
       "ga('create', 'UA-47080738-1', 'hanbit.co.kr');\n",
       "ga('require', 'linkid', 'linkid.js');\n",
       "ga('send', 'pageview');\n",
       "</script>\n",
       "<!-- Google Analytics -->\n",
       "<!-- Facebook Pixel Code -->\n",
       "<script>\n",
       "  !function(f,b,e,v,n,t,s)\n",
       "  {if(f.fbq)return;n=f.fbq=function(){n.callMethod?\n",
       "  n.callMethod.apply(n,arguments):n.queue.push(arguments)};\n",
       "  if(!f._fbq)f._fbq=n;n.push=n;n.loaded=!0;n.version='2.0';\n",
       "  n.queue=[];t=b.createElement(e);t.async=!0;\n",
       "  t.src=v;s=b.getElementsByTagName(e)[0];\n",
       "  s.parentNode.insertBefore(t,s)}(window, document,'script',\n",
       "  'https://connect.facebook.net/en_US/fbevents.js');\n",
       "  fbq('init', '406459623338891');\n",
       "  fbq('track', 'PageView');\n",
       "</script>\n",
       "<noscript><img height=\"1\" src=\"https://www.facebook.com/tr?id=406459623338891&amp;ev=PageView&amp;noscript=1\" style=\"display:none\" width=\"1\"/></noscript>\n",
       "<!-- End Facebook Pixel Code -->\n",
       "<!-- Google Tag Manager -->\n",
       "<script>(function(w,d,s,l,i){w[l]=w[l]||[];w[l].push({'gtm.start':\n",
       "new Date().getTime(),event:'gtm.js'});var f=d.getElementsByTagName(s)[0],\n",
       "j=d.createElement(s),dl=l!='dataLayer'?'&l='+l:'';j.async=true;j.src=\n",
       "'https://www.googletagmanager.com/gtm.js?id='+i+dl;f.parentNode.insertBefore(j,f);\n",
       "})(window,document,'script','dataLayer','GTM-W9D5PM3');</script>\n",
       "<!-- End Google Tag Manager -->\n",
       "<!-- Kakao Pixel Code -->\n",
       "<script charset=\"UTF-8\" src=\"//t1.daumcdn.net/adfit/static/kp.js\" type=\"text/javascript\"></script>\n",
       "<script type=\"text/javascript\">\n",
       "  kakaoPixel('3011392806152551233').pageView();\n",
       "</script>\n",
       "<!-- //Kakao Pixel Code -->\n",
       "</head>\n",
       "<body>\n",
       "<!-- Google Tag Manager (noscript) -->\n",
       "<noscript><iframe height=\"0\" src=\"https://www.googletagmanager.com/ns.html?id=GTM-W9D5PM3\" style=\"display:none;visibility:hidden\" width=\"0\"></iframe></noscript>\n",
       "<!-- End Google Tag Manager (noscript) -->\n",
       "<link href=\"/css/layout-hanbit.css?202206030909\" rel=\"stylesheet\"/>\n",
       "<link href=\"/css/layout-member.css\" rel=\"stylesheet\"/>\n",
       "<link href=\"/css/layout-network.css\" rel=\"stylesheet\"/>\n",
       "<link href=\"/css/layout-store.css\" rel=\"stylesheet\"/>\n",
       "<link href=\"/css/layout-myhanbit.css\" rel=\"stylesheet\"/>\n",
       "<link href=\"/css/layout-event.css\" rel=\"stylesheet\"/>\n",
       "<!-- 메뉴 바로가기 -->\n",
       "<div id=\"quick_skip_menu\">\n",
       "<a href=\"#gnb\" onclick=\"document.getElementById('gnb').tabIndex = -1;document.getElementById('gnb').focus();return false;\"><span>메뉴 바로가기</span></a>\n",
       "<a href=\"#top_search\" onclick=\"view_hover('main_search_area','','show'), document.getElementById('top_search').tabIndex = -1;document.getElementById('top_search').focus();return false;\"><span>검색 및 카테고리 바로가기</span></a>\n",
       "<a href=\"#container\" onclick=\"document.getElementById('container').tabIndex = -1;document.getElementById('container').focus();return false;\"><span>본문 바로가기</span></a>\n",
       "</div>\n",
       "<!-- //메뉴 바로가기 -->\n",
       "<!-- header -->\n",
       "<header>\n",
       "<!-- top menu -->\n",
       "<nav>\n",
       "<div id=\"wrap_nav\">\n",
       "<ul class=\"top_brand\">\n",
       "<li><a href=\"https://www.hanbit.co.kr/index.html\" name=\"hanbit_network\"><span>HOME</span></a></li>\n",
       "<li><a href=\"https://www.hanbit.co.kr/media/\">한빛미디어</a></li>\n",
       "<li><a href=\"https://www.hanbit.co.kr/academy/\">한빛아카데미</a></li>\n",
       "<li><a href=\"https://www.hanbit.co.kr/biz/\">한빛비즈</a></li>\n",
       "<li><a href=\"https://www.hanbit.co.kr/life/\">한빛라이프</a></li>\n",
       "<li><a href=\"https://www.hanbit.co.kr/edu/\">한빛에듀</a></li>\n",
       "<li><a href=\"https://www.hanbit.co.kr/realtime/\">리얼타임</a></li>\n",
       "<li><a href=\"https://www.hanbit.co.kr/textbook/\" target=\"_blank\">한빛정보교과서</a></li>\n",
       "<li><a href=\"https://www.hanbit.co.kr/rent/\" target=\"_blank\">한빛대관서비스</a></li>\n",
       "</ul>\n",
       "<ul class=\"top_menu\">\n",
       "<li><a class=\"logout\" href=\"https://www.hanbit.co.kr/member/logout.html\">로그아웃</a></li>\n",
       "<li><a class=\"edit\" href=\"https://www.hanbit.co.kr/member/member_register.html\">개인정보수정</a></li>\n",
       "<li><a class=\"myhanbit\" href=\"https://www.hanbit.co.kr/myhanbit/myhanbit.html\">마이한빛</a></li>\n",
       "<li><a class=\"cart\" href=\"https://www.hanbit.co.kr/myhanbit/cart.html\">장바구니</a></li>\n",
       "<li class=\"top_menu_store\"><a href=\"https://www.hanbit.co.kr/publisher/foreignrights.html?lang=e\" target=\"_blank\">ENGLISH</a></li>\n",
       "</ul>\n",
       "</div>\n",
       "</nav>\n",
       "<!-- //top menu -->\n",
       "<div id=\"wrap_gnb\">\n",
       "<!-- logo -->\n",
       "<h1><a href=\"https://www.hanbit.co.kr/index.html\">한빛출판네트워크</a></h1>\n",
       "<!-- //logo -->\n",
       "<!-- Menu -->\n",
       "<div id=\"gnb\" name=\"gnb\">\n",
       "<ul>\n",
       "<li><a class=\"\" href=\"https://www.hanbit.co.kr/brand/brand_submain.html\">BRAND</a></li>\n",
       "<li><a class=\"\" href=\"https://www.hanbit.co.kr/channel/channel_submain.html\">Channel.H</a></li>\n",
       "<li><a class=\"\" href=\"https://www.hanbit.co.kr/store/store_submain.html\">STORE</a></li>\n",
       "<li><a class=\"\" href=\"https://www.hanbit.co.kr/support/help_info.html\">SUPPORT</a></li>\n",
       "<li><a class=\"\" href=\"https://www.hanbit.co.kr/event/current/current_event_list.html\">EVENT</a></li>\n",
       "<li><a class=\"\" href=\"https://www.hanbit.co.kr/publisher/foreignrights.html?lang=e\" target=\"_blank\">RIGHTS</a></li>\n",
       "<li class=\"search\" id=\"top_search\"><a href=\"javascript:;\" onclick=\"view_hover('main_search_area','','show'); $('#keyword_str').focus();\"><span>SEARCH</span></a></li>\n",
       "</ul>\n",
       "</div>\n",
       "<!-- //Menu -->\n",
       "<!-- lnb -->\n",
       "<div class=\"lnb\" style=\"top:92px;\">\n",
       "<div class=\"lnb_area\">\n",
       "<!-- BRAND -->\n",
       "<!--2015-10-07 비회원 장바구니 기능 추가되면서 회원 로그인시에만 보여짐 by 이용희-->\n",
       "<ul class=\"lnb_depth1_my1\">\n",
       "<li><a class=\"\" href=\"https://www.hanbit.co.kr/myhanbit/membership.html\">한빛멤버십</a></li><span>l</span>\n",
       "<li><a class=\"\" href=\"https://www.hanbit.co.kr/myhanbit/mileage_ecoin.html\">마일리지 / 한빛이코인</a></li>\n",
       "</ul>\n",
       "<ul class=\"lnb_depth1_my2\">\n",
       "<li><a class=\"\" href=\"https://www.hanbit.co.kr/myhanbit/wishlist.html\">위시리스트</a></li><span>l</span>\n",
       "<li><a class=\"\" href=\"https://www.hanbit.co.kr/myhanbit/cart.html\">장바구니</a></li><span>l</span>\n",
       "<li><a class=\"\" href=\"https://www.hanbit.co.kr/myhanbit/order_history_list.html\">주문목록</a></li><span>l</span>\n",
       "<li><a class=\"\" href=\"https://www.hanbit.co.kr/myhanbit/coupon.html\">My 쿠폰</a></li>\n",
       "</ul>\n",
       "<ul class=\"lnb_depth1_my3\">\n",
       "<li><a class=\"\" href=\"https://www.hanbit.co.kr/myhanbit/purchase_books.html\">My Book</a></li>\n",
       "<span>l</span>\n",
       "<li><a class=\"\" href=\"https://www.hanbit.co.kr/myhanbit/my_ebook_list.html\">My eBook</a></li>\n",
       "<span>l</span>\n",
       "<li><a class=\"\" href=\"https://www.hanbit.co.kr/myhanbit/my_class_list.html\">My 강의</a></li>\n",
       "</ul>\n",
       "</div>\n",
       "</div>\n",
       "<!--// lnb -->\n",
       "</div>\n",
       "</header>\n",
       "<!-- //header -->\n",
       "<!-- 메인 검색 및 카테고리 영역 -->\n",
       "<div class=\"fixed\" id=\"main_search_area\" style=\"display:none;\">\n",
       "<div class=\"msa_wrap\">\n",
       "<!-- 검색 -->\n",
       "<div class=\"msa_srch_wrap\">\n",
       "<form onsubmit=\"return false;\">\n",
       "<fieldset class=\"msa_srch_field\">\n",
       "<legend>한빛출판네트워크 검색</legend>\n",
       "<input accesskey=\"s\" autocomplete=\"off\" class=\"srch_keyword\" id=\"keyword_str\" name=\"keyword_str\" title=\"검색어\" type=\"text\" v-model=\"keyword\"/>\n",
       "<input class=\"srch_btn\" style=\"cursor:pointer;\" type=\"submit\"/>\n",
       "</fieldset>\n",
       "</form>\n",
       "</div>\n",
       "<!-- //검색 -->\n",
       "<!-- ① 인기검색어 -->\n",
       "<div class=\"msa_srch_polular\" v-if=\"showPopularKeyword === true\">\n",
       "<h2 class=\"tit\">인기 검색어 <span>(최근 1개월간)</span></h2>\n",
       "<div class=\"popula_box\">\n",
       "<ul class=\"left\">\n",
       "<li v-for=\"keyword in leftPopularKeywordList\">\n",
       "<a :class=\"keyword.bold\">\n",
       "                  {{ keyword.number }} {{ keyword.bookName }}\n",
       "              </a>\n",
       "</li>\n",
       "</ul>\n",
       "<ul class=\"right\">\n",
       "<li v-for=\"keyword in rightPopularKeywordList\">\n",
       "<a :class=\"keyword.bold\">\n",
       "                  {{ keyword.number }} {{ keyword.bookName }}\n",
       "              </a>\n",
       "</li>\n",
       "</ul>\n",
       "</div>\n",
       "</div>\n",
       "<!-- ① 인기검색어 -->\n",
       "<!-- ② 검색결과/검색서제스쳔 -->\n",
       "<div class=\"msa_srch_suggestion\" v-if=\"showPopularKeyword === false\">\n",
       "<div class=\"sugg_left\" v-if=\"bookList.length !== 0\">\n",
       "<h3 class=\"tit\">BOOK</h3>\n",
       "<ul class=\"books_list\">\n",
       "<li v-for=\"book in bookList\"><a><p v-html=\"book.name\"></p></a></li>\n",
       "</ul>\n",
       "</div>\n",
       "<div class=\"sugg_right\">\n",
       "<div class=\"sugg_book\" v-if=\"bookList.length !== 0\">\n",
       "<table class=\"sugg_book_detail\">\n",
       "<tr>\n",
       "<td class=\"cover\">\n",
       "<a>\n",
       "<img :src=\"bookSummary.imgUrl\" class=\"b_cover\"/>\n",
       "</a>\n",
       "</td>\n",
       "<td class=\"draft\">\n",
       "<a class=\"b_title\"><strong v-html=\"bookSummary.originName\"></strong></a>\n",
       "<p class=\"b_int\">\n",
       "                {{ bookSummary.author }} 지음<br/>\n",
       "                {{ bookSummary.publishingCompany }} | {{ bookSummary.date }}\n",
       "                </p>\n",
       "<p class=\"b_type\">\n",
       "<span>{{ bookSummary.bookType }}</span>\n",
       "</p>\n",
       "</td>\n",
       "</tr>\n",
       "</table>\n",
       "</div>\n",
       "<!--\n",
       "        <div class=\"sugg_edu\" v-if=\"educationList.length !== 0\">\n",
       "          <h3 class=\"tit\">EDUCATION</h3>\n",
       "          <ul class=\"edu_list\">\n",
       "            <li v-for=\"education in educationList\">&#149; <a @click=\"clickEducationKeyword(education)\"><span v-html=\"education.title\"></span></a></li>\n",
       "          </ul>\n",
       "        </div>\n",
       "        -->\n",
       "<div class=\"sugg_cont\" v-if=\"contentList.length !== 0\">\n",
       "<h3 class=\"tit\">CONTENTS</h3>\n",
       "<ul class=\"cont_list\">\n",
       "<li v-for=\"content in contentList\"> <a><span v-html=\"content.title\"></span></a></li>\n",
       "</ul>\n",
       "</div>\n",
       "</div>\n",
       "</div>\n",
       "<!-- //② 검색결과/검색서제스쳔 -->\n",
       "<!-- 닫기 -->\n",
       "<div class=\"msa_wrap_close\">\n",
       "<a href=\"javascript:;\" onclick=\"view_hover('main_search_area','','hide')\">닫기</a>\n",
       "</div>\n",
       "<!-- //닫기 -->\n",
       "</div>\n",
       "</div>\n",
       "<script type=\"text/javascript\">\n",
       "    \"use strict\";\n",
       "\n",
       "    var common_top_search_vue = new Vue({\n",
       "        el: '#main_search_area',\n",
       "        data: {\n",
       "            //검색엔진 URL\n",
       "            searchProxyURL: \"https://search.hanbit.co.kr\",\n",
       "            //인기 검색어 show 여부\n",
       "            showPopularKeyword: true,\n",
       "            //사용자 검색 키워드\n",
       "            keyword: '',\n",
       "            //인기 검색어 리스트\n",
       "            popularKeywordList: [],\n",
       "            // 인기 검색어 리스트 (왼쪽)\n",
       "            leftPopularKeywordList: [],\n",
       "            // 인기 검색어 리스트 (오른쪽)\n",
       "            rightPopularKeywordList: [],\n",
       "            // 자동완성에서의 책 리스트\n",
       "            bookList: [],\n",
       "            // 자동완성에서의 책 정보\n",
       "            bookSummary: {\n",
       "                'imgUrl': '',\n",
       "                'link': '',\n",
       "                'name': '',\n",
       "                'author': '',\n",
       "                'publishingCompany': '',\n",
       "                'date': '',\n",
       "                'bookType': ''\n",
       "            },\n",
       "            //에듀케이션 리스트\n",
       "            educationList: [],\n",
       "            //컨텐츠 리스트\n",
       "            contentList: []\n",
       "        },\n",
       "        created: function created() {\n",
       "            // 인기 검색어 조회\n",
       "            this.getPopularKeyword();\n",
       "        },\n",
       "        methods: {\n",
       "            /**\n",
       "             * 사용자가 검색 키워드를 입력할때 발생하는 이벤트\n",
       "             */\n",
       "            typeKeyword: function typeKeyword() {\n",
       "                var self = this;\n",
       "                var keyword = $(\"#keyword_str\").val();\n",
       "\n",
       "                if (keyword.length !== 0) {\n",
       "                    //자동완성어\n",
       "                    this.findAutocompleteResult(keyword);\n",
       "                } else {\n",
       "                    //인기검색어\n",
       "                    self.showPopularKeyword = true;\n",
       "                }\n",
       "            },\n",
       "\n",
       "            /**\n",
       "             * 인기검색어 조회\n",
       "             */\n",
       "            getPopularKeyword: function getPopularKeyword() {\n",
       "                var self = this;\n",
       "                this.popularKeywordList = [];\n",
       "                $.get(this.searchProxyURL + \"/querylog/popularKeyword\").done(function (data) {\n",
       "                    if (data != null) {\n",
       "                        self.drawPopularKeyword(data);\n",
       "                    }\n",
       "                });\n",
       "            },\n",
       "\n",
       "            /**\n",
       "             * 인기 검색어 그리기\n",
       "             */\n",
       "            drawPopularKeyword: function drawPopularKeyword(popularBooks) {\n",
       "                var self = this;\n",
       "                popularBooks.forEach(function (item) {\n",
       "                    var popularBook = {\n",
       "                        bookName: item.keyword\n",
       "                    };\n",
       "                    self.popularKeywordList.push(popularBook);\n",
       "                });\n",
       "                var number = 0;\n",
       "\n",
       "                for (var _iterator = this.popularKeywordList, _isArray = Array.isArray(_iterator), _i = 0, _iterator = _isArray ? _iterator : _iterator[Symbol.iterator]();;) {\n",
       "                    var _ref;\n",
       "\n",
       "                    if (_isArray) {\n",
       "                        if (_i >= _iterator.length) break;\n",
       "                        _ref = _iterator[_i++];\n",
       "                    } else {\n",
       "                        _i = _iterator.next();\n",
       "                        if (_i.done) break;\n",
       "                        _ref = _i.value;\n",
       "                    }\n",
       "\n",
       "                    var keyword = _ref;\n",
       "                    number = number + 1;\n",
       "                    keyword.number = number.toString().length < 2 ? \"0\" + number : number;\n",
       "\n",
       "                    if (number > 5) {\n",
       "                        keyword.direction = \"right\";\n",
       "                        self.rightPopularKeywordList.push(keyword);\n",
       "                    } else {\n",
       "                        keyword.direction = \"left\";\n",
       "\n",
       "                        if (number < 4) {\n",
       "                            keyword.bold = 'active';\n",
       "                        }\n",
       "\n",
       "                        self.leftPopularKeywordList.push(keyword);\n",
       "                    }\n",
       "                }\n",
       "            },\n",
       "\n",
       "            /**\n",
       "             * 자동완성 검색 결과\n",
       "             */\n",
       "            findAutocompleteResult: function findAutocompleteResult(keyword) {\n",
       "                var self = this;\n",
       "                var param = {\n",
       "                    q: keyword,\n",
       "                    types: \"education,book,contents\",\n",
       "                    fq: keyword\n",
       "                };\n",
       "                $.post(this.searchProxyURL + \"/autocomplete/search\", param).done(function (data) {\n",
       "                    if (data != null) {\n",
       "                        var bookResult = data.booksResults;\n",
       "                        self.changeBookList(keyword, bookResult);\n",
       "                        var contentResult = data.contentsResults;\n",
       "                        self.changeContentList(keyword, contentResult);\n",
       "                        var educationResult = data.educationResults;\n",
       "                        self.changeEducationList(keyword, educationResult);\n",
       "                    }\n",
       "                });\n",
       "                this.showPopularKeyword = false;\n",
       "            },\n",
       "\n",
       "            /**\n",
       "             * 자동완성어에서 BOOK 부분에서 마우스를 올렸을 시에 발생하는 이벤트\n",
       "             * @param bookId\n",
       "             */\n",
       "            mouseOverBook: function mouseOverBook(bookId) {\n",
       "                var currentBook = this.bookList.filter(function (book) {\n",
       "                    return book.id === bookId;\n",
       "                });\n",
       "                this.changeBookSummary(currentBook[0]);\n",
       "            },\n",
       "\n",
       "            /**\n",
       "             * 책 소개 변경\n",
       "             * @param book\n",
       "             */\n",
       "            changeBookSummary: function changeBookSummary(book) {\n",
       "                if (book !== {}) {\n",
       "                    this.bookSummary.name = book.name;\n",
       "                    this.bookSummary.originName = book.originName;\n",
       "                    this.bookSummary.author = book.author;\n",
       "                    this.bookSummary.bookType = book.bookType;\n",
       "                    this.bookSummary.imgUrl = book.imgUrl;\n",
       "                    this.bookSummary.link = book.link;\n",
       "                    this.bookSummary.publishingCompany = book.publishingCompany;\n",
       "                    this.bookSummary.date = book.date;\n",
       "                    this.bookSummary.bookType = book.bookType;\n",
       "                }\n",
       "            },\n",
       "\n",
       "            /**\n",
       "             * BOOK 리스트 변경\n",
       "             */\n",
       "            changeBookList: function changeBookList(keyword, bookResultList) {\n",
       "                var self = this;\n",
       "                self.bookList = [];\n",
       "                var index = 0;\n",
       "\n",
       "                if (bookResultList != null) {\n",
       "                    for (var _iterator2 = bookResultList, _isArray2 = Array.isArray(_iterator2), _i2 = 0, _iterator2 = _isArray2 ? _iterator2 : _iterator2[Symbol.iterator]();;) {\n",
       "                        var _ref2;\n",
       "\n",
       "                        if (_isArray2) {\n",
       "                            if (_i2 >= _iterator2.length) break;\n",
       "                            _ref2 = _iterator2[_i2++];\n",
       "                        } else {\n",
       "                            _i2 = _iterator2.next();\n",
       "                            if (_i2.done) break;\n",
       "                            _ref2 = _i2.value;\n",
       "                        }\n",
       "\n",
       "                        var result = _ref2;\n",
       "\n",
       "                        if (index < 10) {\n",
       "                            var book = {};\n",
       "                            book.id = result.code;\n",
       "                            book.originName = result.title;\n",
       "                            book.name = JSON.parse(JSON.stringify(self.replaceHighlightWord(result.title, keyword)));\n",
       "                            book.link = result.code;\n",
       "                            book.imgUrl = self.getBookImageURL(result.code);\n",
       "                            book.author = result.author;\n",
       "                            book.publishingCompany = result.brand;\n",
       "                            book.date = result.pubDate;\n",
       "                            book.bookType = result.bookType;\n",
       "                            self.bookList.push(book); //책 미리보기 변경\n",
       "\n",
       "                            self.changeBookSummary(self.bookList[0]);\n",
       "                        }\n",
       "                    }\n",
       "                } else {\n",
       "                    self.initBookSummary();\n",
       "                }\n",
       "            },\n",
       "\n",
       "            /**\n",
       "             * 책 이미지 주소 가져오기\n",
       "             */\n",
       "            getBookImageURL: function getBookImageURL(bookCode) {\n",
       "                var imgURL;\n",
       "\n",
       "                if (bookCode.substr(0, 1) === \"E\") {\n",
       "                    imgURL = '/data/ebook/' + bookCode + '_m.jpg';\n",
       "                } else {\n",
       "                    imgURL = '/data/books/' + bookCode + \"_m.jpg\";\n",
       "                }\n",
       "\n",
       "                return imgURL;\n",
       "            },\n",
       "\n",
       "            /**\n",
       "             * 검색 결과가 없을 경우 책 미리보기 초기화\n",
       "             */\n",
       "            initBookSummary: function initBookSummary() {\n",
       "                this.bookSummary = {\n",
       "                    'imgUrl': '',\n",
       "                    'link': '',\n",
       "                    'name': '',\n",
       "                    'author': '',\n",
       "                    'publishingCompany': '',\n",
       "                    'date': '',\n",
       "                    'bookType': ''\n",
       "                };\n",
       "            },\n",
       "\n",
       "            /**\n",
       "             * education 리스트 변경\n",
       "             */\n",
       "            changeEducationList: function changeEducationList(keyword, educationResultList) {\n",
       "                var self = this;\n",
       "                self.educationList = [];\n",
       "                var index = 0;\n",
       "\n",
       "                if (educationResultList != null) {\n",
       "                    for (var _iterator3 = educationResultList, _isArray3 = Array.isArray(_iterator3), _i3 = 0, _iterator3 = _isArray3 ? _iterator3 : _iterator3[Symbol.iterator]();;) {\n",
       "                        var _ref3;\n",
       "\n",
       "                        if (_isArray3) {\n",
       "                            if (_i3 >= _iterator3.length) break;\n",
       "                            _ref3 = _iterator3[_i3++];\n",
       "                        } else {\n",
       "                            _i3 = _iterator3.next();\n",
       "                            if (_i3.done) break;\n",
       "                            _ref3 = _i3.value;\n",
       "                        }\n",
       "\n",
       "                        var result = _ref3;\n",
       "\n",
       "                        if (index < 3) {\n",
       "                            var content = {};\n",
       "                            content.title = JSON.parse(JSON.stringify(self.replaceHighlightWord(result.title, keyword)));\n",
       "                            content.link = result.code;\n",
       "                            self.educationList.push(content);\n",
       "                            index = index + 1;\n",
       "                        }\n",
       "                    }\n",
       "                }\n",
       "            },\n",
       "\n",
       "            /**\n",
       "             * contents 리스트 변경\n",
       "             */\n",
       "            changeContentList: function changeContentList(keyword, contentResult) {\n",
       "                var self = this;\n",
       "                self.contentList = [];\n",
       "                var index = 0;\n",
       "\n",
       "                if (contentResult != null) {\n",
       "                    for (var _iterator4 = contentResult, _isArray4 = Array.isArray(_iterator4), _i4 = 0, _iterator4 = _isArray4 ? _iterator4 : _iterator4[Symbol.iterator]();;) {\n",
       "                        var _ref4;\n",
       "\n",
       "                        if (_isArray4) {\n",
       "                            if (_i4 >= _iterator4.length) break;\n",
       "                            _ref4 = _iterator4[_i4++];\n",
       "                        } else {\n",
       "                            _i4 = _iterator4.next();\n",
       "                            if (_i4.done) break;\n",
       "                            _ref4 = _i4.value;\n",
       "                        }\n",
       "\n",
       "                        var result = _ref4;\n",
       "\n",
       "                        if (index < 7) {\n",
       "                            var content = {};\n",
       "                            content.title = JSON.parse(JSON.stringify(self.replaceHighlightWord(result.title, keyword)));\n",
       "                            content.link = result.code;\n",
       "                            self.contentList.push(content);\n",
       "                            index = index + 1;\n",
       "                        }\n",
       "                    }\n",
       "                }\n",
       "            },\n",
       "\n",
       "            /**\n",
       "             * 하이라이트 표시\n",
       "             */\n",
       "            replaceHighlightWord: function replaceHighlightWord(str, highlightKeyword) {\n",
       "                var replaceHighlightKeyword = highlightKeyword.replace(/[^a-z0-9가-힣_ ]/gi, '');\n",
       "                var regEx = new RegExp(replaceHighlightKeyword, \"gi\");\n",
       "                str = str.replace(regEx, function (a) {\n",
       "                    return '<span class=\"keysel\">' + a + '</span>';\n",
       "                });\n",
       "                return str;\n",
       "            },\n",
       "\n",
       "            /**\n",
       "             * 검색 버튼 클릭 시\n",
       "             * @param e\n",
       "             */\n",
       "            clickSearch: function clickSearch(e) {\n",
       "                if (!this.keyword || this.keyword.length === 0) {\n",
       "                    alert(\"검색어를 입력하세요\");\n",
       "                    $(\"#keyword_str\").focus();\n",
       "                    e.preventDefault();\n",
       "                } else {\n",
       "                    location.href = \"/search/search_list.html?keyword=\" + this.keyword;\n",
       "                }\n",
       "            },\n",
       "\n",
       "            /**\n",
       "             * 인기 검색어 클릭시\n",
       "             * @param book\n",
       "             */\n",
       "            clickPopularKeyword: function clickPopularKeyword(book) {\n",
       "                var searchKeyword = book.bookName;\n",
       "                location.href = \"/search/search_list.html?keyword=\" + searchKeyword;\n",
       "            },\n",
       "\n",
       "            /**\n",
       "             * 책 검색어 클릭시 책 상세로 이동\n",
       "             * @param book\n",
       "             */\n",
       "            clickBookKeyword: function clickBookKeyword(book) {\n",
       "                location.href = \"/store/books/look.php?p_code=\" + book.link;\n",
       "            },\n",
       "\n",
       "            /**\n",
       "             * 교육 클릭시 교육 상세로 이동\n",
       "             * @param education\n",
       "             */\n",
       "            clickEducationKeyword: function clickEducationKeyword(education) {\n",
       "                location.href = \"/store/education/edu_view.html?p_code=\" + education.link;\n",
       "            },\n",
       "\n",
       "            /**\n",
       "             * 컨텐츠 클릭시 컨텐츠 상세로 이동\n",
       "             * @param contents\n",
       "             */\n",
       "            clickContentKeyword: function clickContentKeyword(content) {\n",
       "                location.href = \"/channel/category/category_view.html?cms_code=\" + content.link;\n",
       "            }\n",
       "        }\n",
       "    });\n",
       "</script>\n",
       "<!-- //메인 검색 및 카테고리 영역 -->\n",
       "<!-- Contents -->\n",
       "<div id=\"container\">\n",
       "<div class=\"myhanbit_wrap\">\n",
       "<!-- 회원등급 -->\n",
       "<div class=\"sm_myinfo\">\n",
       "<div class=\"my_rating\">\n",
       "<div class=\"icon\">\n",
       "<img alt=\"\" src=\"https://www.hanbit.co.kr/images/myhanbit/rating_icon1.png\"/>\n",
       "</div>\n",
       "<p>(장유선)님의<br/>회원 등급은 <span>일반</span> 입니다.</p>\n",
       "</div>\n",
       "</div>\n",
       "<!-- //회원등급 -->\n",
       "<!-- 마일리지/이코인 -->\n",
       "<div class=\"sm_mymileage\">\n",
       "<dl class=\"mileage_section1\">\n",
       "<dt>마일리지</dt>\n",
       "<dd><span>2,000</span> 점</dd>\n",
       "</dl>\n",
       "<dl class=\"mileage_section2\">\n",
       "<dt>한빛이코인</dt>\n",
       "<dd><span>0</span> 원</dd>\n",
       "</dl>\n",
       "</div>\n",
       "<!-- //마일리지/이코인 -->\n",
       "<!-- 최근 구매이력 -->\n",
       "<div class=\"sm_myorder\">\n",
       "<p class=\"tit\">최근 구매이력</p>\n",
       "<table border=\"0\" cellspacing=\"0\" class=\"tbl_type_list\" summary=\"최근 3개월 활동 내역 테이블\">\n",
       "<caption>최근 3개월 활동 내역</caption>\n",
       "<colgroup>\n",
       "<col width=\"110px\"/>\n",
       "<col width=\"\"/>\n",
       "<col width=\"120px\"/>\n",
       "</colgroup>\n",
       "<thead>\n",
       "<tr>\n",
       "<th scope=\"col\">주문일자</th>\n",
       "<th scope=\"col\">상품명</th>\n",
       "<th class=\"last\" scope=\"col\">주문금액</th>\n",
       "</tr>\n",
       "</thead>\n",
       "<tbody>\n",
       "</tbody>\n",
       "</table>\n",
       "</div>\n",
       "<!-- //최근 구매이력 -->\n",
       "<!-- My Book -->\n",
       "<div class=\"submain_mypagae_foot smf_l\">\n",
       "<p class=\"sm_tit\">My Book</p>\n",
       "<div class=\"smf_nodata\">리스트가 없습니다.</div>\n",
       "</div>\n",
       "<!-- //My Book -->\n",
       "<!-- My eBook -->\n",
       "<div class=\"submain_mypagae_foot smf_c\">\n",
       "<p class=\"sm_tit\">My eBook</p>\n",
       "<div class=\"smf_nodata\">리스트가 없습니다.</div>\n",
       "</div>\n",
       "<!-- //My eBook -->\n",
       "<!-- My 강의 -->\n",
       "<div class=\"submain_mypagae_foot smf_r\">\n",
       "<p class=\"sm_tit\">My 강의</p>\n",
       "<div class=\"smf_nodata\">리스트가 없습니다.</div>\n",
       "</div>\n",
       "<!-- //My 강의 -->\n",
       "</div>\n",
       "</div>\n",
       "<!-- //Contents -->\n",
       "<!-- Footer -->\n",
       "<footer>\n",
       "<!-- 공지사항 -->\n",
       "<div class=\"foot_notice\" style=\"height:6px;\"></div> <!-- //공지사항 -->\n",
       "<div class=\"foot_contents\">\n",
       "<!-- 하단 메뉴 -->\n",
       "<div class=\"foot_menu\">\n",
       "<!-- added by coffin -->\n",
       "<ul>\n",
       "<li><a href=\"https://www.hanbit.co.kr/publisher/index.html\" target=\"_blank\">회사소개</a>(<a href=\"https://www.hanbit.co.kr/publisher/index.html\" target=\"_blank\">KOR</a> | <a href=\"https://www.hanbit.co.kr/publisher/index.html?lang=e\" target=\"_blank\">ENG</a>)  <a href=\"https://www.hanbit.co.kr/publisher/contact.html?lang=k\" target=\"_blank\">약도</a></li>\n",
       "<li><a href=\"https://www.hanbit.co.kr/publisher/write.html\" target=\"_blank\">기획 및 원고 모집</a></li>\n",
       "<li><a href=\"https://www.hanbit.co.kr/publisher/career.html\" target=\"_blank\">채용</a>  입사지원 <a href=\"mailto:jobs@hanbit.co.kr\">jobs@hanbit.co.kr</a></li>\n",
       "<li><a href=\"https://www.hanbit.co.kr/publisher/foreignrights.html\" target=\"_blank\">FOREIGN RIGHTS</a></li>\n",
       "<li><a href=\"https://www.hanbit.co.kr/member/use_agreement.html\">이용약관</a>  <a href=\"https://www.hanbit.co.kr/member/privacy_policy.html\"><strong>개인정보처리방침</strong></a></li>\n",
       "<li><a href=\"https://www.hanbit.co.kr/sitemap/sitemap.html\">사이트맵</a></li>\n",
       "</ul>\n",
       "</div>\n",
       "<!-- //하단 메뉴 -->\n",
       "<!-- SNS -->\n",
       "<div class=\"foot_sns\">\n",
       "<!-- 데브레터 구독하기 -->\n",
       "<div class=\"devletter_contet\">\n",
       "<div class=\"devletter_sub\">\n",
       "<span class=\"dev_header_img\">데브레터 구독하기</span><a class=\"dev_sit_a\" href=\"/devletter/\" target=\"_blank\"><span class=\"dev_site_img\">데브레터 보러가기</span></a>\n",
       "</div>\n",
       "<form action=\"/devletter/dev_process.php\" class=\"subscribe_form\" method=\"post\">\n",
       "<fieldset class=\"subscribe_fiel\">\n",
       "<legend>구독서비스</legend>\n",
       "<input name=\"user_email\" placeholder=\"Your Email Address\" type=\"text\"/>\n",
       "<button class=\"sub_btn\" type=\"submit\"><span>구독</span></button>\n",
       "</fieldset>\n",
       "</form>\n",
       "<div class=\"main_foot_sns\">\n",
       "<ul>\n",
       "<li class=\"main_foot_facebook\"><a href=\"https://www.facebook.com/hanbitmedia\" target=\"_blank\"><span>페이스북</span></a></li>\n",
       "<li class=\"main_foot_youtube\"><a href=\"https://www.youtube.com/한빛TV\" target=\"_blank\"><span>유튜브</span></a></li>\n",
       "<li class=\"main_foot_bolg\"><a href=\"http://blog.hanbit.co.kr/\" target=\"_blank\"><span>블로그</span></a></li>\n",
       "<li class=\"main_foot_naverpost\"><a href=\"https://m.post.naver.com/hanbitstory\" target=\"_blank\"><span>네이버포스트</span></a></li>\n",
       "</ul>\n",
       "</div>\n",
       "</div>\n",
       "<!-- 데브레터 구독하기 //-->\n",
       "</div>\n",
       "<!-- //SNS -->\n",
       "<!-- 한빛 정보 -->\n",
       "<div class=\"foot_about\">\n",
       "<div class=\"foot_about_area\">\n",
       "<p><strong>한빛미디어㈜  한빛아카데미㈜  한빛비즈㈜</strong></p>\n",
       "<p>(03785) 서울 서대문구 연희로2길 62</p>\n",
       "<p>EMAIL : support@hanbit.co.kr</p>\n",
       "<p>대표이사 : 김태헌</p>\n",
       "<p>사업자등록번호 : 220-81-05665 <a href=\"http://www.ftc.go.kr/bizCommPop.do?wrkr_no=2208105665\" target=\"_blank\">[확인]</a></p>\n",
       "<p>통신판매업신고 : 2017-서울서대문-0671호</p>\n",
       "<p>호스팅제공자 : (주)누리호스팅</p>\n",
       "</div>\n",
       "</div>\n",
       "<!-- //한빛 정보 -->\n",
       "</div>\n",
       "<div class=\"copyright\">©1993-2022 Hanbit Publishing Network, Inc. All rights reserved.</div>\n",
       "</footer>\n",
       "<!-- //푸터 -->\n",
       "<div class=\"foot_download_btn\"><a href=\"https://www.hanbit.co.kr/support/supplement_list.html\">자료실</a></div>\n",
       "<!-- 공통 JS 호출 -->\n",
       "<script src=\"/js/common.js\" type=\"text/javascript\"></script>\n",
       "<!-- //공통 JS 호출 -->\n",
       "</body>\n",
       "</html>"
      ]
     },
     "execution_count": 170,
     "metadata": {},
     "output_type": "execute_result"
    }
   ],
   "source": [
    "soup = BeautifulSoup(html, 'lxml')\n",
    "soup"
   ]
  },
  {
   "cell_type": "code",
   "execution_count": 188,
   "id": "75e09ebb-6ae9-4083-b2d3-cd544073206f",
   "metadata": {},
   "outputs": [
    {
     "data": {
      "text/plain": [
       "[<span>2,000</span>]"
      ]
     },
     "execution_count": 188,
     "metadata": {},
     "output_type": "execute_result"
    }
   ],
   "source": [
    "soup.select('div > div.sm_mymileage > dl.mileage_section1 > dd > span')"
   ]
  },
  {
   "cell_type": "code",
   "execution_count": 189,
   "id": "2b2d9390-408a-4047-936f-0763d5566ae1",
   "metadata": {},
   "outputs": [
    {
     "data": {
      "text/plain": [
       "'2,000'"
      ]
     },
     "execution_count": 189,
     "metadata": {},
     "output_type": "execute_result"
    }
   ],
   "source": [
    "soup.select('div > div.sm_mymileage > dl.mileage_section1 > dd > span')[0].text"
   ]
  },
  {
   "cell_type": "code",
   "execution_count": 183,
   "id": "97e86c1c-2405-479d-b4d6-b369a30d0e60",
   "metadata": {},
   "outputs": [
    {
     "data": {
      "text/plain": [
       "[<dd><span>2,000</span> 점</dd>]"
      ]
     },
     "execution_count": 183,
     "metadata": {},
     "output_type": "execute_result"
    }
   ],
   "source": [
    "## 앞뒤 <dd>를 태그라고 부름\n",
    "soup.select('div > div.sm_mymileage > dl.mileage_section1 > dd')"
   ]
  },
  {
   "cell_type": "code",
   "execution_count": 185,
   "id": "ff27f18d-c1bd-41ae-8b98-330db6c40bc0",
   "metadata": {},
   "outputs": [
    {
     "data": {
      "text/plain": [
       "'2,000'"
      ]
     },
     "execution_count": 185,
     "metadata": {},
     "output_type": "execute_result"
    }
   ],
   "source": [
    "## select_one 은 보이는 것들을 모두 다 가져옴\n",
    "soup.select_one('div > div.sm_mymileage > dl.mileage_section1 > dd > span').text"
   ]
  },
  {
   "cell_type": "code",
   "execution_count": 186,
   "id": "d807a4e4-7070-4404-a878-021dee772207",
   "metadata": {},
   "outputs": [
    {
     "data": {
      "text/plain": [
       "'2,000'"
      ]
     },
     "execution_count": 186,
     "metadata": {},
     "output_type": "execute_result"
    }
   ],
   "source": [
    "soup.select_one('div > div.sm_mymileage > dl.mileage_section1 > dd > span').string"
   ]
  },
  {
   "cell_type": "code",
   "execution_count": 187,
   "id": "783ad6ee-ff49-46b2-93b3-c73a1dbacae3",
   "metadata": {},
   "outputs": [
    {
     "data": {
      "text/plain": [
       "'2,000'"
      ]
     },
     "execution_count": 187,
     "metadata": {},
     "output_type": "execute_result"
    }
   ],
   "source": [
    "soup.select_one('div > div.sm_mymileage > dl.mileage_section1 > dd > span').get_text()"
   ]
  },
  {
   "cell_type": "code",
   "execution_count": 204,
   "id": "10e15218-3169-4c8d-b8df-3677d95dfa7a",
   "metadata": {},
   "outputs": [
    {
     "data": {
      "text/plain": [
       "'0'"
      ]
     },
     "execution_count": 204,
     "metadata": {},
     "output_type": "execute_result"
    }
   ],
   "source": [
    "soup.select_one('dl.mileage_section2 > dd > span').text"
   ]
  },
  {
   "cell_type": "code",
   "execution_count": 205,
   "id": "b386d932-e49d-49e6-aaf5-5ff22b996e54",
   "metadata": {},
   "outputs": [
    {
     "name": "stdout",
     "output_type": "stream",
     "text": [
      "mileage :  2,000\n",
      "e-coin :  0\n"
     ]
    }
   ],
   "source": [
    "print('mileage : ', soup.select_one('div > div.sm_mymileage > dl.mileage_section1 > dd > span').text)\n",
    "print('e-coin : ', soup.select_one('dl.mileage_section2 > dd > span').text)"
   ]
  },
  {
   "cell_type": "code",
   "execution_count": 210,
   "id": "81f5a7e1-bd2f-4f72-b7b4-1a633b8e1caa",
   "metadata": {},
   "outputs": [
    {
     "name": "stdout",
     "output_type": "stream",
     "text": [
      "마일리지:2,000\n",
      "이코인:한빛이코인\n"
     ]
    }
   ],
   "source": [
    "#container > div > div.sm_mymileage > dl.mileage_section1 > dd > span\n",
    "#soup.select\n",
    "#(\"#container > div > div.sm_mymileage > dl.mileage_section1 > dd > span\")\n",
    "\n",
    "# 태그는 뺴고 2000만 뽑고싶음\n",
    "#soup.select_one(\"#container > div > div.sm_mymileage > dl.mileage_section1 > dd > span\").text \n",
    "#로그인 해서 \n",
    "#print(\"마일리지:\" + mileage)\n",
    "#print(\"이코인:\" + ecoin)\n",
    "#찾기\n",
    "\n",
    "##########################################################################################\n",
    "\n",
    "import requests\n",
    "from bs4 import BeautifulSoup\n",
    "\n",
    "session = requests.session()\n",
    "\n",
    "# 로그인 오류페이지\n",
    "url = \"https://www.hanbit.co.kr/member/login_proc.php\"\n",
    "session.post(url, {\"m_id\":\"lim3184\", \"m_passwd\" :\"dlawlgus99!@\" })\n",
    "\n",
    "resp= session.get(\"https://www.hanbit.co.kr/myhanbit/myhanbit.html\")\n",
    "\n",
    "resp.raise_for_status\n",
    "\n",
    "html= resp.text\n",
    "\n",
    "soup= BeautifulSoup(html,'lxml')\n",
    "soup\n",
    "\n",
    "# 마일리지 2000을 가져오기\n",
    "\n",
    "#container > div > div.sm_mymileage > dl.mileage_section1 > dd > span\n",
    "soup.select(\"#container > div > div.sm_mymileage > dl.mileage_section1 > dd > span\")\n",
    "\n",
    "# 태그는 뺴고 2000만 뽑고싶음\n",
    "soup.select_one(\"#container > div > div.sm_mymileage > dl.mileage_section1 > dd > span\").text\n",
    "\n",
    "#select: 보이는 족족 다 가져옴\n",
    "#select_one: 안에 있는 것 1개만 가져옴\n",
    "\n",
    "#text, string,get_text() 3함수 다 됨\n",
    "mileage=soup.select_one(\"#container > div > div.sm_mymileage > dl.mileage_section1 > dd > span\").string\n",
    "\n",
    "#soup.select_one(\" div > div.sm_mymileage > dl.mileage_section1 > dd > span\").get_text()\n",
    "soup.select(\" div > div.sm_mymileage > dl.mileage_section1 > dd > span\")[0].get_text()\n",
    "\n",
    "ecoin= soup.select_one(\"dl.mileage_section2 >dt\").text\n",
    "\n",
    "print(\"마일리지:\" + mileage)\n",
    "print(\"이코인:\" + ecoin) "
   ]
  },
  {
   "cell_type": "markdown",
   "id": "a38d8c50-9878-42bd-9e2b-67de7696583f",
   "metadata": {},
   "source": [
    "### 날씨정보.json 형식 가져오기"
   ]
  },
  {
   "cell_type": "markdown",
   "id": "e715df29-a325-4345-8072-1afffc57c947",
   "metadata": {},
   "source": [
    "**<Open API(Rest API)를 활용한 크롤링>**"
   ]
  },
  {
   "cell_type": "markdown",
   "id": "7dd62a4e-ff04-44c8-b73a-38ff1d507c6f",
   "metadata": {},
   "source": [
    "- API : Application Programming Interface의 약자로 특정 프로그램을 만들기 위해 제공되는 모듈(함수)을 의미\n",
    "- Open API : 누구나 사용할 수 있도록 공개된 API\n",
    "- Rest API : Representational State Transer API로 HTTP 프로토콜을 통해 서버 제공 기능을 사용할 수 있는 함수를 의미\n",
    "- 일반적으로 XML, JSON의 형태로 응답을 전달(원하는 데이터 추출이 수월)"
   ]
  },
  {
   "cell_type": "markdown",
   "id": "66967461-2e86-48ed-be51-fa3e76700bd6",
   "metadata": {},
   "source": [
    "**<JSON이란?>**\n",
    "- JavaScript Object Notation의 줄임말\n",
    "- JSON은 서버와 클라이언트 또는 컴퓨터/프로그램 사이에 데이터를 주고 받을 때 사용하는 데이터 포맷\n",
    "- 키와 값을 괄호와 세미콜론과 같이 간단한 기호로 구성하여 표현할 수 있고, 언어나 운영체제에 구애받지 않기 때문에 많이 사용됨\n",
    "- 특히 웹/앱 환경에서 Rest API를 사용하여, 서버와 클라이언트 사이에 데이터를 주고 받을 때 많이 사용"
   ]
  },
  {
   "cell_type": "code",
   "execution_count": 212,
   "id": "bde1cdf7-e3db-4873-bf74-b48f8d594413",
   "metadata": {},
   "outputs": [],
   "source": [
    "import requests\n",
    "import json"
   ]
  },
  {
   "cell_type": "code",
   "execution_count": 217,
   "id": "851f4952-68fc-48fa-b605-0af1b0d1bb78",
   "metadata": {},
   "outputs": [],
   "source": [
    "apikey = \"28ed8b8682f52838a0a86e00b8578fcd\" \n",
    "api = \"http://api.openweathermap.org/data/2.5/weather?q={city}&APPID={key}\"  \n",
    "## ?았으면 get 방식"
   ]
  },
  {
   "cell_type": "code",
   "execution_count": 224,
   "id": "29af9980-e256-41bf-b0fb-97a9de3a4e07",
   "metadata": {},
   "outputs": [],
   "source": [
    "cities = ['Seoul, KR', 'New York, US']\n",
    "\n",
    "k2c = lambda k: round(k - 273.15, 1) ### k2c : 화씨를 섭씨로 바꿔줌"
   ]
  },
  {
   "cell_type": "code",
   "execution_count": 226,
   "id": "4a6fe407-cf94-4497-b2a7-f68ceeb19680",
   "metadata": {},
   "outputs": [
    {
     "name": "stdout",
     "output_type": "stream",
     "text": [
      "{'coord': {'lon': 126.9778, 'lat': 37.5683}, 'weather': [{'id': 801, 'main': 'Clouds', 'description': 'few clouds', 'icon': '02d'}], 'base': 'stations', 'main': {'temp': 293.04, 'feels_like': 292.13, 'temp_min': 289.84, 'temp_max': 293.81, 'pressure': 1025, 'humidity': 40}, 'visibility': 10000, 'wind': {'speed': 1.54, 'deg': 250}, 'clouds': {'all': 20}, 'dt': 1666939065, 'sys': {'type': 1, 'id': 8105, 'country': 'KR', 'sunrise': 1666907537, 'sunset': 1666946359}, 'timezone': 32400, 'id': 1835848, 'name': 'Seoul', 'cod': 200}\n",
      " \n",
      "+ 도시 = Seoul\n",
      "| 날씨 = few clouds\n",
      "| 최저 기온 = 16.7\n",
      "| 최고 기온 = 20.7\n",
      "| 습도 = 40\n",
      "| 기압 = 1025\n",
      "| 풍향 = 250\n",
      "| 풍속 = 1.54\n",
      "\n",
      "{'coord': {'lon': -74.006, 'lat': 40.7143}, 'weather': [{'id': 800, 'main': 'Clear', 'description': 'clear sky', 'icon': '01n'}], 'base': 'stations', 'main': {'temp': 282.77, 'feels_like': 279.4, 'temp_min': 279.05, 'temp_max': 284.81, 'pressure': 1029, 'humidity': 59}, 'visibility': 10000, 'wind': {'speed': 7.72, 'deg': 360}, 'clouds': {'all': 0}, 'dt': 1666939039, 'sys': {'type': 2, 'id': 2039034, 'country': 'US', 'sunrise': 1666956094, 'sunset': 1666994270}, 'timezone': -14400, 'id': 5128581, 'name': 'New York', 'cod': 200}\n",
      " \n",
      "+ 도시 = New York\n",
      "| 날씨 = clear sky\n",
      "| 최저 기온 = 5.9\n",
      "| 최고 기온 = 11.7\n",
      "| 습도 = 59\n",
      "| 기압 = 1029\n",
      "| 풍향 = 360\n",
      "| 풍속 = 7.72\n",
      "\n"
     ]
    }
   ],
   "source": [
    "for city in cities:\n",
    "    url = api.format(city = city, key = apikey)\n",
    "    req = requests.get(url)                       ### API 사용해서 정보 받아오기\n",
    "    \n",
    "    data = json.loads(req.text)                   ### 결과를 json 형식으로 변환하기\n",
    "    \n",
    "    print(data)\n",
    "    print(' ')\n",
    "    \n",
    "    \n",
    "    print(\"+ 도시 =\", data[\"name\"])\n",
    "    print(\"| 날씨 =\", data[\"weather\"][0][\"description\"])\n",
    "    print(\"| 최저 기온 =\", k2c(data[\"main\"][\"temp_min\"]))\n",
    "    print(\"| 최고 기온 =\", k2c(data[\"main\"][\"temp_max\"]))\n",
    "    print(\"| 습도 =\", data[\"main\"][\"humidity\"])\n",
    "    print(\"| 기압 =\", data[\"main\"][\"pressure\"])\n",
    "    print(\"| 풍향 =\", data[\"wind\"][\"deg\"])\n",
    "    print(\"| 풍속 =\", data[\"wind\"][\"speed\"])\n",
    "    print(\"\") "
   ]
  },
  {
   "cell_type": "markdown",
   "id": "48d5800c-ed93-42c0-be2b-90870ac89995",
   "metadata": {},
   "source": [
    "### 29cm 여자 가방 사진 크롤링"
   ]
  },
  {
   "cell_type": "code",
   "execution_count": 134,
   "id": "4cc83312-d06e-485a-8ec2-aee36d6e57df",
   "metadata": {
    "tags": []
   },
   "outputs": [
    {
     "name": "stderr",
     "output_type": "stream",
     "text": [
      "C:\\Users\\admin\\AppData\\Local\\Temp\\ipykernel_7612\\2855105886.py:7: DeprecationWarning: executable_path has been deprecated, please pass in a Service object\n",
      "  driver = webdriver.Chrome('./chromedriver_win32/chromedriver.exe')\n"
     ]
    }
   ],
   "source": [
    "import requests\n",
    "from bs4 import BeautifulSoup\n",
    "from selenium import webdriver\n",
    "from urllib.request import urlopen, urlretrieve\n",
    "from urllib.parse import quote_plus\n",
    "\n",
    "driver = webdriver.Chrome('./chromedriver_win32/chromedriver.exe')\n",
    "\n",
    "url = 'https://auth.29cm.co.kr/login?redirect_uri=https%3A%2F%2Fwww.29cm.co.kr%2Fhome%2F'\n",
    "\n",
    "driver.get(url)\n",
    "\n",
    "### 로그인 \n",
    "from selenium.webdriver.common.by import By\n",
    "\n",
    "e = driver.find_element(By.NAME, 'username')\n",
    "e.clear()\n",
    "e.send_keys('deu05077@naver.com')\n",
    "\n",
    "e = driver.find_element(By.NAME, 'password')\n",
    "e.clear()\n",
    "e.send_keys('jang@05027')\n",
    "\n",
    "from selenium.webdriver.common.keys import Keys\n",
    "\n",
    "e. send_keys(Keys.ENTER)\n",
    "\n",
    "\n",
    "### 전체 상품 카테고리로 이동\n",
    "bag_url1 = 'https://www.29cm.co.kr/shop/category/list?category_large_code=269100100&category_medium_code=&sort=latest&page='\n",
    "bag_url2 = '&count=50'\n",
    "\n",
    "image_scrs = []\n",
    "image_links = []\n",
    "\n",
    "for i in range(1, 3):\n",
    "    bag_url = bag_url1 + str(i) + bag_url2\n",
    "\n",
    "    driver.get(bag_url)\n",
    "    html = driver.page_source\n",
    "    soup = BeautifulSoup(html, 'html.parser')\n",
    "    images = soup.select('div > a.prd_b_area > div.imgbx > div.imgin > ruler-blazy > img')\n",
    "\n",
    "    for image in images:\n",
    "        image_scrs.append(image.attrs['src'])\n",
    "\n",
    "for image in image_scrs:\n",
    "    source = 'http:' + image\n",
    "    image_links.append(source)\n",
    "\n",
    "count = 0\n",
    "\n",
    "for link in image_links:\n",
    "    urlretrieve(link, f'./#images/{count}.jpg')\n",
    "    count += 1"
   ]
  }
 ],
 "metadata": {
  "kernelspec": {
   "display_name": "Python 3 (ipykernel)",
   "language": "python",
   "name": "python3"
  },
  "language_info": {
   "codemirror_mode": {
    "name": "ipython",
    "version": 3
   },
   "file_extension": ".py",
   "mimetype": "text/x-python",
   "name": "python",
   "nbconvert_exporter": "python",
   "pygments_lexer": "ipython3",
   "version": "3.10.6"
  }
 },
 "nbformat": 4,
 "nbformat_minor": 5
}
