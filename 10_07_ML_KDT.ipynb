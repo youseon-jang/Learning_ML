{
 "cells": [
  {
   "cell_type": "markdown",
   "id": "1bdca81b-0bf8-4d35-9bc9-4c2da9301c82",
   "metadata": {},
   "source": [
    "# Error"
   ]
  },
  {
   "cell_type": "markdown",
   "id": "d904680e-559a-4741-adde-fc8f66ba2ec7",
   "metadata": {},
   "source": [
    "TypeError: unhashable type: 'numpy.ndarray'"
   ]
  },
  {
   "cell_type": "markdown",
   "id": "8d7c47d7-97c9-4c43-821b-88790bf9bd40",
   "metadata": {},
   "source": [
    "- hash(object): object의 저장된 내용을 기준으로 한 개의 정수를 생성하여 반환하는 함수\n",
    "- https://analytics4everything.tistory.com/138 참고"
   ]
  },
  {
   "cell_type": "markdown",
   "id": "4a04dba3-ed41-4fb9-bb54-fc2fceb5a7c4",
   "metadata": {},
   "source": [
    "- By definition, a dictionary key needs to be hashable. An object is hashable if it has a hash value that remains the same during its lifetime. A hash value is an integer Python uses to compare dictionary keys while looking at a dictionary."
   ]
  },
  {
   "cell_type": "markdown",
   "id": "4b95ded6-9a94-4d33-9224-5f3012fc1ca3",
   "metadata": {},
   "source": [
    "- We raise the error because the elements of the array is a ndarray array object, and Ndarray objects are not hashable."
   ]
  },
  {
   "cell_type": "markdown",
   "id": "71431161-cc2d-4b65-8c95-14d9538a35fb",
   "metadata": {},
   "source": [
    "Solution\n",
    "- We separate the multi-dimensional array into its component arrays and add their values to the set to solve this error."
   ]
  },
  {
   "cell_type": "markdown",
   "id": "bd6b9be3-6c57-4f2f-b627-cea8a16b4543",
   "metadata": {},
   "source": [
    "You can add a numpy array directly to a set using the update() method. You cannot add a multi-dimensional ndarray directly to a set, you have to iterate over the ndarray and add each component array to the set using update().\n",
    "\n",
    "If you want to use the values in a ndarray as keys in a dictionary, you have to extract the values from the array using the indexing operator []."
   ]
  },
  {
   "cell_type": "markdown",
   "id": "df381ea4-f7f2-448d-8534-88f75a4d018d",
   "metadata": {},
   "source": [
    "# Introduction"
   ]
  },
  {
   "cell_type": "markdown",
   "id": "d3d66bbd-432d-41f0-ae2e-9b22132a0917",
   "metadata": {},
   "source": [
    "- 분류 : 답이 정해져있음 (은행이 대출 신청자들을 나눠서 돈을 빌려줌 -> 돈을 빌려줬어야 했다 아니다)\n",
    "- 군집 : 답이 정해져있지 않음(사과를 품질에 따라 3개로 나눠? 5개로 나눠? -> 어떤 게 정답이라고 말하기 어려움)"
   ]
  },
  {
   "cell_type": "markdown",
   "id": "73ea4686-f6be-44f3-a3c5-67b6c83c1b3a",
   "metadata": {},
   "source": [
    "## Numpy 복습"
   ]
  },
  {
   "cell_type": "code",
   "execution_count": 20,
   "id": "3d93ffbd-2923-494e-b2a3-f488c28c80bc",
   "metadata": {},
   "outputs": [],
   "source": [
    "import numpy as np"
   ]
  },
  {
   "cell_type": "markdown",
   "id": "06839016-c156-475f-a706-d0cfe5527099",
   "metadata": {},
   "source": [
    "- np.array\n",
    "- array.shape"
   ]
  },
  {
   "cell_type": "code",
   "execution_count": 21,
   "id": "a9655f16-f0e6-41a5-b92e-a4eaae5fe34d",
   "metadata": {},
   "outputs": [
    {
     "name": "stdout",
     "output_type": "stream",
     "text": [
      "array1 type:  <class 'numpy.ndarray'>\n",
      "array1 arry 형태:  (3,)\n"
     ]
    }
   ],
   "source": [
    "array1 = np.array([1, 2, 3])\n",
    "print('array1 type: ', type(array1))\n",
    "print('array1 arry 형태: ', array1.shape)"
   ]
  },
  {
   "cell_type": "code",
   "execution_count": 23,
   "id": "272b510e-0488-481e-a1c8-e44f94a0bae4",
   "metadata": {},
   "outputs": [
    {
     "name": "stdout",
     "output_type": "stream",
     "text": [
      "array2 type:  <class 'numpy.ndarray'>\n",
      "array2 arry 형태:  (2, 3)\n"
     ]
    }
   ],
   "source": [
    "array2 = np.array([[1, 2, 3], [2, 3, 4]])\n",
    "print('array2 type: ', type(array2))\n",
    "print('array2 arry 형태: ', array2.shape)"
   ]
  },
  {
   "cell_type": "markdown",
   "id": "63a87a7c-ce61-4660-bee8-6dd6afc92ca6",
   "metadata": {},
   "source": [
    "- ndarray.ndim"
   ]
  },
  {
   "cell_type": "code",
   "execution_count": 25,
   "id": "309008d2-d3b3-457f-9f67-67db53abc6e7",
   "metadata": {},
   "outputs": [
    {
     "name": "stdout",
     "output_type": "stream",
     "text": [
      "1\n",
      "2\n"
     ]
    }
   ],
   "source": [
    "print(array1.ndim)\n",
    "print(array2.ndim)"
   ]
  },
  {
   "cell_type": "markdown",
   "id": "6931d913-783f-4119-b1b2-22cb70e743ef",
   "metadata": {},
   "source": [
    "### ndarray의 데이터 타입"
   ]
  },
  {
   "cell_type": "code",
   "execution_count": 27,
   "id": "48772dc9-5d19-4914-8c75-98184b4e6c9c",
   "metadata": {},
   "outputs": [
    {
     "name": "stdout",
     "output_type": "stream",
     "text": [
      "<class 'list'>\n",
      "<class 'numpy.ndarray'>\n",
      "[1 2 3] int32\n"
     ]
    }
   ],
   "source": [
    "list1 = [1, 2, 3]\n",
    "print(type(list1))\n",
    "\n",
    "array1 = np.array(list1)\n",
    "print(type(array1))\n",
    "print(array1, array1.dtype)"
   ]
  },
  {
   "cell_type": "code",
   "execution_count": 30,
   "id": "8ad8a8e8-2bfb-49c1-9cd2-7eabab5c9024",
   "metadata": {},
   "outputs": [
    {
     "name": "stdout",
     "output_type": "stream",
     "text": [
      "['1' '2' 'test'] <U11\n",
      "[1. 2. 3.] float64\n"
     ]
    }
   ],
   "source": [
    "### ndarray로 변경\n",
    "list2 = [1, 2, 'test']\n",
    "array2 = np.array(list2)\n",
    "print(array2, array2.dtype)  ## ndarray는 데이터값이 모두 같은 데이터 타입이어야 하므로 문자열로 변환됨\n",
    "\n",
    "list3 = [1, 2, 3.0]\n",
    "array3 = np.array(list3)\n",
    "print(array3, array3.dtype)  ## ndarray는 데이터값이 모두 같은 데이터 타입이어야 하므로 float로 변환됨"
   ]
  },
  {
   "cell_type": "code",
   "execution_count": 33,
   "id": "0613715d-8329-4e01-925d-f269878b4137",
   "metadata": {},
   "outputs": [
    {
     "name": "stdout",
     "output_type": "stream",
     "text": [
      "[1. 2. 3.] float64\n",
      "[1 2 3] int32\n"
     ]
    }
   ],
   "source": [
    "## astype으로 변경 가능\n",
    "array_int = np.array([1, 2, 3])\n",
    "array_float = array_int.astype('float64')\n",
    "print(array_float, array_float.dtype)\n",
    "\n",
    "array_float = array_int.astype('int32')\n",
    "print(array_float, array_float.dtype)"
   ]
  },
  {
   "cell_type": "markdown",
   "id": "762a42f2-e33c-41e1-a31d-d184b750ef69",
   "metadata": {},
   "source": [
    "### ndarray를 편리하게 생성하기 - arange, zeros, ones"
   ]
  },
  {
   "cell_type": "markdown",
   "id": "3a40a637-63f2-4d6a-860a-5b73df46fa7d",
   "metadata": {},
   "source": [
    "- 특정 크기와 차원을 가진 ndarray를 연속값이나 0또는 1로 초기화해 쉽게 생성해야 할 필요가 있는 경우"
   ]
  },
  {
   "cell_type": "code",
   "execution_count": 34,
   "id": "c738e01a-57ba-448a-b098-92a09d75fd25",
   "metadata": {},
   "outputs": [
    {
     "data": {
      "text/plain": [
       "array([0, 1, 2, 3, 4, 5, 6, 7, 8, 9])"
      ]
     },
     "execution_count": 34,
     "metadata": {},
     "output_type": "execute_result"
    }
   ],
   "source": [
    "np.arange(10)"
   ]
  },
  {
   "cell_type": "code",
   "execution_count": 35,
   "id": "c367a6dd-6bfc-410f-86d2-db124fc04d34",
   "metadata": {},
   "outputs": [
    {
     "data": {
      "text/plain": [
       "array([[0, 0],\n",
       "       [0, 0],\n",
       "       [0, 0]])"
      ]
     },
     "execution_count": 35,
     "metadata": {},
     "output_type": "execute_result"
    }
   ],
   "source": [
    "np.zeros((3, 2), dtype = 'int32')"
   ]
  },
  {
   "cell_type": "code",
   "execution_count": 36,
   "id": "ec42a3d8-8f0b-4d32-96bf-35f8dfac5a50",
   "metadata": {},
   "outputs": [
    {
     "data": {
      "text/plain": [
       "array([[1, 1],\n",
       "       [1, 1],\n",
       "       [1, 1]])"
      ]
     },
     "execution_count": 36,
     "metadata": {},
     "output_type": "execute_result"
    }
   ],
   "source": [
    "np.ones((3, 2), dtype = 'int32')"
   ]
  },
  {
   "cell_type": "markdown",
   "id": "23c9a459-9593-412b-adf1-7cde37da35e4",
   "metadata": {},
   "source": [
    "### ndarray의 차원과 크기를 변경하는 reshape()"
   ]
  },
  {
   "cell_type": "code",
   "execution_count": 38,
   "id": "deceeaea-ee9b-4971-99bf-1682d49e6ed4",
   "metadata": {},
   "outputs": [
    {
     "data": {
      "text/plain": [
       "array([[0, 1, 2, 3, 4],\n",
       "       [5, 6, 7, 8, 9]])"
      ]
     },
     "execution_count": 38,
     "metadata": {},
     "output_type": "execute_result"
    }
   ],
   "source": [
    "array1 = np.arange(10)\n",
    "\n",
    "array2 = array1.reshape(2, 5)\n",
    "array2"
   ]
  },
  {
   "cell_type": "code",
   "execution_count": 39,
   "id": "a54ac8d7-59bb-4c8e-8413-a555935fb697",
   "metadata": {},
   "outputs": [
    {
     "data": {
      "text/plain": [
       "array([[0, 1, 2, 3, 4],\n",
       "       [5, 6, 7, 8, 9]])"
      ]
     },
     "execution_count": 39,
     "metadata": {},
     "output_type": "execute_result"
    }
   ],
   "source": [
    "array1 = np.arange(10)\n",
    "\n",
    "array2 = array1.reshape(2, -1)\n",
    "array2"
   ]
  },
  {
   "cell_type": "code",
   "execution_count": 41,
   "id": "f67fefb1-684d-4de7-aab0-af933391dd27",
   "metadata": {},
   "outputs": [
    {
     "data": {
      "text/plain": [
       "array([[[0, 1],\n",
       "        [2, 3]],\n",
       "\n",
       "       [[4, 5],\n",
       "        [6, 7]]])"
      ]
     },
     "execution_count": 41,
     "metadata": {},
     "output_type": "execute_result"
    }
   ],
   "source": [
    "array1 = np.arange(8)\n",
    "array3d = array1.reshape((2, 2, 2))\n",
    "array3d"
   ]
  },
  {
   "cell_type": "markdown",
   "id": "442a196a-4ffb-4743-9e5d-4026d5c4db66",
   "metadata": {},
   "source": [
    "### Indexing"
   ]
  },
  {
   "cell_type": "code",
   "execution_count": 43,
   "id": "020cd5f7-22a9-498b-ab59-21cea9938a26",
   "metadata": {},
   "outputs": [
    {
     "data": {
      "text/plain": [
       "array([1, 2, 3, 4, 5, 6, 7, 8, 9])"
      ]
     },
     "execution_count": 43,
     "metadata": {},
     "output_type": "execute_result"
    }
   ],
   "source": [
    "### 단일값 추출\n",
    "array1 = np.arange(start = 1, stop = 10)\n",
    "array1"
   ]
  },
  {
   "cell_type": "code",
   "execution_count": 44,
   "id": "67f183d1-5286-4ef1-a7d4-d0b8df5bdec1",
   "metadata": {},
   "outputs": [
    {
     "data": {
      "text/plain": [
       "3"
      ]
     },
     "execution_count": 44,
     "metadata": {},
     "output_type": "execute_result"
    }
   ],
   "source": [
    "array1[2]"
   ]
  },
  {
   "cell_type": "code",
   "execution_count": 47,
   "id": "ec37c7ac-c839-485b-ab69-06536ea5a13c",
   "metadata": {},
   "outputs": [
    {
     "data": {
      "text/plain": [
       "array([1, 2, 3])"
      ]
     },
     "execution_count": 47,
     "metadata": {},
     "output_type": "execute_result"
    }
   ],
   "source": [
    "### 슬라이싱\n",
    "array1 = np.arange(1, 11)\n",
    "array3 = array1[0:3]\n",
    "array3"
   ]
  },
  {
   "cell_type": "code",
   "execution_count": 49,
   "id": "1fe6dda2-31f8-493e-a868-d9e1a91d8222",
   "metadata": {},
   "outputs": [
    {
     "data": {
      "text/plain": [
       "array([[1, 2],\n",
       "       [4, 5]])"
      ]
     },
     "execution_count": 49,
     "metadata": {},
     "output_type": "execute_result"
    }
   ],
   "source": [
    "import numpy as np\n",
    "\n",
    "array1d = np.arange(start = 1, stop = 10)\n",
    "array2d = array1d.reshape(3, 3)\n",
    "array2d[0:2, 0:2]"
   ]
  },
  {
   "cell_type": "code",
   "execution_count": 54,
   "id": "e1a28bc7-c7c3-4168-9d8e-5add90bf28d5",
   "metadata": {},
   "outputs": [
    {
     "data": {
      "text/plain": [
       "array([[1, 2, 3],\n",
       "       [4, 5, 6],\n",
       "       [7, 8, 9]])"
      ]
     },
     "execution_count": 54,
     "metadata": {},
     "output_type": "execute_result"
    }
   ],
   "source": [
    "### 팬시 인덱싱\n",
    "array1d = np.arange(1, 10)\n",
    "array2d = array1d.reshape(3, 3)\n",
    "array2d"
   ]
  },
  {
   "cell_type": "code",
   "execution_count": 55,
   "id": "59c06bdb-dd0f-4649-9ad1-5555dc61b27b",
   "metadata": {},
   "outputs": [
    {
     "data": {
      "text/plain": [
       "array([3, 6])"
      ]
     },
     "execution_count": 55,
     "metadata": {},
     "output_type": "execute_result"
    }
   ],
   "source": [
    "array3 = array2d[[0, 1], 2]\n",
    "array3"
   ]
  },
  {
   "cell_type": "code",
   "execution_count": null,
   "id": "9e57c39d-8bc0-4197-83fb-829be081e1ee",
   "metadata": {},
   "outputs": [],
   "source": [
    "### 불린 인덱싱\n",
    "array1d = np.arange"
   ]
  },
  {
   "cell_type": "code",
   "execution_count": 95,
   "id": "7af5708c-2a37-4f4d-8fad-c71d609dc7ff",
   "metadata": {},
   "outputs": [
    {
     "data": {
      "text/plain": [
       "array([6, 7, 8, 9])"
      ]
     },
     "execution_count": 95,
     "metadata": {},
     "output_type": "execute_result"
    }
   ],
   "source": [
    "import numpy as np\n",
    "\n",
    "array1d = np.arange(start = 1, stop = 10)\n",
    "array3 = array1d[array1d > 5]\n",
    "array3"
   ]
  },
  {
   "cell_type": "code",
   "execution_count": 97,
   "id": "b95db612-8a95-4372-9541-34e12cab23c7",
   "metadata": {},
   "outputs": [
    {
     "data": {
      "text/plain": [
       "array([False, False, False, False, False,  True,  True,  True,  True])"
      ]
     },
     "execution_count": 97,
     "metadata": {},
     "output_type": "execute_result"
    }
   ],
   "source": [
    "boolean_indexes = array1d > 5\n",
    "boolean_indexes"
   ]
  },
  {
   "cell_type": "code",
   "execution_count": 98,
   "id": "54a248fa-7658-4d4c-b5ae-da4a984e7b65",
   "metadata": {},
   "outputs": [
    {
     "data": {
      "text/plain": [
       "array([6, 7, 8, 9])"
      ]
     },
     "execution_count": 98,
     "metadata": {},
     "output_type": "execute_result"
    }
   ],
   "source": [
    "array1d[boolean_indexes]"
   ]
  },
  {
   "cell_type": "markdown",
   "id": "0ae8a79a-5340-4087-ac6e-39481abc812b",
   "metadata": {},
   "source": [
    "### 행렬의 정렬"
   ]
  },
  {
   "cell_type": "markdown",
   "id": "abfa3ebc-6e64-48d2-b38b-e85570be547c",
   "metadata": {},
   "source": [
    "- np.sort\n",
    "- ndarray.sort()\n",
    "- argsort()"
   ]
  },
  {
   "cell_type": "markdown",
   "id": "ed2c143c-0299-4eee-b9fd-5cbc63f3e43e",
   "metadata": {},
   "source": [
    "- np.sort()...넘파이에서 sort()를 호출 : 원 행렬은 그대로 유지한채 원 행렬의 정렬된 행렬을 반환함\n",
    "- ndarray.sort()...행렬 자체에서 sort() 호출 : 원 행렬 자체를 정렬한 형태로 변환하며 저장하지 않으면 반환값은 None임"
   ]
  },
  {
   "cell_type": "code",
   "execution_count": 99,
   "id": "f5775f92-8fe3-4210-b47c-d6927dfa35df",
   "metadata": {},
   "outputs": [
    {
     "data": {
      "text/plain": [
       "array([3, 1, 9, 5])"
      ]
     },
     "execution_count": 99,
     "metadata": {},
     "output_type": "execute_result"
    }
   ],
   "source": [
    "org_array = np.array([3, 1, 9, 5])\n",
    "org_array"
   ]
  },
  {
   "cell_type": "code",
   "execution_count": 101,
   "id": "0949c42e-2636-4707-a6bc-8e96d095e499",
   "metadata": {},
   "outputs": [
    {
     "data": {
      "text/plain": [
       "array([1, 3, 5, 9])"
      ]
     },
     "execution_count": 101,
     "metadata": {},
     "output_type": "execute_result"
    }
   ],
   "source": [
    "sort_array1 = np.sort(org_array)\n",
    "sort_array1"
   ]
  },
  {
   "cell_type": "code",
   "execution_count": 103,
   "id": "27b683de-910e-4409-ba28-58cd5d748eba",
   "metadata": {},
   "outputs": [],
   "source": [
    "sort_array2 = org_array.sort()\n",
    "sort_array2"
   ]
  },
  {
   "cell_type": "code",
   "execution_count": 106,
   "id": "14de311d-0cd0-4a0a-b712-52dfd16350f5",
   "metadata": {},
   "outputs": [
    {
     "data": {
      "text/plain": [
       "array([9, 5, 3, 1])"
      ]
     },
     "execution_count": 106,
     "metadata": {},
     "output_type": "execute_result"
    }
   ],
   "source": [
    "np.sort(org_array)[::-1]"
   ]
  },
  {
   "cell_type": "code",
   "execution_count": 107,
   "id": "d28f6fb2-f862-4720-8e3c-5355b04f47ad",
   "metadata": {},
   "outputs": [
    {
     "data": {
      "text/plain": [
       "array([[ 8, 12],\n",
       "       [ 7,  1]])"
      ]
     },
     "execution_count": 107,
     "metadata": {},
     "output_type": "execute_result"
    }
   ],
   "source": [
    "array2d = np.array([[8, 12],\n",
    "                   [7, 1]])\n",
    "array2d"
   ]
  },
  {
   "cell_type": "code",
   "execution_count": 108,
   "id": "c41485de-1898-41ac-80ed-574fa3167383",
   "metadata": {},
   "outputs": [
    {
     "data": {
      "text/plain": [
       "array([[ 7,  1],\n",
       "       [ 8, 12]])"
      ]
     },
     "execution_count": 108,
     "metadata": {},
     "output_type": "execute_result"
    }
   ],
   "source": [
    "np.sort(array2d, axis = 0)"
   ]
  },
  {
   "cell_type": "code",
   "execution_count": 109,
   "id": "ddf085fe-64b8-461d-8697-08ab96b7339c",
   "metadata": {},
   "outputs": [
    {
     "data": {
      "text/plain": [
       "array([[ 8, 12],\n",
       "       [ 1,  7]])"
      ]
     },
     "execution_count": 109,
     "metadata": {},
     "output_type": "execute_result"
    }
   ],
   "source": [
    "np.sort(array2d, axis = 1)"
   ]
  },
  {
   "cell_type": "code",
   "execution_count": 110,
   "id": "cab3f131-5b7a-4f91-aa17-d6f6af119da6",
   "metadata": {},
   "outputs": [
    {
     "data": {
      "text/plain": [
       "array([1, 0, 3, 2], dtype=int64)"
      ]
     },
     "execution_count": 110,
     "metadata": {},
     "output_type": "execute_result"
    }
   ],
   "source": [
    "### 정렬된 행렬의 인덱스를 반환하기\n",
    "org_array = np.array([3, 1, 9, 5])\n",
    "np.argsort(org_array)"
   ]
  },
  {
   "cell_type": "code",
   "execution_count": 111,
   "id": "f81acdf8-2889-4f28-aae4-6c37829fd574",
   "metadata": {},
   "outputs": [
    {
     "data": {
      "text/plain": [
       "array([2, 3, 0, 1], dtype=int64)"
      ]
     },
     "execution_count": 111,
     "metadata": {},
     "output_type": "execute_result"
    }
   ],
   "source": [
    "np.argsort(org_array)[::-1]"
   ]
  },
  {
   "cell_type": "code",
   "execution_count": 113,
   "id": "bb5d516d-1f1a-4510-be00-147795f5f9f5",
   "metadata": {},
   "outputs": [
    {
     "data": {
      "text/plain": [
       "array(['John', 'Sarah', 'Samuel', 'Mike', 'Kate'], dtype='<U6')"
      ]
     },
     "execution_count": 113,
     "metadata": {},
     "output_type": "execute_result"
    }
   ],
   "source": [
    "import numpy as np\n",
    "\n",
    "name_array = np.array(['John', 'Mike', 'Sarah', 'Kate', 'Samuel'])\n",
    "score_array = np.array([78, 95, 84, 98, 88])\n",
    "\n",
    "indexes = np.argsort(score_array)\n",
    "name_array[indexes]"
   ]
  },
  {
   "cell_type": "markdown",
   "id": "de0b91e1-3854-46fe-9f63-ff29efe52bdf",
   "metadata": {},
   "source": [
    "### 선형대수 연산 - 행렬 내적과 전치 행렬 구하기"
   ]
  },
  {
   "cell_type": "code",
   "execution_count": 116,
   "id": "4c73a774-7694-427b-91d8-bdc87a434dd5",
   "metadata": {},
   "outputs": [
    {
     "data": {
      "text/plain": [
       "array([[ 58,  64],\n",
       "       [139, 154]])"
      ]
     },
     "execution_count": 116,
     "metadata": {},
     "output_type": "execute_result"
    }
   ],
   "source": [
    "### 행렬 내적(행렬 곱)\n",
    "A = np.array([[1, 2, 3],\n",
    "            [4, 5, 6]])\n",
    "\n",
    "B = np.array([[7, 8],\n",
    "            [9, 10],\n",
    "            [11, 12]])\n",
    "\n",
    "dot_product = np.dot(A, B)\n",
    "dot_product"
   ]
  },
  {
   "cell_type": "code",
   "execution_count": 117,
   "id": "022280d1-b251-4725-b5dc-5a939cadb455",
   "metadata": {},
   "outputs": [
    {
     "data": {
      "text/plain": [
       "array([[ 58,  64],\n",
       "       [139, 154]])"
      ]
     },
     "execution_count": 117,
     "metadata": {},
     "output_type": "execute_result"
    }
   ],
   "source": [
    "A @ B"
   ]
  },
  {
   "cell_type": "code",
   "execution_count": 118,
   "id": "4ba5ae3b-ef77-473f-ab97-28b9543b9425",
   "metadata": {},
   "outputs": [
    {
     "data": {
      "text/plain": [
       "array([[1, 2, 3],\n",
       "       [4, 5, 6]])"
      ]
     },
     "execution_count": 118,
     "metadata": {},
     "output_type": "execute_result"
    }
   ],
   "source": [
    "### 전치 행렬\n",
    "A"
   ]
  },
  {
   "cell_type": "code",
   "execution_count": 119,
   "id": "42cd31f9-d29d-48de-a2c3-20f469445cf9",
   "metadata": {},
   "outputs": [
    {
     "data": {
      "text/plain": [
       "array([[1, 4],\n",
       "       [2, 5],\n",
       "       [3, 6]])"
      ]
     },
     "execution_count": 119,
     "metadata": {},
     "output_type": "execute_result"
    }
   ],
   "source": [
    "transpose_mat = np.transpose(A)\n",
    "transpose_mat"
   ]
  },
  {
   "cell_type": "code",
   "execution_count": 120,
   "id": "842343e6-bf15-4c39-8c7a-47309f693e87",
   "metadata": {},
   "outputs": [
    {
     "data": {
      "text/plain": [
       "array([[1, 4],\n",
       "       [2, 5],\n",
       "       [3, 6]])"
      ]
     },
     "execution_count": 120,
     "metadata": {},
     "output_type": "execute_result"
    }
   ],
   "source": [
    "A.T"
   ]
  },
  {
   "cell_type": "markdown",
   "id": "1c6f533b-f181-45f4-bb76-4e28a3e056d8",
   "metadata": {},
   "source": [
    "## Pandas"
   ]
  },
  {
   "cell_type": "markdown",
   "id": "9453f75f-06a7-4555-ad18-1e1ebfcc24bf",
   "metadata": {},
   "source": [
    "### pandas intro"
   ]
  },
  {
   "cell_type": "code",
   "execution_count": 121,
   "id": "d3926d38-f176-4087-89bd-9d992d0aa420",
   "metadata": {},
   "outputs": [
    {
     "data": {
      "text/html": [
       "<div>\n",
       "<style scoped>\n",
       "    .dataframe tbody tr th:only-of-type {\n",
       "        vertical-align: middle;\n",
       "    }\n",
       "\n",
       "    .dataframe tbody tr th {\n",
       "        vertical-align: top;\n",
       "    }\n",
       "\n",
       "    .dataframe thead th {\n",
       "        text-align: right;\n",
       "    }\n",
       "</style>\n",
       "<table border=\"1\" class=\"dataframe\">\n",
       "  <thead>\n",
       "    <tr style=\"text-align: right;\">\n",
       "      <th></th>\n",
       "      <th>manufacturer</th>\n",
       "      <th>model</th>\n",
       "      <th>displ</th>\n",
       "      <th>year</th>\n",
       "      <th>cyl</th>\n",
       "      <th>trans</th>\n",
       "      <th>drv</th>\n",
       "      <th>cty</th>\n",
       "      <th>hwy</th>\n",
       "      <th>fl</th>\n",
       "      <th>class</th>\n",
       "    </tr>\n",
       "  </thead>\n",
       "  <tbody>\n",
       "    <tr>\n",
       "      <th>1</th>\n",
       "      <td>audi</td>\n",
       "      <td>a4</td>\n",
       "      <td>1.8</td>\n",
       "      <td>1999</td>\n",
       "      <td>4</td>\n",
       "      <td>auto(l5)</td>\n",
       "      <td>f</td>\n",
       "      <td>18</td>\n",
       "      <td>29</td>\n",
       "      <td>p</td>\n",
       "      <td>compact</td>\n",
       "    </tr>\n",
       "    <tr>\n",
       "      <th>2</th>\n",
       "      <td>audi</td>\n",
       "      <td>a4</td>\n",
       "      <td>1.8</td>\n",
       "      <td>1999</td>\n",
       "      <td>4</td>\n",
       "      <td>manual(m5)</td>\n",
       "      <td>f</td>\n",
       "      <td>21</td>\n",
       "      <td>29</td>\n",
       "      <td>p</td>\n",
       "      <td>compact</td>\n",
       "    </tr>\n",
       "    <tr>\n",
       "      <th>3</th>\n",
       "      <td>audi</td>\n",
       "      <td>a4</td>\n",
       "      <td>2.0</td>\n",
       "      <td>2008</td>\n",
       "      <td>4</td>\n",
       "      <td>manual(m6)</td>\n",
       "      <td>f</td>\n",
       "      <td>20</td>\n",
       "      <td>31</td>\n",
       "      <td>p</td>\n",
       "      <td>compact</td>\n",
       "    </tr>\n",
       "    <tr>\n",
       "      <th>4</th>\n",
       "      <td>audi</td>\n",
       "      <td>a4</td>\n",
       "      <td>2.0</td>\n",
       "      <td>2008</td>\n",
       "      <td>4</td>\n",
       "      <td>auto(av)</td>\n",
       "      <td>f</td>\n",
       "      <td>21</td>\n",
       "      <td>30</td>\n",
       "      <td>p</td>\n",
       "      <td>compact</td>\n",
       "    </tr>\n",
       "    <tr>\n",
       "      <th>5</th>\n",
       "      <td>audi</td>\n",
       "      <td>a4</td>\n",
       "      <td>2.8</td>\n",
       "      <td>1999</td>\n",
       "      <td>6</td>\n",
       "      <td>auto(l5)</td>\n",
       "      <td>f</td>\n",
       "      <td>16</td>\n",
       "      <td>26</td>\n",
       "      <td>p</td>\n",
       "      <td>compact</td>\n",
       "    </tr>\n",
       "  </tbody>\n",
       "</table>\n",
       "</div>"
      ],
      "text/plain": [
       "  manufacturer model  displ  year  cyl       trans drv  cty  hwy fl    class\n",
       "1         audi    a4    1.8  1999    4    auto(l5)   f   18   29  p  compact\n",
       "2         audi    a4    1.8  1999    4  manual(m5)   f   21   29  p  compact\n",
       "3         audi    a4    2.0  2008    4  manual(m6)   f   20   31  p  compact\n",
       "4         audi    a4    2.0  2008    4    auto(av)   f   21   30  p  compact\n",
       "5         audi    a4    2.8  1999    6    auto(l5)   f   16   26  p  compact"
      ]
     },
     "execution_count": 121,
     "metadata": {},
     "output_type": "execute_result"
    }
   ],
   "source": [
    "import pydataset\n",
    "\n",
    "mpg = pydataset.data('mpg')\n",
    "mpg.head()"
   ]
  },
  {
   "cell_type": "code",
   "execution_count": 122,
   "id": "6c07d8cb-12cd-4f58-ace4-9752a6c63c68",
   "metadata": {},
   "outputs": [
    {
     "data": {
      "text/plain": [
       "(234, 11)"
      ]
     },
     "execution_count": 122,
     "metadata": {},
     "output_type": "execute_result"
    }
   ],
   "source": [
    "mpg.shape"
   ]
  },
  {
   "cell_type": "code",
   "execution_count": 123,
   "id": "55adb924-c88d-4c8a-8647-93535103308a",
   "metadata": {},
   "outputs": [
    {
     "name": "stdout",
     "output_type": "stream",
     "text": [
      "<class 'pandas.core.frame.DataFrame'>\n",
      "Int64Index: 234 entries, 1 to 234\n",
      "Data columns (total 11 columns):\n",
      " #   Column        Non-Null Count  Dtype  \n",
      "---  ------        --------------  -----  \n",
      " 0   manufacturer  234 non-null    object \n",
      " 1   model         234 non-null    object \n",
      " 2   displ         234 non-null    float64\n",
      " 3   year          234 non-null    int64  \n",
      " 4   cyl           234 non-null    int64  \n",
      " 5   trans         234 non-null    object \n",
      " 6   drv           234 non-null    object \n",
      " 7   cty           234 non-null    int64  \n",
      " 8   hwy           234 non-null    int64  \n",
      " 9   fl            234 non-null    object \n",
      " 10  class         234 non-null    object \n",
      "dtypes: float64(1), int64(4), object(6)\n",
      "memory usage: 21.9+ KB\n"
     ]
    }
   ],
   "source": [
    "mpg.info()"
   ]
  },
  {
   "cell_type": "code",
   "execution_count": 124,
   "id": "1e69fdd2-f74c-4e3d-829f-cd2b9c197b9b",
   "metadata": {},
   "outputs": [
    {
     "data": {
      "text/html": [
       "<div>\n",
       "<style scoped>\n",
       "    .dataframe tbody tr th:only-of-type {\n",
       "        vertical-align: middle;\n",
       "    }\n",
       "\n",
       "    .dataframe tbody tr th {\n",
       "        vertical-align: top;\n",
       "    }\n",
       "\n",
       "    .dataframe thead th {\n",
       "        text-align: right;\n",
       "    }\n",
       "</style>\n",
       "<table border=\"1\" class=\"dataframe\">\n",
       "  <thead>\n",
       "    <tr style=\"text-align: right;\">\n",
       "      <th></th>\n",
       "      <th>displ</th>\n",
       "      <th>year</th>\n",
       "      <th>cyl</th>\n",
       "      <th>cty</th>\n",
       "      <th>hwy</th>\n",
       "    </tr>\n",
       "  </thead>\n",
       "  <tbody>\n",
       "    <tr>\n",
       "      <th>count</th>\n",
       "      <td>234.000000</td>\n",
       "      <td>234.000000</td>\n",
       "      <td>234.000000</td>\n",
       "      <td>234.000000</td>\n",
       "      <td>234.000000</td>\n",
       "    </tr>\n",
       "    <tr>\n",
       "      <th>mean</th>\n",
       "      <td>3.471795</td>\n",
       "      <td>2003.500000</td>\n",
       "      <td>5.888889</td>\n",
       "      <td>16.858974</td>\n",
       "      <td>23.440171</td>\n",
       "    </tr>\n",
       "    <tr>\n",
       "      <th>std</th>\n",
       "      <td>1.291959</td>\n",
       "      <td>4.509646</td>\n",
       "      <td>1.611534</td>\n",
       "      <td>4.255946</td>\n",
       "      <td>5.954643</td>\n",
       "    </tr>\n",
       "    <tr>\n",
       "      <th>min</th>\n",
       "      <td>1.600000</td>\n",
       "      <td>1999.000000</td>\n",
       "      <td>4.000000</td>\n",
       "      <td>9.000000</td>\n",
       "      <td>12.000000</td>\n",
       "    </tr>\n",
       "    <tr>\n",
       "      <th>25%</th>\n",
       "      <td>2.400000</td>\n",
       "      <td>1999.000000</td>\n",
       "      <td>4.000000</td>\n",
       "      <td>14.000000</td>\n",
       "      <td>18.000000</td>\n",
       "    </tr>\n",
       "    <tr>\n",
       "      <th>50%</th>\n",
       "      <td>3.300000</td>\n",
       "      <td>2003.500000</td>\n",
       "      <td>6.000000</td>\n",
       "      <td>17.000000</td>\n",
       "      <td>24.000000</td>\n",
       "    </tr>\n",
       "    <tr>\n",
       "      <th>75%</th>\n",
       "      <td>4.600000</td>\n",
       "      <td>2008.000000</td>\n",
       "      <td>8.000000</td>\n",
       "      <td>19.000000</td>\n",
       "      <td>27.000000</td>\n",
       "    </tr>\n",
       "    <tr>\n",
       "      <th>max</th>\n",
       "      <td>7.000000</td>\n",
       "      <td>2008.000000</td>\n",
       "      <td>8.000000</td>\n",
       "      <td>35.000000</td>\n",
       "      <td>44.000000</td>\n",
       "    </tr>\n",
       "  </tbody>\n",
       "</table>\n",
       "</div>"
      ],
      "text/plain": [
       "            displ         year         cyl         cty         hwy\n",
       "count  234.000000   234.000000  234.000000  234.000000  234.000000\n",
       "mean     3.471795  2003.500000    5.888889   16.858974   23.440171\n",
       "std      1.291959     4.509646    1.611534    4.255946    5.954643\n",
       "min      1.600000  1999.000000    4.000000    9.000000   12.000000\n",
       "25%      2.400000  1999.000000    4.000000   14.000000   18.000000\n",
       "50%      3.300000  2003.500000    6.000000   17.000000   24.000000\n",
       "75%      4.600000  2008.000000    8.000000   19.000000   27.000000\n",
       "max      7.000000  2008.000000    8.000000   35.000000   44.000000"
      ]
     },
     "execution_count": 124,
     "metadata": {},
     "output_type": "execute_result"
    }
   ],
   "source": [
    "mpg.describe()"
   ]
  },
  {
   "cell_type": "code",
   "execution_count": 125,
   "id": "033a365e-870b-4512-8b15-9b5913a7be69",
   "metadata": {},
   "outputs": [
    {
     "data": {
      "text/plain": [
       "4    81\n",
       "6    79\n",
       "8    70\n",
       "5     4\n",
       "Name: cyl, dtype: int64"
      ]
     },
     "execution_count": 125,
     "metadata": {},
     "output_type": "execute_result"
    }
   ],
   "source": [
    "mpg['cyl'].value_counts()"
   ]
  },
  {
   "cell_type": "code",
   "execution_count": 129,
   "id": "234e5b1f-d945-4b5b-9a7d-74556e89df12",
   "metadata": {},
   "outputs": [
    {
     "data": {
      "text/plain": [
       "pandas.core.series.Series"
      ]
     },
     "execution_count": 129,
     "metadata": {},
     "output_type": "execute_result"
    }
   ],
   "source": [
    "type(mpg['year'])"
   ]
  },
  {
   "cell_type": "code",
   "execution_count": 38,
   "id": "7d038563-4e25-4f47-b842-9aebb4a1f5d0",
   "metadata": {},
   "outputs": [
    {
     "data": {
      "text/html": [
       "<div>\n",
       "<style scoped>\n",
       "    .dataframe tbody tr th:only-of-type {\n",
       "        vertical-align: middle;\n",
       "    }\n",
       "\n",
       "    .dataframe tbody tr th {\n",
       "        vertical-align: top;\n",
       "    }\n",
       "\n",
       "    .dataframe thead th {\n",
       "        text-align: right;\n",
       "    }\n",
       "</style>\n",
       "<table border=\"1\" class=\"dataframe\">\n",
       "  <thead>\n",
       "    <tr style=\"text-align: right;\">\n",
       "      <th></th>\n",
       "      <th>displ</th>\n",
       "      <th>year</th>\n",
       "      <th>cyl</th>\n",
       "    </tr>\n",
       "  </thead>\n",
       "  <tbody>\n",
       "    <tr>\n",
       "      <th>1</th>\n",
       "      <td>1.8</td>\n",
       "      <td>1999</td>\n",
       "      <td>4</td>\n",
       "    </tr>\n",
       "    <tr>\n",
       "      <th>2</th>\n",
       "      <td>1.8</td>\n",
       "      <td>1999</td>\n",
       "      <td>4</td>\n",
       "    </tr>\n",
       "    <tr>\n",
       "      <th>3</th>\n",
       "      <td>2.0</td>\n",
       "      <td>2008</td>\n",
       "      <td>4</td>\n",
       "    </tr>\n",
       "    <tr>\n",
       "      <th>4</th>\n",
       "      <td>2.0</td>\n",
       "      <td>2008</td>\n",
       "      <td>4</td>\n",
       "    </tr>\n",
       "    <tr>\n",
       "      <th>5</th>\n",
       "      <td>2.8</td>\n",
       "      <td>1999</td>\n",
       "      <td>6</td>\n",
       "    </tr>\n",
       "  </tbody>\n",
       "</table>\n",
       "</div>"
      ],
      "text/plain": [
       "   displ  year  cyl\n",
       "1    1.8  1999    4\n",
       "2    1.8  1999    4\n",
       "3    2.0  2008    4\n",
       "4    2.0  2008    4\n",
       "5    2.8  1999    6"
      ]
     },
     "execution_count": 38,
     "metadata": {},
     "output_type": "execute_result"
    }
   ],
   "source": [
    "df = mpg.iloc[:5, 2:5]\n",
    "df"
   ]
  },
  {
   "cell_type": "markdown",
   "id": "bfa5a9f4-fcef-42d2-8b98-1657f3e584ef",
   "metadata": {},
   "source": [
    "### dataframe과 리스트, 딕셔너리, 넘파이 ndarray 상호 변환"
   ]
  },
  {
   "cell_type": "markdown",
   "id": "665371bd-2779-47bf-8b61-ce0fbf86f141",
   "metadata": {},
   "source": [
    "#### dataframe으로 변환하기"
   ]
  },
  {
   "cell_type": "code",
   "execution_count": 135,
   "id": "6797ae0c-bddf-4f2e-b901-d5701e12146c",
   "metadata": {},
   "outputs": [
    {
     "data": {
      "text/html": [
       "<div>\n",
       "<style scoped>\n",
       "    .dataframe tbody tr th:only-of-type {\n",
       "        vertical-align: middle;\n",
       "    }\n",
       "\n",
       "    .dataframe tbody tr th {\n",
       "        vertical-align: top;\n",
       "    }\n",
       "\n",
       "    .dataframe thead th {\n",
       "        text-align: right;\n",
       "    }\n",
       "</style>\n",
       "<table border=\"1\" class=\"dataframe\">\n",
       "  <thead>\n",
       "    <tr style=\"text-align: right;\">\n",
       "      <th></th>\n",
       "      <th>col1</th>\n",
       "    </tr>\n",
       "  </thead>\n",
       "  <tbody>\n",
       "    <tr>\n",
       "      <th>0</th>\n",
       "      <td>1</td>\n",
       "    </tr>\n",
       "    <tr>\n",
       "      <th>1</th>\n",
       "      <td>2</td>\n",
       "    </tr>\n",
       "    <tr>\n",
       "      <th>2</th>\n",
       "      <td>3</td>\n",
       "    </tr>\n",
       "  </tbody>\n",
       "</table>\n",
       "</div>"
      ],
      "text/plain": [
       "   col1\n",
       "0     1\n",
       "1     2\n",
       "2     3"
      ]
     },
     "execution_count": 135,
     "metadata": {},
     "output_type": "execute_result"
    }
   ],
   "source": [
    "import numpy as np\n",
    "import pandas as pd\n",
    "\n",
    "col_name1 = ['col1']\n",
    "list1 = [1, 2, 3]\n",
    "array1 = np.array(list1)\n",
    "\n",
    "df_list1 = pd.DataFrame(list1, columns = col_name1)\n",
    "df_list1"
   ]
  },
  {
   "cell_type": "code",
   "execution_count": 136,
   "id": "b12bf91c-31d2-4775-a6fb-c8b217f67d96",
   "metadata": {},
   "outputs": [
    {
     "data": {
      "text/html": [
       "<div>\n",
       "<style scoped>\n",
       "    .dataframe tbody tr th:only-of-type {\n",
       "        vertical-align: middle;\n",
       "    }\n",
       "\n",
       "    .dataframe tbody tr th {\n",
       "        vertical-align: top;\n",
       "    }\n",
       "\n",
       "    .dataframe thead th {\n",
       "        text-align: right;\n",
       "    }\n",
       "</style>\n",
       "<table border=\"1\" class=\"dataframe\">\n",
       "  <thead>\n",
       "    <tr style=\"text-align: right;\">\n",
       "      <th></th>\n",
       "      <th>col1</th>\n",
       "    </tr>\n",
       "  </thead>\n",
       "  <tbody>\n",
       "    <tr>\n",
       "      <th>0</th>\n",
       "      <td>1</td>\n",
       "    </tr>\n",
       "    <tr>\n",
       "      <th>1</th>\n",
       "      <td>2</td>\n",
       "    </tr>\n",
       "    <tr>\n",
       "      <th>2</th>\n",
       "      <td>3</td>\n",
       "    </tr>\n",
       "  </tbody>\n",
       "</table>\n",
       "</div>"
      ],
      "text/plain": [
       "   col1\n",
       "0     1\n",
       "1     2\n",
       "2     3"
      ]
     },
     "execution_count": 136,
     "metadata": {},
     "output_type": "execute_result"
    }
   ],
   "source": [
    "df_array1 = pd.DataFrame(array1, columns = col_name1)\n",
    "df_array1"
   ]
  },
  {
   "cell_type": "code",
   "execution_count": 137,
   "id": "d1d7ef67-be7a-43ea-8ad1-3a5d2cf60de6",
   "metadata": {},
   "outputs": [
    {
     "data": {
      "text/html": [
       "<div>\n",
       "<style scoped>\n",
       "    .dataframe tbody tr th:only-of-type {\n",
       "        vertical-align: middle;\n",
       "    }\n",
       "\n",
       "    .dataframe tbody tr th {\n",
       "        vertical-align: top;\n",
       "    }\n",
       "\n",
       "    .dataframe thead th {\n",
       "        text-align: right;\n",
       "    }\n",
       "</style>\n",
       "<table border=\"1\" class=\"dataframe\">\n",
       "  <thead>\n",
       "    <tr style=\"text-align: right;\">\n",
       "      <th></th>\n",
       "      <th>col1</th>\n",
       "      <th>col2</th>\n",
       "      <th>col3</th>\n",
       "    </tr>\n",
       "  </thead>\n",
       "  <tbody>\n",
       "    <tr>\n",
       "      <th>0</th>\n",
       "      <td>1</td>\n",
       "      <td>2</td>\n",
       "      <td>3</td>\n",
       "    </tr>\n",
       "    <tr>\n",
       "      <th>1</th>\n",
       "      <td>11</td>\n",
       "      <td>12</td>\n",
       "      <td>13</td>\n",
       "    </tr>\n",
       "  </tbody>\n",
       "</table>\n",
       "</div>"
      ],
      "text/plain": [
       "   col1  col2  col3\n",
       "0     1     2     3\n",
       "1    11    12    13"
      ]
     },
     "execution_count": 137,
     "metadata": {},
     "output_type": "execute_result"
    }
   ],
   "source": [
    "### 2차원\n",
    "col_name2 = ['col1', 'col2', 'col3']\n",
    "\n",
    "list2 = [[1, 2, 3],\n",
    "        [11, 12, 13]]\n",
    "array2 = np.array(list2)\n",
    "\n",
    "df_list2 = pd.DataFrame(list2, columns = col_name2)\n",
    "df_list2"
   ]
  },
  {
   "cell_type": "code",
   "execution_count": 139,
   "id": "312a3271-1e69-44f3-9196-11c113c259e0",
   "metadata": {},
   "outputs": [
    {
     "data": {
      "text/html": [
       "<div>\n",
       "<style scoped>\n",
       "    .dataframe tbody tr th:only-of-type {\n",
       "        vertical-align: middle;\n",
       "    }\n",
       "\n",
       "    .dataframe tbody tr th {\n",
       "        vertical-align: top;\n",
       "    }\n",
       "\n",
       "    .dataframe thead th {\n",
       "        text-align: right;\n",
       "    }\n",
       "</style>\n",
       "<table border=\"1\" class=\"dataframe\">\n",
       "  <thead>\n",
       "    <tr style=\"text-align: right;\">\n",
       "      <th></th>\n",
       "      <th>col1</th>\n",
       "      <th>col2</th>\n",
       "      <th>col3</th>\n",
       "    </tr>\n",
       "  </thead>\n",
       "  <tbody>\n",
       "    <tr>\n",
       "      <th>0</th>\n",
       "      <td>1</td>\n",
       "      <td>2</td>\n",
       "      <td>3</td>\n",
       "    </tr>\n",
       "    <tr>\n",
       "      <th>1</th>\n",
       "      <td>11</td>\n",
       "      <td>12</td>\n",
       "      <td>13</td>\n",
       "    </tr>\n",
       "  </tbody>\n",
       "</table>\n",
       "</div>"
      ],
      "text/plain": [
       "   col1  col2  col3\n",
       "0     1     2     3\n",
       "1    11    12    13"
      ]
     },
     "execution_count": 139,
     "metadata": {},
     "output_type": "execute_result"
    }
   ],
   "source": [
    "df_array2 = pd.DataFrame(array2, columns = col_name2)\n",
    "df_array2"
   ]
  },
  {
   "cell_type": "code",
   "execution_count": 141,
   "id": "c9db9f60-a9a6-4ca6-9405-b02e998ca10f",
   "metadata": {},
   "outputs": [
    {
     "data": {
      "text/html": [
       "<div>\n",
       "<style scoped>\n",
       "    .dataframe tbody tr th:only-of-type {\n",
       "        vertical-align: middle;\n",
       "    }\n",
       "\n",
       "    .dataframe tbody tr th {\n",
       "        vertical-align: top;\n",
       "    }\n",
       "\n",
       "    .dataframe thead th {\n",
       "        text-align: right;\n",
       "    }\n",
       "</style>\n",
       "<table border=\"1\" class=\"dataframe\">\n",
       "  <thead>\n",
       "    <tr style=\"text-align: right;\">\n",
       "      <th></th>\n",
       "      <th>col1</th>\n",
       "      <th>col2</th>\n",
       "      <th>col3</th>\n",
       "    </tr>\n",
       "  </thead>\n",
       "  <tbody>\n",
       "    <tr>\n",
       "      <th>0</th>\n",
       "      <td>1</td>\n",
       "      <td>2</td>\n",
       "      <td>3</td>\n",
       "    </tr>\n",
       "    <tr>\n",
       "      <th>1</th>\n",
       "      <td>11</td>\n",
       "      <td>22</td>\n",
       "      <td>33</td>\n",
       "    </tr>\n",
       "  </tbody>\n",
       "</table>\n",
       "</div>"
      ],
      "text/plain": [
       "   col1  col2  col3\n",
       "0     1     2     3\n",
       "1    11    22    33"
      ]
     },
     "execution_count": 141,
     "metadata": {},
     "output_type": "execute_result"
    }
   ],
   "source": [
    "### dictionary\n",
    "dict = {'col1' :[1, 11], 'col2' : [2, 22], 'col3' : [3, 33]}\n",
    "df_dict = pd.DataFrame(dict)\n",
    "df_dict"
   ]
  },
  {
   "cell_type": "markdown",
   "id": "6b9205e9-3773-4cbf-9039-44396382dc99",
   "metadata": {},
   "source": [
    "#### dataframe을 변환하기"
   ]
  },
  {
   "cell_type": "code",
   "execution_count": 13,
   "id": "cd210e45-c2dd-4c45-a33e-899f9db2e089",
   "metadata": {},
   "outputs": [
    {
     "data": {
      "text/plain": [
       "array([[1.800e+00, 1.999e+03, 4.000e+00],\n",
       "       [1.800e+00, 1.999e+03, 4.000e+00],\n",
       "       [2.000e+00, 2.008e+03, 4.000e+00],\n",
       "       [2.000e+00, 2.008e+03, 4.000e+00],\n",
       "       [2.800e+00, 1.999e+03, 6.000e+00]])"
      ]
     },
     "execution_count": 13,
     "metadata": {},
     "output_type": "execute_result"
    }
   ],
   "source": [
    "# df -> array\n",
    "df.values"
   ]
  },
  {
   "cell_type": "code",
   "execution_count": 14,
   "id": "a8f7abea-5541-4ffb-8538-c44770438ada",
   "metadata": {},
   "outputs": [
    {
     "data": {
      "text/plain": [
       "<bound method DataFrame.to_dict of    displ  year  cyl\n",
       "1    1.8  1999    4\n",
       "2    1.8  1999    4\n",
       "3    2.0  2008    4\n",
       "4    2.0  2008    4\n",
       "5    2.8  1999    6>"
      ]
     },
     "execution_count": 14,
     "metadata": {},
     "output_type": "execute_result"
    }
   ],
   "source": [
    "# df -> dictionary\n",
    "df.to_dict"
   ]
  },
  {
   "cell_type": "code",
   "execution_count": 20,
   "id": "b1e1f16c-3829-4711-8783-5c033f6d1b10",
   "metadata": {},
   "outputs": [
    {
     "data": {
      "text/plain": [
       "[[1.8, 1999.0, 4.0],\n",
       " [1.8, 1999.0, 4.0],\n",
       " [2.0, 2008.0, 4.0],\n",
       " [2.0, 2008.0, 4.0],\n",
       " [2.8, 1999.0, 6.0]]"
      ]
     },
     "execution_count": 20,
     "metadata": {},
     "output_type": "execute_result"
    }
   ],
   "source": [
    "# df -> list(1)\n",
    "df.values.tolist()"
   ]
  },
  {
   "cell_type": "code",
   "execution_count": 21,
   "id": "815b9718-7f34-4b22-9f1a-190c61f35773",
   "metadata": {},
   "outputs": [
    {
     "data": {
      "text/plain": [
       "[1.8, 1.8, 2.0, 2.0, 2.8]"
      ]
     },
     "execution_count": 21,
     "metadata": {},
     "output_type": "execute_result"
    }
   ],
   "source": [
    "# df -> list(2)\n",
    "df['displ'].tolist()"
   ]
  },
  {
   "cell_type": "markdown",
   "id": "8cd85ce3-2501-4ec1-be87-5127a4a84ba6",
   "metadata": {},
   "source": [
    "#### df를 하나의 리스트로 만들어주세요."
   ]
  },
  {
   "cell_type": "code",
   "execution_count": 42,
   "id": "62d25ac6-41f1-40f9-bc11-8875bcb2837b",
   "metadata": {
    "collapsed": true,
    "jupyter": {
     "outputs_hidden": true
    },
    "tags": []
   },
   "outputs": [
    {
     "data": {
      "text/plain": [
       "[1.8,\n",
       " 1999.0,\n",
       " 4.0,\n",
       " 1.8,\n",
       " 1999.0,\n",
       " 4.0,\n",
       " 2.0,\n",
       " 2008.0,\n",
       " 4.0,\n",
       " 2.0,\n",
       " 2008.0,\n",
       " 4.0,\n",
       " 2.8,\n",
       " 1999.0,\n",
       " 6.0]"
      ]
     },
     "execution_count": 42,
     "metadata": {},
     "output_type": "execute_result"
    }
   ],
   "source": [
    "[y for x in df.values.tolist() for y in x ]"
   ]
  },
  {
   "cell_type": "code",
   "execution_count": 36,
   "id": "ece07d7c-b424-4fb6-808f-a25a13f14fa8",
   "metadata": {},
   "outputs": [
    {
     "data": {
      "text/plain": [
       "array([1.800e+00, 1.999e+03, 4.000e+00, 1.800e+00, 1.999e+03, 4.000e+00,\n",
       "       2.000e+00, 2.008e+03, 4.000e+00, 2.000e+00, 2.008e+03, 4.000e+00,\n",
       "       2.800e+00, 1.999e+03, 6.000e+00])"
      ]
     },
     "execution_count": 36,
     "metadata": {},
     "output_type": "execute_result"
    }
   ],
   "source": [
    "import numpy as np\n",
    "\n",
    "df=np.array(df)\n",
    "df.flatten() "
   ]
  },
  {
   "cell_type": "code",
   "execution_count": 39,
   "id": "63119bda-62e1-4d13-bc92-fd89df193f95",
   "metadata": {},
   "outputs": [],
   "source": [
    "dfli = df.values.tolist()\n",
    "li = []\n",
    "for i in dfli:\n",
    "    for j in i:\n",
    "        li.append(j) "
   ]
  },
  {
   "cell_type": "code",
   "execution_count": 40,
   "id": "e6dd2366-a426-4632-ab24-9441e1a66567",
   "metadata": {
    "collapsed": true,
    "jupyter": {
     "outputs_hidden": true
    },
    "tags": []
   },
   "outputs": [
    {
     "data": {
      "text/plain": [
       "[1.8,\n",
       " 1999.0,\n",
       " 4.0,\n",
       " 1.8,\n",
       " 1999.0,\n",
       " 4.0,\n",
       " 2.0,\n",
       " 2008.0,\n",
       " 4.0,\n",
       " 2.0,\n",
       " 2008.0,\n",
       " 4.0,\n",
       " 2.8,\n",
       " 1999.0,\n",
       " 6.0]"
      ]
     },
     "execution_count": 40,
     "metadata": {},
     "output_type": "execute_result"
    }
   ],
   "source": [
    "df.values.flatten().tolist() "
   ]
  },
  {
   "cell_type": "code",
   "execution_count": 41,
   "id": "8bbe92e1-7f52-453d-825e-45b921238905",
   "metadata": {
    "collapsed": true,
    "jupyter": {
     "outputs_hidden": true
    },
    "tags": []
   },
   "outputs": [
    {
     "data": {
      "text/plain": [
       "[1.8,\n",
       " 1999.0,\n",
       " 4.0,\n",
       " 1.8,\n",
       " 1999.0,\n",
       " 4.0,\n",
       " 2.0,\n",
       " 2008.0,\n",
       " 4.0,\n",
       " 2.0,\n",
       " 2008.0,\n",
       " 4.0,\n",
       " 2.8,\n",
       " 1999.0,\n",
       " 6.0]"
      ]
     },
     "execution_count": 41,
     "metadata": {},
     "output_type": "execute_result"
    }
   ],
   "source": [
    "df.values.reshape(-1).tolist() "
   ]
  },
  {
   "cell_type": "markdown",
   "id": "c49a602d-72ae-49da-ac87-7e02eedae250",
   "metadata": {},
   "source": [
    "### DataFrame 칼럼 데이터 세트 생성과 수정"
   ]
  },
  {
   "cell_type": "code",
   "execution_count": 143,
   "id": "e9b95e0e-0348-46ef-a9da-a976e43122bf",
   "metadata": {},
   "outputs": [
    {
     "data": {
      "text/html": [
       "<div>\n",
       "<style scoped>\n",
       "    .dataframe tbody tr th:only-of-type {\n",
       "        vertical-align: middle;\n",
       "    }\n",
       "\n",
       "    .dataframe tbody tr th {\n",
       "        vertical-align: top;\n",
       "    }\n",
       "\n",
       "    .dataframe thead th {\n",
       "        text-align: right;\n",
       "    }\n",
       "</style>\n",
       "<table border=\"1\" class=\"dataframe\">\n",
       "  <thead>\n",
       "    <tr style=\"text-align: right;\">\n",
       "      <th></th>\n",
       "      <th>manufacturer</th>\n",
       "      <th>model</th>\n",
       "      <th>displ</th>\n",
       "      <th>year</th>\n",
       "      <th>cyl</th>\n",
       "      <th>trans</th>\n",
       "      <th>drv</th>\n",
       "      <th>cty</th>\n",
       "      <th>hwy</th>\n",
       "      <th>fl</th>\n",
       "      <th>class</th>\n",
       "      <th>mpg0</th>\n",
       "    </tr>\n",
       "  </thead>\n",
       "  <tbody>\n",
       "    <tr>\n",
       "      <th>1</th>\n",
       "      <td>audi</td>\n",
       "      <td>a4</td>\n",
       "      <td>1.8</td>\n",
       "      <td>1999</td>\n",
       "      <td>4</td>\n",
       "      <td>auto(l5)</td>\n",
       "      <td>f</td>\n",
       "      <td>18</td>\n",
       "      <td>29</td>\n",
       "      <td>p</td>\n",
       "      <td>compact</td>\n",
       "      <td>0</td>\n",
       "    </tr>\n",
       "    <tr>\n",
       "      <th>2</th>\n",
       "      <td>audi</td>\n",
       "      <td>a4</td>\n",
       "      <td>1.8</td>\n",
       "      <td>1999</td>\n",
       "      <td>4</td>\n",
       "      <td>manual(m5)</td>\n",
       "      <td>f</td>\n",
       "      <td>21</td>\n",
       "      <td>29</td>\n",
       "      <td>p</td>\n",
       "      <td>compact</td>\n",
       "      <td>0</td>\n",
       "    </tr>\n",
       "    <tr>\n",
       "      <th>3</th>\n",
       "      <td>audi</td>\n",
       "      <td>a4</td>\n",
       "      <td>2.0</td>\n",
       "      <td>2008</td>\n",
       "      <td>4</td>\n",
       "      <td>manual(m6)</td>\n",
       "      <td>f</td>\n",
       "      <td>20</td>\n",
       "      <td>31</td>\n",
       "      <td>p</td>\n",
       "      <td>compact</td>\n",
       "      <td>0</td>\n",
       "    </tr>\n",
       "    <tr>\n",
       "      <th>4</th>\n",
       "      <td>audi</td>\n",
       "      <td>a4</td>\n",
       "      <td>2.0</td>\n",
       "      <td>2008</td>\n",
       "      <td>4</td>\n",
       "      <td>auto(av)</td>\n",
       "      <td>f</td>\n",
       "      <td>21</td>\n",
       "      <td>30</td>\n",
       "      <td>p</td>\n",
       "      <td>compact</td>\n",
       "      <td>0</td>\n",
       "    </tr>\n",
       "    <tr>\n",
       "      <th>5</th>\n",
       "      <td>audi</td>\n",
       "      <td>a4</td>\n",
       "      <td>2.8</td>\n",
       "      <td>1999</td>\n",
       "      <td>6</td>\n",
       "      <td>auto(l5)</td>\n",
       "      <td>f</td>\n",
       "      <td>16</td>\n",
       "      <td>26</td>\n",
       "      <td>p</td>\n",
       "      <td>compact</td>\n",
       "      <td>0</td>\n",
       "    </tr>\n",
       "  </tbody>\n",
       "</table>\n",
       "</div>"
      ],
      "text/plain": [
       "  manufacturer model  displ  year  cyl       trans drv  cty  hwy fl    class  \\\n",
       "1         audi    a4    1.8  1999    4    auto(l5)   f   18   29  p  compact   \n",
       "2         audi    a4    1.8  1999    4  manual(m5)   f   21   29  p  compact   \n",
       "3         audi    a4    2.0  2008    4  manual(m6)   f   20   31  p  compact   \n",
       "4         audi    a4    2.0  2008    4    auto(av)   f   21   30  p  compact   \n",
       "5         audi    a4    2.8  1999    6    auto(l5)   f   16   26  p  compact   \n",
       "\n",
       "   mpg0  \n",
       "1     0  \n",
       "2     0  \n",
       "3     0  \n",
       "4     0  \n",
       "5     0  "
      ]
     },
     "execution_count": 143,
     "metadata": {},
     "output_type": "execute_result"
    }
   ],
   "source": [
    "mpg['mpg0'] = 0\n",
    "mpg.head()"
   ]
  },
  {
   "cell_type": "code",
   "execution_count": 147,
   "id": "5452d302-605c-43d0-b874-e03c320d8eb2",
   "metadata": {},
   "outputs": [
    {
     "data": {
      "text/html": [
       "<div>\n",
       "<style scoped>\n",
       "    .dataframe tbody tr th:only-of-type {\n",
       "        vertical-align: middle;\n",
       "    }\n",
       "\n",
       "    .dataframe tbody tr th {\n",
       "        vertical-align: top;\n",
       "    }\n",
       "\n",
       "    .dataframe thead th {\n",
       "        text-align: right;\n",
       "    }\n",
       "</style>\n",
       "<table border=\"1\" class=\"dataframe\">\n",
       "  <thead>\n",
       "    <tr style=\"text-align: right;\">\n",
       "      <th></th>\n",
       "      <th>manufacturer</th>\n",
       "      <th>model</th>\n",
       "      <th>displ</th>\n",
       "      <th>year</th>\n",
       "      <th>cyl</th>\n",
       "      <th>trans</th>\n",
       "      <th>drv</th>\n",
       "      <th>cty</th>\n",
       "      <th>hwy</th>\n",
       "      <th>fl</th>\n",
       "      <th>class</th>\n",
       "    </tr>\n",
       "  </thead>\n",
       "  <tbody>\n",
       "    <tr>\n",
       "      <th>1</th>\n",
       "      <td>audi</td>\n",
       "      <td>a4</td>\n",
       "      <td>1.8</td>\n",
       "      <td>1999</td>\n",
       "      <td>4</td>\n",
       "      <td>auto(l5)</td>\n",
       "      <td>f</td>\n",
       "      <td>18</td>\n",
       "      <td>29</td>\n",
       "      <td>p</td>\n",
       "      <td>compact</td>\n",
       "    </tr>\n",
       "    <tr>\n",
       "      <th>2</th>\n",
       "      <td>audi</td>\n",
       "      <td>a4</td>\n",
       "      <td>1.8</td>\n",
       "      <td>1999</td>\n",
       "      <td>4</td>\n",
       "      <td>manual(m5)</td>\n",
       "      <td>f</td>\n",
       "      <td>21</td>\n",
       "      <td>29</td>\n",
       "      <td>p</td>\n",
       "      <td>compact</td>\n",
       "    </tr>\n",
       "    <tr>\n",
       "      <th>3</th>\n",
       "      <td>audi</td>\n",
       "      <td>a4</td>\n",
       "      <td>2.0</td>\n",
       "      <td>2008</td>\n",
       "      <td>4</td>\n",
       "      <td>manual(m6)</td>\n",
       "      <td>f</td>\n",
       "      <td>20</td>\n",
       "      <td>31</td>\n",
       "      <td>p</td>\n",
       "      <td>compact</td>\n",
       "    </tr>\n",
       "    <tr>\n",
       "      <th>4</th>\n",
       "      <td>audi</td>\n",
       "      <td>a4</td>\n",
       "      <td>2.0</td>\n",
       "      <td>2008</td>\n",
       "      <td>4</td>\n",
       "      <td>auto(av)</td>\n",
       "      <td>f</td>\n",
       "      <td>21</td>\n",
       "      <td>30</td>\n",
       "      <td>p</td>\n",
       "      <td>compact</td>\n",
       "    </tr>\n",
       "    <tr>\n",
       "      <th>5</th>\n",
       "      <td>audi</td>\n",
       "      <td>a4</td>\n",
       "      <td>2.8</td>\n",
       "      <td>1999</td>\n",
       "      <td>6</td>\n",
       "      <td>auto(l5)</td>\n",
       "      <td>f</td>\n",
       "      <td>16</td>\n",
       "      <td>26</td>\n",
       "      <td>p</td>\n",
       "      <td>compact</td>\n",
       "    </tr>\n",
       "  </tbody>\n",
       "</table>\n",
       "</div>"
      ],
      "text/plain": [
       "  manufacturer model  displ  year  cyl       trans drv  cty  hwy fl    class\n",
       "1         audi    a4    1.8  1999    4    auto(l5)   f   18   29  p  compact\n",
       "2         audi    a4    1.8  1999    4  manual(m5)   f   21   29  p  compact\n",
       "3         audi    a4    2.0  2008    4  manual(m6)   f   20   31  p  compact\n",
       "4         audi    a4    2.0  2008    4    auto(av)   f   21   30  p  compact\n",
       "5         audi    a4    2.8  1999    6    auto(l5)   f   16   26  p  compact"
      ]
     },
     "execution_count": 147,
     "metadata": {},
     "output_type": "execute_result"
    }
   ],
   "source": [
    "## axis = 0은 로우 방향 |\n",
    "## axis = 1은 칼럼 방향 --\n",
    "\n",
    "mpg = mpg.drop(['mpg0'], axis = 1)\n",
    "mpg.head()"
   ]
  },
  {
   "cell_type": "code",
   "execution_count": 148,
   "id": "3c4c4805-fa1c-4769-ad6d-d0a95bf4189c",
   "metadata": {},
   "outputs": [
    {
     "data": {
      "text/plain": [
       "Int64Index([  1,   2,   3,   4,   5,   6,   7,   8,   9,  10,\n",
       "            ...\n",
       "            225, 226, 227, 228, 229, 230, 231, 232, 233, 234],\n",
       "           dtype='int64', length=234)"
      ]
     },
     "execution_count": 148,
     "metadata": {},
     "output_type": "execute_result"
    }
   ],
   "source": [
    "#### index 객체\n",
    "mpg.index"
   ]
  },
  {
   "cell_type": "code",
   "execution_count": 151,
   "id": "88c07e06-f270-4a93-a074-562ff32cd59f",
   "metadata": {},
   "outputs": [
    {
     "data": {
      "text/html": [
       "<div>\n",
       "<style scoped>\n",
       "    .dataframe tbody tr th:only-of-type {\n",
       "        vertical-align: middle;\n",
       "    }\n",
       "\n",
       "    .dataframe tbody tr th {\n",
       "        vertical-align: top;\n",
       "    }\n",
       "\n",
       "    .dataframe thead th {\n",
       "        text-align: right;\n",
       "    }\n",
       "</style>\n",
       "<table border=\"1\" class=\"dataframe\">\n",
       "  <thead>\n",
       "    <tr style=\"text-align: right;\">\n",
       "      <th></th>\n",
       "      <th></th>\n",
       "      <th>displ</th>\n",
       "      <th>cyl</th>\n",
       "      <th>cty</th>\n",
       "      <th>hwy</th>\n",
       "    </tr>\n",
       "    <tr>\n",
       "      <th>year</th>\n",
       "      <th>manufacturer</th>\n",
       "      <th></th>\n",
       "      <th></th>\n",
       "      <th></th>\n",
       "      <th></th>\n",
       "    </tr>\n",
       "  </thead>\n",
       "  <tbody>\n",
       "    <tr>\n",
       "      <th rowspan=\"15\" valign=\"top\">1999</th>\n",
       "      <th>audi</th>\n",
       "      <td>2.355556</td>\n",
       "      <td>5.111111</td>\n",
       "      <td>17.111111</td>\n",
       "      <td>26.111111</td>\n",
       "    </tr>\n",
       "    <tr>\n",
       "      <th>chevrolet</th>\n",
       "      <td>4.971429</td>\n",
       "      <td>7.142857</td>\n",
       "      <td>15.142857</td>\n",
       "      <td>21.571429</td>\n",
       "    </tr>\n",
       "    <tr>\n",
       "      <th>dodge</th>\n",
       "      <td>4.318750</td>\n",
       "      <td>6.750000</td>\n",
       "      <td>13.375000</td>\n",
       "      <td>18.437500</td>\n",
       "    </tr>\n",
       "    <tr>\n",
       "      <th>ford</th>\n",
       "      <td>4.453333</td>\n",
       "      <td>7.066667</td>\n",
       "      <td>13.933333</td>\n",
       "      <td>18.600000</td>\n",
       "    </tr>\n",
       "    <tr>\n",
       "      <th>honda</th>\n",
       "      <td>1.600000</td>\n",
       "      <td>4.000000</td>\n",
       "      <td>24.800000</td>\n",
       "      <td>31.600000</td>\n",
       "    </tr>\n",
       "    <tr>\n",
       "      <th>hyundai</th>\n",
       "      <td>2.300000</td>\n",
       "      <td>4.666667</td>\n",
       "      <td>18.333333</td>\n",
       "      <td>26.666667</td>\n",
       "    </tr>\n",
       "    <tr>\n",
       "      <th>jeep</th>\n",
       "      <td>4.350000</td>\n",
       "      <td>7.000000</td>\n",
       "      <td>14.500000</td>\n",
       "      <td>18.500000</td>\n",
       "    </tr>\n",
       "    <tr>\n",
       "      <th>land rover</th>\n",
       "      <td>4.300000</td>\n",
       "      <td>8.000000</td>\n",
       "      <td>11.000000</td>\n",
       "      <td>15.000000</td>\n",
       "    </tr>\n",
       "    <tr>\n",
       "      <th>lincoln</th>\n",
       "      <td>5.400000</td>\n",
       "      <td>8.000000</td>\n",
       "      <td>11.000000</td>\n",
       "      <td>16.500000</td>\n",
       "    </tr>\n",
       "    <tr>\n",
       "      <th>mercury</th>\n",
       "      <td>4.500000</td>\n",
       "      <td>7.000000</td>\n",
       "      <td>13.500000</td>\n",
       "      <td>17.000000</td>\n",
       "    </tr>\n",
       "    <tr>\n",
       "      <th>nissan</th>\n",
       "      <td>2.900000</td>\n",
       "      <td>5.333333</td>\n",
       "      <td>17.666667</td>\n",
       "      <td>23.500000</td>\n",
       "    </tr>\n",
       "    <tr>\n",
       "      <th>pontiac</th>\n",
       "      <td>3.566667</td>\n",
       "      <td>6.000000</td>\n",
       "      <td>17.000000</td>\n",
       "      <td>26.333333</td>\n",
       "    </tr>\n",
       "    <tr>\n",
       "      <th>subaru</th>\n",
       "      <td>2.400000</td>\n",
       "      <td>4.000000</td>\n",
       "      <td>19.000000</td>\n",
       "      <td>25.500000</td>\n",
       "    </tr>\n",
       "    <tr>\n",
       "      <th>toyota</th>\n",
       "      <td>2.765000</td>\n",
       "      <td>5.000000</td>\n",
       "      <td>18.150000</td>\n",
       "      <td>24.050000</td>\n",
       "    </tr>\n",
       "    <tr>\n",
       "      <th>volkswagen</th>\n",
       "      <td>2.206250</td>\n",
       "      <td>4.625000</td>\n",
       "      <td>21.250000</td>\n",
       "      <td>29.687500</td>\n",
       "    </tr>\n",
       "    <tr>\n",
       "      <th rowspan=\"15\" valign=\"top\">2008</th>\n",
       "      <th>audi</th>\n",
       "      <td>2.733333</td>\n",
       "      <td>5.333333</td>\n",
       "      <td>18.111111</td>\n",
       "      <td>26.777778</td>\n",
       "    </tr>\n",
       "    <tr>\n",
       "      <th>chevrolet</th>\n",
       "      <td>5.116667</td>\n",
       "      <td>7.333333</td>\n",
       "      <td>14.916667</td>\n",
       "      <td>22.083333</td>\n",
       "    </tr>\n",
       "    <tr>\n",
       "      <th>dodge</th>\n",
       "      <td>4.423810</td>\n",
       "      <td>7.333333</td>\n",
       "      <td>12.952381</td>\n",
       "      <td>17.571429</td>\n",
       "    </tr>\n",
       "    <tr>\n",
       "      <th>ford</th>\n",
       "      <td>4.660000</td>\n",
       "      <td>7.400000</td>\n",
       "      <td>14.100000</td>\n",
       "      <td>20.500000</td>\n",
       "    </tr>\n",
       "    <tr>\n",
       "      <th>honda</th>\n",
       "      <td>1.850000</td>\n",
       "      <td>4.000000</td>\n",
       "      <td>24.000000</td>\n",
       "      <td>33.750000</td>\n",
       "    </tr>\n",
       "    <tr>\n",
       "      <th>hyundai</th>\n",
       "      <td>2.525000</td>\n",
       "      <td>5.000000</td>\n",
       "      <td>18.875000</td>\n",
       "      <td>27.000000</td>\n",
       "    </tr>\n",
       "    <tr>\n",
       "      <th>jeep</th>\n",
       "      <td>4.650000</td>\n",
       "      <td>7.333333</td>\n",
       "      <td>13.166667</td>\n",
       "      <td>17.333333</td>\n",
       "    </tr>\n",
       "    <tr>\n",
       "      <th>land rover</th>\n",
       "      <td>4.300000</td>\n",
       "      <td>8.000000</td>\n",
       "      <td>12.000000</td>\n",
       "      <td>18.000000</td>\n",
       "    </tr>\n",
       "    <tr>\n",
       "      <th>lincoln</th>\n",
       "      <td>5.400000</td>\n",
       "      <td>8.000000</td>\n",
       "      <td>12.000000</td>\n",
       "      <td>18.000000</td>\n",
       "    </tr>\n",
       "    <tr>\n",
       "      <th>mercury</th>\n",
       "      <td>4.300000</td>\n",
       "      <td>7.000000</td>\n",
       "      <td>13.000000</td>\n",
       "      <td>19.000000</td>\n",
       "    </tr>\n",
       "    <tr>\n",
       "      <th>nissan</th>\n",
       "      <td>3.585714</td>\n",
       "      <td>5.714286</td>\n",
       "      <td>18.428571</td>\n",
       "      <td>25.571429</td>\n",
       "    </tr>\n",
       "    <tr>\n",
       "      <th>pontiac</th>\n",
       "      <td>4.550000</td>\n",
       "      <td>7.000000</td>\n",
       "      <td>17.000000</td>\n",
       "      <td>26.500000</td>\n",
       "    </tr>\n",
       "    <tr>\n",
       "      <th>subaru</th>\n",
       "      <td>2.500000</td>\n",
       "      <td>4.000000</td>\n",
       "      <td>19.500000</td>\n",
       "      <td>25.625000</td>\n",
       "    </tr>\n",
       "    <tr>\n",
       "      <th>toyota</th>\n",
       "      <td>3.221429</td>\n",
       "      <td>5.285714</td>\n",
       "      <td>19.071429</td>\n",
       "      <td>26.142857</td>\n",
       "    </tr>\n",
       "    <tr>\n",
       "      <th>volkswagen</th>\n",
       "      <td>2.327273</td>\n",
       "      <td>4.545455</td>\n",
       "      <td>20.454545</td>\n",
       "      <td>28.545455</td>\n",
       "    </tr>\n",
       "  </tbody>\n",
       "</table>\n",
       "</div>"
      ],
      "text/plain": [
       "                      displ       cyl        cty        hwy\n",
       "year manufacturer                                          \n",
       "1999 audi          2.355556  5.111111  17.111111  26.111111\n",
       "     chevrolet     4.971429  7.142857  15.142857  21.571429\n",
       "     dodge         4.318750  6.750000  13.375000  18.437500\n",
       "     ford          4.453333  7.066667  13.933333  18.600000\n",
       "     honda         1.600000  4.000000  24.800000  31.600000\n",
       "     hyundai       2.300000  4.666667  18.333333  26.666667\n",
       "     jeep          4.350000  7.000000  14.500000  18.500000\n",
       "     land rover    4.300000  8.000000  11.000000  15.000000\n",
       "     lincoln       5.400000  8.000000  11.000000  16.500000\n",
       "     mercury       4.500000  7.000000  13.500000  17.000000\n",
       "     nissan        2.900000  5.333333  17.666667  23.500000\n",
       "     pontiac       3.566667  6.000000  17.000000  26.333333\n",
       "     subaru        2.400000  4.000000  19.000000  25.500000\n",
       "     toyota        2.765000  5.000000  18.150000  24.050000\n",
       "     volkswagen    2.206250  4.625000  21.250000  29.687500\n",
       "2008 audi          2.733333  5.333333  18.111111  26.777778\n",
       "     chevrolet     5.116667  7.333333  14.916667  22.083333\n",
       "     dodge         4.423810  7.333333  12.952381  17.571429\n",
       "     ford          4.660000  7.400000  14.100000  20.500000\n",
       "     honda         1.850000  4.000000  24.000000  33.750000\n",
       "     hyundai       2.525000  5.000000  18.875000  27.000000\n",
       "     jeep          4.650000  7.333333  13.166667  17.333333\n",
       "     land rover    4.300000  8.000000  12.000000  18.000000\n",
       "     lincoln       5.400000  8.000000  12.000000  18.000000\n",
       "     mercury       4.300000  7.000000  13.000000  19.000000\n",
       "     nissan        3.585714  5.714286  18.428571  25.571429\n",
       "     pontiac       4.550000  7.000000  17.000000  26.500000\n",
       "     subaru        2.500000  4.000000  19.500000  25.625000\n",
       "     toyota        3.221429  5.285714  19.071429  26.142857\n",
       "     volkswagen    2.327273  4.545455  20.454545  28.545455"
      ]
     },
     "execution_count": 151,
     "metadata": {},
     "output_type": "execute_result"
    }
   ],
   "source": [
    "mpg1 = mpg.groupby(['year', 'manufacturer']).mean()\n",
    "mpg1"
   ]
  },
  {
   "cell_type": "code",
   "execution_count": 155,
   "id": "7c73b93c-3293-4534-bedb-fd8d7b84539b",
   "metadata": {},
   "outputs": [
    {
     "data": {
      "text/html": [
       "<div>\n",
       "<style scoped>\n",
       "    .dataframe tbody tr th:only-of-type {\n",
       "        vertical-align: middle;\n",
       "    }\n",
       "\n",
       "    .dataframe tbody tr th {\n",
       "        vertical-align: top;\n",
       "    }\n",
       "\n",
       "    .dataframe thead th {\n",
       "        text-align: right;\n",
       "    }\n",
       "</style>\n",
       "<table border=\"1\" class=\"dataframe\">\n",
       "  <thead>\n",
       "    <tr style=\"text-align: right;\">\n",
       "      <th></th>\n",
       "      <th>year</th>\n",
       "      <th>manufacturer</th>\n",
       "      <th>displ</th>\n",
       "      <th>cyl</th>\n",
       "      <th>cty</th>\n",
       "      <th>hwy</th>\n",
       "    </tr>\n",
       "  </thead>\n",
       "  <tbody>\n",
       "    <tr>\n",
       "      <th>0</th>\n",
       "      <td>1999</td>\n",
       "      <td>audi</td>\n",
       "      <td>2.355556</td>\n",
       "      <td>5.111111</td>\n",
       "      <td>17.111111</td>\n",
       "      <td>26.111111</td>\n",
       "    </tr>\n",
       "    <tr>\n",
       "      <th>1</th>\n",
       "      <td>1999</td>\n",
       "      <td>chevrolet</td>\n",
       "      <td>4.971429</td>\n",
       "      <td>7.142857</td>\n",
       "      <td>15.142857</td>\n",
       "      <td>21.571429</td>\n",
       "    </tr>\n",
       "    <tr>\n",
       "      <th>2</th>\n",
       "      <td>1999</td>\n",
       "      <td>dodge</td>\n",
       "      <td>4.318750</td>\n",
       "      <td>6.750000</td>\n",
       "      <td>13.375000</td>\n",
       "      <td>18.437500</td>\n",
       "    </tr>\n",
       "    <tr>\n",
       "      <th>3</th>\n",
       "      <td>1999</td>\n",
       "      <td>ford</td>\n",
       "      <td>4.453333</td>\n",
       "      <td>7.066667</td>\n",
       "      <td>13.933333</td>\n",
       "      <td>18.600000</td>\n",
       "    </tr>\n",
       "    <tr>\n",
       "      <th>4</th>\n",
       "      <td>1999</td>\n",
       "      <td>honda</td>\n",
       "      <td>1.600000</td>\n",
       "      <td>4.000000</td>\n",
       "      <td>24.800000</td>\n",
       "      <td>31.600000</td>\n",
       "    </tr>\n",
       "  </tbody>\n",
       "</table>\n",
       "</div>"
      ],
      "text/plain": [
       "   year manufacturer     displ       cyl        cty        hwy\n",
       "0  1999         audi  2.355556  5.111111  17.111111  26.111111\n",
       "1  1999    chevrolet  4.971429  7.142857  15.142857  21.571429\n",
       "2  1999        dodge  4.318750  6.750000  13.375000  18.437500\n",
       "3  1999         ford  4.453333  7.066667  13.933333  18.600000\n",
       "4  1999        honda  1.600000  4.000000  24.800000  31.600000"
      ]
     },
     "execution_count": 155,
     "metadata": {},
     "output_type": "execute_result"
    }
   ],
   "source": [
    "mpg1.reset_index().head()"
   ]
  },
  {
   "cell_type": "code",
   "execution_count": 157,
   "id": "4fc7033e-e896-4992-af5f-11e41714b571",
   "metadata": {},
   "outputs": [
    {
     "data": {
      "text/html": [
       "<div>\n",
       "<style scoped>\n",
       "    .dataframe tbody tr th:only-of-type {\n",
       "        vertical-align: middle;\n",
       "    }\n",
       "\n",
       "    .dataframe tbody tr th {\n",
       "        vertical-align: top;\n",
       "    }\n",
       "\n",
       "    .dataframe thead th {\n",
       "        text-align: right;\n",
       "    }\n",
       "</style>\n",
       "<table border=\"1\" class=\"dataframe\">\n",
       "  <thead>\n",
       "    <tr style=\"text-align: right;\">\n",
       "      <th></th>\n",
       "      <th>displ</th>\n",
       "      <th>cyl</th>\n",
       "      <th>cty</th>\n",
       "      <th>hwy</th>\n",
       "    </tr>\n",
       "  </thead>\n",
       "  <tbody>\n",
       "    <tr>\n",
       "      <th>0</th>\n",
       "      <td>2.355556</td>\n",
       "      <td>5.111111</td>\n",
       "      <td>17.111111</td>\n",
       "      <td>26.111111</td>\n",
       "    </tr>\n",
       "    <tr>\n",
       "      <th>1</th>\n",
       "      <td>4.971429</td>\n",
       "      <td>7.142857</td>\n",
       "      <td>15.142857</td>\n",
       "      <td>21.571429</td>\n",
       "    </tr>\n",
       "    <tr>\n",
       "      <th>2</th>\n",
       "      <td>4.318750</td>\n",
       "      <td>6.750000</td>\n",
       "      <td>13.375000</td>\n",
       "      <td>18.437500</td>\n",
       "    </tr>\n",
       "    <tr>\n",
       "      <th>3</th>\n",
       "      <td>4.453333</td>\n",
       "      <td>7.066667</td>\n",
       "      <td>13.933333</td>\n",
       "      <td>18.600000</td>\n",
       "    </tr>\n",
       "    <tr>\n",
       "      <th>4</th>\n",
       "      <td>1.600000</td>\n",
       "      <td>4.000000</td>\n",
       "      <td>24.800000</td>\n",
       "      <td>31.600000</td>\n",
       "    </tr>\n",
       "  </tbody>\n",
       "</table>\n",
       "</div>"
      ],
      "text/plain": [
       "      displ       cyl        cty        hwy\n",
       "0  2.355556  5.111111  17.111111  26.111111\n",
       "1  4.971429  7.142857  15.142857  21.571429\n",
       "2  4.318750  6.750000  13.375000  18.437500\n",
       "3  4.453333  7.066667  13.933333  18.600000\n",
       "4  1.600000  4.000000  24.800000  31.600000"
      ]
     },
     "execution_count": 157,
     "metadata": {},
     "output_type": "execute_result"
    }
   ],
   "source": [
    "## drop = True로 설정하면 기존 인덱스는 새로운 칼럼으로 추가되지 않고 삭제됨\n",
    "mpg1.reset_index(drop = True).head()"
   ]
  },
  {
   "cell_type": "markdown",
   "id": "7e746d1d-42db-4983-a28a-a32f3a734745",
   "metadata": {},
   "source": [
    "### 데이터 셀렉션 및 필터링"
   ]
  },
  {
   "cell_type": "code",
   "execution_count": 158,
   "id": "129e2aa1-7a8e-4eb4-991f-a3216532d311",
   "metadata": {},
   "outputs": [
    {
     "data": {
      "text/html": [
       "<div>\n",
       "<style scoped>\n",
       "    .dataframe tbody tr th:only-of-type {\n",
       "        vertical-align: middle;\n",
       "    }\n",
       "\n",
       "    .dataframe tbody tr th {\n",
       "        vertical-align: top;\n",
       "    }\n",
       "\n",
       "    .dataframe thead th {\n",
       "        text-align: right;\n",
       "    }\n",
       "</style>\n",
       "<table border=\"1\" class=\"dataframe\">\n",
       "  <thead>\n",
       "    <tr style=\"text-align: right;\">\n",
       "      <th></th>\n",
       "      <th>manufacturer</th>\n",
       "      <th>model</th>\n",
       "      <th>displ</th>\n",
       "      <th>year</th>\n",
       "      <th>cyl</th>\n",
       "      <th>trans</th>\n",
       "      <th>drv</th>\n",
       "      <th>cty</th>\n",
       "      <th>hwy</th>\n",
       "      <th>fl</th>\n",
       "      <th>class</th>\n",
       "    </tr>\n",
       "  </thead>\n",
       "  <tbody>\n",
       "    <tr>\n",
       "      <th>1</th>\n",
       "      <td>audi</td>\n",
       "      <td>a4</td>\n",
       "      <td>1.8</td>\n",
       "      <td>1999</td>\n",
       "      <td>4</td>\n",
       "      <td>auto(l5)</td>\n",
       "      <td>f</td>\n",
       "      <td>18</td>\n",
       "      <td>29</td>\n",
       "      <td>p</td>\n",
       "      <td>compact</td>\n",
       "    </tr>\n",
       "    <tr>\n",
       "      <th>2</th>\n",
       "      <td>audi</td>\n",
       "      <td>a4</td>\n",
       "      <td>1.8</td>\n",
       "      <td>1999</td>\n",
       "      <td>4</td>\n",
       "      <td>manual(m5)</td>\n",
       "      <td>f</td>\n",
       "      <td>21</td>\n",
       "      <td>29</td>\n",
       "      <td>p</td>\n",
       "      <td>compact</td>\n",
       "    </tr>\n",
       "    <tr>\n",
       "      <th>3</th>\n",
       "      <td>audi</td>\n",
       "      <td>a4</td>\n",
       "      <td>2.0</td>\n",
       "      <td>2008</td>\n",
       "      <td>4</td>\n",
       "      <td>manual(m6)</td>\n",
       "      <td>f</td>\n",
       "      <td>20</td>\n",
       "      <td>31</td>\n",
       "      <td>p</td>\n",
       "      <td>compact</td>\n",
       "    </tr>\n",
       "    <tr>\n",
       "      <th>4</th>\n",
       "      <td>audi</td>\n",
       "      <td>a4</td>\n",
       "      <td>2.0</td>\n",
       "      <td>2008</td>\n",
       "      <td>4</td>\n",
       "      <td>auto(av)</td>\n",
       "      <td>f</td>\n",
       "      <td>21</td>\n",
       "      <td>30</td>\n",
       "      <td>p</td>\n",
       "      <td>compact</td>\n",
       "    </tr>\n",
       "  </tbody>\n",
       "</table>\n",
       "</div>"
      ],
      "text/plain": [
       "  manufacturer model  displ  year  cyl       trans drv  cty  hwy fl    class\n",
       "1         audi    a4    1.8  1999    4    auto(l5)   f   18   29  p  compact\n",
       "2         audi    a4    1.8  1999    4  manual(m5)   f   21   29  p  compact\n",
       "3         audi    a4    2.0  2008    4  manual(m6)   f   20   31  p  compact\n",
       "4         audi    a4    2.0  2008    4    auto(av)   f   21   30  p  compact"
      ]
     },
     "execution_count": 158,
     "metadata": {},
     "output_type": "execute_result"
    }
   ],
   "source": [
    "mpg[0:4]"
   ]
  },
  {
   "cell_type": "code",
   "execution_count": 162,
   "id": "2f325a37-b405-4eee-905d-7a761c51c4f2",
   "metadata": {},
   "outputs": [
    {
     "data": {
      "text/html": [
       "<div>\n",
       "<style scoped>\n",
       "    .dataframe tbody tr th:only-of-type {\n",
       "        vertical-align: middle;\n",
       "    }\n",
       "\n",
       "    .dataframe tbody tr th {\n",
       "        vertical-align: top;\n",
       "    }\n",
       "\n",
       "    .dataframe thead th {\n",
       "        text-align: right;\n",
       "    }\n",
       "</style>\n",
       "<table border=\"1\" class=\"dataframe\">\n",
       "  <thead>\n",
       "    <tr style=\"text-align: right;\">\n",
       "      <th></th>\n",
       "      <th>manufacturer</th>\n",
       "      <th>model</th>\n",
       "      <th>displ</th>\n",
       "      <th>year</th>\n",
       "      <th>cyl</th>\n",
       "      <th>trans</th>\n",
       "      <th>drv</th>\n",
       "      <th>cty</th>\n",
       "      <th>hwy</th>\n",
       "      <th>fl</th>\n",
       "      <th>class</th>\n",
       "    </tr>\n",
       "  </thead>\n",
       "  <tbody>\n",
       "    <tr>\n",
       "      <th>1</th>\n",
       "      <td>audi</td>\n",
       "      <td>a4</td>\n",
       "      <td>1.8</td>\n",
       "      <td>1999</td>\n",
       "      <td>4</td>\n",
       "      <td>auto(l5)</td>\n",
       "      <td>f</td>\n",
       "      <td>18</td>\n",
       "      <td>29</td>\n",
       "      <td>p</td>\n",
       "      <td>compact</td>\n",
       "    </tr>\n",
       "    <tr>\n",
       "      <th>2</th>\n",
       "      <td>audi</td>\n",
       "      <td>a4</td>\n",
       "      <td>1.8</td>\n",
       "      <td>1999</td>\n",
       "      <td>4</td>\n",
       "      <td>manual(m5)</td>\n",
       "      <td>f</td>\n",
       "      <td>21</td>\n",
       "      <td>29</td>\n",
       "      <td>p</td>\n",
       "      <td>compact</td>\n",
       "    </tr>\n",
       "    <tr>\n",
       "      <th>3</th>\n",
       "      <td>audi</td>\n",
       "      <td>a4</td>\n",
       "      <td>2.0</td>\n",
       "      <td>2008</td>\n",
       "      <td>4</td>\n",
       "      <td>manual(m6)</td>\n",
       "      <td>f</td>\n",
       "      <td>20</td>\n",
       "      <td>31</td>\n",
       "      <td>p</td>\n",
       "      <td>compact</td>\n",
       "    </tr>\n",
       "    <tr>\n",
       "      <th>4</th>\n",
       "      <td>audi</td>\n",
       "      <td>a4</td>\n",
       "      <td>2.0</td>\n",
       "      <td>2008</td>\n",
       "      <td>4</td>\n",
       "      <td>auto(av)</td>\n",
       "      <td>f</td>\n",
       "      <td>21</td>\n",
       "      <td>30</td>\n",
       "      <td>p</td>\n",
       "      <td>compact</td>\n",
       "    </tr>\n",
       "    <tr>\n",
       "      <th>5</th>\n",
       "      <td>audi</td>\n",
       "      <td>a4</td>\n",
       "      <td>2.8</td>\n",
       "      <td>1999</td>\n",
       "      <td>6</td>\n",
       "      <td>auto(l5)</td>\n",
       "      <td>f</td>\n",
       "      <td>16</td>\n",
       "      <td>26</td>\n",
       "      <td>p</td>\n",
       "      <td>compact</td>\n",
       "    </tr>\n",
       "    <tr>\n",
       "      <th>6</th>\n",
       "      <td>audi</td>\n",
       "      <td>a4</td>\n",
       "      <td>2.8</td>\n",
       "      <td>1999</td>\n",
       "      <td>6</td>\n",
       "      <td>manual(m5)</td>\n",
       "      <td>f</td>\n",
       "      <td>18</td>\n",
       "      <td>26</td>\n",
       "      <td>p</td>\n",
       "      <td>compact</td>\n",
       "    </tr>\n",
       "    <tr>\n",
       "      <th>7</th>\n",
       "      <td>audi</td>\n",
       "      <td>a4</td>\n",
       "      <td>3.1</td>\n",
       "      <td>2008</td>\n",
       "      <td>6</td>\n",
       "      <td>auto(av)</td>\n",
       "      <td>f</td>\n",
       "      <td>18</td>\n",
       "      <td>27</td>\n",
       "      <td>p</td>\n",
       "      <td>compact</td>\n",
       "    </tr>\n",
       "  </tbody>\n",
       "</table>\n",
       "</div>"
      ],
      "text/plain": [
       "  manufacturer model  displ  year  cyl       trans drv  cty  hwy fl    class\n",
       "1         audi    a4    1.8  1999    4    auto(l5)   f   18   29  p  compact\n",
       "2         audi    a4    1.8  1999    4  manual(m5)   f   21   29  p  compact\n",
       "3         audi    a4    2.0  2008    4  manual(m6)   f   20   31  p  compact\n",
       "4         audi    a4    2.0  2008    4    auto(av)   f   21   30  p  compact\n",
       "5         audi    a4    2.8  1999    6    auto(l5)   f   16   26  p  compact\n",
       "6         audi    a4    2.8  1999    6  manual(m5)   f   18   26  p  compact\n",
       "7         audi    a4    3.1  2008    6    auto(av)   f   18   27  p  compact"
      ]
     },
     "execution_count": 162,
     "metadata": {},
     "output_type": "execute_result"
    }
   ],
   "source": [
    "mpg[mpg['model'] == 'a4']"
   ]
  },
  {
   "cell_type": "code",
   "execution_count": 164,
   "id": "bce93e61-465b-42e8-8180-4882db0a7e84",
   "metadata": {},
   "outputs": [
    {
     "data": {
      "text/plain": [
       "{'Name': ['Chulmin', 'Eunkyung', 'Jinwoong', 'Soobeom'],\n",
       " 'Year': [2011, 2016, 2015, 2015],\n",
       " 'Gender': ['Male', 'Female', 'Male', 'Male']}"
      ]
     },
     "execution_count": 164,
     "metadata": {},
     "output_type": "execute_result"
    }
   ],
   "source": [
    "data = {'Name' : ['Chulmin', 'Eunkyung', 'Jinwoong', 'Soobeom'],\n",
    "       'Year' : [2011, 2016, 2015, 2015],\n",
    "       'Gender' : ['Male', 'Female', 'Male', 'Male']}\n",
    "data"
   ]
  },
  {
   "cell_type": "code",
   "execution_count": 165,
   "id": "e2d773eb-530a-493f-a8e8-9cefdc1aee71",
   "metadata": {},
   "outputs": [
    {
     "data": {
      "text/html": [
       "<div>\n",
       "<style scoped>\n",
       "    .dataframe tbody tr th:only-of-type {\n",
       "        vertical-align: middle;\n",
       "    }\n",
       "\n",
       "    .dataframe tbody tr th {\n",
       "        vertical-align: top;\n",
       "    }\n",
       "\n",
       "    .dataframe thead th {\n",
       "        text-align: right;\n",
       "    }\n",
       "</style>\n",
       "<table border=\"1\" class=\"dataframe\">\n",
       "  <thead>\n",
       "    <tr style=\"text-align: right;\">\n",
       "      <th></th>\n",
       "      <th>Name</th>\n",
       "      <th>Year</th>\n",
       "      <th>Gender</th>\n",
       "    </tr>\n",
       "  </thead>\n",
       "  <tbody>\n",
       "    <tr>\n",
       "      <th>one</th>\n",
       "      <td>Chulmin</td>\n",
       "      <td>2011</td>\n",
       "      <td>Male</td>\n",
       "    </tr>\n",
       "    <tr>\n",
       "      <th>two</th>\n",
       "      <td>Eunkyung</td>\n",
       "      <td>2016</td>\n",
       "      <td>Female</td>\n",
       "    </tr>\n",
       "    <tr>\n",
       "      <th>three</th>\n",
       "      <td>Jinwoong</td>\n",
       "      <td>2015</td>\n",
       "      <td>Male</td>\n",
       "    </tr>\n",
       "    <tr>\n",
       "      <th>four</th>\n",
       "      <td>Soobeom</td>\n",
       "      <td>2015</td>\n",
       "      <td>Male</td>\n",
       "    </tr>\n",
       "  </tbody>\n",
       "</table>\n",
       "</div>"
      ],
      "text/plain": [
       "           Name  Year  Gender\n",
       "one     Chulmin  2011    Male\n",
       "two    Eunkyung  2016  Female\n",
       "three  Jinwoong  2015    Male\n",
       "four    Soobeom  2015    Male"
      ]
     },
     "execution_count": 165,
     "metadata": {},
     "output_type": "execute_result"
    }
   ],
   "source": [
    "data_df = pd.DataFrame(data, index = ['one', 'two', 'three', 'four'])\n",
    "data_df"
   ]
  },
  {
   "cell_type": "code",
   "execution_count": 166,
   "id": "2a9c48ec-c968-45f1-bdd2-f81f1ac11cb4",
   "metadata": {},
   "outputs": [
    {
     "data": {
      "text/plain": [
       "'Chulmin'"
      ]
     },
     "execution_count": 166,
     "metadata": {},
     "output_type": "execute_result"
    }
   ],
   "source": [
    "data_df.iloc[0, 0]"
   ]
  },
  {
   "cell_type": "code",
   "execution_count": 168,
   "id": "d13fd4c2-7b57-4c2f-adab-652abc955006",
   "metadata": {},
   "outputs": [
    {
     "data": {
      "text/html": [
       "<div>\n",
       "<style scoped>\n",
       "    .dataframe tbody tr th:only-of-type {\n",
       "        vertical-align: middle;\n",
       "    }\n",
       "\n",
       "    .dataframe tbody tr th {\n",
       "        vertical-align: top;\n",
       "    }\n",
       "\n",
       "    .dataframe thead th {\n",
       "        text-align: right;\n",
       "    }\n",
       "</style>\n",
       "<table border=\"1\" class=\"dataframe\">\n",
       "  <thead>\n",
       "    <tr style=\"text-align: right;\">\n",
       "      <th></th>\n",
       "      <th>Name</th>\n",
       "      <th>Year</th>\n",
       "    </tr>\n",
       "  </thead>\n",
       "  <tbody>\n",
       "    <tr>\n",
       "      <th>one</th>\n",
       "      <td>Chulmin</td>\n",
       "      <td>2011</td>\n",
       "    </tr>\n",
       "    <tr>\n",
       "      <th>two</th>\n",
       "      <td>Eunkyung</td>\n",
       "      <td>2016</td>\n",
       "    </tr>\n",
       "  </tbody>\n",
       "</table>\n",
       "</div>"
      ],
      "text/plain": [
       "         Name  Year\n",
       "one   Chulmin  2011\n",
       "two  Eunkyung  2016"
      ]
     },
     "execution_count": 168,
     "metadata": {},
     "output_type": "execute_result"
    }
   ],
   "source": [
    "data_df.iloc[0:2, 0:2]"
   ]
  },
  {
   "cell_type": "code",
   "execution_count": 169,
   "id": "0e136180-8ce1-4b01-bef3-a202d90d8866",
   "metadata": {},
   "outputs": [
    {
     "data": {
      "text/plain": [
       "'Chulmin'"
      ]
     },
     "execution_count": 169,
     "metadata": {},
     "output_type": "execute_result"
    }
   ],
   "source": [
    "data_df.loc['one', 'Name']"
   ]
  },
  {
   "cell_type": "code",
   "execution_count": 170,
   "id": "c3dfc47e-e0ae-4af2-89cc-afa8c6294228",
   "metadata": {},
   "outputs": [
    {
     "data": {
      "text/html": [
       "<div>\n",
       "<style scoped>\n",
       "    .dataframe tbody tr th:only-of-type {\n",
       "        vertical-align: middle;\n",
       "    }\n",
       "\n",
       "    .dataframe tbody tr th {\n",
       "        vertical-align: top;\n",
       "    }\n",
       "\n",
       "    .dataframe thead th {\n",
       "        text-align: right;\n",
       "    }\n",
       "</style>\n",
       "<table border=\"1\" class=\"dataframe\">\n",
       "  <thead>\n",
       "    <tr style=\"text-align: right;\">\n",
       "      <th></th>\n",
       "      <th>Year</th>\n",
       "      <th>Gender</th>\n",
       "    </tr>\n",
       "  </thead>\n",
       "  <tbody>\n",
       "    <tr>\n",
       "      <th>one</th>\n",
       "      <td>2011</td>\n",
       "      <td>Male</td>\n",
       "    </tr>\n",
       "    <tr>\n",
       "      <th>two</th>\n",
       "      <td>2016</td>\n",
       "      <td>Female</td>\n",
       "    </tr>\n",
       "    <tr>\n",
       "      <th>three</th>\n",
       "      <td>2015</td>\n",
       "      <td>Male</td>\n",
       "    </tr>\n",
       "  </tbody>\n",
       "</table>\n",
       "</div>"
      ],
      "text/plain": [
       "       Year  Gender\n",
       "one    2011    Male\n",
       "two    2016  Female\n",
       "three  2015    Male"
      ]
     },
     "execution_count": 170,
     "metadata": {},
     "output_type": "execute_result"
    }
   ],
   "source": [
    "data_df.loc['one':'three', 'Year':'Gender']"
   ]
  },
  {
   "cell_type": "code",
   "execution_count": 171,
   "id": "36ba9590-c50a-4746-8237-c00932b50617",
   "metadata": {},
   "outputs": [
    {
     "data": {
      "text/html": [
       "<div>\n",
       "<style scoped>\n",
       "    .dataframe tbody tr th:only-of-type {\n",
       "        vertical-align: middle;\n",
       "    }\n",
       "\n",
       "    .dataframe tbody tr th {\n",
       "        vertical-align: top;\n",
       "    }\n",
       "\n",
       "    .dataframe thead th {\n",
       "        text-align: right;\n",
       "    }\n",
       "</style>\n",
       "<table border=\"1\" class=\"dataframe\">\n",
       "  <thead>\n",
       "    <tr style=\"text-align: right;\">\n",
       "      <th></th>\n",
       "      <th>Name</th>\n",
       "      <th>Year</th>\n",
       "      <th>Gender</th>\n",
       "    </tr>\n",
       "  </thead>\n",
       "  <tbody>\n",
       "    <tr>\n",
       "      <th>two</th>\n",
       "      <td>Eunkyung</td>\n",
       "      <td>2016</td>\n",
       "      <td>Female</td>\n",
       "    </tr>\n",
       "    <tr>\n",
       "      <th>three</th>\n",
       "      <td>Jinwoong</td>\n",
       "      <td>2015</td>\n",
       "      <td>Male</td>\n",
       "    </tr>\n",
       "    <tr>\n",
       "      <th>four</th>\n",
       "      <td>Soobeom</td>\n",
       "      <td>2015</td>\n",
       "      <td>Male</td>\n",
       "    </tr>\n",
       "  </tbody>\n",
       "</table>\n",
       "</div>"
      ],
      "text/plain": [
       "           Name  Year  Gender\n",
       "two    Eunkyung  2016  Female\n",
       "three  Jinwoong  2015    Male\n",
       "four    Soobeom  2015    Male"
      ]
     },
     "execution_count": 171,
     "metadata": {},
     "output_type": "execute_result"
    }
   ],
   "source": [
    "data_df.loc[data_df.Year >= 2014]"
   ]
  },
  {
   "cell_type": "code",
   "execution_count": 173,
   "id": "28b3db3f-b2f0-4325-94ee-eec4039999d0",
   "metadata": {},
   "outputs": [
    {
     "data": {
      "text/html": [
       "<div>\n",
       "<style scoped>\n",
       "    .dataframe tbody tr th:only-of-type {\n",
       "        vertical-align: middle;\n",
       "    }\n",
       "\n",
       "    .dataframe tbody tr th {\n",
       "        vertical-align: top;\n",
       "    }\n",
       "\n",
       "    .dataframe thead th {\n",
       "        text-align: right;\n",
       "    }\n",
       "</style>\n",
       "<table border=\"1\" class=\"dataframe\">\n",
       "  <thead>\n",
       "    <tr style=\"text-align: right;\">\n",
       "      <th></th>\n",
       "      <th>Name</th>\n",
       "      <th>Year</th>\n",
       "      <th>Gender</th>\n",
       "    </tr>\n",
       "  </thead>\n",
       "  <tbody>\n",
       "    <tr>\n",
       "      <th>three</th>\n",
       "      <td>Jinwoong</td>\n",
       "      <td>2015</td>\n",
       "      <td>Male</td>\n",
       "    </tr>\n",
       "    <tr>\n",
       "      <th>four</th>\n",
       "      <td>Soobeom</td>\n",
       "      <td>2015</td>\n",
       "      <td>Male</td>\n",
       "    </tr>\n",
       "  </tbody>\n",
       "</table>\n",
       "</div>"
      ],
      "text/plain": [
       "           Name  Year Gender\n",
       "three  Jinwoong  2015   Male\n",
       "four    Soobeom  2015   Male"
      ]
     },
     "execution_count": 173,
     "metadata": {},
     "output_type": "execute_result"
    }
   ],
   "source": [
    "## and : &\n",
    "## or : |\n",
    "## Not : ~\n",
    "\n",
    "data_df[(data_df.Year >= 2014) & (data_df.Gender == 'Male')]"
   ]
  },
  {
   "cell_type": "markdown",
   "id": "972dbb29-8881-49dd-8f20-18cf6cd64861",
   "metadata": {},
   "source": [
    "### 정렬, Aggregation, Groupby"
   ]
  },
  {
   "cell_type": "code",
   "execution_count": 174,
   "id": "fefd6704-eb03-4348-a5bc-df50d6f3244c",
   "metadata": {},
   "outputs": [
    {
     "data": {
      "text/html": [
       "<div>\n",
       "<style scoped>\n",
       "    .dataframe tbody tr th:only-of-type {\n",
       "        vertical-align: middle;\n",
       "    }\n",
       "\n",
       "    .dataframe tbody tr th {\n",
       "        vertical-align: top;\n",
       "    }\n",
       "\n",
       "    .dataframe thead th {\n",
       "        text-align: right;\n",
       "    }\n",
       "</style>\n",
       "<table border=\"1\" class=\"dataframe\">\n",
       "  <thead>\n",
       "    <tr style=\"text-align: right;\">\n",
       "      <th></th>\n",
       "      <th>manufacturer</th>\n",
       "      <th>model</th>\n",
       "      <th>displ</th>\n",
       "      <th>year</th>\n",
       "      <th>cyl</th>\n",
       "      <th>trans</th>\n",
       "      <th>drv</th>\n",
       "      <th>cty</th>\n",
       "      <th>hwy</th>\n",
       "      <th>fl</th>\n",
       "      <th>class</th>\n",
       "    </tr>\n",
       "  </thead>\n",
       "  <tbody>\n",
       "    <tr>\n",
       "      <th>1</th>\n",
       "      <td>audi</td>\n",
       "      <td>a4</td>\n",
       "      <td>1.8</td>\n",
       "      <td>1999</td>\n",
       "      <td>4</td>\n",
       "      <td>auto(l5)</td>\n",
       "      <td>f</td>\n",
       "      <td>18</td>\n",
       "      <td>29</td>\n",
       "      <td>p</td>\n",
       "      <td>compact</td>\n",
       "    </tr>\n",
       "    <tr>\n",
       "      <th>126</th>\n",
       "      <td>jeep</td>\n",
       "      <td>grand cherokee 4wd</td>\n",
       "      <td>4.7</td>\n",
       "      <td>1999</td>\n",
       "      <td>8</td>\n",
       "      <td>auto(l4)</td>\n",
       "      <td>4</td>\n",
       "      <td>14</td>\n",
       "      <td>17</td>\n",
       "      <td>r</td>\n",
       "      <td>suv</td>\n",
       "    </tr>\n",
       "    <tr>\n",
       "      <th>131</th>\n",
       "      <td>land rover</td>\n",
       "      <td>range rover</td>\n",
       "      <td>4.0</td>\n",
       "      <td>1999</td>\n",
       "      <td>8</td>\n",
       "      <td>auto(l4)</td>\n",
       "      <td>4</td>\n",
       "      <td>11</td>\n",
       "      <td>15</td>\n",
       "      <td>p</td>\n",
       "      <td>suv</td>\n",
       "    </tr>\n",
       "    <tr>\n",
       "      <th>134</th>\n",
       "      <td>land rover</td>\n",
       "      <td>range rover</td>\n",
       "      <td>4.6</td>\n",
       "      <td>1999</td>\n",
       "      <td>8</td>\n",
       "      <td>auto(l4)</td>\n",
       "      <td>4</td>\n",
       "      <td>11</td>\n",
       "      <td>15</td>\n",
       "      <td>p</td>\n",
       "      <td>suv</td>\n",
       "    </tr>\n",
       "    <tr>\n",
       "      <th>135</th>\n",
       "      <td>lincoln</td>\n",
       "      <td>navigator 2wd</td>\n",
       "      <td>5.4</td>\n",
       "      <td>1999</td>\n",
       "      <td>8</td>\n",
       "      <td>auto(l4)</td>\n",
       "      <td>r</td>\n",
       "      <td>11</td>\n",
       "      <td>17</td>\n",
       "      <td>r</td>\n",
       "      <td>suv</td>\n",
       "    </tr>\n",
       "    <tr>\n",
       "      <th>...</th>\n",
       "      <td>...</td>\n",
       "      <td>...</td>\n",
       "      <td>...</td>\n",
       "      <td>...</td>\n",
       "      <td>...</td>\n",
       "      <td>...</td>\n",
       "      <td>...</td>\n",
       "      <td>...</td>\n",
       "      <td>...</td>\n",
       "      <td>...</td>\n",
       "      <td>...</td>\n",
       "    </tr>\n",
       "    <tr>\n",
       "      <th>129</th>\n",
       "      <td>jeep</td>\n",
       "      <td>grand cherokee 4wd</td>\n",
       "      <td>5.7</td>\n",
       "      <td>2008</td>\n",
       "      <td>8</td>\n",
       "      <td>auto(l5)</td>\n",
       "      <td>4</td>\n",
       "      <td>13</td>\n",
       "      <td>18</td>\n",
       "      <td>r</td>\n",
       "      <td>suv</td>\n",
       "    </tr>\n",
       "    <tr>\n",
       "      <th>128</th>\n",
       "      <td>jeep</td>\n",
       "      <td>grand cherokee 4wd</td>\n",
       "      <td>4.7</td>\n",
       "      <td>2008</td>\n",
       "      <td>8</td>\n",
       "      <td>auto(l5)</td>\n",
       "      <td>4</td>\n",
       "      <td>14</td>\n",
       "      <td>19</td>\n",
       "      <td>r</td>\n",
       "      <td>suv</td>\n",
       "    </tr>\n",
       "    <tr>\n",
       "      <th>127</th>\n",
       "      <td>jeep</td>\n",
       "      <td>grand cherokee 4wd</td>\n",
       "      <td>4.7</td>\n",
       "      <td>2008</td>\n",
       "      <td>8</td>\n",
       "      <td>auto(l5)</td>\n",
       "      <td>4</td>\n",
       "      <td>9</td>\n",
       "      <td>12</td>\n",
       "      <td>e</td>\n",
       "      <td>suv</td>\n",
       "    </tr>\n",
       "    <tr>\n",
       "      <th>145</th>\n",
       "      <td>nissan</td>\n",
       "      <td>altima</td>\n",
       "      <td>2.5</td>\n",
       "      <td>2008</td>\n",
       "      <td>4</td>\n",
       "      <td>manual(m6)</td>\n",
       "      <td>f</td>\n",
       "      <td>23</td>\n",
       "      <td>32</td>\n",
       "      <td>r</td>\n",
       "      <td>midsize</td>\n",
       "    </tr>\n",
       "    <tr>\n",
       "      <th>234</th>\n",
       "      <td>volkswagen</td>\n",
       "      <td>passat</td>\n",
       "      <td>3.6</td>\n",
       "      <td>2008</td>\n",
       "      <td>6</td>\n",
       "      <td>auto(s6)</td>\n",
       "      <td>f</td>\n",
       "      <td>17</td>\n",
       "      <td>26</td>\n",
       "      <td>p</td>\n",
       "      <td>midsize</td>\n",
       "    </tr>\n",
       "  </tbody>\n",
       "</table>\n",
       "<p>234 rows × 11 columns</p>\n",
       "</div>"
      ],
      "text/plain": [
       "    manufacturer               model  displ  year  cyl       trans drv  cty  \\\n",
       "1           audi                  a4    1.8  1999    4    auto(l5)   f   18   \n",
       "126         jeep  grand cherokee 4wd    4.7  1999    8    auto(l4)   4   14   \n",
       "131   land rover         range rover    4.0  1999    8    auto(l4)   4   11   \n",
       "134   land rover         range rover    4.6  1999    8    auto(l4)   4   11   \n",
       "135      lincoln       navigator 2wd    5.4  1999    8    auto(l4)   r   11   \n",
       "..           ...                 ...    ...   ...  ...         ...  ..  ...   \n",
       "129         jeep  grand cherokee 4wd    5.7  2008    8    auto(l5)   4   13   \n",
       "128         jeep  grand cherokee 4wd    4.7  2008    8    auto(l5)   4   14   \n",
       "127         jeep  grand cherokee 4wd    4.7  2008    8    auto(l5)   4    9   \n",
       "145       nissan              altima    2.5  2008    4  manual(m6)   f   23   \n",
       "234   volkswagen              passat    3.6  2008    6    auto(s6)   f   17   \n",
       "\n",
       "     hwy fl    class  \n",
       "1     29  p  compact  \n",
       "126   17  r      suv  \n",
       "131   15  p      suv  \n",
       "134   15  p      suv  \n",
       "135   17  r      suv  \n",
       "..   ... ..      ...  \n",
       "129   18  r      suv  \n",
       "128   19  r      suv  \n",
       "127   12  e      suv  \n",
       "145   32  r  midsize  \n",
       "234   26  p  midsize  \n",
       "\n",
       "[234 rows x 11 columns]"
      ]
     },
     "execution_count": 174,
     "metadata": {},
     "output_type": "execute_result"
    }
   ],
   "source": [
    "mpg.sort_values(by = ['year'])"
   ]
  },
  {
   "cell_type": "code",
   "execution_count": 175,
   "id": "5397236e-9e88-4f55-87d7-0ce10096adcc",
   "metadata": {},
   "outputs": [
    {
     "data": {
      "text/plain": [
       "cty    16.858974\n",
       "hwy    23.440171\n",
       "dtype: float64"
      ]
     },
     "execution_count": 175,
     "metadata": {},
     "output_type": "execute_result"
    }
   ],
   "source": [
    "mpg[['cty', 'hwy']].mean()"
   ]
  },
  {
   "cell_type": "code",
   "execution_count": 177,
   "id": "a6f8099b-8c91-41fd-bffe-27bf4befd657",
   "metadata": {},
   "outputs": [
    {
     "data": {
      "text/html": [
       "<div>\n",
       "<style scoped>\n",
       "    .dataframe tbody tr th:only-of-type {\n",
       "        vertical-align: middle;\n",
       "    }\n",
       "\n",
       "    .dataframe tbody tr th {\n",
       "        vertical-align: top;\n",
       "    }\n",
       "\n",
       "    .dataframe thead th {\n",
       "        text-align: right;\n",
       "    }\n",
       "</style>\n",
       "<table border=\"1\" class=\"dataframe\">\n",
       "  <thead>\n",
       "    <tr style=\"text-align: right;\">\n",
       "      <th></th>\n",
       "      <th>displ</th>\n",
       "      <th>year</th>\n",
       "      <th>cyl</th>\n",
       "      <th>cty</th>\n",
       "      <th>hwy</th>\n",
       "    </tr>\n",
       "    <tr>\n",
       "      <th>model</th>\n",
       "      <th></th>\n",
       "      <th></th>\n",
       "      <th></th>\n",
       "      <th></th>\n",
       "      <th></th>\n",
       "    </tr>\n",
       "  </thead>\n",
       "  <tbody>\n",
       "    <tr>\n",
       "      <th>4runner 4wd</th>\n",
       "      <td>3.483333</td>\n",
       "      <td>2002.000000</td>\n",
       "      <td>5.666667</td>\n",
       "      <td>15.166667</td>\n",
       "      <td>18.833333</td>\n",
       "    </tr>\n",
       "    <tr>\n",
       "      <th>a4</th>\n",
       "      <td>2.328571</td>\n",
       "      <td>2002.857143</td>\n",
       "      <td>4.857143</td>\n",
       "      <td>18.857143</td>\n",
       "      <td>28.285714</td>\n",
       "    </tr>\n",
       "    <tr>\n",
       "      <th>a4 quattro</th>\n",
       "      <td>2.425000</td>\n",
       "      <td>2003.500000</td>\n",
       "      <td>5.000000</td>\n",
       "      <td>17.125000</td>\n",
       "      <td>25.750000</td>\n",
       "    </tr>\n",
       "    <tr>\n",
       "      <th>a6 quattro</th>\n",
       "      <td>3.366667</td>\n",
       "      <td>2005.000000</td>\n",
       "      <td>6.666667</td>\n",
       "      <td>16.000000</td>\n",
       "      <td>24.000000</td>\n",
       "    </tr>\n",
       "    <tr>\n",
       "      <th>altima</th>\n",
       "      <td>2.800000</td>\n",
       "      <td>2005.000000</td>\n",
       "      <td>4.666667</td>\n",
       "      <td>20.666667</td>\n",
       "      <td>28.666667</td>\n",
       "    </tr>\n",
       "    <tr>\n",
       "      <th>c1500 suburban 2wd</th>\n",
       "      <td>5.520000</td>\n",
       "      <td>2006.200000</td>\n",
       "      <td>8.000000</td>\n",
       "      <td>12.800000</td>\n",
       "      <td>17.800000</td>\n",
       "    </tr>\n",
       "    <tr>\n",
       "      <th>camry</th>\n",
       "      <td>2.671429</td>\n",
       "      <td>2002.857143</td>\n",
       "      <td>4.857143</td>\n",
       "      <td>19.857143</td>\n",
       "      <td>28.285714</td>\n",
       "    </tr>\n",
       "    <tr>\n",
       "      <th>camry solara</th>\n",
       "      <td>2.642857</td>\n",
       "      <td>2002.857143</td>\n",
       "      <td>4.857143</td>\n",
       "      <td>19.857143</td>\n",
       "      <td>28.142857</td>\n",
       "    </tr>\n",
       "    <tr>\n",
       "      <th>caravan 2wd</th>\n",
       "      <td>3.390909</td>\n",
       "      <td>2003.090909</td>\n",
       "      <td>5.818182</td>\n",
       "      <td>15.818182</td>\n",
       "      <td>22.363636</td>\n",
       "    </tr>\n",
       "    <tr>\n",
       "      <th>civic</th>\n",
       "      <td>1.711111</td>\n",
       "      <td>2003.000000</td>\n",
       "      <td>4.000000</td>\n",
       "      <td>24.444444</td>\n",
       "      <td>32.555556</td>\n",
       "    </tr>\n",
       "    <tr>\n",
       "      <th>corolla</th>\n",
       "      <td>1.800000</td>\n",
       "      <td>2002.600000</td>\n",
       "      <td>4.000000</td>\n",
       "      <td>25.600000</td>\n",
       "      <td>34.000000</td>\n",
       "    </tr>\n",
       "    <tr>\n",
       "      <th>corvette</th>\n",
       "      <td>6.160000</td>\n",
       "      <td>2004.400000</td>\n",
       "      <td>8.000000</td>\n",
       "      <td>15.400000</td>\n",
       "      <td>24.800000</td>\n",
       "    </tr>\n",
       "    <tr>\n",
       "      <th>dakota pickup 4wd</th>\n",
       "      <td>4.411111</td>\n",
       "      <td>2004.000000</td>\n",
       "      <td>7.111111</td>\n",
       "      <td>12.777778</td>\n",
       "      <td>17.000000</td>\n",
       "    </tr>\n",
       "    <tr>\n",
       "      <th>durango 4wd</th>\n",
       "      <td>4.971429</td>\n",
       "      <td>2004.142857</td>\n",
       "      <td>7.714286</td>\n",
       "      <td>11.857143</td>\n",
       "      <td>16.000000</td>\n",
       "    </tr>\n",
       "    <tr>\n",
       "      <th>expedition 2wd</th>\n",
       "      <td>5.133333</td>\n",
       "      <td>2002.000000</td>\n",
       "      <td>8.000000</td>\n",
       "      <td>11.333333</td>\n",
       "      <td>17.333333</td>\n",
       "    </tr>\n",
       "    <tr>\n",
       "      <th>explorer 4wd</th>\n",
       "      <td>4.266667</td>\n",
       "      <td>2002.000000</td>\n",
       "      <td>6.666667</td>\n",
       "      <td>13.666667</td>\n",
       "      <td>18.000000</td>\n",
       "    </tr>\n",
       "    <tr>\n",
       "      <th>f150 pickup 4wd</th>\n",
       "      <td>4.714286</td>\n",
       "      <td>2001.571429</td>\n",
       "      <td>7.428571</td>\n",
       "      <td>13.000000</td>\n",
       "      <td>16.428571</td>\n",
       "    </tr>\n",
       "    <tr>\n",
       "      <th>forester awd</th>\n",
       "      <td>2.500000</td>\n",
       "      <td>2005.000000</td>\n",
       "      <td>4.000000</td>\n",
       "      <td>18.833333</td>\n",
       "      <td>25.000000</td>\n",
       "    </tr>\n",
       "    <tr>\n",
       "      <th>grand cherokee 4wd</th>\n",
       "      <td>4.575000</td>\n",
       "      <td>2005.750000</td>\n",
       "      <td>7.250000</td>\n",
       "      <td>13.500000</td>\n",
       "      <td>17.625000</td>\n",
       "    </tr>\n",
       "    <tr>\n",
       "      <th>grand prix</th>\n",
       "      <td>3.960000</td>\n",
       "      <td>2002.600000</td>\n",
       "      <td>6.400000</td>\n",
       "      <td>17.000000</td>\n",
       "      <td>26.400000</td>\n",
       "    </tr>\n",
       "    <tr>\n",
       "      <th>gti</th>\n",
       "      <td>2.160000</td>\n",
       "      <td>2002.600000</td>\n",
       "      <td>4.400000</td>\n",
       "      <td>20.000000</td>\n",
       "      <td>27.400000</td>\n",
       "    </tr>\n",
       "    <tr>\n",
       "      <th>impreza awd</th>\n",
       "      <td>2.425000</td>\n",
       "      <td>2003.500000</td>\n",
       "      <td>4.000000</td>\n",
       "      <td>19.625000</td>\n",
       "      <td>26.000000</td>\n",
       "    </tr>\n",
       "    <tr>\n",
       "      <th>jetta</th>\n",
       "      <td>2.277778</td>\n",
       "      <td>2003.000000</td>\n",
       "      <td>4.666667</td>\n",
       "      <td>21.222222</td>\n",
       "      <td>29.111111</td>\n",
       "    </tr>\n",
       "    <tr>\n",
       "      <th>k1500 tahoe 4wd</th>\n",
       "      <td>5.700000</td>\n",
       "      <td>2003.500000</td>\n",
       "      <td>8.000000</td>\n",
       "      <td>12.500000</td>\n",
       "      <td>16.250000</td>\n",
       "    </tr>\n",
       "    <tr>\n",
       "      <th>land cruiser wagon 4wd</th>\n",
       "      <td>5.200000</td>\n",
       "      <td>2003.500000</td>\n",
       "      <td>8.000000</td>\n",
       "      <td>12.000000</td>\n",
       "      <td>16.500000</td>\n",
       "    </tr>\n",
       "    <tr>\n",
       "      <th>malibu</th>\n",
       "      <td>3.000000</td>\n",
       "      <td>2004.400000</td>\n",
       "      <td>5.200000</td>\n",
       "      <td>18.800000</td>\n",
       "      <td>27.600000</td>\n",
       "    </tr>\n",
       "    <tr>\n",
       "      <th>maxima</th>\n",
       "      <td>3.166667</td>\n",
       "      <td>2002.000000</td>\n",
       "      <td>6.000000</td>\n",
       "      <td>18.666667</td>\n",
       "      <td>25.333333</td>\n",
       "    </tr>\n",
       "    <tr>\n",
       "      <th>mountaineer 4wd</th>\n",
       "      <td>4.400000</td>\n",
       "      <td>2003.500000</td>\n",
       "      <td>7.000000</td>\n",
       "      <td>13.250000</td>\n",
       "      <td>18.000000</td>\n",
       "    </tr>\n",
       "    <tr>\n",
       "      <th>mustang</th>\n",
       "      <td>4.377778</td>\n",
       "      <td>2004.000000</td>\n",
       "      <td>7.111111</td>\n",
       "      <td>15.888889</td>\n",
       "      <td>23.222222</td>\n",
       "    </tr>\n",
       "    <tr>\n",
       "      <th>navigator 2wd</th>\n",
       "      <td>5.400000</td>\n",
       "      <td>2002.000000</td>\n",
       "      <td>8.000000</td>\n",
       "      <td>11.333333</td>\n",
       "      <td>17.000000</td>\n",
       "    </tr>\n",
       "    <tr>\n",
       "      <th>new beetle</th>\n",
       "      <td>2.133333</td>\n",
       "      <td>2002.000000</td>\n",
       "      <td>4.333333</td>\n",
       "      <td>24.000000</td>\n",
       "      <td>32.833333</td>\n",
       "    </tr>\n",
       "    <tr>\n",
       "      <th>passat</th>\n",
       "      <td>2.400000</td>\n",
       "      <td>2002.857143</td>\n",
       "      <td>4.857143</td>\n",
       "      <td>18.571429</td>\n",
       "      <td>27.571429</td>\n",
       "    </tr>\n",
       "    <tr>\n",
       "      <th>pathfinder 4wd</th>\n",
       "      <td>4.050000</td>\n",
       "      <td>2003.500000</td>\n",
       "      <td>6.500000</td>\n",
       "      <td>13.750000</td>\n",
       "      <td>18.000000</td>\n",
       "    </tr>\n",
       "    <tr>\n",
       "      <th>ram 1500 pickup 4wd</th>\n",
       "      <td>5.020000</td>\n",
       "      <td>2005.300000</td>\n",
       "      <td>8.000000</td>\n",
       "      <td>11.400000</td>\n",
       "      <td>15.300000</td>\n",
       "    </tr>\n",
       "    <tr>\n",
       "      <th>range rover</th>\n",
       "      <td>4.300000</td>\n",
       "      <td>2003.500000</td>\n",
       "      <td>8.000000</td>\n",
       "      <td>11.500000</td>\n",
       "      <td>16.500000</td>\n",
       "    </tr>\n",
       "    <tr>\n",
       "      <th>sonata</th>\n",
       "      <td>2.557143</td>\n",
       "      <td>2002.857143</td>\n",
       "      <td>4.857143</td>\n",
       "      <td>19.000000</td>\n",
       "      <td>27.714286</td>\n",
       "    </tr>\n",
       "    <tr>\n",
       "      <th>tiburon</th>\n",
       "      <td>2.300000</td>\n",
       "      <td>2005.428571</td>\n",
       "      <td>4.857143</td>\n",
       "      <td>18.285714</td>\n",
       "      <td>26.000000</td>\n",
       "    </tr>\n",
       "    <tr>\n",
       "      <th>toyota tacoma 4wd</th>\n",
       "      <td>3.271429</td>\n",
       "      <td>2002.857143</td>\n",
       "      <td>5.142857</td>\n",
       "      <td>15.571429</td>\n",
       "      <td>19.428571</td>\n",
       "    </tr>\n",
       "  </tbody>\n",
       "</table>\n",
       "</div>"
      ],
      "text/plain": [
       "                           displ         year       cyl        cty        hwy\n",
       "model                                                                        \n",
       "4runner 4wd             3.483333  2002.000000  5.666667  15.166667  18.833333\n",
       "a4                      2.328571  2002.857143  4.857143  18.857143  28.285714\n",
       "a4 quattro              2.425000  2003.500000  5.000000  17.125000  25.750000\n",
       "a6 quattro              3.366667  2005.000000  6.666667  16.000000  24.000000\n",
       "altima                  2.800000  2005.000000  4.666667  20.666667  28.666667\n",
       "c1500 suburban 2wd      5.520000  2006.200000  8.000000  12.800000  17.800000\n",
       "camry                   2.671429  2002.857143  4.857143  19.857143  28.285714\n",
       "camry solara            2.642857  2002.857143  4.857143  19.857143  28.142857\n",
       "caravan 2wd             3.390909  2003.090909  5.818182  15.818182  22.363636\n",
       "civic                   1.711111  2003.000000  4.000000  24.444444  32.555556\n",
       "corolla                 1.800000  2002.600000  4.000000  25.600000  34.000000\n",
       "corvette                6.160000  2004.400000  8.000000  15.400000  24.800000\n",
       "dakota pickup 4wd       4.411111  2004.000000  7.111111  12.777778  17.000000\n",
       "durango 4wd             4.971429  2004.142857  7.714286  11.857143  16.000000\n",
       "expedition 2wd          5.133333  2002.000000  8.000000  11.333333  17.333333\n",
       "explorer 4wd            4.266667  2002.000000  6.666667  13.666667  18.000000\n",
       "f150 pickup 4wd         4.714286  2001.571429  7.428571  13.000000  16.428571\n",
       "forester awd            2.500000  2005.000000  4.000000  18.833333  25.000000\n",
       "grand cherokee 4wd      4.575000  2005.750000  7.250000  13.500000  17.625000\n",
       "grand prix              3.960000  2002.600000  6.400000  17.000000  26.400000\n",
       "gti                     2.160000  2002.600000  4.400000  20.000000  27.400000\n",
       "impreza awd             2.425000  2003.500000  4.000000  19.625000  26.000000\n",
       "jetta                   2.277778  2003.000000  4.666667  21.222222  29.111111\n",
       "k1500 tahoe 4wd         5.700000  2003.500000  8.000000  12.500000  16.250000\n",
       "land cruiser wagon 4wd  5.200000  2003.500000  8.000000  12.000000  16.500000\n",
       "malibu                  3.000000  2004.400000  5.200000  18.800000  27.600000\n",
       "maxima                  3.166667  2002.000000  6.000000  18.666667  25.333333\n",
       "mountaineer 4wd         4.400000  2003.500000  7.000000  13.250000  18.000000\n",
       "mustang                 4.377778  2004.000000  7.111111  15.888889  23.222222\n",
       "navigator 2wd           5.400000  2002.000000  8.000000  11.333333  17.000000\n",
       "new beetle              2.133333  2002.000000  4.333333  24.000000  32.833333\n",
       "passat                  2.400000  2002.857143  4.857143  18.571429  27.571429\n",
       "pathfinder 4wd          4.050000  2003.500000  6.500000  13.750000  18.000000\n",
       "ram 1500 pickup 4wd     5.020000  2005.300000  8.000000  11.400000  15.300000\n",
       "range rover             4.300000  2003.500000  8.000000  11.500000  16.500000\n",
       "sonata                  2.557143  2002.857143  4.857143  19.000000  27.714286\n",
       "tiburon                 2.300000  2005.428571  4.857143  18.285714  26.000000\n",
       "toyota tacoma 4wd       3.271429  2002.857143  5.142857  15.571429  19.428571"
      ]
     },
     "execution_count": 177,
     "metadata": {},
     "output_type": "execute_result"
    }
   ],
   "source": [
    "mpg.groupby('model').mean()"
   ]
  },
  {
   "cell_type": "code",
   "execution_count": 178,
   "id": "cbd844e5-a336-4364-a7e8-dfd15f5254ae",
   "metadata": {},
   "outputs": [
    {
     "data": {
      "text/html": [
       "<div>\n",
       "<style scoped>\n",
       "    .dataframe tbody tr th:only-of-type {\n",
       "        vertical-align: middle;\n",
       "    }\n",
       "\n",
       "    .dataframe tbody tr th {\n",
       "        vertical-align: top;\n",
       "    }\n",
       "\n",
       "    .dataframe thead tr th {\n",
       "        text-align: left;\n",
       "    }\n",
       "\n",
       "    .dataframe thead tr:last-of-type th {\n",
       "        text-align: right;\n",
       "    }\n",
       "</style>\n",
       "<table border=\"1\" class=\"dataframe\">\n",
       "  <thead>\n",
       "    <tr>\n",
       "      <th></th>\n",
       "      <th colspan=\"2\" halign=\"left\">manufacturer</th>\n",
       "      <th colspan=\"2\" halign=\"left\">displ</th>\n",
       "      <th colspan=\"2\" halign=\"left\">year</th>\n",
       "      <th colspan=\"2\" halign=\"left\">cyl</th>\n",
       "      <th colspan=\"2\" halign=\"left\">trans</th>\n",
       "      <th colspan=\"2\" halign=\"left\">drv</th>\n",
       "      <th colspan=\"2\" halign=\"left\">cty</th>\n",
       "      <th colspan=\"2\" halign=\"left\">hwy</th>\n",
       "      <th colspan=\"2\" halign=\"left\">fl</th>\n",
       "      <th colspan=\"2\" halign=\"left\">class</th>\n",
       "    </tr>\n",
       "    <tr>\n",
       "      <th></th>\n",
       "      <th>max</th>\n",
       "      <th>min</th>\n",
       "      <th>max</th>\n",
       "      <th>min</th>\n",
       "      <th>max</th>\n",
       "      <th>min</th>\n",
       "      <th>max</th>\n",
       "      <th>min</th>\n",
       "      <th>max</th>\n",
       "      <th>min</th>\n",
       "      <th>max</th>\n",
       "      <th>min</th>\n",
       "      <th>max</th>\n",
       "      <th>min</th>\n",
       "      <th>max</th>\n",
       "      <th>min</th>\n",
       "      <th>max</th>\n",
       "      <th>min</th>\n",
       "      <th>max</th>\n",
       "      <th>min</th>\n",
       "    </tr>\n",
       "    <tr>\n",
       "      <th>model</th>\n",
       "      <th></th>\n",
       "      <th></th>\n",
       "      <th></th>\n",
       "      <th></th>\n",
       "      <th></th>\n",
       "      <th></th>\n",
       "      <th></th>\n",
       "      <th></th>\n",
       "      <th></th>\n",
       "      <th></th>\n",
       "      <th></th>\n",
       "      <th></th>\n",
       "      <th></th>\n",
       "      <th></th>\n",
       "      <th></th>\n",
       "      <th></th>\n",
       "      <th></th>\n",
       "      <th></th>\n",
       "      <th></th>\n",
       "      <th></th>\n",
       "    </tr>\n",
       "  </thead>\n",
       "  <tbody>\n",
       "    <tr>\n",
       "      <th>4runner 4wd</th>\n",
       "      <td>toyota</td>\n",
       "      <td>toyota</td>\n",
       "      <td>4.7</td>\n",
       "      <td>2.7</td>\n",
       "      <td>2008</td>\n",
       "      <td>1999</td>\n",
       "      <td>8</td>\n",
       "      <td>4</td>\n",
       "      <td>manual(m5)</td>\n",
       "      <td>auto(l4)</td>\n",
       "      <td>4</td>\n",
       "      <td>4</td>\n",
       "      <td>16</td>\n",
       "      <td>14</td>\n",
       "      <td>20</td>\n",
       "      <td>17</td>\n",
       "      <td>r</td>\n",
       "      <td>r</td>\n",
       "      <td>suv</td>\n",
       "      <td>suv</td>\n",
       "    </tr>\n",
       "    <tr>\n",
       "      <th>a4</th>\n",
       "      <td>audi</td>\n",
       "      <td>audi</td>\n",
       "      <td>3.1</td>\n",
       "      <td>1.8</td>\n",
       "      <td>2008</td>\n",
       "      <td>1999</td>\n",
       "      <td>6</td>\n",
       "      <td>4</td>\n",
       "      <td>manual(m6)</td>\n",
       "      <td>auto(av)</td>\n",
       "      <td>f</td>\n",
       "      <td>f</td>\n",
       "      <td>21</td>\n",
       "      <td>16</td>\n",
       "      <td>31</td>\n",
       "      <td>26</td>\n",
       "      <td>p</td>\n",
       "      <td>p</td>\n",
       "      <td>compact</td>\n",
       "      <td>compact</td>\n",
       "    </tr>\n",
       "    <tr>\n",
       "      <th>a4 quattro</th>\n",
       "      <td>audi</td>\n",
       "      <td>audi</td>\n",
       "      <td>3.1</td>\n",
       "      <td>1.8</td>\n",
       "      <td>2008</td>\n",
       "      <td>1999</td>\n",
       "      <td>6</td>\n",
       "      <td>4</td>\n",
       "      <td>manual(m6)</td>\n",
       "      <td>auto(l5)</td>\n",
       "      <td>4</td>\n",
       "      <td>4</td>\n",
       "      <td>20</td>\n",
       "      <td>15</td>\n",
       "      <td>28</td>\n",
       "      <td>25</td>\n",
       "      <td>p</td>\n",
       "      <td>p</td>\n",
       "      <td>compact</td>\n",
       "      <td>compact</td>\n",
       "    </tr>\n",
       "    <tr>\n",
       "      <th>a6 quattro</th>\n",
       "      <td>audi</td>\n",
       "      <td>audi</td>\n",
       "      <td>4.2</td>\n",
       "      <td>2.8</td>\n",
       "      <td>2008</td>\n",
       "      <td>1999</td>\n",
       "      <td>8</td>\n",
       "      <td>6</td>\n",
       "      <td>auto(s6)</td>\n",
       "      <td>auto(l5)</td>\n",
       "      <td>4</td>\n",
       "      <td>4</td>\n",
       "      <td>17</td>\n",
       "      <td>15</td>\n",
       "      <td>25</td>\n",
       "      <td>23</td>\n",
       "      <td>p</td>\n",
       "      <td>p</td>\n",
       "      <td>midsize</td>\n",
       "      <td>midsize</td>\n",
       "    </tr>\n",
       "    <tr>\n",
       "      <th>altima</th>\n",
       "      <td>nissan</td>\n",
       "      <td>nissan</td>\n",
       "      <td>3.5</td>\n",
       "      <td>2.4</td>\n",
       "      <td>2008</td>\n",
       "      <td>1999</td>\n",
       "      <td>6</td>\n",
       "      <td>4</td>\n",
       "      <td>manual(m6)</td>\n",
       "      <td>auto(av)</td>\n",
       "      <td>f</td>\n",
       "      <td>f</td>\n",
       "      <td>23</td>\n",
       "      <td>19</td>\n",
       "      <td>32</td>\n",
       "      <td>26</td>\n",
       "      <td>r</td>\n",
       "      <td>p</td>\n",
       "      <td>midsize</td>\n",
       "      <td>compact</td>\n",
       "    </tr>\n",
       "    <tr>\n",
       "      <th>c1500 suburban 2wd</th>\n",
       "      <td>chevrolet</td>\n",
       "      <td>chevrolet</td>\n",
       "      <td>6.0</td>\n",
       "      <td>5.3</td>\n",
       "      <td>2008</td>\n",
       "      <td>1999</td>\n",
       "      <td>8</td>\n",
       "      <td>8</td>\n",
       "      <td>auto(l4)</td>\n",
       "      <td>auto(l4)</td>\n",
       "      <td>r</td>\n",
       "      <td>r</td>\n",
       "      <td>14</td>\n",
       "      <td>11</td>\n",
       "      <td>20</td>\n",
       "      <td>15</td>\n",
       "      <td>r</td>\n",
       "      <td>e</td>\n",
       "      <td>suv</td>\n",
       "      <td>suv</td>\n",
       "    </tr>\n",
       "    <tr>\n",
       "      <th>camry</th>\n",
       "      <td>toyota</td>\n",
       "      <td>toyota</td>\n",
       "      <td>3.5</td>\n",
       "      <td>2.2</td>\n",
       "      <td>2008</td>\n",
       "      <td>1999</td>\n",
       "      <td>6</td>\n",
       "      <td>4</td>\n",
       "      <td>manual(m5)</td>\n",
       "      <td>auto(l4)</td>\n",
       "      <td>f</td>\n",
       "      <td>f</td>\n",
       "      <td>21</td>\n",
       "      <td>18</td>\n",
       "      <td>31</td>\n",
       "      <td>26</td>\n",
       "      <td>r</td>\n",
       "      <td>r</td>\n",
       "      <td>midsize</td>\n",
       "      <td>midsize</td>\n",
       "    </tr>\n",
       "    <tr>\n",
       "      <th>camry solara</th>\n",
       "      <td>toyota</td>\n",
       "      <td>toyota</td>\n",
       "      <td>3.3</td>\n",
       "      <td>2.2</td>\n",
       "      <td>2008</td>\n",
       "      <td>1999</td>\n",
       "      <td>6</td>\n",
       "      <td>4</td>\n",
       "      <td>manual(m5)</td>\n",
       "      <td>auto(l4)</td>\n",
       "      <td>f</td>\n",
       "      <td>f</td>\n",
       "      <td>22</td>\n",
       "      <td>18</td>\n",
       "      <td>31</td>\n",
       "      <td>26</td>\n",
       "      <td>r</td>\n",
       "      <td>r</td>\n",
       "      <td>compact</td>\n",
       "      <td>compact</td>\n",
       "    </tr>\n",
       "    <tr>\n",
       "      <th>caravan 2wd</th>\n",
       "      <td>dodge</td>\n",
       "      <td>dodge</td>\n",
       "      <td>4.0</td>\n",
       "      <td>2.4</td>\n",
       "      <td>2008</td>\n",
       "      <td>1999</td>\n",
       "      <td>6</td>\n",
       "      <td>4</td>\n",
       "      <td>auto(l6)</td>\n",
       "      <td>auto(l3)</td>\n",
       "      <td>f</td>\n",
       "      <td>f</td>\n",
       "      <td>18</td>\n",
       "      <td>11</td>\n",
       "      <td>24</td>\n",
       "      <td>17</td>\n",
       "      <td>r</td>\n",
       "      <td>e</td>\n",
       "      <td>minivan</td>\n",
       "      <td>minivan</td>\n",
       "    </tr>\n",
       "    <tr>\n",
       "      <th>civic</th>\n",
       "      <td>honda</td>\n",
       "      <td>honda</td>\n",
       "      <td>2.0</td>\n",
       "      <td>1.6</td>\n",
       "      <td>2008</td>\n",
       "      <td>1999</td>\n",
       "      <td>4</td>\n",
       "      <td>4</td>\n",
       "      <td>manual(m6)</td>\n",
       "      <td>auto(l4)</td>\n",
       "      <td>f</td>\n",
       "      <td>f</td>\n",
       "      <td>28</td>\n",
       "      <td>21</td>\n",
       "      <td>36</td>\n",
       "      <td>29</td>\n",
       "      <td>r</td>\n",
       "      <td>c</td>\n",
       "      <td>subcompact</td>\n",
       "      <td>subcompact</td>\n",
       "    </tr>\n",
       "    <tr>\n",
       "      <th>corolla</th>\n",
       "      <td>toyota</td>\n",
       "      <td>toyota</td>\n",
       "      <td>1.8</td>\n",
       "      <td>1.8</td>\n",
       "      <td>2008</td>\n",
       "      <td>1999</td>\n",
       "      <td>4</td>\n",
       "      <td>4</td>\n",
       "      <td>manual(m5)</td>\n",
       "      <td>auto(l3)</td>\n",
       "      <td>f</td>\n",
       "      <td>f</td>\n",
       "      <td>28</td>\n",
       "      <td>24</td>\n",
       "      <td>37</td>\n",
       "      <td>30</td>\n",
       "      <td>r</td>\n",
       "      <td>r</td>\n",
       "      <td>compact</td>\n",
       "      <td>compact</td>\n",
       "    </tr>\n",
       "    <tr>\n",
       "      <th>corvette</th>\n",
       "      <td>chevrolet</td>\n",
       "      <td>chevrolet</td>\n",
       "      <td>7.0</td>\n",
       "      <td>5.7</td>\n",
       "      <td>2008</td>\n",
       "      <td>1999</td>\n",
       "      <td>8</td>\n",
       "      <td>8</td>\n",
       "      <td>manual(m6)</td>\n",
       "      <td>auto(l4)</td>\n",
       "      <td>r</td>\n",
       "      <td>r</td>\n",
       "      <td>16</td>\n",
       "      <td>15</td>\n",
       "      <td>26</td>\n",
       "      <td>23</td>\n",
       "      <td>p</td>\n",
       "      <td>p</td>\n",
       "      <td>2seater</td>\n",
       "      <td>2seater</td>\n",
       "    </tr>\n",
       "    <tr>\n",
       "      <th>dakota pickup 4wd</th>\n",
       "      <td>dodge</td>\n",
       "      <td>dodge</td>\n",
       "      <td>5.2</td>\n",
       "      <td>3.7</td>\n",
       "      <td>2008</td>\n",
       "      <td>1999</td>\n",
       "      <td>8</td>\n",
       "      <td>6</td>\n",
       "      <td>manual(m6)</td>\n",
       "      <td>auto(l4)</td>\n",
       "      <td>4</td>\n",
       "      <td>4</td>\n",
       "      <td>15</td>\n",
       "      <td>9</td>\n",
       "      <td>19</td>\n",
       "      <td>12</td>\n",
       "      <td>r</td>\n",
       "      <td>e</td>\n",
       "      <td>pickup</td>\n",
       "      <td>pickup</td>\n",
       "    </tr>\n",
       "    <tr>\n",
       "      <th>durango 4wd</th>\n",
       "      <td>dodge</td>\n",
       "      <td>dodge</td>\n",
       "      <td>5.9</td>\n",
       "      <td>3.9</td>\n",
       "      <td>2008</td>\n",
       "      <td>1999</td>\n",
       "      <td>8</td>\n",
       "      <td>6</td>\n",
       "      <td>auto(l5)</td>\n",
       "      <td>auto(l4)</td>\n",
       "      <td>4</td>\n",
       "      <td>4</td>\n",
       "      <td>13</td>\n",
       "      <td>9</td>\n",
       "      <td>18</td>\n",
       "      <td>12</td>\n",
       "      <td>r</td>\n",
       "      <td>e</td>\n",
       "      <td>suv</td>\n",
       "      <td>suv</td>\n",
       "    </tr>\n",
       "    <tr>\n",
       "      <th>expedition 2wd</th>\n",
       "      <td>ford</td>\n",
       "      <td>ford</td>\n",
       "      <td>5.4</td>\n",
       "      <td>4.6</td>\n",
       "      <td>2008</td>\n",
       "      <td>1999</td>\n",
       "      <td>8</td>\n",
       "      <td>8</td>\n",
       "      <td>auto(l6)</td>\n",
       "      <td>auto(l4)</td>\n",
       "      <td>r</td>\n",
       "      <td>r</td>\n",
       "      <td>12</td>\n",
       "      <td>11</td>\n",
       "      <td>18</td>\n",
       "      <td>17</td>\n",
       "      <td>r</td>\n",
       "      <td>r</td>\n",
       "      <td>suv</td>\n",
       "      <td>suv</td>\n",
       "    </tr>\n",
       "    <tr>\n",
       "      <th>explorer 4wd</th>\n",
       "      <td>ford</td>\n",
       "      <td>ford</td>\n",
       "      <td>5.0</td>\n",
       "      <td>4.0</td>\n",
       "      <td>2008</td>\n",
       "      <td>1999</td>\n",
       "      <td>8</td>\n",
       "      <td>6</td>\n",
       "      <td>manual(m5)</td>\n",
       "      <td>auto(l4)</td>\n",
       "      <td>4</td>\n",
       "      <td>4</td>\n",
       "      <td>15</td>\n",
       "      <td>13</td>\n",
       "      <td>19</td>\n",
       "      <td>17</td>\n",
       "      <td>r</td>\n",
       "      <td>r</td>\n",
       "      <td>suv</td>\n",
       "      <td>suv</td>\n",
       "    </tr>\n",
       "    <tr>\n",
       "      <th>f150 pickup 4wd</th>\n",
       "      <td>ford</td>\n",
       "      <td>ford</td>\n",
       "      <td>5.4</td>\n",
       "      <td>4.2</td>\n",
       "      <td>2008</td>\n",
       "      <td>1999</td>\n",
       "      <td>8</td>\n",
       "      <td>6</td>\n",
       "      <td>manual(m5)</td>\n",
       "      <td>auto(l4)</td>\n",
       "      <td>4</td>\n",
       "      <td>4</td>\n",
       "      <td>14</td>\n",
       "      <td>11</td>\n",
       "      <td>17</td>\n",
       "      <td>15</td>\n",
       "      <td>r</td>\n",
       "      <td>r</td>\n",
       "      <td>pickup</td>\n",
       "      <td>pickup</td>\n",
       "    </tr>\n",
       "    <tr>\n",
       "      <th>forester awd</th>\n",
       "      <td>subaru</td>\n",
       "      <td>subaru</td>\n",
       "      <td>2.5</td>\n",
       "      <td>2.5</td>\n",
       "      <td>2008</td>\n",
       "      <td>1999</td>\n",
       "      <td>4</td>\n",
       "      <td>4</td>\n",
       "      <td>manual(m5)</td>\n",
       "      <td>auto(l4)</td>\n",
       "      <td>4</td>\n",
       "      <td>4</td>\n",
       "      <td>20</td>\n",
       "      <td>18</td>\n",
       "      <td>27</td>\n",
       "      <td>23</td>\n",
       "      <td>r</td>\n",
       "      <td>p</td>\n",
       "      <td>suv</td>\n",
       "      <td>suv</td>\n",
       "    </tr>\n",
       "    <tr>\n",
       "      <th>grand cherokee 4wd</th>\n",
       "      <td>jeep</td>\n",
       "      <td>jeep</td>\n",
       "      <td>6.1</td>\n",
       "      <td>3.0</td>\n",
       "      <td>2008</td>\n",
       "      <td>1999</td>\n",
       "      <td>8</td>\n",
       "      <td>6</td>\n",
       "      <td>auto(l5)</td>\n",
       "      <td>auto(l4)</td>\n",
       "      <td>4</td>\n",
       "      <td>4</td>\n",
       "      <td>17</td>\n",
       "      <td>9</td>\n",
       "      <td>22</td>\n",
       "      <td>12</td>\n",
       "      <td>r</td>\n",
       "      <td>d</td>\n",
       "      <td>suv</td>\n",
       "      <td>suv</td>\n",
       "    </tr>\n",
       "    <tr>\n",
       "      <th>grand prix</th>\n",
       "      <td>pontiac</td>\n",
       "      <td>pontiac</td>\n",
       "      <td>5.3</td>\n",
       "      <td>3.1</td>\n",
       "      <td>2008</td>\n",
       "      <td>1999</td>\n",
       "      <td>8</td>\n",
       "      <td>6</td>\n",
       "      <td>auto(s4)</td>\n",
       "      <td>auto(l4)</td>\n",
       "      <td>f</td>\n",
       "      <td>f</td>\n",
       "      <td>18</td>\n",
       "      <td>16</td>\n",
       "      <td>28</td>\n",
       "      <td>25</td>\n",
       "      <td>r</td>\n",
       "      <td>p</td>\n",
       "      <td>midsize</td>\n",
       "      <td>midsize</td>\n",
       "    </tr>\n",
       "    <tr>\n",
       "      <th>gti</th>\n",
       "      <td>volkswagen</td>\n",
       "      <td>volkswagen</td>\n",
       "      <td>2.8</td>\n",
       "      <td>2.0</td>\n",
       "      <td>2008</td>\n",
       "      <td>1999</td>\n",
       "      <td>6</td>\n",
       "      <td>4</td>\n",
       "      <td>manual(m6)</td>\n",
       "      <td>auto(l4)</td>\n",
       "      <td>f</td>\n",
       "      <td>f</td>\n",
       "      <td>22</td>\n",
       "      <td>17</td>\n",
       "      <td>29</td>\n",
       "      <td>24</td>\n",
       "      <td>r</td>\n",
       "      <td>p</td>\n",
       "      <td>compact</td>\n",
       "      <td>compact</td>\n",
       "    </tr>\n",
       "    <tr>\n",
       "      <th>impreza awd</th>\n",
       "      <td>subaru</td>\n",
       "      <td>subaru</td>\n",
       "      <td>2.5</td>\n",
       "      <td>2.2</td>\n",
       "      <td>2008</td>\n",
       "      <td>1999</td>\n",
       "      <td>4</td>\n",
       "      <td>4</td>\n",
       "      <td>manual(m5)</td>\n",
       "      <td>auto(l4)</td>\n",
       "      <td>4</td>\n",
       "      <td>4</td>\n",
       "      <td>21</td>\n",
       "      <td>19</td>\n",
       "      <td>27</td>\n",
       "      <td>25</td>\n",
       "      <td>r</td>\n",
       "      <td>p</td>\n",
       "      <td>subcompact</td>\n",
       "      <td>compact</td>\n",
       "    </tr>\n",
       "    <tr>\n",
       "      <th>jetta</th>\n",
       "      <td>volkswagen</td>\n",
       "      <td>volkswagen</td>\n",
       "      <td>2.8</td>\n",
       "      <td>1.9</td>\n",
       "      <td>2008</td>\n",
       "      <td>1999</td>\n",
       "      <td>6</td>\n",
       "      <td>4</td>\n",
       "      <td>manual(m6)</td>\n",
       "      <td>auto(l4)</td>\n",
       "      <td>f</td>\n",
       "      <td>f</td>\n",
       "      <td>33</td>\n",
       "      <td>16</td>\n",
       "      <td>44</td>\n",
       "      <td>23</td>\n",
       "      <td>r</td>\n",
       "      <td>d</td>\n",
       "      <td>compact</td>\n",
       "      <td>compact</td>\n",
       "    </tr>\n",
       "    <tr>\n",
       "      <th>k1500 tahoe 4wd</th>\n",
       "      <td>chevrolet</td>\n",
       "      <td>chevrolet</td>\n",
       "      <td>6.5</td>\n",
       "      <td>5.3</td>\n",
       "      <td>2008</td>\n",
       "      <td>1999</td>\n",
       "      <td>8</td>\n",
       "      <td>8</td>\n",
       "      <td>auto(l4)</td>\n",
       "      <td>auto(l4)</td>\n",
       "      <td>4</td>\n",
       "      <td>4</td>\n",
       "      <td>14</td>\n",
       "      <td>11</td>\n",
       "      <td>19</td>\n",
       "      <td>14</td>\n",
       "      <td>r</td>\n",
       "      <td>d</td>\n",
       "      <td>suv</td>\n",
       "      <td>suv</td>\n",
       "    </tr>\n",
       "    <tr>\n",
       "      <th>land cruiser wagon 4wd</th>\n",
       "      <td>toyota</td>\n",
       "      <td>toyota</td>\n",
       "      <td>5.7</td>\n",
       "      <td>4.7</td>\n",
       "      <td>2008</td>\n",
       "      <td>1999</td>\n",
       "      <td>8</td>\n",
       "      <td>8</td>\n",
       "      <td>auto(s6)</td>\n",
       "      <td>auto(l4)</td>\n",
       "      <td>4</td>\n",
       "      <td>4</td>\n",
       "      <td>13</td>\n",
       "      <td>11</td>\n",
       "      <td>18</td>\n",
       "      <td>15</td>\n",
       "      <td>r</td>\n",
       "      <td>r</td>\n",
       "      <td>suv</td>\n",
       "      <td>suv</td>\n",
       "    </tr>\n",
       "    <tr>\n",
       "      <th>malibu</th>\n",
       "      <td>chevrolet</td>\n",
       "      <td>chevrolet</td>\n",
       "      <td>3.6</td>\n",
       "      <td>2.4</td>\n",
       "      <td>2008</td>\n",
       "      <td>1999</td>\n",
       "      <td>6</td>\n",
       "      <td>4</td>\n",
       "      <td>auto(s6)</td>\n",
       "      <td>auto(l4)</td>\n",
       "      <td>f</td>\n",
       "      <td>f</td>\n",
       "      <td>22</td>\n",
       "      <td>17</td>\n",
       "      <td>30</td>\n",
       "      <td>26</td>\n",
       "      <td>r</td>\n",
       "      <td>r</td>\n",
       "      <td>midsize</td>\n",
       "      <td>midsize</td>\n",
       "    </tr>\n",
       "    <tr>\n",
       "      <th>maxima</th>\n",
       "      <td>nissan</td>\n",
       "      <td>nissan</td>\n",
       "      <td>3.5</td>\n",
       "      <td>3.0</td>\n",
       "      <td>2008</td>\n",
       "      <td>1999</td>\n",
       "      <td>6</td>\n",
       "      <td>6</td>\n",
       "      <td>manual(m5)</td>\n",
       "      <td>auto(av)</td>\n",
       "      <td>f</td>\n",
       "      <td>f</td>\n",
       "      <td>19</td>\n",
       "      <td>18</td>\n",
       "      <td>26</td>\n",
       "      <td>25</td>\n",
       "      <td>r</td>\n",
       "      <td>p</td>\n",
       "      <td>midsize</td>\n",
       "      <td>midsize</td>\n",
       "    </tr>\n",
       "    <tr>\n",
       "      <th>mountaineer 4wd</th>\n",
       "      <td>mercury</td>\n",
       "      <td>mercury</td>\n",
       "      <td>5.0</td>\n",
       "      <td>4.0</td>\n",
       "      <td>2008</td>\n",
       "      <td>1999</td>\n",
       "      <td>8</td>\n",
       "      <td>6</td>\n",
       "      <td>auto(l6)</td>\n",
       "      <td>auto(l4)</td>\n",
       "      <td>4</td>\n",
       "      <td>4</td>\n",
       "      <td>14</td>\n",
       "      <td>13</td>\n",
       "      <td>19</td>\n",
       "      <td>17</td>\n",
       "      <td>r</td>\n",
       "      <td>r</td>\n",
       "      <td>suv</td>\n",
       "      <td>suv</td>\n",
       "    </tr>\n",
       "    <tr>\n",
       "      <th>mustang</th>\n",
       "      <td>ford</td>\n",
       "      <td>ford</td>\n",
       "      <td>5.4</td>\n",
       "      <td>3.8</td>\n",
       "      <td>2008</td>\n",
       "      <td>1999</td>\n",
       "      <td>8</td>\n",
       "      <td>6</td>\n",
       "      <td>manual(m6)</td>\n",
       "      <td>auto(l4)</td>\n",
       "      <td>r</td>\n",
       "      <td>r</td>\n",
       "      <td>18</td>\n",
       "      <td>14</td>\n",
       "      <td>26</td>\n",
       "      <td>20</td>\n",
       "      <td>r</td>\n",
       "      <td>p</td>\n",
       "      <td>subcompact</td>\n",
       "      <td>subcompact</td>\n",
       "    </tr>\n",
       "    <tr>\n",
       "      <th>navigator 2wd</th>\n",
       "      <td>lincoln</td>\n",
       "      <td>lincoln</td>\n",
       "      <td>5.4</td>\n",
       "      <td>5.4</td>\n",
       "      <td>2008</td>\n",
       "      <td>1999</td>\n",
       "      <td>8</td>\n",
       "      <td>8</td>\n",
       "      <td>auto(l6)</td>\n",
       "      <td>auto(l4)</td>\n",
       "      <td>r</td>\n",
       "      <td>r</td>\n",
       "      <td>12</td>\n",
       "      <td>11</td>\n",
       "      <td>18</td>\n",
       "      <td>16</td>\n",
       "      <td>r</td>\n",
       "      <td>p</td>\n",
       "      <td>suv</td>\n",
       "      <td>suv</td>\n",
       "    </tr>\n",
       "    <tr>\n",
       "      <th>new beetle</th>\n",
       "      <td>volkswagen</td>\n",
       "      <td>volkswagen</td>\n",
       "      <td>2.5</td>\n",
       "      <td>1.9</td>\n",
       "      <td>2008</td>\n",
       "      <td>1999</td>\n",
       "      <td>5</td>\n",
       "      <td>4</td>\n",
       "      <td>manual(m5)</td>\n",
       "      <td>auto(l4)</td>\n",
       "      <td>f</td>\n",
       "      <td>f</td>\n",
       "      <td>35</td>\n",
       "      <td>19</td>\n",
       "      <td>44</td>\n",
       "      <td>26</td>\n",
       "      <td>r</td>\n",
       "      <td>d</td>\n",
       "      <td>subcompact</td>\n",
       "      <td>subcompact</td>\n",
       "    </tr>\n",
       "    <tr>\n",
       "      <th>passat</th>\n",
       "      <td>volkswagen</td>\n",
       "      <td>volkswagen</td>\n",
       "      <td>3.6</td>\n",
       "      <td>1.8</td>\n",
       "      <td>2008</td>\n",
       "      <td>1999</td>\n",
       "      <td>6</td>\n",
       "      <td>4</td>\n",
       "      <td>manual(m6)</td>\n",
       "      <td>auto(l5)</td>\n",
       "      <td>f</td>\n",
       "      <td>f</td>\n",
       "      <td>21</td>\n",
       "      <td>16</td>\n",
       "      <td>29</td>\n",
       "      <td>26</td>\n",
       "      <td>p</td>\n",
       "      <td>p</td>\n",
       "      <td>midsize</td>\n",
       "      <td>midsize</td>\n",
       "    </tr>\n",
       "    <tr>\n",
       "      <th>pathfinder 4wd</th>\n",
       "      <td>nissan</td>\n",
       "      <td>nissan</td>\n",
       "      <td>5.6</td>\n",
       "      <td>3.3</td>\n",
       "      <td>2008</td>\n",
       "      <td>1999</td>\n",
       "      <td>8</td>\n",
       "      <td>6</td>\n",
       "      <td>manual(m5)</td>\n",
       "      <td>auto(l4)</td>\n",
       "      <td>4</td>\n",
       "      <td>4</td>\n",
       "      <td>15</td>\n",
       "      <td>12</td>\n",
       "      <td>20</td>\n",
       "      <td>17</td>\n",
       "      <td>r</td>\n",
       "      <td>p</td>\n",
       "      <td>suv</td>\n",
       "      <td>suv</td>\n",
       "    </tr>\n",
       "    <tr>\n",
       "      <th>ram 1500 pickup 4wd</th>\n",
       "      <td>dodge</td>\n",
       "      <td>dodge</td>\n",
       "      <td>5.9</td>\n",
       "      <td>4.7</td>\n",
       "      <td>2008</td>\n",
       "      <td>1999</td>\n",
       "      <td>8</td>\n",
       "      <td>8</td>\n",
       "      <td>manual(m6)</td>\n",
       "      <td>auto(l4)</td>\n",
       "      <td>4</td>\n",
       "      <td>4</td>\n",
       "      <td>13</td>\n",
       "      <td>9</td>\n",
       "      <td>17</td>\n",
       "      <td>12</td>\n",
       "      <td>r</td>\n",
       "      <td>e</td>\n",
       "      <td>pickup</td>\n",
       "      <td>pickup</td>\n",
       "    </tr>\n",
       "    <tr>\n",
       "      <th>range rover</th>\n",
       "      <td>land rover</td>\n",
       "      <td>land rover</td>\n",
       "      <td>4.6</td>\n",
       "      <td>4.0</td>\n",
       "      <td>2008</td>\n",
       "      <td>1999</td>\n",
       "      <td>8</td>\n",
       "      <td>8</td>\n",
       "      <td>auto(s6)</td>\n",
       "      <td>auto(l4)</td>\n",
       "      <td>4</td>\n",
       "      <td>4</td>\n",
       "      <td>12</td>\n",
       "      <td>11</td>\n",
       "      <td>18</td>\n",
       "      <td>15</td>\n",
       "      <td>r</td>\n",
       "      <td>p</td>\n",
       "      <td>suv</td>\n",
       "      <td>suv</td>\n",
       "    </tr>\n",
       "    <tr>\n",
       "      <th>sonata</th>\n",
       "      <td>hyundai</td>\n",
       "      <td>hyundai</td>\n",
       "      <td>3.3</td>\n",
       "      <td>2.4</td>\n",
       "      <td>2008</td>\n",
       "      <td>1999</td>\n",
       "      <td>6</td>\n",
       "      <td>4</td>\n",
       "      <td>manual(m5)</td>\n",
       "      <td>auto(l4)</td>\n",
       "      <td>f</td>\n",
       "      <td>f</td>\n",
       "      <td>21</td>\n",
       "      <td>18</td>\n",
       "      <td>31</td>\n",
       "      <td>26</td>\n",
       "      <td>r</td>\n",
       "      <td>r</td>\n",
       "      <td>midsize</td>\n",
       "      <td>midsize</td>\n",
       "    </tr>\n",
       "    <tr>\n",
       "      <th>tiburon</th>\n",
       "      <td>hyundai</td>\n",
       "      <td>hyundai</td>\n",
       "      <td>2.7</td>\n",
       "      <td>2.0</td>\n",
       "      <td>2008</td>\n",
       "      <td>1999</td>\n",
       "      <td>6</td>\n",
       "      <td>4</td>\n",
       "      <td>manual(m6)</td>\n",
       "      <td>auto(l4)</td>\n",
       "      <td>f</td>\n",
       "      <td>f</td>\n",
       "      <td>20</td>\n",
       "      <td>16</td>\n",
       "      <td>29</td>\n",
       "      <td>24</td>\n",
       "      <td>r</td>\n",
       "      <td>r</td>\n",
       "      <td>subcompact</td>\n",
       "      <td>subcompact</td>\n",
       "    </tr>\n",
       "    <tr>\n",
       "      <th>toyota tacoma 4wd</th>\n",
       "      <td>toyota</td>\n",
       "      <td>toyota</td>\n",
       "      <td>4.0</td>\n",
       "      <td>2.7</td>\n",
       "      <td>2008</td>\n",
       "      <td>1999</td>\n",
       "      <td>6</td>\n",
       "      <td>4</td>\n",
       "      <td>manual(m6)</td>\n",
       "      <td>auto(l4)</td>\n",
       "      <td>4</td>\n",
       "      <td>4</td>\n",
       "      <td>17</td>\n",
       "      <td>15</td>\n",
       "      <td>22</td>\n",
       "      <td>17</td>\n",
       "      <td>r</td>\n",
       "      <td>r</td>\n",
       "      <td>pickup</td>\n",
       "      <td>pickup</td>\n",
       "    </tr>\n",
       "  </tbody>\n",
       "</table>\n",
       "</div>"
      ],
      "text/plain": [
       "                       manufacturer             displ       year       cyl  \\\n",
       "                                max         min   max  min   max   min max   \n",
       "model                                                                        \n",
       "4runner 4wd                  toyota      toyota   4.7  2.7  2008  1999   8   \n",
       "a4                             audi        audi   3.1  1.8  2008  1999   6   \n",
       "a4 quattro                     audi        audi   3.1  1.8  2008  1999   6   \n",
       "a6 quattro                     audi        audi   4.2  2.8  2008  1999   8   \n",
       "altima                       nissan      nissan   3.5  2.4  2008  1999   6   \n",
       "c1500 suburban 2wd        chevrolet   chevrolet   6.0  5.3  2008  1999   8   \n",
       "camry                        toyota      toyota   3.5  2.2  2008  1999   6   \n",
       "camry solara                 toyota      toyota   3.3  2.2  2008  1999   6   \n",
       "caravan 2wd                   dodge       dodge   4.0  2.4  2008  1999   6   \n",
       "civic                         honda       honda   2.0  1.6  2008  1999   4   \n",
       "corolla                      toyota      toyota   1.8  1.8  2008  1999   4   \n",
       "corvette                  chevrolet   chevrolet   7.0  5.7  2008  1999   8   \n",
       "dakota pickup 4wd             dodge       dodge   5.2  3.7  2008  1999   8   \n",
       "durango 4wd                   dodge       dodge   5.9  3.9  2008  1999   8   \n",
       "expedition 2wd                 ford        ford   5.4  4.6  2008  1999   8   \n",
       "explorer 4wd                   ford        ford   5.0  4.0  2008  1999   8   \n",
       "f150 pickup 4wd                ford        ford   5.4  4.2  2008  1999   8   \n",
       "forester awd                 subaru      subaru   2.5  2.5  2008  1999   4   \n",
       "grand cherokee 4wd             jeep        jeep   6.1  3.0  2008  1999   8   \n",
       "grand prix                  pontiac     pontiac   5.3  3.1  2008  1999   8   \n",
       "gti                      volkswagen  volkswagen   2.8  2.0  2008  1999   6   \n",
       "impreza awd                  subaru      subaru   2.5  2.2  2008  1999   4   \n",
       "jetta                    volkswagen  volkswagen   2.8  1.9  2008  1999   6   \n",
       "k1500 tahoe 4wd           chevrolet   chevrolet   6.5  5.3  2008  1999   8   \n",
       "land cruiser wagon 4wd       toyota      toyota   5.7  4.7  2008  1999   8   \n",
       "malibu                    chevrolet   chevrolet   3.6  2.4  2008  1999   6   \n",
       "maxima                       nissan      nissan   3.5  3.0  2008  1999   6   \n",
       "mountaineer 4wd             mercury     mercury   5.0  4.0  2008  1999   8   \n",
       "mustang                        ford        ford   5.4  3.8  2008  1999   8   \n",
       "navigator 2wd               lincoln     lincoln   5.4  5.4  2008  1999   8   \n",
       "new beetle               volkswagen  volkswagen   2.5  1.9  2008  1999   5   \n",
       "passat                   volkswagen  volkswagen   3.6  1.8  2008  1999   6   \n",
       "pathfinder 4wd               nissan      nissan   5.6  3.3  2008  1999   8   \n",
       "ram 1500 pickup 4wd           dodge       dodge   5.9  4.7  2008  1999   8   \n",
       "range rover              land rover  land rover   4.6  4.0  2008  1999   8   \n",
       "sonata                      hyundai     hyundai   3.3  2.4  2008  1999   6   \n",
       "tiburon                     hyundai     hyundai   2.7  2.0  2008  1999   6   \n",
       "toyota tacoma 4wd            toyota      toyota   4.0  2.7  2008  1999   6   \n",
       "\n",
       "                                 trans           drv     cty     hwy      fl  \\\n",
       "                       min         max       min max min max min max min max   \n",
       "model                                                                          \n",
       "4runner 4wd              4  manual(m5)  auto(l4)   4   4  16  14  20  17   r   \n",
       "a4                       4  manual(m6)  auto(av)   f   f  21  16  31  26   p   \n",
       "a4 quattro               4  manual(m6)  auto(l5)   4   4  20  15  28  25   p   \n",
       "a6 quattro               6    auto(s6)  auto(l5)   4   4  17  15  25  23   p   \n",
       "altima                   4  manual(m6)  auto(av)   f   f  23  19  32  26   r   \n",
       "c1500 suburban 2wd       8    auto(l4)  auto(l4)   r   r  14  11  20  15   r   \n",
       "camry                    4  manual(m5)  auto(l4)   f   f  21  18  31  26   r   \n",
       "camry solara             4  manual(m5)  auto(l4)   f   f  22  18  31  26   r   \n",
       "caravan 2wd              4    auto(l6)  auto(l3)   f   f  18  11  24  17   r   \n",
       "civic                    4  manual(m6)  auto(l4)   f   f  28  21  36  29   r   \n",
       "corolla                  4  manual(m5)  auto(l3)   f   f  28  24  37  30   r   \n",
       "corvette                 8  manual(m6)  auto(l4)   r   r  16  15  26  23   p   \n",
       "dakota pickup 4wd        6  manual(m6)  auto(l4)   4   4  15   9  19  12   r   \n",
       "durango 4wd              6    auto(l5)  auto(l4)   4   4  13   9  18  12   r   \n",
       "expedition 2wd           8    auto(l6)  auto(l4)   r   r  12  11  18  17   r   \n",
       "explorer 4wd             6  manual(m5)  auto(l4)   4   4  15  13  19  17   r   \n",
       "f150 pickup 4wd          6  manual(m5)  auto(l4)   4   4  14  11  17  15   r   \n",
       "forester awd             4  manual(m5)  auto(l4)   4   4  20  18  27  23   r   \n",
       "grand cherokee 4wd       6    auto(l5)  auto(l4)   4   4  17   9  22  12   r   \n",
       "grand prix               6    auto(s4)  auto(l4)   f   f  18  16  28  25   r   \n",
       "gti                      4  manual(m6)  auto(l4)   f   f  22  17  29  24   r   \n",
       "impreza awd              4  manual(m5)  auto(l4)   4   4  21  19  27  25   r   \n",
       "jetta                    4  manual(m6)  auto(l4)   f   f  33  16  44  23   r   \n",
       "k1500 tahoe 4wd          8    auto(l4)  auto(l4)   4   4  14  11  19  14   r   \n",
       "land cruiser wagon 4wd   8    auto(s6)  auto(l4)   4   4  13  11  18  15   r   \n",
       "malibu                   4    auto(s6)  auto(l4)   f   f  22  17  30  26   r   \n",
       "maxima                   6  manual(m5)  auto(av)   f   f  19  18  26  25   r   \n",
       "mountaineer 4wd          6    auto(l6)  auto(l4)   4   4  14  13  19  17   r   \n",
       "mustang                  6  manual(m6)  auto(l4)   r   r  18  14  26  20   r   \n",
       "navigator 2wd            8    auto(l6)  auto(l4)   r   r  12  11  18  16   r   \n",
       "new beetle               4  manual(m5)  auto(l4)   f   f  35  19  44  26   r   \n",
       "passat                   4  manual(m6)  auto(l5)   f   f  21  16  29  26   p   \n",
       "pathfinder 4wd           6  manual(m5)  auto(l4)   4   4  15  12  20  17   r   \n",
       "ram 1500 pickup 4wd      8  manual(m6)  auto(l4)   4   4  13   9  17  12   r   \n",
       "range rover              8    auto(s6)  auto(l4)   4   4  12  11  18  15   r   \n",
       "sonata                   4  manual(m5)  auto(l4)   f   f  21  18  31  26   r   \n",
       "tiburon                  4  manual(m6)  auto(l4)   f   f  20  16  29  24   r   \n",
       "toyota tacoma 4wd        4  manual(m6)  auto(l4)   4   4  17  15  22  17   r   \n",
       "\n",
       "                                 class              \n",
       "                       min         max         min  \n",
       "model                                               \n",
       "4runner 4wd              r         suv         suv  \n",
       "a4                       p     compact     compact  \n",
       "a4 quattro               p     compact     compact  \n",
       "a6 quattro               p     midsize     midsize  \n",
       "altima                   p     midsize     compact  \n",
       "c1500 suburban 2wd       e         suv         suv  \n",
       "camry                    r     midsize     midsize  \n",
       "camry solara             r     compact     compact  \n",
       "caravan 2wd              e     minivan     minivan  \n",
       "civic                    c  subcompact  subcompact  \n",
       "corolla                  r     compact     compact  \n",
       "corvette                 p     2seater     2seater  \n",
       "dakota pickup 4wd        e      pickup      pickup  \n",
       "durango 4wd              e         suv         suv  \n",
       "expedition 2wd           r         suv         suv  \n",
       "explorer 4wd             r         suv         suv  \n",
       "f150 pickup 4wd          r      pickup      pickup  \n",
       "forester awd             p         suv         suv  \n",
       "grand cherokee 4wd       d         suv         suv  \n",
       "grand prix               p     midsize     midsize  \n",
       "gti                      p     compact     compact  \n",
       "impreza awd              p  subcompact     compact  \n",
       "jetta                    d     compact     compact  \n",
       "k1500 tahoe 4wd          d         suv         suv  \n",
       "land cruiser wagon 4wd   r         suv         suv  \n",
       "malibu                   r     midsize     midsize  \n",
       "maxima                   p     midsize     midsize  \n",
       "mountaineer 4wd          r         suv         suv  \n",
       "mustang                  p  subcompact  subcompact  \n",
       "navigator 2wd            p         suv         suv  \n",
       "new beetle               d  subcompact  subcompact  \n",
       "passat                   p     midsize     midsize  \n",
       "pathfinder 4wd           p         suv         suv  \n",
       "ram 1500 pickup 4wd      e      pickup      pickup  \n",
       "range rover              p         suv         suv  \n",
       "sonata                   r     midsize     midsize  \n",
       "tiburon                  r  subcompact  subcompact  \n",
       "toyota tacoma 4wd        r      pickup      pickup  "
      ]
     },
     "execution_count": 178,
     "metadata": {},
     "output_type": "execute_result"
    }
   ],
   "source": [
    "mpg.groupby('model').agg(['max', 'min'])"
   ]
  },
  {
   "cell_type": "markdown",
   "id": "f7ddba90-5b48-4ac5-a047-d1a00d907f16",
   "metadata": {},
   "source": [
    "### 결손 데이터 처리하기"
   ]
  },
  {
   "cell_type": "code",
   "execution_count": 183,
   "id": "a0e4b3d3-0d45-407a-aa0b-842cceaeb9f9",
   "metadata": {},
   "outputs": [
    {
     "data": {
      "text/html": [
       "<div>\n",
       "<style scoped>\n",
       "    .dataframe tbody tr th:only-of-type {\n",
       "        vertical-align: middle;\n",
       "    }\n",
       "\n",
       "    .dataframe tbody tr th {\n",
       "        vertical-align: top;\n",
       "    }\n",
       "\n",
       "    .dataframe thead th {\n",
       "        text-align: right;\n",
       "    }\n",
       "</style>\n",
       "<table border=\"1\" class=\"dataframe\">\n",
       "  <thead>\n",
       "    <tr style=\"text-align: right;\">\n",
       "      <th></th>\n",
       "      <th>class</th>\n",
       "      <th>age</th>\n",
       "      <th>sex</th>\n",
       "      <th>survived</th>\n",
       "    </tr>\n",
       "  </thead>\n",
       "  <tbody>\n",
       "    <tr>\n",
       "      <th>1</th>\n",
       "      <td>1st class</td>\n",
       "      <td>adults</td>\n",
       "      <td>man</td>\n",
       "      <td>yes</td>\n",
       "    </tr>\n",
       "    <tr>\n",
       "      <th>2</th>\n",
       "      <td>1st class</td>\n",
       "      <td>adults</td>\n",
       "      <td>man</td>\n",
       "      <td>yes</td>\n",
       "    </tr>\n",
       "    <tr>\n",
       "      <th>3</th>\n",
       "      <td>1st class</td>\n",
       "      <td>adults</td>\n",
       "      <td>man</td>\n",
       "      <td>yes</td>\n",
       "    </tr>\n",
       "    <tr>\n",
       "      <th>4</th>\n",
       "      <td>1st class</td>\n",
       "      <td>adults</td>\n",
       "      <td>man</td>\n",
       "      <td>yes</td>\n",
       "    </tr>\n",
       "    <tr>\n",
       "      <th>5</th>\n",
       "      <td>1st class</td>\n",
       "      <td>adults</td>\n",
       "      <td>man</td>\n",
       "      <td>yes</td>\n",
       "    </tr>\n",
       "  </tbody>\n",
       "</table>\n",
       "</div>"
      ],
      "text/plain": [
       "       class     age  sex survived\n",
       "1  1st class  adults  man      yes\n",
       "2  1st class  adults  man      yes\n",
       "3  1st class  adults  man      yes\n",
       "4  1st class  adults  man      yes\n",
       "5  1st class  adults  man      yes"
      ]
     },
     "execution_count": 183,
     "metadata": {},
     "output_type": "execute_result"
    }
   ],
   "source": [
    "import pydataset\n",
    "\n",
    "titanic = pydataset.data('titanic')\n",
    "titanic.head()"
   ]
  },
  {
   "cell_type": "code",
   "execution_count": 186,
   "id": "798b7d0a-d0f2-43db-809e-f643a49aca04",
   "metadata": {},
   "outputs": [],
   "source": [
    "titanic['sex'] = titanic['sex'].fillna('S')"
   ]
  },
  {
   "cell_type": "code",
   "execution_count": 187,
   "id": "e033fa3f-1c8c-4a11-a95a-e39996cdf220",
   "metadata": {},
   "outputs": [
    {
     "data": {
      "text/plain": [
       "class       0\n",
       "age         0\n",
       "sex         0\n",
       "survived    0\n",
       "dtype: int64"
      ]
     },
     "execution_count": 187,
     "metadata": {},
     "output_type": "execute_result"
    }
   ],
   "source": [
    "titanic.isna().sum()"
   ]
  },
  {
   "cell_type": "markdown",
   "id": "23f64529-6b33-4309-b0ce-f5f9ca3d5f7c",
   "metadata": {},
   "source": [
    "### apply lambda 식으로 데이터 가공"
   ]
  },
  {
   "cell_type": "code",
   "execution_count": 189,
   "id": "a752e4b3-0b57-4eb9-8bc5-504501917fd0",
   "metadata": {},
   "outputs": [
    {
     "name": "stdout",
     "output_type": "stream",
     "text": [
      "3의 제곱은  6\n"
     ]
    }
   ],
   "source": [
    "lambda_square = lambda x: x * 2\n",
    "\n",
    "print('3의 제곱은 ', lambda_square(3))"
   ]
  },
  {
   "cell_type": "code",
   "execution_count": 191,
   "id": "1c25941f-989e-40e7-a7ec-1359f5684caf",
   "metadata": {},
   "outputs": [
    {
     "data": {
      "text/html": [
       "<div>\n",
       "<style scoped>\n",
       "    .dataframe tbody tr th:only-of-type {\n",
       "        vertical-align: middle;\n",
       "    }\n",
       "\n",
       "    .dataframe tbody tr th {\n",
       "        vertical-align: top;\n",
       "    }\n",
       "\n",
       "    .dataframe thead th {\n",
       "        text-align: right;\n",
       "    }\n",
       "</style>\n",
       "<table border=\"1\" class=\"dataframe\">\n",
       "  <thead>\n",
       "    <tr style=\"text-align: right;\">\n",
       "      <th></th>\n",
       "      <th>manufacturer</th>\n",
       "      <th>model</th>\n",
       "      <th>displ</th>\n",
       "      <th>year</th>\n",
       "      <th>cyl</th>\n",
       "      <th>trans</th>\n",
       "      <th>drv</th>\n",
       "      <th>cty</th>\n",
       "      <th>hwy</th>\n",
       "      <th>fl</th>\n",
       "      <th>class</th>\n",
       "    </tr>\n",
       "  </thead>\n",
       "  <tbody>\n",
       "    <tr>\n",
       "      <th>1</th>\n",
       "      <td>audi</td>\n",
       "      <td>a4</td>\n",
       "      <td>1.8</td>\n",
       "      <td>1999</td>\n",
       "      <td>4</td>\n",
       "      <td>auto(l5)</td>\n",
       "      <td>f</td>\n",
       "      <td>18</td>\n",
       "      <td>average</td>\n",
       "      <td>p</td>\n",
       "      <td>compact</td>\n",
       "    </tr>\n",
       "    <tr>\n",
       "      <th>2</th>\n",
       "      <td>audi</td>\n",
       "      <td>a4</td>\n",
       "      <td>1.8</td>\n",
       "      <td>1999</td>\n",
       "      <td>4</td>\n",
       "      <td>manual(m5)</td>\n",
       "      <td>f</td>\n",
       "      <td>21</td>\n",
       "      <td>average</td>\n",
       "      <td>p</td>\n",
       "      <td>compact</td>\n",
       "    </tr>\n",
       "    <tr>\n",
       "      <th>3</th>\n",
       "      <td>audi</td>\n",
       "      <td>a4</td>\n",
       "      <td>2.0</td>\n",
       "      <td>2008</td>\n",
       "      <td>4</td>\n",
       "      <td>manual(m6)</td>\n",
       "      <td>f</td>\n",
       "      <td>20</td>\n",
       "      <td>high</td>\n",
       "      <td>p</td>\n",
       "      <td>compact</td>\n",
       "    </tr>\n",
       "    <tr>\n",
       "      <th>4</th>\n",
       "      <td>audi</td>\n",
       "      <td>a4</td>\n",
       "      <td>2.0</td>\n",
       "      <td>2008</td>\n",
       "      <td>4</td>\n",
       "      <td>auto(av)</td>\n",
       "      <td>f</td>\n",
       "      <td>21</td>\n",
       "      <td>high</td>\n",
       "      <td>p</td>\n",
       "      <td>compact</td>\n",
       "    </tr>\n",
       "    <tr>\n",
       "      <th>5</th>\n",
       "      <td>audi</td>\n",
       "      <td>a4</td>\n",
       "      <td>2.8</td>\n",
       "      <td>1999</td>\n",
       "      <td>6</td>\n",
       "      <td>auto(l5)</td>\n",
       "      <td>f</td>\n",
       "      <td>16</td>\n",
       "      <td>average</td>\n",
       "      <td>p</td>\n",
       "      <td>compact</td>\n",
       "    </tr>\n",
       "    <tr>\n",
       "      <th>...</th>\n",
       "      <td>...</td>\n",
       "      <td>...</td>\n",
       "      <td>...</td>\n",
       "      <td>...</td>\n",
       "      <td>...</td>\n",
       "      <td>...</td>\n",
       "      <td>...</td>\n",
       "      <td>...</td>\n",
       "      <td>...</td>\n",
       "      <td>...</td>\n",
       "      <td>...</td>\n",
       "    </tr>\n",
       "    <tr>\n",
       "      <th>230</th>\n",
       "      <td>volkswagen</td>\n",
       "      <td>passat</td>\n",
       "      <td>2.0</td>\n",
       "      <td>2008</td>\n",
       "      <td>4</td>\n",
       "      <td>auto(s6)</td>\n",
       "      <td>f</td>\n",
       "      <td>19</td>\n",
       "      <td>average</td>\n",
       "      <td>p</td>\n",
       "      <td>midsize</td>\n",
       "    </tr>\n",
       "    <tr>\n",
       "      <th>231</th>\n",
       "      <td>volkswagen</td>\n",
       "      <td>passat</td>\n",
       "      <td>2.0</td>\n",
       "      <td>2008</td>\n",
       "      <td>4</td>\n",
       "      <td>manual(m6)</td>\n",
       "      <td>f</td>\n",
       "      <td>21</td>\n",
       "      <td>average</td>\n",
       "      <td>p</td>\n",
       "      <td>midsize</td>\n",
       "    </tr>\n",
       "    <tr>\n",
       "      <th>232</th>\n",
       "      <td>volkswagen</td>\n",
       "      <td>passat</td>\n",
       "      <td>2.8</td>\n",
       "      <td>1999</td>\n",
       "      <td>6</td>\n",
       "      <td>auto(l5)</td>\n",
       "      <td>f</td>\n",
       "      <td>16</td>\n",
       "      <td>average</td>\n",
       "      <td>p</td>\n",
       "      <td>midsize</td>\n",
       "    </tr>\n",
       "    <tr>\n",
       "      <th>233</th>\n",
       "      <td>volkswagen</td>\n",
       "      <td>passat</td>\n",
       "      <td>2.8</td>\n",
       "      <td>1999</td>\n",
       "      <td>6</td>\n",
       "      <td>manual(m5)</td>\n",
       "      <td>f</td>\n",
       "      <td>18</td>\n",
       "      <td>average</td>\n",
       "      <td>p</td>\n",
       "      <td>midsize</td>\n",
       "    </tr>\n",
       "    <tr>\n",
       "      <th>234</th>\n",
       "      <td>volkswagen</td>\n",
       "      <td>passat</td>\n",
       "      <td>3.6</td>\n",
       "      <td>2008</td>\n",
       "      <td>6</td>\n",
       "      <td>auto(s6)</td>\n",
       "      <td>f</td>\n",
       "      <td>17</td>\n",
       "      <td>average</td>\n",
       "      <td>p</td>\n",
       "      <td>midsize</td>\n",
       "    </tr>\n",
       "  </tbody>\n",
       "</table>\n",
       "<p>234 rows × 11 columns</p>\n",
       "</div>"
      ],
      "text/plain": [
       "    manufacturer   model  displ  year  cyl       trans drv  cty      hwy fl  \\\n",
       "1           audi      a4    1.8  1999    4    auto(l5)   f   18  average  p   \n",
       "2           audi      a4    1.8  1999    4  manual(m5)   f   21  average  p   \n",
       "3           audi      a4    2.0  2008    4  manual(m6)   f   20     high  p   \n",
       "4           audi      a4    2.0  2008    4    auto(av)   f   21     high  p   \n",
       "5           audi      a4    2.8  1999    6    auto(l5)   f   16  average  p   \n",
       "..           ...     ...    ...   ...  ...         ...  ..  ...      ... ..   \n",
       "230   volkswagen  passat    2.0  2008    4    auto(s6)   f   19  average  p   \n",
       "231   volkswagen  passat    2.0  2008    4  manual(m6)   f   21  average  p   \n",
       "232   volkswagen  passat    2.8  1999    6    auto(l5)   f   16  average  p   \n",
       "233   volkswagen  passat    2.8  1999    6  manual(m5)   f   18  average  p   \n",
       "234   volkswagen  passat    3.6  2008    6    auto(s6)   f   17  average  p   \n",
       "\n",
       "       class  \n",
       "1    compact  \n",
       "2    compact  \n",
       "3    compact  \n",
       "4    compact  \n",
       "5    compact  \n",
       "..       ...  \n",
       "230  midsize  \n",
       "231  midsize  \n",
       "232  midsize  \n",
       "233  midsize  \n",
       "234  midsize  \n",
       "\n",
       "[234 rows x 11 columns]"
      ]
     },
     "execution_count": 191,
     "metadata": {},
     "output_type": "execute_result"
    }
   ],
   "source": [
    "mpg['hwy'] = mpg['hwy'].apply(lambda x: 'high' if x >= 30 else 'average')\n",
    "mpg"
   ]
  },
  {
   "cell_type": "markdown",
   "id": "2fc3d184-7aa0-46b2-b74b-1cf2f917a997",
   "metadata": {},
   "source": [
    "### Numpy와 Pandas 자세한 내용 colab 참고"
   ]
  },
  {
   "cell_type": "markdown",
   "id": "760954c3-4cf2-4843-a083-a5a9e0b001c8",
   "metadata": {},
   "source": [
    "# 사이킷런(85p)"
   ]
  },
  {
   "cell_type": "code",
   "execution_count": 192,
   "id": "561678e8-9af0-40df-9e50-2b5c3de7e7cc",
   "metadata": {
    "tags": []
   },
   "outputs": [
    {
     "name": "stdout",
     "output_type": "stream",
     "text": [
      "Requirement already satisfied: scikit-learn in c:\\users\\admin\\appdata\\local\\programs\\python\\python310\\lib\\site-packages (1.0.2)\n",
      "Collecting scikit-learn\n",
      "  Using cached scikit_learn-1.1.2-cp310-cp310-win_amd64.whl (7.4 MB)\n",
      "Requirement already satisfied: numpy>=1.17.3 in c:\\users\\admin\\appdata\\local\\programs\\python\\python310\\lib\\site-packages (from scikit-learn) (1.23.2)\n",
      "Requirement already satisfied: scipy>=1.3.2 in c:\\users\\admin\\appdata\\local\\programs\\python\\python310\\lib\\site-packages (from scikit-learn) (1.9.1)\n",
      "Requirement already satisfied: joblib>=1.0.0 in c:\\users\\admin\\appdata\\local\\programs\\python\\python310\\lib\\site-packages (from scikit-learn) (1.2.0)\n",
      "Requirement already satisfied: threadpoolctl>=2.0.0 in c:\\users\\admin\\appdata\\local\\programs\\python\\python310\\lib\\site-packages (from scikit-learn) (3.1.0)\n",
      "Installing collected packages: scikit-learn\n",
      "  Attempting uninstall: scikit-learn\n",
      "    Found existing installation: scikit-learn 1.0.2\n",
      "    Uninstalling scikit-learn-1.0.2:\n",
      "      Successfully uninstalled scikit-learn-1.0.2\n",
      "Note: you may need to restart the kernel to use updated packages.\n"
     ]
    },
    {
     "name": "stderr",
     "output_type": "stream",
     "text": [
      "ERROR: Could not install packages due to an OSError: [WinError 5] 액세스가 거부되었습니다: 'C:\\\\Users\\\\admin\\\\AppData\\\\Local\\\\Programs\\\\Python\\\\Python310\\\\Lib\\\\site-packages\\\\~-learn\\\\.libs\\\\vcomp140.dll'\n",
      "Consider using the `--user` option or check the permissions.\n",
      "\n"
     ]
    }
   ],
   "source": [
    "pip install -U scikit-learn"
   ]
  },
  {
   "cell_type": "code",
   "execution_count": 197,
   "id": "350f1225-a81a-4ff9-a8f2-7a61444785cf",
   "metadata": {},
   "outputs": [],
   "source": [
    "import sklearn"
   ]
  },
  {
   "cell_type": "code",
   "execution_count": 198,
   "id": "c4c7c234-10e4-46f4-b061-937b04767f47",
   "metadata": {},
   "outputs": [
    {
     "data": {
      "text/plain": [
       "'1.0.2'"
      ]
     },
     "execution_count": 198,
     "metadata": {},
     "output_type": "execute_result"
    }
   ],
   "source": [
    "sklearn.__version__"
   ]
  },
  {
   "cell_type": "code",
   "execution_count": 199,
   "id": "674dea1b-9dba-4e90-b9a3-0de56f8dd2b9",
   "metadata": {},
   "outputs": [
    {
     "name": "stdout",
     "output_type": "stream",
     "text": [
      "Flask                2.2.2\n",
      "Flask-Compress       1.13\n",
      "Note: you may need to restart the kernel to use updated packages.\n"
     ]
    }
   ],
   "source": [
    "pip list | findstr sk"
   ]
  },
  {
   "cell_type": "markdown",
   "id": "c560857e-75bc-4658-b3b2-695e20999f67",
   "metadata": {},
   "source": [
    "## 1. 붓꽃 품종 예측하기"
   ]
  },
  {
   "cell_type": "markdown",
   "id": "da647947-43c6-4850-b41a-7c1a369d0150",
   "metadata": {},
   "source": [
    "- 분류는 대표적인 지도학습 방법의 하나임\n",
    "- 지도학습은 학습을 위한 피처와 분류 결정값인 레이블 데이터로 모델을 학습한 뒤, 별도의 테스트 데이터 세트에서 미지의 레이블을 예측함"
   ]
  },
  {
   "cell_type": "markdown",
   "id": "4b8a10c8-2cac-43eb-8e67-28eb594236ce",
   "metadata": {},
   "source": [
    "- 하이퍼 파라미터란 머신러닝 알고리즘별로 최적의 학습을 위해 직접 입력하는 파라미터들을 통칭함"
   ]
  },
  {
   "cell_type": "code",
   "execution_count": 200,
   "id": "6a64404b-e522-48c7-a4f5-4908e89abdd2",
   "metadata": {},
   "outputs": [],
   "source": [
    "from sklearn.datasets import load_iris"
   ]
  },
  {
   "cell_type": "code",
   "execution_count": 201,
   "id": "1c64bcdc-39eb-4df9-935a-a3f09ec5924c",
   "metadata": {},
   "outputs": [],
   "source": [
    "from sklearn.tree import DecisionTreeClassifier\n",
    "from sklearn.model_selection import train_test_split"
   ]
  },
  {
   "cell_type": "code",
   "execution_count": 202,
   "id": "e92888fc-35c8-43f8-845f-e235b1e626a8",
   "metadata": {
    "collapsed": true,
    "jupyter": {
     "outputs_hidden": true
    },
    "tags": []
   },
   "outputs": [
    {
     "data": {
      "text/plain": [
       "{'data': array([[5.1, 3.5, 1.4, 0.2],\n",
       "        [4.9, 3. , 1.4, 0.2],\n",
       "        [4.7, 3.2, 1.3, 0.2],\n",
       "        [4.6, 3.1, 1.5, 0.2],\n",
       "        [5. , 3.6, 1.4, 0.2],\n",
       "        [5.4, 3.9, 1.7, 0.4],\n",
       "        [4.6, 3.4, 1.4, 0.3],\n",
       "        [5. , 3.4, 1.5, 0.2],\n",
       "        [4.4, 2.9, 1.4, 0.2],\n",
       "        [4.9, 3.1, 1.5, 0.1],\n",
       "        [5.4, 3.7, 1.5, 0.2],\n",
       "        [4.8, 3.4, 1.6, 0.2],\n",
       "        [4.8, 3. , 1.4, 0.1],\n",
       "        [4.3, 3. , 1.1, 0.1],\n",
       "        [5.8, 4. , 1.2, 0.2],\n",
       "        [5.7, 4.4, 1.5, 0.4],\n",
       "        [5.4, 3.9, 1.3, 0.4],\n",
       "        [5.1, 3.5, 1.4, 0.3],\n",
       "        [5.7, 3.8, 1.7, 0.3],\n",
       "        [5.1, 3.8, 1.5, 0.3],\n",
       "        [5.4, 3.4, 1.7, 0.2],\n",
       "        [5.1, 3.7, 1.5, 0.4],\n",
       "        [4.6, 3.6, 1. , 0.2],\n",
       "        [5.1, 3.3, 1.7, 0.5],\n",
       "        [4.8, 3.4, 1.9, 0.2],\n",
       "        [5. , 3. , 1.6, 0.2],\n",
       "        [5. , 3.4, 1.6, 0.4],\n",
       "        [5.2, 3.5, 1.5, 0.2],\n",
       "        [5.2, 3.4, 1.4, 0.2],\n",
       "        [4.7, 3.2, 1.6, 0.2],\n",
       "        [4.8, 3.1, 1.6, 0.2],\n",
       "        [5.4, 3.4, 1.5, 0.4],\n",
       "        [5.2, 4.1, 1.5, 0.1],\n",
       "        [5.5, 4.2, 1.4, 0.2],\n",
       "        [4.9, 3.1, 1.5, 0.2],\n",
       "        [5. , 3.2, 1.2, 0.2],\n",
       "        [5.5, 3.5, 1.3, 0.2],\n",
       "        [4.9, 3.6, 1.4, 0.1],\n",
       "        [4.4, 3. , 1.3, 0.2],\n",
       "        [5.1, 3.4, 1.5, 0.2],\n",
       "        [5. , 3.5, 1.3, 0.3],\n",
       "        [4.5, 2.3, 1.3, 0.3],\n",
       "        [4.4, 3.2, 1.3, 0.2],\n",
       "        [5. , 3.5, 1.6, 0.6],\n",
       "        [5.1, 3.8, 1.9, 0.4],\n",
       "        [4.8, 3. , 1.4, 0.3],\n",
       "        [5.1, 3.8, 1.6, 0.2],\n",
       "        [4.6, 3.2, 1.4, 0.2],\n",
       "        [5.3, 3.7, 1.5, 0.2],\n",
       "        [5. , 3.3, 1.4, 0.2],\n",
       "        [7. , 3.2, 4.7, 1.4],\n",
       "        [6.4, 3.2, 4.5, 1.5],\n",
       "        [6.9, 3.1, 4.9, 1.5],\n",
       "        [5.5, 2.3, 4. , 1.3],\n",
       "        [6.5, 2.8, 4.6, 1.5],\n",
       "        [5.7, 2.8, 4.5, 1.3],\n",
       "        [6.3, 3.3, 4.7, 1.6],\n",
       "        [4.9, 2.4, 3.3, 1. ],\n",
       "        [6.6, 2.9, 4.6, 1.3],\n",
       "        [5.2, 2.7, 3.9, 1.4],\n",
       "        [5. , 2. , 3.5, 1. ],\n",
       "        [5.9, 3. , 4.2, 1.5],\n",
       "        [6. , 2.2, 4. , 1. ],\n",
       "        [6.1, 2.9, 4.7, 1.4],\n",
       "        [5.6, 2.9, 3.6, 1.3],\n",
       "        [6.7, 3.1, 4.4, 1.4],\n",
       "        [5.6, 3. , 4.5, 1.5],\n",
       "        [5.8, 2.7, 4.1, 1. ],\n",
       "        [6.2, 2.2, 4.5, 1.5],\n",
       "        [5.6, 2.5, 3.9, 1.1],\n",
       "        [5.9, 3.2, 4.8, 1.8],\n",
       "        [6.1, 2.8, 4. , 1.3],\n",
       "        [6.3, 2.5, 4.9, 1.5],\n",
       "        [6.1, 2.8, 4.7, 1.2],\n",
       "        [6.4, 2.9, 4.3, 1.3],\n",
       "        [6.6, 3. , 4.4, 1.4],\n",
       "        [6.8, 2.8, 4.8, 1.4],\n",
       "        [6.7, 3. , 5. , 1.7],\n",
       "        [6. , 2.9, 4.5, 1.5],\n",
       "        [5.7, 2.6, 3.5, 1. ],\n",
       "        [5.5, 2.4, 3.8, 1.1],\n",
       "        [5.5, 2.4, 3.7, 1. ],\n",
       "        [5.8, 2.7, 3.9, 1.2],\n",
       "        [6. , 2.7, 5.1, 1.6],\n",
       "        [5.4, 3. , 4.5, 1.5],\n",
       "        [6. , 3.4, 4.5, 1.6],\n",
       "        [6.7, 3.1, 4.7, 1.5],\n",
       "        [6.3, 2.3, 4.4, 1.3],\n",
       "        [5.6, 3. , 4.1, 1.3],\n",
       "        [5.5, 2.5, 4. , 1.3],\n",
       "        [5.5, 2.6, 4.4, 1.2],\n",
       "        [6.1, 3. , 4.6, 1.4],\n",
       "        [5.8, 2.6, 4. , 1.2],\n",
       "        [5. , 2.3, 3.3, 1. ],\n",
       "        [5.6, 2.7, 4.2, 1.3],\n",
       "        [5.7, 3. , 4.2, 1.2],\n",
       "        [5.7, 2.9, 4.2, 1.3],\n",
       "        [6.2, 2.9, 4.3, 1.3],\n",
       "        [5.1, 2.5, 3. , 1.1],\n",
       "        [5.7, 2.8, 4.1, 1.3],\n",
       "        [6.3, 3.3, 6. , 2.5],\n",
       "        [5.8, 2.7, 5.1, 1.9],\n",
       "        [7.1, 3. , 5.9, 2.1],\n",
       "        [6.3, 2.9, 5.6, 1.8],\n",
       "        [6.5, 3. , 5.8, 2.2],\n",
       "        [7.6, 3. , 6.6, 2.1],\n",
       "        [4.9, 2.5, 4.5, 1.7],\n",
       "        [7.3, 2.9, 6.3, 1.8],\n",
       "        [6.7, 2.5, 5.8, 1.8],\n",
       "        [7.2, 3.6, 6.1, 2.5],\n",
       "        [6.5, 3.2, 5.1, 2. ],\n",
       "        [6.4, 2.7, 5.3, 1.9],\n",
       "        [6.8, 3. , 5.5, 2.1],\n",
       "        [5.7, 2.5, 5. , 2. ],\n",
       "        [5.8, 2.8, 5.1, 2.4],\n",
       "        [6.4, 3.2, 5.3, 2.3],\n",
       "        [6.5, 3. , 5.5, 1.8],\n",
       "        [7.7, 3.8, 6.7, 2.2],\n",
       "        [7.7, 2.6, 6.9, 2.3],\n",
       "        [6. , 2.2, 5. , 1.5],\n",
       "        [6.9, 3.2, 5.7, 2.3],\n",
       "        [5.6, 2.8, 4.9, 2. ],\n",
       "        [7.7, 2.8, 6.7, 2. ],\n",
       "        [6.3, 2.7, 4.9, 1.8],\n",
       "        [6.7, 3.3, 5.7, 2.1],\n",
       "        [7.2, 3.2, 6. , 1.8],\n",
       "        [6.2, 2.8, 4.8, 1.8],\n",
       "        [6.1, 3. , 4.9, 1.8],\n",
       "        [6.4, 2.8, 5.6, 2.1],\n",
       "        [7.2, 3. , 5.8, 1.6],\n",
       "        [7.4, 2.8, 6.1, 1.9],\n",
       "        [7.9, 3.8, 6.4, 2. ],\n",
       "        [6.4, 2.8, 5.6, 2.2],\n",
       "        [6.3, 2.8, 5.1, 1.5],\n",
       "        [6.1, 2.6, 5.6, 1.4],\n",
       "        [7.7, 3. , 6.1, 2.3],\n",
       "        [6.3, 3.4, 5.6, 2.4],\n",
       "        [6.4, 3.1, 5.5, 1.8],\n",
       "        [6. , 3. , 4.8, 1.8],\n",
       "        [6.9, 3.1, 5.4, 2.1],\n",
       "        [6.7, 3.1, 5.6, 2.4],\n",
       "        [6.9, 3.1, 5.1, 2.3],\n",
       "        [5.8, 2.7, 5.1, 1.9],\n",
       "        [6.8, 3.2, 5.9, 2.3],\n",
       "        [6.7, 3.3, 5.7, 2.5],\n",
       "        [6.7, 3. , 5.2, 2.3],\n",
       "        [6.3, 2.5, 5. , 1.9],\n",
       "        [6.5, 3. , 5.2, 2. ],\n",
       "        [6.2, 3.4, 5.4, 2.3],\n",
       "        [5.9, 3. , 5.1, 1.8]]),\n",
       " 'target': array([0, 0, 0, 0, 0, 0, 0, 0, 0, 0, 0, 0, 0, 0, 0, 0, 0, 0, 0, 0, 0, 0,\n",
       "        0, 0, 0, 0, 0, 0, 0, 0, 0, 0, 0, 0, 0, 0, 0, 0, 0, 0, 0, 0, 0, 0,\n",
       "        0, 0, 0, 0, 0, 0, 1, 1, 1, 1, 1, 1, 1, 1, 1, 1, 1, 1, 1, 1, 1, 1,\n",
       "        1, 1, 1, 1, 1, 1, 1, 1, 1, 1, 1, 1, 1, 1, 1, 1, 1, 1, 1, 1, 1, 1,\n",
       "        1, 1, 1, 1, 1, 1, 1, 1, 1, 1, 1, 1, 2, 2, 2, 2, 2, 2, 2, 2, 2, 2,\n",
       "        2, 2, 2, 2, 2, 2, 2, 2, 2, 2, 2, 2, 2, 2, 2, 2, 2, 2, 2, 2, 2, 2,\n",
       "        2, 2, 2, 2, 2, 2, 2, 2, 2, 2, 2, 2, 2, 2, 2, 2, 2, 2]),\n",
       " 'frame': None,\n",
       " 'target_names': array(['setosa', 'versicolor', 'virginica'], dtype='<U10'),\n",
       " 'DESCR': '.. _iris_dataset:\\n\\nIris plants dataset\\n--------------------\\n\\n**Data Set Characteristics:**\\n\\n    :Number of Instances: 150 (50 in each of three classes)\\n    :Number of Attributes: 4 numeric, predictive attributes and the class\\n    :Attribute Information:\\n        - sepal length in cm\\n        - sepal width in cm\\n        - petal length in cm\\n        - petal width in cm\\n        - class:\\n                - Iris-Setosa\\n                - Iris-Versicolour\\n                - Iris-Virginica\\n                \\n    :Summary Statistics:\\n\\n    ============== ==== ==== ======= ===== ====================\\n                    Min  Max   Mean    SD   Class Correlation\\n    ============== ==== ==== ======= ===== ====================\\n    sepal length:   4.3  7.9   5.84   0.83    0.7826\\n    sepal width:    2.0  4.4   3.05   0.43   -0.4194\\n    petal length:   1.0  6.9   3.76   1.76    0.9490  (high!)\\n    petal width:    0.1  2.5   1.20   0.76    0.9565  (high!)\\n    ============== ==== ==== ======= ===== ====================\\n\\n    :Missing Attribute Values: None\\n    :Class Distribution: 33.3% for each of 3 classes.\\n    :Creator: R.A. Fisher\\n    :Donor: Michael Marshall (MARSHALL%PLU@io.arc.nasa.gov)\\n    :Date: July, 1988\\n\\nThe famous Iris database, first used by Sir R.A. Fisher. The dataset is taken\\nfrom Fisher\\'s paper. Note that it\\'s the same as in R, but not as in the UCI\\nMachine Learning Repository, which has two wrong data points.\\n\\nThis is perhaps the best known database to be found in the\\npattern recognition literature.  Fisher\\'s paper is a classic in the field and\\nis referenced frequently to this day.  (See Duda & Hart, for example.)  The\\ndata set contains 3 classes of 50 instances each, where each class refers to a\\ntype of iris plant.  One class is linearly separable from the other 2; the\\nlatter are NOT linearly separable from each other.\\n\\n.. topic:: References\\n\\n   - Fisher, R.A. \"The use of multiple measurements in taxonomic problems\"\\n     Annual Eugenics, 7, Part II, 179-188 (1936); also in \"Contributions to\\n     Mathematical Statistics\" (John Wiley, NY, 1950).\\n   - Duda, R.O., & Hart, P.E. (1973) Pattern Classification and Scene Analysis.\\n     (Q327.D83) John Wiley & Sons.  ISBN 0-471-22361-1.  See page 218.\\n   - Dasarathy, B.V. (1980) \"Nosing Around the Neighborhood: A New System\\n     Structure and Classification Rule for Recognition in Partially Exposed\\n     Environments\".  IEEE Transactions on Pattern Analysis and Machine\\n     Intelligence, Vol. PAMI-2, No. 1, 67-71.\\n   - Gates, G.W. (1972) \"The Reduced Nearest Neighbor Rule\".  IEEE Transactions\\n     on Information Theory, May 1972, 431-433.\\n   - See also: 1988 MLC Proceedings, 54-64.  Cheeseman et al\"s AUTOCLASS II\\n     conceptual clustering system finds 3 classes in the data.\\n   - Many, many more ...',\n",
       " 'feature_names': ['sepal length (cm)',\n",
       "  'sepal width (cm)',\n",
       "  'petal length (cm)',\n",
       "  'petal width (cm)'],\n",
       " 'filename': 'iris.csv',\n",
       " 'data_module': 'sklearn.datasets.data'}"
      ]
     },
     "execution_count": 202,
     "metadata": {},
     "output_type": "execute_result"
    }
   ],
   "source": [
    "iris = load_iris()            # 붖꽃 데이터 세트 로딩\n",
    "iris    ### array 형태로 되어있음"
   ]
  },
  {
   "cell_type": "code",
   "execution_count": 65,
   "id": "50dbe0be-b39a-41d2-aa04-62f05c747176",
   "metadata": {},
   "outputs": [
    {
     "data": {
      "text/plain": [
       "dict_keys(['data', 'target', 'frame', 'target_names', 'DESCR', 'feature_names', 'filename', 'data_module'])"
      ]
     },
     "execution_count": 65,
     "metadata": {},
     "output_type": "execute_result"
    }
   ],
   "source": [
    "iris.keys()"
   ]
  },
  {
   "cell_type": "code",
   "execution_count": 66,
   "id": "caeccc23-f54b-421b-aa74-416010a6801a",
   "metadata": {},
   "outputs": [
    {
     "data": {
      "text/plain": [
       "sklearn.utils.Bunch"
      ]
     },
     "execution_count": 66,
     "metadata": {},
     "output_type": "execute_result"
    }
   ],
   "source": [
    "type(iris)"
   ]
  },
  {
   "cell_type": "code",
   "execution_count": 67,
   "id": "011073b0-6b39-4251-ac92-3892ec975a64",
   "metadata": {
    "collapsed": true,
    "jupyter": {
     "outputs_hidden": true
    },
    "tags": []
   },
   "outputs": [
    {
     "data": {
      "text/plain": [
       "array([[5.1, 3.5, 1.4, 0.2],\n",
       "       [4.9, 3. , 1.4, 0.2],\n",
       "       [4.7, 3.2, 1.3, 0.2],\n",
       "       [4.6, 3.1, 1.5, 0.2],\n",
       "       [5. , 3.6, 1.4, 0.2],\n",
       "       [5.4, 3.9, 1.7, 0.4],\n",
       "       [4.6, 3.4, 1.4, 0.3],\n",
       "       [5. , 3.4, 1.5, 0.2],\n",
       "       [4.4, 2.9, 1.4, 0.2],\n",
       "       [4.9, 3.1, 1.5, 0.1],\n",
       "       [5.4, 3.7, 1.5, 0.2],\n",
       "       [4.8, 3.4, 1.6, 0.2],\n",
       "       [4.8, 3. , 1.4, 0.1],\n",
       "       [4.3, 3. , 1.1, 0.1],\n",
       "       [5.8, 4. , 1.2, 0.2],\n",
       "       [5.7, 4.4, 1.5, 0.4],\n",
       "       [5.4, 3.9, 1.3, 0.4],\n",
       "       [5.1, 3.5, 1.4, 0.3],\n",
       "       [5.7, 3.8, 1.7, 0.3],\n",
       "       [5.1, 3.8, 1.5, 0.3],\n",
       "       [5.4, 3.4, 1.7, 0.2],\n",
       "       [5.1, 3.7, 1.5, 0.4],\n",
       "       [4.6, 3.6, 1. , 0.2],\n",
       "       [5.1, 3.3, 1.7, 0.5],\n",
       "       [4.8, 3.4, 1.9, 0.2],\n",
       "       [5. , 3. , 1.6, 0.2],\n",
       "       [5. , 3.4, 1.6, 0.4],\n",
       "       [5.2, 3.5, 1.5, 0.2],\n",
       "       [5.2, 3.4, 1.4, 0.2],\n",
       "       [4.7, 3.2, 1.6, 0.2],\n",
       "       [4.8, 3.1, 1.6, 0.2],\n",
       "       [5.4, 3.4, 1.5, 0.4],\n",
       "       [5.2, 4.1, 1.5, 0.1],\n",
       "       [5.5, 4.2, 1.4, 0.2],\n",
       "       [4.9, 3.1, 1.5, 0.2],\n",
       "       [5. , 3.2, 1.2, 0.2],\n",
       "       [5.5, 3.5, 1.3, 0.2],\n",
       "       [4.9, 3.6, 1.4, 0.1],\n",
       "       [4.4, 3. , 1.3, 0.2],\n",
       "       [5.1, 3.4, 1.5, 0.2],\n",
       "       [5. , 3.5, 1.3, 0.3],\n",
       "       [4.5, 2.3, 1.3, 0.3],\n",
       "       [4.4, 3.2, 1.3, 0.2],\n",
       "       [5. , 3.5, 1.6, 0.6],\n",
       "       [5.1, 3.8, 1.9, 0.4],\n",
       "       [4.8, 3. , 1.4, 0.3],\n",
       "       [5.1, 3.8, 1.6, 0.2],\n",
       "       [4.6, 3.2, 1.4, 0.2],\n",
       "       [5.3, 3.7, 1.5, 0.2],\n",
       "       [5. , 3.3, 1.4, 0.2],\n",
       "       [7. , 3.2, 4.7, 1.4],\n",
       "       [6.4, 3.2, 4.5, 1.5],\n",
       "       [6.9, 3.1, 4.9, 1.5],\n",
       "       [5.5, 2.3, 4. , 1.3],\n",
       "       [6.5, 2.8, 4.6, 1.5],\n",
       "       [5.7, 2.8, 4.5, 1.3],\n",
       "       [6.3, 3.3, 4.7, 1.6],\n",
       "       [4.9, 2.4, 3.3, 1. ],\n",
       "       [6.6, 2.9, 4.6, 1.3],\n",
       "       [5.2, 2.7, 3.9, 1.4],\n",
       "       [5. , 2. , 3.5, 1. ],\n",
       "       [5.9, 3. , 4.2, 1.5],\n",
       "       [6. , 2.2, 4. , 1. ],\n",
       "       [6.1, 2.9, 4.7, 1.4],\n",
       "       [5.6, 2.9, 3.6, 1.3],\n",
       "       [6.7, 3.1, 4.4, 1.4],\n",
       "       [5.6, 3. , 4.5, 1.5],\n",
       "       [5.8, 2.7, 4.1, 1. ],\n",
       "       [6.2, 2.2, 4.5, 1.5],\n",
       "       [5.6, 2.5, 3.9, 1.1],\n",
       "       [5.9, 3.2, 4.8, 1.8],\n",
       "       [6.1, 2.8, 4. , 1.3],\n",
       "       [6.3, 2.5, 4.9, 1.5],\n",
       "       [6.1, 2.8, 4.7, 1.2],\n",
       "       [6.4, 2.9, 4.3, 1.3],\n",
       "       [6.6, 3. , 4.4, 1.4],\n",
       "       [6.8, 2.8, 4.8, 1.4],\n",
       "       [6.7, 3. , 5. , 1.7],\n",
       "       [6. , 2.9, 4.5, 1.5],\n",
       "       [5.7, 2.6, 3.5, 1. ],\n",
       "       [5.5, 2.4, 3.8, 1.1],\n",
       "       [5.5, 2.4, 3.7, 1. ],\n",
       "       [5.8, 2.7, 3.9, 1.2],\n",
       "       [6. , 2.7, 5.1, 1.6],\n",
       "       [5.4, 3. , 4.5, 1.5],\n",
       "       [6. , 3.4, 4.5, 1.6],\n",
       "       [6.7, 3.1, 4.7, 1.5],\n",
       "       [6.3, 2.3, 4.4, 1.3],\n",
       "       [5.6, 3. , 4.1, 1.3],\n",
       "       [5.5, 2.5, 4. , 1.3],\n",
       "       [5.5, 2.6, 4.4, 1.2],\n",
       "       [6.1, 3. , 4.6, 1.4],\n",
       "       [5.8, 2.6, 4. , 1.2],\n",
       "       [5. , 2.3, 3.3, 1. ],\n",
       "       [5.6, 2.7, 4.2, 1.3],\n",
       "       [5.7, 3. , 4.2, 1.2],\n",
       "       [5.7, 2.9, 4.2, 1.3],\n",
       "       [6.2, 2.9, 4.3, 1.3],\n",
       "       [5.1, 2.5, 3. , 1.1],\n",
       "       [5.7, 2.8, 4.1, 1.3],\n",
       "       [6.3, 3.3, 6. , 2.5],\n",
       "       [5.8, 2.7, 5.1, 1.9],\n",
       "       [7.1, 3. , 5.9, 2.1],\n",
       "       [6.3, 2.9, 5.6, 1.8],\n",
       "       [6.5, 3. , 5.8, 2.2],\n",
       "       [7.6, 3. , 6.6, 2.1],\n",
       "       [4.9, 2.5, 4.5, 1.7],\n",
       "       [7.3, 2.9, 6.3, 1.8],\n",
       "       [6.7, 2.5, 5.8, 1.8],\n",
       "       [7.2, 3.6, 6.1, 2.5],\n",
       "       [6.5, 3.2, 5.1, 2. ],\n",
       "       [6.4, 2.7, 5.3, 1.9],\n",
       "       [6.8, 3. , 5.5, 2.1],\n",
       "       [5.7, 2.5, 5. , 2. ],\n",
       "       [5.8, 2.8, 5.1, 2.4],\n",
       "       [6.4, 3.2, 5.3, 2.3],\n",
       "       [6.5, 3. , 5.5, 1.8],\n",
       "       [7.7, 3.8, 6.7, 2.2],\n",
       "       [7.7, 2.6, 6.9, 2.3],\n",
       "       [6. , 2.2, 5. , 1.5],\n",
       "       [6.9, 3.2, 5.7, 2.3],\n",
       "       [5.6, 2.8, 4.9, 2. ],\n",
       "       [7.7, 2.8, 6.7, 2. ],\n",
       "       [6.3, 2.7, 4.9, 1.8],\n",
       "       [6.7, 3.3, 5.7, 2.1],\n",
       "       [7.2, 3.2, 6. , 1.8],\n",
       "       [6.2, 2.8, 4.8, 1.8],\n",
       "       [6.1, 3. , 4.9, 1.8],\n",
       "       [6.4, 2.8, 5.6, 2.1],\n",
       "       [7.2, 3. , 5.8, 1.6],\n",
       "       [7.4, 2.8, 6.1, 1.9],\n",
       "       [7.9, 3.8, 6.4, 2. ],\n",
       "       [6.4, 2.8, 5.6, 2.2],\n",
       "       [6.3, 2.8, 5.1, 1.5],\n",
       "       [6.1, 2.6, 5.6, 1.4],\n",
       "       [7.7, 3. , 6.1, 2.3],\n",
       "       [6.3, 3.4, 5.6, 2.4],\n",
       "       [6.4, 3.1, 5.5, 1.8],\n",
       "       [6. , 3. , 4.8, 1.8],\n",
       "       [6.9, 3.1, 5.4, 2.1],\n",
       "       [6.7, 3.1, 5.6, 2.4],\n",
       "       [6.9, 3.1, 5.1, 2.3],\n",
       "       [5.8, 2.7, 5.1, 1.9],\n",
       "       [6.8, 3.2, 5.9, 2.3],\n",
       "       [6.7, 3.3, 5.7, 2.5],\n",
       "       [6.7, 3. , 5.2, 2.3],\n",
       "       [6.3, 2.5, 5. , 1.9],\n",
       "       [6.5, 3. , 5.2, 2. ],\n",
       "       [6.2, 3.4, 5.4, 2.3],\n",
       "       [5.9, 3. , 5.1, 1.8]])"
      ]
     },
     "execution_count": 67,
     "metadata": {},
     "output_type": "execute_result"
    }
   ],
   "source": [
    "iris['data'] "
   ]
  },
  {
   "cell_type": "code",
   "execution_count": 68,
   "id": "cabe4b49-6d4d-48df-998c-9a084364f25e",
   "metadata": {},
   "outputs": [
    {
     "data": {
      "text/plain": [
       "'사과'"
      ]
     },
     "execution_count": 68,
     "metadata": {},
     "output_type": "execute_result"
    }
   ],
   "source": [
    "# iris['data']는 아래와 유사함\n",
    "d = {'apple' : '사과'}\n",
    "d['apple']"
   ]
  },
  {
   "cell_type": "code",
   "execution_count": 69,
   "id": "d264a836-bbe3-40c4-a039-5f15d04fcacc",
   "metadata": {
    "collapsed": true,
    "jupyter": {
     "outputs_hidden": true
    },
    "tags": []
   },
   "outputs": [
    {
     "data": {
      "text/plain": [
       "array([[5.1, 3.5, 1.4, 0.2],\n",
       "       [4.9, 3. , 1.4, 0.2],\n",
       "       [4.7, 3.2, 1.3, 0.2],\n",
       "       [4.6, 3.1, 1.5, 0.2],\n",
       "       [5. , 3.6, 1.4, 0.2],\n",
       "       [5.4, 3.9, 1.7, 0.4],\n",
       "       [4.6, 3.4, 1.4, 0.3],\n",
       "       [5. , 3.4, 1.5, 0.2],\n",
       "       [4.4, 2.9, 1.4, 0.2],\n",
       "       [4.9, 3.1, 1.5, 0.1],\n",
       "       [5.4, 3.7, 1.5, 0.2],\n",
       "       [4.8, 3.4, 1.6, 0.2],\n",
       "       [4.8, 3. , 1.4, 0.1],\n",
       "       [4.3, 3. , 1.1, 0.1],\n",
       "       [5.8, 4. , 1.2, 0.2],\n",
       "       [5.7, 4.4, 1.5, 0.4],\n",
       "       [5.4, 3.9, 1.3, 0.4],\n",
       "       [5.1, 3.5, 1.4, 0.3],\n",
       "       [5.7, 3.8, 1.7, 0.3],\n",
       "       [5.1, 3.8, 1.5, 0.3],\n",
       "       [5.4, 3.4, 1.7, 0.2],\n",
       "       [5.1, 3.7, 1.5, 0.4],\n",
       "       [4.6, 3.6, 1. , 0.2],\n",
       "       [5.1, 3.3, 1.7, 0.5],\n",
       "       [4.8, 3.4, 1.9, 0.2],\n",
       "       [5. , 3. , 1.6, 0.2],\n",
       "       [5. , 3.4, 1.6, 0.4],\n",
       "       [5.2, 3.5, 1.5, 0.2],\n",
       "       [5.2, 3.4, 1.4, 0.2],\n",
       "       [4.7, 3.2, 1.6, 0.2],\n",
       "       [4.8, 3.1, 1.6, 0.2],\n",
       "       [5.4, 3.4, 1.5, 0.4],\n",
       "       [5.2, 4.1, 1.5, 0.1],\n",
       "       [5.5, 4.2, 1.4, 0.2],\n",
       "       [4.9, 3.1, 1.5, 0.2],\n",
       "       [5. , 3.2, 1.2, 0.2],\n",
       "       [5.5, 3.5, 1.3, 0.2],\n",
       "       [4.9, 3.6, 1.4, 0.1],\n",
       "       [4.4, 3. , 1.3, 0.2],\n",
       "       [5.1, 3.4, 1.5, 0.2],\n",
       "       [5. , 3.5, 1.3, 0.3],\n",
       "       [4.5, 2.3, 1.3, 0.3],\n",
       "       [4.4, 3.2, 1.3, 0.2],\n",
       "       [5. , 3.5, 1.6, 0.6],\n",
       "       [5.1, 3.8, 1.9, 0.4],\n",
       "       [4.8, 3. , 1.4, 0.3],\n",
       "       [5.1, 3.8, 1.6, 0.2],\n",
       "       [4.6, 3.2, 1.4, 0.2],\n",
       "       [5.3, 3.7, 1.5, 0.2],\n",
       "       [5. , 3.3, 1.4, 0.2],\n",
       "       [7. , 3.2, 4.7, 1.4],\n",
       "       [6.4, 3.2, 4.5, 1.5],\n",
       "       [6.9, 3.1, 4.9, 1.5],\n",
       "       [5.5, 2.3, 4. , 1.3],\n",
       "       [6.5, 2.8, 4.6, 1.5],\n",
       "       [5.7, 2.8, 4.5, 1.3],\n",
       "       [6.3, 3.3, 4.7, 1.6],\n",
       "       [4.9, 2.4, 3.3, 1. ],\n",
       "       [6.6, 2.9, 4.6, 1.3],\n",
       "       [5.2, 2.7, 3.9, 1.4],\n",
       "       [5. , 2. , 3.5, 1. ],\n",
       "       [5.9, 3. , 4.2, 1.5],\n",
       "       [6. , 2.2, 4. , 1. ],\n",
       "       [6.1, 2.9, 4.7, 1.4],\n",
       "       [5.6, 2.9, 3.6, 1.3],\n",
       "       [6.7, 3.1, 4.4, 1.4],\n",
       "       [5.6, 3. , 4.5, 1.5],\n",
       "       [5.8, 2.7, 4.1, 1. ],\n",
       "       [6.2, 2.2, 4.5, 1.5],\n",
       "       [5.6, 2.5, 3.9, 1.1],\n",
       "       [5.9, 3.2, 4.8, 1.8],\n",
       "       [6.1, 2.8, 4. , 1.3],\n",
       "       [6.3, 2.5, 4.9, 1.5],\n",
       "       [6.1, 2.8, 4.7, 1.2],\n",
       "       [6.4, 2.9, 4.3, 1.3],\n",
       "       [6.6, 3. , 4.4, 1.4],\n",
       "       [6.8, 2.8, 4.8, 1.4],\n",
       "       [6.7, 3. , 5. , 1.7],\n",
       "       [6. , 2.9, 4.5, 1.5],\n",
       "       [5.7, 2.6, 3.5, 1. ],\n",
       "       [5.5, 2.4, 3.8, 1.1],\n",
       "       [5.5, 2.4, 3.7, 1. ],\n",
       "       [5.8, 2.7, 3.9, 1.2],\n",
       "       [6. , 2.7, 5.1, 1.6],\n",
       "       [5.4, 3. , 4.5, 1.5],\n",
       "       [6. , 3.4, 4.5, 1.6],\n",
       "       [6.7, 3.1, 4.7, 1.5],\n",
       "       [6.3, 2.3, 4.4, 1.3],\n",
       "       [5.6, 3. , 4.1, 1.3],\n",
       "       [5.5, 2.5, 4. , 1.3],\n",
       "       [5.5, 2.6, 4.4, 1.2],\n",
       "       [6.1, 3. , 4.6, 1.4],\n",
       "       [5.8, 2.6, 4. , 1.2],\n",
       "       [5. , 2.3, 3.3, 1. ],\n",
       "       [5.6, 2.7, 4.2, 1.3],\n",
       "       [5.7, 3. , 4.2, 1.2],\n",
       "       [5.7, 2.9, 4.2, 1.3],\n",
       "       [6.2, 2.9, 4.3, 1.3],\n",
       "       [5.1, 2.5, 3. , 1.1],\n",
       "       [5.7, 2.8, 4.1, 1.3],\n",
       "       [6.3, 3.3, 6. , 2.5],\n",
       "       [5.8, 2.7, 5.1, 1.9],\n",
       "       [7.1, 3. , 5.9, 2.1],\n",
       "       [6.3, 2.9, 5.6, 1.8],\n",
       "       [6.5, 3. , 5.8, 2.2],\n",
       "       [7.6, 3. , 6.6, 2.1],\n",
       "       [4.9, 2.5, 4.5, 1.7],\n",
       "       [7.3, 2.9, 6.3, 1.8],\n",
       "       [6.7, 2.5, 5.8, 1.8],\n",
       "       [7.2, 3.6, 6.1, 2.5],\n",
       "       [6.5, 3.2, 5.1, 2. ],\n",
       "       [6.4, 2.7, 5.3, 1.9],\n",
       "       [6.8, 3. , 5.5, 2.1],\n",
       "       [5.7, 2.5, 5. , 2. ],\n",
       "       [5.8, 2.8, 5.1, 2.4],\n",
       "       [6.4, 3.2, 5.3, 2.3],\n",
       "       [6.5, 3. , 5.5, 1.8],\n",
       "       [7.7, 3.8, 6.7, 2.2],\n",
       "       [7.7, 2.6, 6.9, 2.3],\n",
       "       [6. , 2.2, 5. , 1.5],\n",
       "       [6.9, 3.2, 5.7, 2.3],\n",
       "       [5.6, 2.8, 4.9, 2. ],\n",
       "       [7.7, 2.8, 6.7, 2. ],\n",
       "       [6.3, 2.7, 4.9, 1.8],\n",
       "       [6.7, 3.3, 5.7, 2.1],\n",
       "       [7.2, 3.2, 6. , 1.8],\n",
       "       [6.2, 2.8, 4.8, 1.8],\n",
       "       [6.1, 3. , 4.9, 1.8],\n",
       "       [6.4, 2.8, 5.6, 2.1],\n",
       "       [7.2, 3. , 5.8, 1.6],\n",
       "       [7.4, 2.8, 6.1, 1.9],\n",
       "       [7.9, 3.8, 6.4, 2. ],\n",
       "       [6.4, 2.8, 5.6, 2.2],\n",
       "       [6.3, 2.8, 5.1, 1.5],\n",
       "       [6.1, 2.6, 5.6, 1.4],\n",
       "       [7.7, 3. , 6.1, 2.3],\n",
       "       [6.3, 3.4, 5.6, 2.4],\n",
       "       [6.4, 3.1, 5.5, 1.8],\n",
       "       [6. , 3. , 4.8, 1.8],\n",
       "       [6.9, 3.1, 5.4, 2.1],\n",
       "       [6.7, 3.1, 5.6, 2.4],\n",
       "       [6.9, 3.1, 5.1, 2.3],\n",
       "       [5.8, 2.7, 5.1, 1.9],\n",
       "       [6.8, 3.2, 5.9, 2.3],\n",
       "       [6.7, 3.3, 5.7, 2.5],\n",
       "       [6.7, 3. , 5.2, 2.3],\n",
       "       [6.3, 2.5, 5. , 1.9],\n",
       "       [6.5, 3. , 5.2, 2. ],\n",
       "       [6.2, 3.4, 5.4, 2.3],\n",
       "       [5.9, 3. , 5.1, 1.8]])"
      ]
     },
     "execution_count": 69,
     "metadata": {},
     "output_type": "execute_result"
    }
   ],
   "source": [
    "iris_data = iris['data']\n",
    "iris_data"
   ]
  },
  {
   "cell_type": "code",
   "execution_count": 70,
   "id": "5f484133-b947-4d4d-954a-c07865677695",
   "metadata": {
    "collapsed": true,
    "jupyter": {
     "outputs_hidden": true
    },
    "tags": []
   },
   "outputs": [
    {
     "data": {
      "text/plain": [
       "array([0, 0, 0, 0, 0, 0, 0, 0, 0, 0, 0, 0, 0, 0, 0, 0, 0, 0, 0, 0, 0, 0,\n",
       "       0, 0, 0, 0, 0, 0, 0, 0, 0, 0, 0, 0, 0, 0, 0, 0, 0, 0, 0, 0, 0, 0,\n",
       "       0, 0, 0, 0, 0, 0, 1, 1, 1, 1, 1, 1, 1, 1, 1, 1, 1, 1, 1, 1, 1, 1,\n",
       "       1, 1, 1, 1, 1, 1, 1, 1, 1, 1, 1, 1, 1, 1, 1, 1, 1, 1, 1, 1, 1, 1,\n",
       "       1, 1, 1, 1, 1, 1, 1, 1, 1, 1, 1, 1, 2, 2, 2, 2, 2, 2, 2, 2, 2, 2,\n",
       "       2, 2, 2, 2, 2, 2, 2, 2, 2, 2, 2, 2, 2, 2, 2, 2, 2, 2, 2, 2, 2, 2,\n",
       "       2, 2, 2, 2, 2, 2, 2, 2, 2, 2, 2, 2, 2, 2, 2, 2, 2, 2])"
      ]
     },
     "execution_count": 70,
     "metadata": {},
     "output_type": "execute_result"
    }
   ],
   "source": [
    "iris_label = iris['target']\n",
    "iris_label"
   ]
  },
  {
   "cell_type": "code",
   "execution_count": 71,
   "id": "285bd71b-13e9-459e-b1c4-27124bd70009",
   "metadata": {
    "collapsed": true,
    "jupyter": {
     "outputs_hidden": true
    },
    "tags": []
   },
   "outputs": [
    {
     "data": {
      "text/plain": [
       "[array([0, 2, 2, 2, 0, 2, 0, 1, 0, 2, 0, 1, 1, 0, 0, 0, 0, 2, 1, 2, 1, 2,\n",
       "        2, 2, 1, 0, 1, 1, 0, 1, 2, 0, 0, 1, 1, 2, 1, 0, 1, 2, 1, 0, 1, 0,\n",
       "        1, 1, 2, 2, 2, 2, 2, 2, 0, 2, 1, 2, 2, 0, 2, 2, 1, 2, 0, 0, 2, 1,\n",
       "        0, 2, 0, 2, 1, 2, 2, 0, 1, 2, 1, 1, 0, 1, 0, 0, 1, 0, 2, 1, 1, 1,\n",
       "        2, 0, 0, 0, 0, 2, 1, 1, 2, 1, 1, 0, 2, 2, 0, 1, 0, 0, 0, 0, 1, 1,\n",
       "        2, 0]),\n",
       " array([1, 0, 2, 2, 0, 2, 1, 1, 2, 2, 0, 0, 1, 0, 2, 0, 0, 1, 0, 2, 1, 1,\n",
       "        0, 1, 0, 1, 1, 2, 2, 1, 1, 0, 0, 1, 2, 2, 2, 1])]"
      ]
     },
     "execution_count": 71,
     "metadata": {},
     "output_type": "execute_result"
    }
   ],
   "source": [
    "train_test_split(iris_label)    # 2조각으로 나눔(5:5가 아닌 75%/25%으로 쪼갬)"
   ]
  },
  {
   "cell_type": "code",
   "execution_count": 208,
   "id": "244bec67-ee30-4038-83f9-45d2c78dce94",
   "metadata": {},
   "outputs": [],
   "source": [
    "X_train, X_test, y_train, y_test = train_test_split(iris_data, iris_label, test_size = 0.2, random_state = 11)  \n",
    "# 2개를 2조각으로 나누므로 총 4조각 생성\n",
    "\n",
    "# iris_data : 피처 데이터 세트\n",
    "# iris_label : 레이블 데이터 세트\n",
    "# test_size : 전체 데이터 세트 중 테스트 데이터 세트의 비율\n",
    "# random_state : 호출할 때마다 같은 학습/테스트 용 데이터 세트를 생성하기 위해 주어지는 난수 발생 값\n",
    "\n",
    "# tran_test_split()는 호출 시 무작위로 데이터를 분리하므로 random_state를 지정하지 않으면 수행할 때마다 다른 학습/테스트 용 데이터를 만들 수 있음\n",
    "# random_state는 random값을 만드는 seed와 같은 의미"
   ]
  },
  {
   "cell_type": "code",
   "execution_count": 209,
   "id": "9c0ad504-79aa-4878-8ac1-344965b5bf9c",
   "metadata": {
    "collapsed": true,
    "jupyter": {
     "outputs_hidden": true
    },
    "tags": []
   },
   "outputs": [
    {
     "data": {
      "text/plain": [
       "array([[5.1, 3.5, 1.4, 0.2],\n",
       "       [6.9, 3.2, 5.7, 2.3],\n",
       "       [7.7, 2.8, 6.7, 2. ],\n",
       "       [5. , 3.3, 1.4, 0.2],\n",
       "       [4.7, 3.2, 1.6, 0.2],\n",
       "       [7.7, 2.6, 6.9, 2.3],\n",
       "       [7.6, 3. , 6.6, 2.1],\n",
       "       [6.7, 3. , 5. , 1.7],\n",
       "       [5.5, 3.5, 1.3, 0.2],\n",
       "       [6. , 2.7, 5.1, 1.6],\n",
       "       [5. , 2. , 3.5, 1. ],\n",
       "       [7.9, 3.8, 6.4, 2. ],\n",
       "       [4.6, 3.4, 1.4, 0.3],\n",
       "       [6.9, 3.1, 4.9, 1.5],\n",
       "       [6.5, 3. , 5.8, 2.2],\n",
       "       [5.1, 2.5, 3. , 1.1],\n",
       "       [6.6, 2.9, 4.6, 1.3],\n",
       "       [5. , 3.2, 1.2, 0.2],\n",
       "       [7.4, 2.8, 6.1, 1.9],\n",
       "       [5.1, 3.8, 1.6, 0.2],\n",
       "       [6.8, 3.2, 5.9, 2.3],\n",
       "       [6.9, 3.1, 5.1, 2.3],\n",
       "       [5.9, 3. , 4.2, 1.5],\n",
       "       [4.9, 2.5, 4.5, 1.7],\n",
       "       [6.7, 3.1, 4.7, 1.5],\n",
       "       [4.4, 3.2, 1.3, 0.2],\n",
       "       [5.4, 3.4, 1.7, 0.2],\n",
       "       [6.5, 2.8, 4.6, 1.5],\n",
       "       [5.1, 3.7, 1.5, 0.4],\n",
       "       [5. , 3.4, 1.6, 0.4],\n",
       "       [6.1, 2.6, 5.6, 1.4],\n",
       "       [6.5, 3. , 5.5, 1.8],\n",
       "       [6.3, 2.5, 5. , 1.9],\n",
       "       [5.2, 3.4, 1.4, 0.2],\n",
       "       [5. , 3.6, 1.4, 0.2],\n",
       "       [5.4, 3.4, 1.5, 0.4],\n",
       "       [6.1, 2.8, 4.7, 1.2],\n",
       "       [5.1, 3.4, 1.5, 0.2],\n",
       "       [5.6, 3. , 4.1, 1.3],\n",
       "       [6.3, 2.7, 4.9, 1.8],\n",
       "       [7.1, 3. , 5.9, 2.1],\n",
       "       [5.5, 2.6, 4.4, 1.2],\n",
       "       [5. , 2.3, 3.3, 1. ],\n",
       "       [6.3, 3.4, 5.6, 2.4],\n",
       "       [5.8, 2.7, 5.1, 1.9],\n",
       "       [5.5, 4.2, 1.4, 0.2],\n",
       "       [5.6, 2.7, 4.2, 1.3],\n",
       "       [6.2, 2.9, 4.3, 1.3],\n",
       "       [6.7, 2.5, 5.8, 1.8],\n",
       "       [6.1, 3. , 4.9, 1.8],\n",
       "       [6.7, 3.1, 5.6, 2.4],\n",
       "       [4.6, 3.2, 1.4, 0.2],\n",
       "       [7.7, 3.8, 6.7, 2.2],\n",
       "       [5.3, 3.7, 1.5, 0.2],\n",
       "       [5.7, 3.8, 1.7, 0.3],\n",
       "       [5. , 3.5, 1.6, 0.6],\n",
       "       [5.1, 3.5, 1.4, 0.3],\n",
       "       [6.3, 3.3, 6. , 2.5],\n",
       "       [4.4, 3. , 1.3, 0.2],\n",
       "       [5. , 3. , 1.6, 0.2],\n",
       "       [5.1, 3.8, 1.5, 0.3],\n",
       "       [6. , 2.9, 4.5, 1.5],\n",
       "       [5.2, 4.1, 1.5, 0.1],\n",
       "       [6.3, 2.5, 4.9, 1.5],\n",
       "       [6.2, 2.2, 4.5, 1.5],\n",
       "       [6.4, 3.1, 5.5, 1.8],\n",
       "       [6.3, 2.3, 4.4, 1.3],\n",
       "       [4.4, 2.9, 1.4, 0.2],\n",
       "       [4.6, 3.1, 1.5, 0.2],\n",
       "       [4.9, 3. , 1.4, 0.2],\n",
       "       [5.2, 2.7, 3.9, 1.4],\n",
       "       [5.7, 2.8, 4.1, 1.3],\n",
       "       [7. , 3.2, 4.7, 1.4],\n",
       "       [6.7, 3.3, 5.7, 2.5],\n",
       "       [5.5, 2.3, 4. , 1.3],\n",
       "       [5.4, 3.9, 1.7, 0.4],\n",
       "       [5.7, 3. , 4.2, 1.2],\n",
       "       [6.4, 3.2, 5.3, 2.3],\n",
       "       [5. , 3.5, 1.3, 0.3],\n",
       "       [6.2, 2.8, 4.8, 1.8],\n",
       "       [6.7, 3.3, 5.7, 2.1],\n",
       "       [5.7, 2.8, 4.5, 1.3],\n",
       "       [5. , 3.4, 1.5, 0.2],\n",
       "       [5.8, 4. , 1.2, 0.2],\n",
       "       [5.1, 3.8, 1.9, 0.4],\n",
       "       [5.6, 2.8, 4.9, 2. ],\n",
       "       [4.9, 2.4, 3.3, 1. ],\n",
       "       [5.4, 3.7, 1.5, 0.2],\n",
       "       [7.3, 2.9, 6.3, 1.8],\n",
       "       [5.5, 2.5, 4. , 1.3],\n",
       "       [7.7, 3. , 6.1, 2.3],\n",
       "       [5.2, 3.5, 1.5, 0.2],\n",
       "       [5.1, 3.3, 1.7, 0.5],\n",
       "       [5.7, 2.9, 4.2, 1.3],\n",
       "       [5.7, 2.6, 3.5, 1. ],\n",
       "       [6. , 3. , 4.8, 1.8],\n",
       "       [5.6, 2.9, 3.6, 1.3],\n",
       "       [6.4, 2.8, 5.6, 2.1],\n",
       "       [5.8, 2.8, 5.1, 2.4],\n",
       "       [5.9, 3.2, 4.8, 1.8],\n",
       "       [5.8, 2.7, 4.1, 1. ],\n",
       "       [6.2, 3.4, 5.4, 2.3],\n",
       "       [6.5, 3. , 5.2, 2. ],\n",
       "       [4.9, 3.6, 1.4, 0.1],\n",
       "       [6.4, 2.9, 4.3, 1.3],\n",
       "       [7.2, 3. , 5.8, 1.6],\n",
       "       [4.9, 3.1, 1.5, 0.2],\n",
       "       [6.4, 2.8, 5.6, 2.2],\n",
       "       [7.2, 3.2, 6. , 1.8],\n",
       "       [4.8, 3. , 1.4, 0.3],\n",
       "       [5.8, 2.6, 4. , 1.2],\n",
       "       [7.2, 3.6, 6.1, 2.5],\n",
       "       [4.8, 3.4, 1.9, 0.2],\n",
       "       [5.8, 2.7, 3.9, 1.2],\n",
       "       [6.1, 2.8, 4. , 1.3],\n",
       "       [6.8, 2.8, 4.8, 1.4],\n",
       "       [4.3, 3. , 1.1, 0.1],\n",
       "       [5.5, 2.4, 3.7, 1. ],\n",
       "       [6.1, 3. , 4.6, 1.4],\n",
       "       [5.5, 2.4, 3.8, 1.1]])"
      ]
     },
     "execution_count": 209,
     "metadata": {},
     "output_type": "execute_result"
    }
   ],
   "source": [
    "X_train # 학습용 피처 데이터 세트"
   ]
  },
  {
   "cell_type": "code",
   "execution_count": 210,
   "id": "0fb7ae1b-430b-4ee3-b90d-c5a6964cabb4",
   "metadata": {
    "collapsed": true,
    "jupyter": {
     "outputs_hidden": true
    },
    "tags": []
   },
   "outputs": [
    {
     "data": {
      "text/plain": [
       "array([[6.8, 3. , 5.5, 2.1],\n",
       "       [6.7, 3. , 5.2, 2.3],\n",
       "       [6.3, 2.8, 5.1, 1.5],\n",
       "       [6.3, 3.3, 4.7, 1.6],\n",
       "       [6.4, 2.7, 5.3, 1.9],\n",
       "       [4.9, 3.1, 1.5, 0.1],\n",
       "       [6.7, 3.1, 4.4, 1.4],\n",
       "       [5.7, 4.4, 1.5, 0.4],\n",
       "       [4.8, 3.1, 1.6, 0.2],\n",
       "       [6.1, 2.9, 4.7, 1.4],\n",
       "       [6. , 2.2, 5. , 1.5],\n",
       "       [6. , 2.2, 4. , 1. ],\n",
       "       [5.4, 3. , 4.5, 1.5],\n",
       "       [5.7, 2.5, 5. , 2. ],\n",
       "       [6.9, 3.1, 5.4, 2.1],\n",
       "       [4.5, 2.3, 1.3, 0.3],\n",
       "       [6.3, 2.9, 5.6, 1.8],\n",
       "       [5.6, 3. , 4.5, 1.5],\n",
       "       [6.5, 3.2, 5.1, 2. ],\n",
       "       [5.8, 2.7, 5.1, 1.9],\n",
       "       [5.6, 2.5, 3.9, 1.1],\n",
       "       [4.7, 3.2, 1.3, 0.2],\n",
       "       [4.6, 3.6, 1. , 0.2],\n",
       "       [6.4, 3.2, 4.5, 1.5],\n",
       "       [4.8, 3. , 1.4, 0.1],\n",
       "       [4.8, 3.4, 1.6, 0.2],\n",
       "       [5.9, 3. , 5.1, 1.8],\n",
       "       [6.6, 3. , 4.4, 1.4],\n",
       "       [5.4, 3.9, 1.3, 0.4],\n",
       "       [6. , 3.4, 4.5, 1.6]])"
      ]
     },
     "execution_count": 210,
     "metadata": {},
     "output_type": "execute_result"
    }
   ],
   "source": [
    "X_test # 테스트용 피처 데이터 세트"
   ]
  },
  {
   "cell_type": "code",
   "execution_count": 211,
   "id": "377ade96-fdf0-4c9a-936d-55dc6761a862",
   "metadata": {
    "tags": []
   },
   "outputs": [
    {
     "data": {
      "text/plain": [
       "array([0, 2, 2, 0, 0, 2, 2, 1, 0, 1, 1, 2, 0, 1, 2, 1, 1, 0, 2, 0, 2, 2,\n",
       "       1, 2, 1, 0, 0, 1, 0, 0, 2, 2, 2, 0, 0, 0, 1, 0, 1, 2, 2, 1, 1, 2,\n",
       "       2, 0, 1, 1, 2, 2, 2, 0, 2, 0, 0, 0, 0, 2, 0, 0, 0, 1, 0, 1, 1, 2,\n",
       "       1, 0, 0, 0, 1, 1, 1, 2, 1, 0, 1, 2, 0, 2, 2, 1, 0, 0, 0, 2, 1, 0,\n",
       "       2, 1, 2, 0, 0, 1, 1, 2, 1, 2, 2, 1, 1, 2, 2, 0, 1, 2, 0, 2, 2, 0,\n",
       "       1, 2, 0, 1, 1, 1, 0, 1, 1, 1])"
      ]
     },
     "execution_count": 211,
     "metadata": {},
     "output_type": "execute_result"
    }
   ],
   "source": [
    "y_train # 학습용 레이블 데이터 세트"
   ]
  },
  {
   "cell_type": "code",
   "execution_count": 212,
   "id": "8281921b-475b-4743-8511-7d852bb49992",
   "metadata": {},
   "outputs": [
    {
     "data": {
      "text/plain": [
       "array([2, 2, 2, 1, 2, 0, 1, 0, 0, 1, 2, 1, 1, 2, 2, 0, 2, 1, 2, 2, 1, 0,\n",
       "       0, 1, 0, 0, 2, 1, 0, 1])"
      ]
     },
     "execution_count": 212,
     "metadata": {},
     "output_type": "execute_result"
    }
   ],
   "source": [
    "y_test # 테스트용 레이블 데이터 세트"
   ]
  },
  {
   "cell_type": "code",
   "execution_count": 213,
   "id": "f8d63e8e-5443-4393-86eb-f0a4465ab4cf",
   "metadata": {},
   "outputs": [],
   "source": [
    "dt_clf = DecisionTreeClassifier()  # DecisionTreeClassifier 객체 생성"
   ]
  },
  {
   "cell_type": "code",
   "execution_count": 78,
   "id": "1f4c3341-ad6e-4fc9-884a-cd63378a3256",
   "metadata": {},
   "outputs": [
    {
     "data": {
      "text/plain": [
       "DecisionTreeClassifier()"
      ]
     },
     "execution_count": 78,
     "metadata": {},
     "output_type": "execute_result"
    }
   ],
   "source": [
    "dt_clf.fit(X_train, y_train)  ## Train시키는 것(fitting, 적합, 학습한다, 훈련한다)"
   ]
  },
  {
   "cell_type": "code",
   "execution_count": 79,
   "id": "381a62b6-fa20-4307-84cd-aa3f94a89ef7",
   "metadata": {},
   "outputs": [
    {
     "data": {
      "text/plain": [
       "(112, 4)"
      ]
     },
     "execution_count": 79,
     "metadata": {},
     "output_type": "execute_result"
    }
   ],
   "source": [
    "X_train.shape"
   ]
  },
  {
   "cell_type": "markdown",
   "id": "bbaec769-2581-4b3e-b5ea-fbd922c84736",
   "metadata": {},
   "source": [
    "- data의 개수는 112개"
   ]
  },
  {
   "cell_type": "code",
   "execution_count": 80,
   "id": "cb8f160d-7682-4d4e-8216-925eb69a3e66",
   "metadata": {},
   "outputs": [
    {
     "data": {
      "text/plain": [
       "(112,)"
      ]
     },
     "execution_count": 80,
     "metadata": {},
     "output_type": "execute_result"
    }
   ],
   "source": [
    "y_train.shape"
   ]
  },
  {
   "cell_type": "markdown",
   "id": "e0c0e5b1-b599-448b-8021-bee9d04b4698",
   "metadata": {},
   "source": [
    "- X_train 의 4가지 정보로 y_train의 값을 예측하므로 data의 개수는 같아야함"
   ]
  },
  {
   "cell_type": "code",
   "execution_count": 81,
   "id": "738a1fff-aa7e-4376-9834-c434af309cd6",
   "metadata": {},
   "outputs": [
    {
     "data": {
      "text/plain": [
       "array([0, 0, 2, 0, 2, 1, 1, 1, 2, 1, 1, 2, 1, 2, 1, 0, 0, 2, 1, 0, 2, 1,\n",
       "       1, 2, 2, 2, 0, 0, 0, 0, 2, 2, 0, 0, 0, 0, 0, 2])"
      ]
     },
     "execution_count": 81,
     "metadata": {},
     "output_type": "execute_result"
    }
   ],
   "source": [
    "y_pred = dt_clf.predict(X_test)  ### train할 때 4개의 정보로 값 하나를 도출해냈으므로 4개의 정보를 줘야 함\n",
    "y_pred"
   ]
  },
  {
   "cell_type": "code",
   "execution_count": 82,
   "id": "da32d141-8db3-4a14-b42f-2f128b3a3d17",
   "metadata": {},
   "outputs": [
    {
     "data": {
      "text/plain": [
       "(38, 4)"
      ]
     },
     "execution_count": 82,
     "metadata": {},
     "output_type": "execute_result"
    }
   ],
   "source": [
    "X_test.shape"
   ]
  },
  {
   "cell_type": "code",
   "execution_count": 83,
   "id": "46bfc9f0-4f48-4255-9ade-f5e4d71e3511",
   "metadata": {},
   "outputs": [
    {
     "data": {
      "text/plain": [
       "array([ True,  True,  True,  True,  True,  True,  True,  True,  True,\n",
       "        True,  True,  True,  True,  True,  True,  True,  True,  True,\n",
       "        True,  True,  True,  True,  True,  True,  True,  True,  True,\n",
       "        True,  True,  True, False,  True,  True,  True,  True,  True,\n",
       "        True, False])"
      ]
     },
     "execution_count": 83,
     "metadata": {},
     "output_type": "execute_result"
    }
   ],
   "source": [
    "y_pred == y_test   ### numpy가 element wise하게 비교함"
   ]
  },
  {
   "cell_type": "code",
   "execution_count": 84,
   "id": "9f2db39b-675e-4a3c-a32b-527bc4ae8336",
   "metadata": {},
   "outputs": [
    {
     "data": {
      "text/plain": [
       "36"
      ]
     },
     "execution_count": 84,
     "metadata": {},
     "output_type": "execute_result"
    }
   ],
   "source": [
    "sum(y_pred == y_test ) ### True는 1임"
   ]
  },
  {
   "cell_type": "code",
   "execution_count": 85,
   "id": "8547385c-5ee7-4873-adb6-56669373cdad",
   "metadata": {},
   "outputs": [
    {
     "data": {
      "text/plain": [
       "array(['setosa', 'versicolor', 'virginica'], dtype='<U10')"
      ]
     },
     "execution_count": 85,
     "metadata": {},
     "output_type": "execute_result"
    }
   ],
   "source": [
    "iris.target_names"
   ]
  },
  {
   "cell_type": "code",
   "execution_count": 86,
   "id": "50bb4b8f-1050-4771-a952-6c8244808471",
   "metadata": {},
   "outputs": [],
   "source": [
    "from sklearn.metrics import accuracy_score"
   ]
  },
  {
   "cell_type": "code",
   "execution_count": 87,
   "id": "01b0c6e4-b691-4cf6-baef-32f3da455735",
   "metadata": {},
   "outputs": [
    {
     "data": {
      "text/plain": [
       "0.9473684210526315"
      ]
     },
     "execution_count": 87,
     "metadata": {},
     "output_type": "execute_result"
    }
   ],
   "source": [
    "accuracy_score(y_test, y_pred)  ## 두 요소를 비교하고 예측 정확도를 계산해줌"
   ]
  },
  {
   "cell_type": "raw",
   "id": "aa802806-f13c-44eb-8c59-70ab390d4b96",
   "metadata": {},
   "source": [
    "<SUMMARY : 예측 프로세스>\n",
    "\n",
    "1. 데이터 세트 분리 : 데이터를 학습 데이터와 테스트 데이터로 분리\n",
    "\n",
    "2. 모델 학습 : 학습 데이터를 기반으로 ML 알고리즘을 적용해 모델을 학습시킴\n",
    "\n",
    "3. 예측 수행 : 학습된 ML 모델을 이용해 테스트 데이터의 분류를 예측\n",
    "\n",
    "4. 평가 : 이렇게 예측된 결괏값과 테스트 데이터의 실제 결괏값을 비교해 ML 모델 성능을 평가"
   ]
  },
  {
   "cell_type": "code",
   "execution_count": 214,
   "id": "02582cfd-122e-493f-b191-0b9b055a2293",
   "metadata": {},
   "outputs": [
    {
     "data": {
      "text/plain": [
       "0.9473684210526315"
      ]
     },
     "execution_count": 214,
     "metadata": {},
     "output_type": "execute_result"
    }
   ],
   "source": [
    "#####SUMMARY#####\n",
    "\n",
    "from sklearn.datasets import load_iris\n",
    "from sklearn.tree import DecisionTreeClassifier\n",
    "from sklearn.model_selection import train_test_split\n",
    "\n",
    "iris = load_iris()    # 붖꽃 데이터 세트 로딩\n",
    "\n",
    "iris_data = iris['data']\n",
    "iris_label = iris['target']\n",
    "\n",
    "X_train, X_test, y_train, y_test = train_test_split(iris_data, \n",
    "                                                    iris_label)  ## train용, test용 데이터 나누기\n",
    "\n",
    "dt_clf = DecisionTreeClassifier()\n",
    "\n",
    "dt_clf.fit(X_train, y_train)   ## Train시키는 것(fitting, 적합, 학습한다, 훈련한다)\n",
    "\n",
    "y_pred = dt_clf.predict(X_test)  ## train기반으로 predict하기(예측 수행)\n",
    "\n",
    "acc_score = accuracy_score(y_test, y_pred)  ## 두 요소를 비교하고 예측 정확도를 계산해줌\n",
    "acc_score"
   ]
  },
  {
   "cell_type": "markdown",
   "id": "e191fd78-87aa-45d3-8c34-ce969b730af9",
   "metadata": {},
   "source": [
    "## 사이킷런의 기반 프레임워크 익히기"
   ]
  },
  {
   "cell_type": "markdown",
   "id": "4773749d-a442-4bc6-a043-14cc026047e6",
   "metadata": {},
   "source": [
    "---사이킷런 메서드---\n",
    "- fit() : ML 모델 학습\n",
    "- predict() : 학습된 모델 예측"
   ]
  },
  {
   "cell_type": "markdown",
   "id": "c0f22d41-3dbc-4cdf-bb04-40e7f009628d",
   "metadata": {},
   "source": [
    "- fit()과 predict()는 분류(Classification)와 회귀(Regression)의 다양한 알고리즘을 구현했으며 간단하게 학습과 예측 결과 반환함\n",
    "- Classifier : 분류 알고리즘을 구현한 클래스\n",
    "- Regressor : 회귀 알고리즘을 구현한 클래스\n",
    "- Estimator 클래스 = Classifier + Regressor"
   ]
  },
  {
   "cell_type": "markdown",
   "id": "1fe5492c-c4c1-45a9-ae72-b047c7621af0",
   "metadata": {},
   "source": [
    "---사이킷런의 주요 모듈---\n",
    "- 92-92p 참조\n"
   ]
  },
  {
   "cell_type": "markdown",
   "id": "15404ae2-f994-4085-930e-e8b174d13fc7",
   "metadata": {},
   "source": [
    "---일반적인 머신러닝 모델 구축 주요 프로세스---\n",
    "- 피처 처리(feature processing) : 피처의 가공, 변경, 추출을 수행\n",
    "- ML 알고리즘 학습/예측 수행\n",
    "- 모델 평가"
   ]
  },
  {
   "cell_type": "markdown",
   "id": "9e51e645-08e7-4c44-9b4c-8842ed56a090",
   "metadata": {},
   "source": [
    "### 내장된 예제 데이터 세트\n",
    "- 94-95p 참고"
   ]
  },
  {
   "cell_type": "code",
   "execution_count": 220,
   "id": "a83e971c-5ba6-413b-b62f-df2a08f99ae9",
   "metadata": {},
   "outputs": [],
   "source": [
    "from sklearn.datasets import load_boston"
   ]
  },
  {
   "cell_type": "code",
   "execution_count": 222,
   "id": "7159e18b-9465-4115-ae54-2b1e0e79bfdc",
   "metadata": {},
   "outputs": [
    {
     "data": {
      "text/plain": [
       "{'data': array([[6.3200e-03, 1.8000e+01, 2.3100e+00, ..., 1.5300e+01, 3.9690e+02,\n",
       "         4.9800e+00],\n",
       "        [2.7310e-02, 0.0000e+00, 7.0700e+00, ..., 1.7800e+01, 3.9690e+02,\n",
       "         9.1400e+00],\n",
       "        [2.7290e-02, 0.0000e+00, 7.0700e+00, ..., 1.7800e+01, 3.9283e+02,\n",
       "         4.0300e+00],\n",
       "        ...,\n",
       "        [6.0760e-02, 0.0000e+00, 1.1930e+01, ..., 2.1000e+01, 3.9690e+02,\n",
       "         5.6400e+00],\n",
       "        [1.0959e-01, 0.0000e+00, 1.1930e+01, ..., 2.1000e+01, 3.9345e+02,\n",
       "         6.4800e+00],\n",
       "        [4.7410e-02, 0.0000e+00, 1.1930e+01, ..., 2.1000e+01, 3.9690e+02,\n",
       "         7.8800e+00]]),\n",
       " 'target': array([24. , 21.6, 34.7, 33.4, 36.2, 28.7, 22.9, 27.1, 16.5, 18.9, 15. ,\n",
       "        18.9, 21.7, 20.4, 18.2, 19.9, 23.1, 17.5, 20.2, 18.2, 13.6, 19.6,\n",
       "        15.2, 14.5, 15.6, 13.9, 16.6, 14.8, 18.4, 21. , 12.7, 14.5, 13.2,\n",
       "        13.1, 13.5, 18.9, 20. , 21. , 24.7, 30.8, 34.9, 26.6, 25.3, 24.7,\n",
       "        21.2, 19.3, 20. , 16.6, 14.4, 19.4, 19.7, 20.5, 25. , 23.4, 18.9,\n",
       "        35.4, 24.7, 31.6, 23.3, 19.6, 18.7, 16. , 22.2, 25. , 33. , 23.5,\n",
       "        19.4, 22. , 17.4, 20.9, 24.2, 21.7, 22.8, 23.4, 24.1, 21.4, 20. ,\n",
       "        20.8, 21.2, 20.3, 28. , 23.9, 24.8, 22.9, 23.9, 26.6, 22.5, 22.2,\n",
       "        23.6, 28.7, 22.6, 22. , 22.9, 25. , 20.6, 28.4, 21.4, 38.7, 43.8,\n",
       "        33.2, 27.5, 26.5, 18.6, 19.3, 20.1, 19.5, 19.5, 20.4, 19.8, 19.4,\n",
       "        21.7, 22.8, 18.8, 18.7, 18.5, 18.3, 21.2, 19.2, 20.4, 19.3, 22. ,\n",
       "        20.3, 20.5, 17.3, 18.8, 21.4, 15.7, 16.2, 18. , 14.3, 19.2, 19.6,\n",
       "        23. , 18.4, 15.6, 18.1, 17.4, 17.1, 13.3, 17.8, 14. , 14.4, 13.4,\n",
       "        15.6, 11.8, 13.8, 15.6, 14.6, 17.8, 15.4, 21.5, 19.6, 15.3, 19.4,\n",
       "        17. , 15.6, 13.1, 41.3, 24.3, 23.3, 27. , 50. , 50. , 50. , 22.7,\n",
       "        25. , 50. , 23.8, 23.8, 22.3, 17.4, 19.1, 23.1, 23.6, 22.6, 29.4,\n",
       "        23.2, 24.6, 29.9, 37.2, 39.8, 36.2, 37.9, 32.5, 26.4, 29.6, 50. ,\n",
       "        32. , 29.8, 34.9, 37. , 30.5, 36.4, 31.1, 29.1, 50. , 33.3, 30.3,\n",
       "        34.6, 34.9, 32.9, 24.1, 42.3, 48.5, 50. , 22.6, 24.4, 22.5, 24.4,\n",
       "        20. , 21.7, 19.3, 22.4, 28.1, 23.7, 25. , 23.3, 28.7, 21.5, 23. ,\n",
       "        26.7, 21.7, 27.5, 30.1, 44.8, 50. , 37.6, 31.6, 46.7, 31.5, 24.3,\n",
       "        31.7, 41.7, 48.3, 29. , 24. , 25.1, 31.5, 23.7, 23.3, 22. , 20.1,\n",
       "        22.2, 23.7, 17.6, 18.5, 24.3, 20.5, 24.5, 26.2, 24.4, 24.8, 29.6,\n",
       "        42.8, 21.9, 20.9, 44. , 50. , 36. , 30.1, 33.8, 43.1, 48.8, 31. ,\n",
       "        36.5, 22.8, 30.7, 50. , 43.5, 20.7, 21.1, 25.2, 24.4, 35.2, 32.4,\n",
       "        32. , 33.2, 33.1, 29.1, 35.1, 45.4, 35.4, 46. , 50. , 32.2, 22. ,\n",
       "        20.1, 23.2, 22.3, 24.8, 28.5, 37.3, 27.9, 23.9, 21.7, 28.6, 27.1,\n",
       "        20.3, 22.5, 29. , 24.8, 22. , 26.4, 33.1, 36.1, 28.4, 33.4, 28.2,\n",
       "        22.8, 20.3, 16.1, 22.1, 19.4, 21.6, 23.8, 16.2, 17.8, 19.8, 23.1,\n",
       "        21. , 23.8, 23.1, 20.4, 18.5, 25. , 24.6, 23. , 22.2, 19.3, 22.6,\n",
       "        19.8, 17.1, 19.4, 22.2, 20.7, 21.1, 19.5, 18.5, 20.6, 19. , 18.7,\n",
       "        32.7, 16.5, 23.9, 31.2, 17.5, 17.2, 23.1, 24.5, 26.6, 22.9, 24.1,\n",
       "        18.6, 30.1, 18.2, 20.6, 17.8, 21.7, 22.7, 22.6, 25. , 19.9, 20.8,\n",
       "        16.8, 21.9, 27.5, 21.9, 23.1, 50. , 50. , 50. , 50. , 50. , 13.8,\n",
       "        13.8, 15. , 13.9, 13.3, 13.1, 10.2, 10.4, 10.9, 11.3, 12.3,  8.8,\n",
       "         7.2, 10.5,  7.4, 10.2, 11.5, 15.1, 23.2,  9.7, 13.8, 12.7, 13.1,\n",
       "        12.5,  8.5,  5. ,  6.3,  5.6,  7.2, 12.1,  8.3,  8.5,  5. , 11.9,\n",
       "        27.9, 17.2, 27.5, 15. , 17.2, 17.9, 16.3,  7. ,  7.2,  7.5, 10.4,\n",
       "         8.8,  8.4, 16.7, 14.2, 20.8, 13.4, 11.7,  8.3, 10.2, 10.9, 11. ,\n",
       "         9.5, 14.5, 14.1, 16.1, 14.3, 11.7, 13.4,  9.6,  8.7,  8.4, 12.8,\n",
       "        10.5, 17.1, 18.4, 15.4, 10.8, 11.8, 14.9, 12.6, 14.1, 13. , 13.4,\n",
       "        15.2, 16.1, 17.8, 14.9, 14.1, 12.7, 13.5, 14.9, 20. , 16.4, 17.7,\n",
       "        19.5, 20.2, 21.4, 19.9, 19. , 19.1, 19.1, 20.1, 19.9, 19.6, 23.2,\n",
       "        29.8, 13.8, 13.3, 16.7, 12. , 14.6, 21.4, 23. , 23.7, 25. , 21.8,\n",
       "        20.6, 21.2, 19.1, 20.6, 15.2,  7. ,  8.1, 13.6, 20.1, 21.8, 24.5,\n",
       "        23.1, 19.7, 18.3, 21.2, 17.5, 16.8, 22.4, 20.6, 23.9, 22. , 11.9]),\n",
       " 'feature_names': array(['CRIM', 'ZN', 'INDUS', 'CHAS', 'NOX', 'RM', 'AGE', 'DIS', 'RAD',\n",
       "        'TAX', 'PTRATIO', 'B', 'LSTAT'], dtype='<U7'),\n",
       " 'DESCR': \".. _boston_dataset:\\n\\nBoston house prices dataset\\n---------------------------\\n\\n**Data Set Characteristics:**  \\n\\n    :Number of Instances: 506 \\n\\n    :Number of Attributes: 13 numeric/categorical predictive. Median Value (attribute 14) is usually the target.\\n\\n    :Attribute Information (in order):\\n        - CRIM     per capita crime rate by town\\n        - ZN       proportion of residential land zoned for lots over 25,000 sq.ft.\\n        - INDUS    proportion of non-retail business acres per town\\n        - CHAS     Charles River dummy variable (= 1 if tract bounds river; 0 otherwise)\\n        - NOX      nitric oxides concentration (parts per 10 million)\\n        - RM       average number of rooms per dwelling\\n        - AGE      proportion of owner-occupied units built prior to 1940\\n        - DIS      weighted distances to five Boston employment centres\\n        - RAD      index of accessibility to radial highways\\n        - TAX      full-value property-tax rate per $10,000\\n        - PTRATIO  pupil-teacher ratio by town\\n        - B        1000(Bk - 0.63)^2 where Bk is the proportion of black people by town\\n        - LSTAT    % lower status of the population\\n        - MEDV     Median value of owner-occupied homes in $1000's\\n\\n    :Missing Attribute Values: None\\n\\n    :Creator: Harrison, D. and Rubinfeld, D.L.\\n\\nThis is a copy of UCI ML housing dataset.\\nhttps://archive.ics.uci.edu/ml/machine-learning-databases/housing/\\n\\n\\nThis dataset was taken from the StatLib library which is maintained at Carnegie Mellon University.\\n\\nThe Boston house-price data of Harrison, D. and Rubinfeld, D.L. 'Hedonic\\nprices and the demand for clean air', J. Environ. Economics & Management,\\nvol.5, 81-102, 1978.   Used in Belsley, Kuh & Welsch, 'Regression diagnostics\\n...', Wiley, 1980.   N.B. Various transformations are used in the table on\\npages 244-261 of the latter.\\n\\nThe Boston house-price data has been used in many machine learning papers that address regression\\nproblems.   \\n     \\n.. topic:: References\\n\\n   - Belsley, Kuh & Welsch, 'Regression diagnostics: Identifying Influential Data and Sources of Collinearity', Wiley, 1980. 244-261.\\n   - Quinlan,R. (1993). Combining Instance-Based and Model-Based Learning. In Proceedings on the Tenth International Conference of Machine Learning, 236-243, University of Massachusetts, Amherst. Morgan Kaufmann.\\n\",\n",
       " 'filename': 'boston_house_prices.csv',\n",
       " 'data_module': 'sklearn.datasets.data'}"
      ]
     },
     "execution_count": 222,
     "metadata": {},
     "output_type": "execute_result"
    }
   ],
   "source": [
    "boston = load_boston()\n",
    "boston"
   ]
  },
  {
   "cell_type": "code",
   "execution_count": 223,
   "id": "9badfd90-6acf-49bc-9fa1-605b272c36f2",
   "metadata": {},
   "outputs": [
    {
     "data": {
      "text/plain": [
       "dict_keys(['data', 'target', 'feature_names', 'DESCR', 'filename', 'data_module'])"
      ]
     },
     "execution_count": 223,
     "metadata": {},
     "output_type": "execute_result"
    }
   ],
   "source": [
    "keys = boston.keys()\n",
    "keys"
   ]
  },
  {
   "cell_type": "markdown",
   "id": "30783935-d23c-42e0-83aa-91c933eb8bb1",
   "metadata": {},
   "source": [
    "- 데이터 키는 피처들의 데이터 값을 가리킴\n",
    "- 데이터 세트가 딕셔너리 형태이기 때문에 피처 데이터를 추출하기 위해서는 데이터 세트, data를 이용하면 됨"
   ]
  },
  {
   "cell_type": "code",
   "execution_count": 228,
   "id": "ec03b87c-4682-40f4-a6da-a23eaa951337",
   "metadata": {},
   "outputs": [
    {
     "data": {
      "text/plain": [
       "dict_keys(['data', 'target', 'frame', 'target_names', 'DESCR', 'feature_names', 'filename', 'data_module'])"
      ]
     },
     "execution_count": 228,
     "metadata": {},
     "output_type": "execute_result"
    }
   ],
   "source": [
    "iris.keys()"
   ]
  },
  {
   "cell_type": "code",
   "execution_count": 229,
   "id": "16ee6d48-0832-4681-a5dc-289418ede187",
   "metadata": {},
   "outputs": [
    {
     "data": {
      "text/plain": [
       "['sepal length (cm)',\n",
       " 'sepal width (cm)',\n",
       " 'petal length (cm)',\n",
       " 'petal width (cm)']"
      ]
     },
     "execution_count": 229,
     "metadata": {},
     "output_type": "execute_result"
    }
   ],
   "source": [
    "iris.feature_names"
   ]
  },
  {
   "cell_type": "code",
   "execution_count": 230,
   "id": "1f5a9c16-5d22-41fb-924c-2789a8426072",
   "metadata": {},
   "outputs": [
    {
     "data": {
      "text/plain": [
       "4"
      ]
     },
     "execution_count": 230,
     "metadata": {},
     "output_type": "execute_result"
    }
   ],
   "source": [
    "len(iris.feature_names)"
   ]
  },
  {
   "cell_type": "code",
   "execution_count": 231,
   "id": "50998b6f-7fff-4bec-be65-824efac3e309",
   "metadata": {},
   "outputs": [
    {
     "name": "stdout",
     "output_type": "stream",
     "text": [
      "['sepal length (cm)', 'sepal width (cm)', 'petal length (cm)', 'petal width (cm)']\n"
     ]
    }
   ],
   "source": [
    "print(iris.feature_names)"
   ]
  },
  {
   "cell_type": "code",
   "execution_count": 232,
   "id": "e9dff6d2-96b5-4cf2-a94f-9623406d0b7b",
   "metadata": {},
   "outputs": [
    {
     "data": {
      "text/plain": [
       "array(['setosa', 'versicolor', 'virginica'], dtype='<U10')"
      ]
     },
     "execution_count": 232,
     "metadata": {},
     "output_type": "execute_result"
    }
   ],
   "source": [
    "iris.target_names"
   ]
  },
  {
   "cell_type": "code",
   "execution_count": 234,
   "id": "36666383-35ce-4490-9303-9cb48eb6a991",
   "metadata": {},
   "outputs": [
    {
     "data": {
      "text/plain": [
       "(150, 4)"
      ]
     },
     "execution_count": 234,
     "metadata": {},
     "output_type": "execute_result"
    }
   ],
   "source": [
    "iris.data.shape"
   ]
  },
  {
   "cell_type": "code",
   "execution_count": 235,
   "id": "fe48931f-62b8-4a21-9cbd-a7f8da5ee4bb",
   "metadata": {},
   "outputs": [
    {
     "data": {
      "text/plain": [
       "(150,)"
      ]
     },
     "execution_count": 235,
     "metadata": {},
     "output_type": "execute_result"
    }
   ],
   "source": [
    "iris.target.shape"
   ]
  },
  {
   "cell_type": "markdown",
   "id": "d636d902-9dc8-4b68-a0fd-6975a4a4e84a",
   "metadata": {},
   "source": [
    "### Model Selection 모듈 소개"
   ]
  },
  {
   "cell_type": "markdown",
   "id": "29ec3e60-23cf-4287-ac3f-f61f2db84f6c",
   "metadata": {},
   "source": [
    "#### train-test-split()"
   ]
  },
  {
   "cell_type": "code",
   "execution_count": 238,
   "id": "b1b7e161-3105-455f-bc87-5eda67380214",
   "metadata": {},
   "outputs": [
    {
     "data": {
      "text/plain": [
       "1.0"
      ]
     },
     "execution_count": 238,
     "metadata": {},
     "output_type": "execute_result"
    }
   ],
   "source": [
    "iris = load_iris()\n",
    "dt_clf = DecisionTreeClassifier()\n",
    "train_data = iris.data\n",
    "train_label = iris.target\n",
    "dt_clf.fit(train_data, train_label)\n",
    "\n",
    "pred = dt_clf.predict(train_data)\n",
    "accuracy_score(train_label, pred)"
   ]
  },
  {
   "cell_type": "markdown",
   "id": "bbd3e6ec-4467-4600-a8d0-0c926ced8181",
   "metadata": {},
   "source": [
    "- 위의 예측 결과가 100%인 이유는 이미 학습한 학습 데이터 세트를 기반으로 예측했기 때문임\n",
    "- 따라서 예측을 수행하는 데이터 세트는 학습을 수행한 학습용 데이터 세트가 아닌 전용의 테스트 데이터 세트여야 함\n",
    "- train_test_split()를 통해 원본 데이터 세트에서 학습 및 테스트 데이터 세트를 쉽게 분리할 수 있음"
   ]
  },
  {
   "cell_type": "markdown",
   "id": "ce62149a-d973-483d-a976-9921d3315457",
   "metadata": {},
   "source": [
    "---train_test_split() 파라미터---\n",
    "- test_size : 전체 데이터에서 테스트 데이터 세트 크기를 얼마로 샘플링할 것인가를 결정\n",
    "- train_size : 전체 데이터에서 학습용 데이터 세트 크기를 얼마로 샘플링할 것인가를 결정(디폴트는 25%/0.25)\n",
    "- shuffle : 데이터를 분리하기 전에 데이터를 미리 섞을 지 결정(데이터를 분산시켜 좀 더 효율적인 학습 및 데이터 세트를 만드는 데 사용함)\n",
    "- random_state : 호출할 때마다 동일한 학습/테스트용 데이터 세트를 생성하기 위해 주어지는 난수 값\n",
    "\n",
    "random_state\n",
    ": 숫자가 random해보여도 컴퓨터는 어떤 알고리즘을 통해서 랜덤 숫자를 부여함 시작하는 패턴을 결정하는 것이므로 아무 숫자를 줘도 상관없음"
   ]
  },
  {
   "cell_type": "markdown",
   "id": "e43cf1f6-1d86-4278-93b8-ac22bd372e0a",
   "metadata": {},
   "source": [
    "- train_test_split()의 반환값은 튜플 형태임"
   ]
  },
  {
   "cell_type": "code",
   "execution_count": 239,
   "id": "bcc34a8d-d5e1-4ad5-8004-f296e4430f84",
   "metadata": {},
   "outputs": [],
   "source": [
    "from sklearn.tree import DecisionTreeClassifier\n",
    "from sklearn.metrics import accuracy_score\n",
    "from sklearn.datasets import load_iris\n",
    "from sklearn.model_selection import train_test_split"
   ]
  },
  {
   "cell_type": "code",
   "execution_count": 240,
   "id": "d3a85fc5-c41c-48fa-bace-93459d701de9",
   "metadata": {},
   "outputs": [],
   "source": [
    "dt_clf = DecisionTreeClassifier()\n",
    "iris_data = load_iris()"
   ]
  },
  {
   "cell_type": "code",
   "execution_count": 241,
   "id": "a67b3949-a366-4128-89e5-b49bfecf9700",
   "metadata": {},
   "outputs": [],
   "source": [
    "X_train, X_test, y_train, y_test = train_test_split(iris_data.data, iris_data.target, test_size = 0.3, random_state = 121)"
   ]
  },
  {
   "cell_type": "code",
   "execution_count": 244,
   "id": "b792cdc6-7ecf-4c53-bf36-9e8925ac44aa",
   "metadata": {},
   "outputs": [
    {
     "data": {
      "text/plain": [
       "array([1, 2, 1, 0, 0, 1, 1, 1, 1, 2, 2, 1, 1, 0, 0, 2, 1, 0, 2, 0, 2, 2,\n",
       "       1, 1, 1, 1, 0, 0, 2, 2, 1, 2, 0, 0, 1, 2, 0, 0, 0, 2, 2, 2, 2, 0,\n",
       "       1])"
      ]
     },
     "execution_count": 244,
     "metadata": {},
     "output_type": "execute_result"
    }
   ],
   "source": [
    "dt_clf.fit(X_train, y_train)\n",
    "pred = dt_clf.predict(X_test)\n",
    "pred"
   ]
  },
  {
   "cell_type": "code",
   "execution_count": 245,
   "id": "678c0d49-0b12-4cfa-839f-4c8b5585d1e5",
   "metadata": {},
   "outputs": [
    {
     "data": {
      "text/plain": [
       "0.9555555555555556"
      ]
     },
     "execution_count": 245,
     "metadata": {},
     "output_type": "execute_result"
    }
   ],
   "source": [
    "accuracy_score(y_test, pred)"
   ]
  },
  {
   "cell_type": "markdown",
   "id": "890753c1-f7e8-4562-9bd4-28dfa3cd13c3",
   "metadata": {},
   "source": [
    "- 학습을 위한 데이터 양을 일정 수준 이상으로 보장하는 것 중요\n",
    "- 학습된 모델에 대해 다양한 데이터를 기반으로 예측 성능을 평가해보는 것도 중요"
   ]
  },
  {
   "cell_type": "markdown",
   "id": "f9e3e7f3-7b15-4a94-9d40-94f279810def",
   "metadata": {},
   "source": [
    "## 데이터 전처리"
   ]
  },
  {
   "cell_type": "markdown",
   "id": "ddf542df-0aad-445d-ba80-87259f14d961",
   "metadata": {},
   "source": [
    "- Garbage in Garbage out\n",
    "- 결손값(NaN, Null은 허용되지 않음)\n",
    "- 고정된 다른 값으로 변환 필요함"
   ]
  },
  {
   "cell_type": "markdown",
   "id": "b2b7ce78-425e-4a23-b240-e558569e5625",
   "metadata": {},
   "source": [
    "- 사이킷런의 머신러닝 알고리즘은 문자열 값을 입력값으로 허용하지 않음\n",
    "- 문자열을 인코딩 해 숫자형으로 변환 필요"
   ]
  },
  {
   "cell_type": "markdown",
   "id": "c7fed5ad-18d7-4d74-a680-44c38c2d3b9c",
   "metadata": {},
   "source": [
    "### 데이터 인코딩\n",
    "- 레이블 인코딩(label encoding) :  카테고리 피처를 코드형 숫자 값으로 변환\n",
    "- 원-핫 인코딩(one hot encoding)"
   ]
  },
  {
   "cell_type": "code",
   "execution_count": 89,
   "id": "fa088837-9062-4dd6-8555-9673d0e8b3ed",
   "metadata": {},
   "outputs": [],
   "source": [
    "from sklearn.preprocessing import LabelEncoder\n",
    "\n",
    "encoder = LabelEncoder()"
   ]
  },
  {
   "cell_type": "code",
   "execution_count": 92,
   "id": "2f916ef9-c9dc-4fa8-a81f-75453fe6e324",
   "metadata": {},
   "outputs": [
    {
     "data": {
      "text/plain": [
       "array([0, 1, 2], dtype=int64)"
      ]
     },
     "execution_count": 92,
     "metadata": {},
     "output_type": "execute_result"
    }
   ],
   "source": [
    "encoder.fit_transform(['TV', '냉장고', '전자레인지'])  ## 숫자로 바꾸어줌!"
   ]
  },
  {
   "cell_type": "code",
   "execution_count": null,
   "id": "d8f3c757-dd0f-441b-89ff-f0c644c3ad78",
   "metadata": {},
   "outputs": [],
   "source": []
  }
 ],
 "metadata": {
  "kernelspec": {
   "display_name": "Python 3 (ipykernel)",
   "language": "python",
   "name": "python3"
  },
  "language_info": {
   "codemirror_mode": {
    "name": "ipython",
    "version": 3
   },
   "file_extension": ".py",
   "mimetype": "text/x-python",
   "name": "python",
   "nbconvert_exporter": "python",
   "pygments_lexer": "ipython3",
   "version": "3.10.6"
  }
 },
 "nbformat": 4,
 "nbformat_minor": 5
}
